{
 "cells": [
  {
   "cell_type": "markdown",
   "id": "89711db3-ecfa-4053-bf52-681910715b1b",
   "metadata": {
    "tags": [],
    "toc-hr-collapsed": true
   },
   "source": [
    "# Clustering Exploratory Data Analysis\n",
    "Notebook to perform clustering analysis on data on BigQuery.<br>"
   ]
  },
  {
   "cell_type": "markdown",
   "id": "891c38f3-464b-4932-b531-a415a0519f9d",
   "metadata": {
    "tags": []
   },
   "source": [
    "## Imports"
   ]
  },
  {
   "cell_type": "code",
   "execution_count": null,
   "id": "17351dbc",
   "metadata": {
    "tags": []
   },
   "outputs": [],
   "source": [
    "import json\n",
    "import calendar\n",
    "import datetime\n",
    "import warnings\n",
    "import numpy as np\n",
    "import pandas as pd\n",
    "from datetime import timedelta\n",
    "from collections import Counter\n",
    "from google.cloud import bigquery\n",
    "\n",
    "from tqdm.auto import tqdm\n",
    "import seaborn as sns\n",
    "import matplotlib.pyplot as plt\n",
    "\n",
    "import scipy.stats\n",
    "from sklearn.preprocessing import LabelEncoder\n",
    "from statsmodels.tsa.seasonal import seasonal_decompose\n",
    "\n",
    "warnings.filterwarnings('ignore')\n",
    "tqdm.pandas()"
   ]
  },
  {
   "cell_type": "code",
   "execution_count": null,
   "id": "8f897782-a342-4aa6-af96-1065a1a0065f",
   "metadata": {},
   "outputs": [],
   "source": [
    "import tensorflow as tf\n",
    "from tensorflow.keras.layers import Dense, LSTM, Dropout, Bidirectional, Attention\n",
    "from tensorflow.keras.optimizers import Adam\n",
    "from tensorflow.keras.callbacks import EarlyStopping, ModelCheckpoint\n",
    "from tqdm.keras import TqdmCallback\n",
    "from tensorflow.keras.utils import timeseries_dataset_from_array"
   ]
  },
  {
   "cell_type": "markdown",
   "id": "e09096ab-c7d2-4172-85d3-c466fe00250d",
   "metadata": {
    "tags": []
   },
   "source": [
    "## Config"
   ]
  },
  {
   "cell_type": "code",
   "execution_count": null,
   "id": "640de2a6-31e6-4f5a-adf7-f438423f5b1c",
   "metadata": {
    "tags": []
   },
   "outputs": [],
   "source": [
    "# Config\n",
    "\n",
    "PROJECT_ID = 'arpae-prod-ml'\n",
    "\n",
    "# BigQuery\n",
    "JOINED_BQ_DATASET = 'JOINED_DATA'\n",
    "JOINED_DATA_TABLE = \"ALL_METEO_FEATS_POL_DAT\"\n",
    "JOINED_WEEK_DATA_TABLE = \"ALL_METEO_WEEK_FEATS_POL_DAT\"\n"
   ]
  },
  {
   "cell_type": "markdown",
   "id": "72c7872e-30ee-444d-8f90-44d1a211f11f",
   "metadata": {
    "tags": []
   },
   "source": [
    "## Methods"
   ]
  },
  {
   "cell_type": "code",
   "execution_count": null,
   "id": "3e20526a-afd2-47d1-bcc5-255420d4f9a7",
   "metadata": {
    "tags": []
   },
   "outputs": [],
   "source": [
    "# # Read Methods\n",
    "\n",
    "def _run_query(client, query): \n",
    "    df = client.query(query).to_dataframe()\n",
    "    return df\n",
    "\n",
    "def _create_station_widget(df):\n",
    "    station_ids = df.station_id.sort_values().unique()\n",
    "    station_wdgt = widgets.Dropdown(options=station_ids, description='Station Id:', layout={\"width\":\"50%\"})\n",
    "    return station_wdgt\n",
    "\n",
    "def _create_pol_var_id_widget(df):\n",
    "    pol_var_ids = df.pol_var_id.sort_values().unique()\n",
    "    pol_wdgt = widgets.Dropdown(options=pol_var_ids, description='Pol var id:', layout={\"width\":\"50%\"})\n",
    "    return pol_wdgt\n",
    "\n",
    "def min_max_scale(x):\n",
    "    return (x - x.min()) / (x.max() - x.min())"
   ]
  },
  {
   "cell_type": "markdown",
   "id": "ad89a1af-6125-4197-b381-fbed926eecfe",
   "metadata": {
    "tags": [],
    "toc-hr-collapsed": true
   },
   "source": [
    "# 1. Read Data"
   ]
  },
  {
   "cell_type": "markdown",
   "id": "82ce939b-9fb0-4ac9-90e8-99b32e00cdbb",
   "metadata": {
    "tags": []
   },
   "source": [
    "## 1.1 Config BigQuery"
   ]
  },
  {
   "cell_type": "code",
   "execution_count": null,
   "id": "f9e75aad-52d2-4861-96f0-ccede26e436f",
   "metadata": {
    "tags": []
   },
   "outputs": [],
   "source": [
    "# Setup Client\n",
    "\n",
    "bq_client = bigquery.Client()\n",
    "bq_client"
   ]
  },
  {
   "cell_type": "code",
   "execution_count": null,
   "id": "06684872-fd7a-43c6-9533-0abe197094a3",
   "metadata": {},
   "outputs": [],
   "source": []
  },
  {
   "cell_type": "markdown",
   "id": "a93b5790-ec45-4497-b652-102d13b09bfc",
   "metadata": {
    "tags": []
   },
   "source": [
    "## 1.2 Read Tables"
   ]
  },
  {
   "cell_type": "code",
   "execution_count": null,
   "id": "6df38257-8675-4fea-876d-3bc11e2f93f4",
   "metadata": {
    "tags": []
   },
   "outputs": [],
   "source": [
    "# Load B_CODES\n",
    "\n",
    "sql = f\"SELECT * FROM `{PROJECT_ID}.SAMPLE_DATA.B_CODES` WHERE eligible IS true\"\n",
    "b_codes = _run_query(bq_client, sql)\n",
    "\n",
    "print(b_codes.shape)\n",
    "b_codes.head(3)"
   ]
  },
  {
   "cell_type": "code",
   "execution_count": null,
   "id": "5367ddbb-ed48-498f-89fa-6d6f14281fa5",
   "metadata": {
    "tags": []
   },
   "outputs": [],
   "source": [
    "# Load BCODE_SOGLIE\n",
    "\n",
    "sql = f\"SELECT * FROM `{PROJECT_ID}.SAMPLE_DATA.BCODE_SOGLIE`\"\n",
    "b_codes_soglie = _run_query(bq_client, sql)\n",
    "b_codes_soglie.head(3)"
   ]
  },
  {
   "cell_type": "code",
   "execution_count": null,
   "id": "a9d3a212-29f7-4660-a4e1-acd277b963fe",
   "metadata": {
    "tags": []
   },
   "outputs": [],
   "source": [
    "# Load all meteo and pollen data\n",
    "\n",
    "sql = f\"\"\"\n",
    "    SELECT DISTINCT *\n",
    "    FROM `{PROJECT_ID}.{JOINED_BQ_DATASET}.{JOINED_DATA_TABLE}`\n",
    "    WHERE pol_var_id IN {tuple(b_codes.var_id)}\n",
    "    ORDER BY station_id, pol_var_id, date\n",
    "\"\"\"\n",
    "\n",
    "raw_df = _run_query(bq_client, sql)\n",
    "\n",
    "print(raw_df.shape)\n",
    "raw_df.head(3)"
   ]
  },
  {
   "cell_type": "code",
   "execution_count": null,
   "id": "e6018531-1a19-42d8-b3ee-5b9bb8693a39",
   "metadata": {},
   "outputs": [],
   "source": []
  },
  {
   "cell_type": "markdown",
   "id": "e28714c7-cb1a-42b9-a830-b8cc84fc2a95",
   "metadata": {
    "tags": []
   },
   "source": [
    "## 1.3 Load clustering results"
   ]
  },
  {
   "cell_type": "code",
   "execution_count": null,
   "id": "45c8429f-4512-436a-a8ca-f80a38636899",
   "metadata": {
    "tags": []
   },
   "outputs": [],
   "source": [
    "clusters = pd.read_csv(\"data/clusters/clustering_tsd_intervals.csv\")\n",
    "\n",
    "print(clusters.shape)\n",
    "clusters.sample(3)"
   ]
  },
  {
   "cell_type": "code",
   "execution_count": null,
   "id": "f76061a8-887f-47a5-a5fa-93b1ef2a1bce",
   "metadata": {
    "tags": []
   },
   "outputs": [],
   "source": [
    "plt.figure(figsize=(8,4))\n",
    "plt.title(\"Number of specie/station per cluster\")\n",
    "sns.countplot(x=clusters[\"cluster\"]);"
   ]
  },
  {
   "cell_type": "code",
   "execution_count": null,
   "id": "73e3de17-7227-4b6a-a6b8-6360f2562998",
   "metadata": {},
   "outputs": [],
   "source": []
  },
  {
   "cell_type": "markdown",
   "id": "51f77d61-df3a-4b4b-99f1-6a865be9e5ed",
   "metadata": {
    "tags": []
   },
   "source": [
    "# 2. Data preprocess"
   ]
  },
  {
   "cell_type": "code",
   "execution_count": null,
   "id": "479281f1-ae0f-48ce-98cf-112b2e198154",
   "metadata": {
    "tags": []
   },
   "outputs": [],
   "source": [
    "raw_df.sort_values([\"pol_var_id\", \"date\"], inplace=True)"
   ]
  },
  {
   "cell_type": "code",
   "execution_count": null,
   "id": "118e8137-742d-4fc8-9b7c-6ee023bff373",
   "metadata": {
    "tags": []
   },
   "outputs": [],
   "source": [
    "# Convert dates to datetime format\n",
    "raw_df.date = pd.to_datetime(raw_df.date)\n",
    "\n",
    "raw_df[\"month\"] = raw_df.date.dt.month\n",
    "# df[\"day\"] = df.date.dt.day"
   ]
  },
  {
   "cell_type": "code",
   "execution_count": null,
   "id": "05a494c6-9046-4ccc-a761-fa9b6d4ddf3c",
   "metadata": {
    "tags": []
   },
   "outputs": [],
   "source": [
    "# Set datetime as index\n",
    "# raw_df.set_index([\"pol_var_id\", \"station_id\", \"date\"], inplace=True)\n",
    "raw_df.set_index(\"date\", inplace=True)\n",
    "\n",
    "raw_df.head(3)"
   ]
  },
  {
   "cell_type": "code",
   "execution_count": null,
   "id": "88be9f9a-f276-4e17-b5dc-35220eccc753",
   "metadata": {
    "tags": []
   },
   "outputs": [],
   "source": [
    "### Sort dataset\n",
    "raw_df.sort_values(by=['station_id', \"pol_var_id\", 'date'], ascending=True, inplace=True)"
   ]
  },
  {
   "cell_type": "code",
   "execution_count": null,
   "id": "177d6e02-8d89-4ef7-ae48-4a3b9c0e204a",
   "metadata": {},
   "outputs": [],
   "source": []
  },
  {
   "cell_type": "markdown",
   "id": "aea680c5-eab0-49f5-a353-b1beb49f37fd",
   "metadata": {
    "tags": []
   },
   "source": [
    "# 3. Feature process"
   ]
  },
  {
   "cell_type": "markdown",
   "id": "f71f6917-e121-444a-b748-8cd80acb4029",
   "metadata": {},
   "source": [
    "## 3.1 Select features"
   ]
  },
  {
   "cell_type": "code",
   "execution_count": null,
   "id": "408d9de9-e33f-42fa-a1a5-03c09d7b09ed",
   "metadata": {
    "tags": []
   },
   "outputs": [],
   "source": [
    "# print(raw_df.keys())"
   ]
  },
  {
   "cell_type": "code",
   "execution_count": null,
   "id": "72fe0b53-f6c9-4c7e-9474-3bdf792359e3",
   "metadata": {
    "tags": []
   },
   "outputs": [],
   "source": [
    "# print(sorted(raw_df.pol_var_id.unique()))"
   ]
  },
  {
   "cell_type": "code",
   "execution_count": null,
   "id": "96d012ab-03f3-4452-8adc-4343dcc094cf",
   "metadata": {
    "tags": []
   },
   "outputs": [],
   "source": [
    "# print(sorted(raw_df.station_id.unique()))"
   ]
  },
  {
   "cell_type": "code",
   "execution_count": null,
   "id": "f08665b1-5af3-4968-91aa-2436c2688624",
   "metadata": {
    "tags": []
   },
   "outputs": [],
   "source": [
    "# station_label = \"station_id\"\n",
    "\n",
    "features = [\n",
    "    \"station_id\",\n",
    "    \"pol_var_id\",\n",
    "    \"month\",\n",
    "    \"seasonal\",\n",
    "    #\"trend\",\n",
    "    \"station_lat\", \"station_lon\",\n",
    "    \"station_H_piano_strada\", \"station_H_mslm\",\n",
    "    \"B13011_min\", \"B13011_max\", \"B13011_mean\", \"B13011_std\",\n",
    "    \"B14198_min\", \"B14198_max\", \"B14198_mean\", \"B14198_std\",\n",
    "    \"TEMP_min\", \"TEMP_max\", \"TEMP_mean\", \"TEMP_std\",\n",
    "    \"PREC\"\n",
    "]\n",
    "\n",
    "y_label = \"pol_value\""
   ]
  },
  {
   "cell_type": "code",
   "execution_count": null,
   "id": "00e12f3b-039b-410b-ae1d-99b1de44ea05",
   "metadata": {},
   "outputs": [],
   "source": []
  },
  {
   "cell_type": "markdown",
   "id": "512cc15a-86e5-4936-9550-8b91de68a0ea",
   "metadata": {},
   "source": [
    "## 3.2 Adding Seasonal trend as feature"
   ]
  },
  {
   "cell_type": "code",
   "execution_count": null,
   "id": "327ffe0b-f404-46cf-aae4-9ac048361539",
   "metadata": {
    "tags": []
   },
   "outputs": [],
   "source": [
    "raw_df[\"seasonal\"] = None\n",
    "for (stat_id, specie_id), specie_data in tqdm(raw_df.groupby([\"station_id\", \"pol_var_id\"])):\n",
    "    \n",
    "    # Prepare specie data\n",
    "    specie_data.sort_index(inplace=True)\n",
    "    specie_pollen = specie_data[[\"pol_value\"]].resample('D').interpolate()\n",
    "    \n",
    "    # Evaluate seasonal\n",
    "    decomposition = seasonal_decompose(specie_pollen, period=365, model='additive')\n",
    "    specie_seasonal = decomposition.seasonal\n",
    "    \n",
    "    # Join seasonal feautre\n",
    "    mask = ((raw_df.station_id == stat_id) & (raw_df.pol_var_id == specie_id)) # get specie mask\n",
    "    specie_seasonal = specie_seasonal.reindex(raw_df.loc[mask].index) # reindex due to index diff\n",
    "    raw_df.loc[mask, \"seasonal\"] = specie_seasonal # now we can add the seasonal feature\n",
    "\n",
    "raw_df.seasonal = raw_df.seasonal.astype(float)"
   ]
  },
  {
   "cell_type": "code",
   "execution_count": null,
   "id": "48eb8007-31fa-4ea1-978d-a953ca1e0941",
   "metadata": {
    "tags": []
   },
   "outputs": [],
   "source": []
  },
  {
   "cell_type": "markdown",
   "id": "cab47b45-54c4-4303-884f-567fa3d2f706",
   "metadata": {
    "tags": []
   },
   "source": [
    "# 4. Select data and generate windows"
   ]
  },
  {
   "cell_type": "markdown",
   "id": "1f332952-1025-4d84-977f-c38e244ed2ba",
   "metadata": {},
   "source": [
    "### 4.1 Select window size"
   ]
  },
  {
   "cell_type": "code",
   "execution_count": null,
   "id": "85bfe230-9a74-47d3-b7b7-e36572f330f1",
   "metadata": {
    "tags": []
   },
   "outputs": [],
   "source": [
    "window_day_size = 30"
   ]
  },
  {
   "cell_type": "markdown",
   "id": "143712b9-6788-4471-a4b7-464e26976128",
   "metadata": {},
   "source": [
    "### 4.2 Select Cluster"
   ]
  },
  {
   "cell_type": "code",
   "execution_count": null,
   "id": "82c7d2dc-fcea-4b3f-97fd-d961f1fee9ac",
   "metadata": {
    "tags": []
   },
   "outputs": [],
   "source": [
    "cluster_n = 7\n",
    "\n",
    "specie_cluster = clusters[clusters.cluster == cluster_n].sample(5) ################################################## DEL ME\n",
    "specie_cluster"
   ]
  },
  {
   "cell_type": "markdown",
   "id": "f0a44310-8ec9-4eb0-af87-a81216fdd6eb",
   "metadata": {},
   "source": [
    "### 4.3 Select data"
   ]
  },
  {
   "cell_type": "code",
   "execution_count": null,
   "id": "47373ace-86f3-4011-8143-794b3dc7f7d9",
   "metadata": {
    "tags": []
   },
   "outputs": [],
   "source": [
    "# Select species/stations from cluster result\n",
    "dataset = pd.merge(raw_df, specie_cluster, on=[\"station_id\", \"pol_var_id\"], how=\"inner\")\n",
    "dataset = dataset[features + [y_label]]\n",
    "dataset.station_id = dataset.station_id.astype(int)\n",
    "dataset.dropna(inplace=True)\n",
    "\n",
    "assert len(specie_cluster) == len(dataset[[\"station_id\", \"pol_var_id\"]].drop_duplicates())\n",
    "\n",
    "print(dataset.shape)\n",
    "dataset.head(5)"
   ]
  },
  {
   "cell_type": "markdown",
   "id": "097852bc-8680-4886-81d5-1dc8933aa49e",
   "metadata": {},
   "source": [
    "### 4.4 Shift pollen value to predict by one day"
   ]
  },
  {
   "cell_type": "code",
   "execution_count": null,
   "id": "066af6c8-1df2-4c0e-97d4-1d6d1228e186",
   "metadata": {
    "tags": []
   },
   "outputs": [],
   "source": [
    "### Applying shift here\n",
    "dataset['pol_value'] = dataset.groupby(['station_id', 'pol_var_id'])['pol_value'].shift(-1)\n",
    "dataset.dropna(inplace=True)"
   ]
  },
  {
   "cell_type": "markdown",
   "id": "29f425ec-9150-4ee4-a5f7-e5e93cd28ada",
   "metadata": {},
   "source": [
    "### 4.5 Specie is added as a categorical feature to our model"
   ]
  },
  {
   "cell_type": "code",
   "execution_count": null,
   "id": "b2a95044-c060-4158-876b-875cea6d6c2f",
   "metadata": {
    "tags": []
   },
   "outputs": [],
   "source": [
    "le = LabelEncoder()\n",
    "dataset[\"pol_var_id\"] = le.fit_transform(dataset[\"pol_var_id\"])\n",
    "dataset.pol_var_id.unique()"
   ]
  },
  {
   "cell_type": "markdown",
   "id": "0ad9d1e5-09d5-49e9-aced-cb013c2243e4",
   "metadata": {},
   "source": [
    "### 4.6 Training and Test set split"
   ]
  },
  {
   "cell_type": "code",
   "execution_count": null,
   "id": "cbe86445-cad5-4e13-80c8-f1df708f5af6",
   "metadata": {
    "tags": []
   },
   "outputs": [],
   "source": [
    "X = dataset[features]\n",
    "y = dataset.pol_value\n",
    "\n",
    "split_idx = int(len(X) * .95)\n",
    "\n",
    "x_train, y_train = X[:split_idx], y[:split_idx]\n",
    "x_test, y_test = X[split_idx:], y[split_idx:]\n",
    "\n",
    "x_train.shape, y_train.shape, x_test.shape, y_test.shape"
   ]
  },
  {
   "cell_type": "markdown",
   "id": "1e8a4dd9-57c7-48e4-9316-7528af39aaa0",
   "metadata": {},
   "source": [
    "### 4.7 Generate windows for LSTM, in batches"
   ]
  },
  {
   "cell_type": "code",
   "execution_count": null,
   "id": "5937a6e6-5f8d-459f-9b96-c87f40b70007",
   "metadata": {
    "tags": []
   },
   "outputs": [],
   "source": [
    "batch_size = 64\n",
    "\n",
    "train_dataset = tf.keras.preprocessing.timeseries_dataset_from_array(\n",
    "    x_train,\n",
    "    y_train,\n",
    "    sequence_length=window_day_size,\n",
    "    batch_size=batch_size,\n",
    ")\n",
    "\n",
    "test_dataset = tf.keras.preprocessing.timeseries_dataset_from_array(\n",
    "    x_test,\n",
    "    y_test,\n",
    "    sequence_length=window_day_size,\n",
    "    batch_size=batch_size,\n",
    ")"
   ]
  },
  {
   "cell_type": "code",
   "execution_count": null,
   "id": "aa88693c-3bbb-4e92-a582-8d0ce6ed1df8",
   "metadata": {},
   "outputs": [],
   "source": []
  },
  {
   "cell_type": "markdown",
   "id": "21967fa6-5b4b-47b6-955c-0e81671663ba",
   "metadata": {},
   "source": [
    "# 5. Model training"
   ]
  },
  {
   "cell_type": "code",
   "execution_count": null,
   "id": "c4da6b25-17ce-4c97-a8f4-d82b4d8b5971",
   "metadata": {
    "tags": []
   },
   "outputs": [],
   "source": [
    "input_shape = (window_day_size, len(features))\n",
    "\n",
    "model = tf.keras.Sequential([\n",
    "    Bidirectional(LSTM(units=512, input_shape=input_shape, return_sequences=True)),\n",
    "    Dropout(.2),\n",
    "    Bidirectional(LSTM(units=512, return_sequences=True)),\n",
    "    Dropout(.2),\n",
    "    Bidirectional(LSTM(units=512)),\n",
    "    Dropout(.2),\n",
    "    Dense(units=64, activation='relu'),\n",
    "    Dense(1)\n",
    "])\n",
    "\n",
    "n_epochs = 10\n",
    "learning_rate = .001\n",
    "\n",
    "optimizer = Adam(learning_rate=learning_rate)\n",
    "model.compile(optimizer=\"adam\", loss='mse')\n",
    "\n",
    "# early_stop = EarlyStopping(monitor='val_loss', patience=10, verbose=1, mode='min', restore_best_weights=True)\n",
    "model_checkpoint = ModelCheckpoint('data/model/best_model.h5', monitor='val_loss', mode='min', save_best_only=True)\n",
    "\n",
    "history = model.fit(\n",
    "    train_dataset,\n",
    "    validation_data=test_dataset,\n",
    "    #batch_size=batch_size,\n",
    "    epochs=n_epochs,\n",
    "    shuffle=False,\n",
    "    verbose=0,\n",
    "    # callbacks=[early_stop, model_checkpoint, TqdmCallback(verbose=1)]\n",
    "    callbacks=[model_checkpoint, TqdmCallback(verbose=1)]\n",
    ")\n",
    "\n",
    "# Load the best model\n",
    "# best_model = tf.keras.models.load_model('data/model/best_model.h5')"
   ]
  },
  {
   "cell_type": "code",
   "execution_count": null,
   "id": "c427a76d-8884-4974-91cf-33175b9e7aa3",
   "metadata": {},
   "outputs": [],
   "source": [
    "# Plot the MSE history\n",
    "plt.figure(figsize=(10,3))\n",
    "plt.plot(history.history['loss'])\n",
    "plt.plot(history.history['val_loss'])\n",
    "plt.ylabel('MSE')\n",
    "plt.xlabel('Epoch')\n",
    "plt.legend(['loss', 'val_loss'], loc='upper right')\n",
    "plt.grid(alpha=.4)\n",
    "plt.show()"
   ]
  },
  {
   "cell_type": "code",
   "execution_count": null,
   "id": "bceafc84-5abd-40b1-ab04-9c193c88f34a",
   "metadata": {
    "tags": []
   },
   "outputs": [],
   "source": [
    "### Test on training data\n",
    "predictions = model.predict(train_dataset)\n",
    "predictions = predictions.reshape(predictions.shape[0])\n",
    "mse = model.evaluate(train_dataset, verbose=False)\n",
    "\n",
    "plt.figure(figsize=(16,4))\n",
    "plt.title(f\"x_train Preditcions - MSE: {np.round(mse, 2)}\")\n",
    "plt.plot(y_train.values, label=\"pol_value true\")\n",
    "plt.plot(predictions, label=\"pol_value predicted\")\n",
    "plt.legend(loc=\"upper right\")\n",
    "plt.grid(alpha=.4)"
   ]
  },
  {
   "cell_type": "code",
   "execution_count": null,
   "id": "1430dc89-95c3-48d5-a734-8b30c57b0f1e",
   "metadata": {
    "tags": []
   },
   "outputs": [],
   "source": [
    "### Test on validation data\n",
    "predictions = model.predict(test_dataset)\n",
    "predictions = predictions.reshape(predictions.shape[0])\n",
    "mse = model.evaluate(test_dataset, verbose=False)\n",
    "\n",
    "plt.figure(figsize=(16,4))\n",
    "plt.title(f\"x_test Preditcions - MSE: {np.round(mse, 2)}\")\n",
    "plt.plot(y_test.values, label=\"pol_value true\")\n",
    "plt.plot(predictions, label=\"pol_value predicted\")\n",
    "plt.legend(loc=\"upper right\")\n",
    "plt.grid(alpha=.4)"
   ]
  },
  {
   "cell_type": "code",
   "execution_count": null,
   "id": "202aea8a-038b-453c-b5cc-6fe766cdcc88",
   "metadata": {},
   "outputs": [],
   "source": []
  },
  {
   "cell_type": "code",
   "execution_count": null,
   "id": "e806d08b-b7a2-46f1-96ca-f67cfb56e33a",
   "metadata": {},
   "outputs": [],
   "source": []
  },
  {
   "cell_type": "code",
   "execution_count": null,
   "id": "5ca44709-5348-4761-a44b-8ead75c5b7f0",
   "metadata": {},
   "outputs": [],
   "source": []
  }
 ],
 "metadata": {
  "kernelspec": {
   "display_name": "Python 3 (ipykernel)",
   "language": "python",
   "name": "python3"
  },
  "language_info": {
   "codemirror_mode": {
    "name": "ipython",
    "version": 3
   },
   "file_extension": ".py",
   "mimetype": "text/x-python",
   "name": "python",
   "nbconvert_exporter": "python",
   "pygments_lexer": "ipython3",
   "version": "3.8.10"
  }
 },
 "nbformat": 4,
 "nbformat_minor": 5
}
