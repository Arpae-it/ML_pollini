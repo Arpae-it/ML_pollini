{
 "cells": [
  {
   "cell_type": "markdown",
   "id": "27e9f867",
   "metadata": {},
   "source": [
    "# DNN on Cluster \n",
    "Notebook to perform some model on a single Cluster.<br>\n",
    "Data read are from table SLIDING_WINDOWS_DATASET that contains a sliding windows of:\n",
    "- feats about last 7-days meteo values\n",
    "- pollen value for the next day\n",
    "\n",
    "Cluster associations are read from a local file: we have different cluster annotations made by different techniques.<br>\n",
    "Starting from past data, we can apply an <b>Attention-based DNN Model</b> to forecast the next week or day."
   ]
  },
  {
   "cell_type": "markdown",
   "id": "a96a293a",
   "metadata": {},
   "source": [
    "<h3>Import</h3>"
   ]
  },
  {
   "cell_type": "code",
   "execution_count": 65,
   "id": "80880ce5",
   "metadata": {},
   "outputs": [
    {
     "data": {
      "text/html": [
       "        <script type=\"text/javascript\">\n",
       "        window.PlotlyConfig = {MathJaxConfig: 'local'};\n",
       "        if (window.MathJax && window.MathJax.Hub && window.MathJax.Hub.Config) {window.MathJax.Hub.Config({SVG: {font: \"STIX-Web\"}});}\n",
       "        if (typeof require !== 'undefined') {\n",
       "        require.undef(\"plotly\");\n",
       "        requirejs.config({\n",
       "            paths: {\n",
       "                'plotly': ['https://cdn.plot.ly/plotly-2.18.0.min']\n",
       "            }\n",
       "        });\n",
       "        require(['plotly'], function(Plotly) {\n",
       "            window._Plotly = Plotly;\n",
       "        });\n",
       "        }\n",
       "        </script>\n",
       "        "
      ]
     },
     "metadata": {},
     "output_type": "display_data"
    }
   ],
   "source": [
    "from tqdm.auto import tqdm\n",
    "import json\n",
    "import math\n",
    "import pandas as pd\n",
    "import numpy as np\n",
    "import datetime\n",
    "from datetime import timedelta\n",
    "from google.cloud import bigquery\n",
    "\n",
    "import seaborn as sns\n",
    "from collections import Counter\n",
    "import matplotlib.cm as cm\n",
    "from sklearn.cluster import KMeans\n",
    "from sklearn.cluster import DBSCAN\n",
    "from sklearn.decomposition import PCA\n",
    "from sklearn.metrics import silhouette_samples, silhouette_score\n",
    "from sklearn.preprocessing import MinMaxScaler\n",
    "\n",
    "import matplotlib.pyplot as plt\n",
    "from matplotlib.pyplot import get_cmap\n",
    "from matplotlib import cm\n",
    "import plotly.graph_objects as go\n",
    "from plotly.subplots import make_subplots\n",
    "import plotly.express as px\n",
    "import ipywidgets as widgets\n",
    "import scipy.stats\n",
    "from sklearn.model_selection import train_test_split\n",
    "from sklearn.linear_model import LinearRegression\n",
    "from sklearn.metrics import precision_recall_fscore_support\n",
    "from sklearn.metrics import mean_squared_error\n",
    "from plotly.offline import init_notebook_mode, iplot\n",
    "\n",
    "import tensorflow as tf\n",
    "from keras.models import Sequential\n",
    "from tensorflow.keras.layers import Input, Dense, Dropout, LSTM, Embedding, Dense, Concatenate, TimeDistributed\n",
    "from tensorflow.keras.callbacks import EarlyStopping, ModelCheckpoint\n",
    "from statsmodels.tsa.seasonal import seasonal_decompose\n",
    "\n",
    "import warnings\n",
    "warnings.filterwarnings('ignore')\n",
    "\n",
    "my_cmap = plt.get_cmap(\"Paired\")\n",
    "init_notebook_mode(connected=True)  \n",
    "tqdm.pandas()"
   ]
  },
  {
   "cell_type": "markdown",
   "id": "8a7c4047",
   "metadata": {},
   "source": [
    "<h3>Config</h3>"
   ]
  },
  {
   "cell_type": "code",
   "execution_count": 66,
   "id": "7031950c",
   "metadata": {},
   "outputs": [],
   "source": [
    "# Config\n",
    "\n",
    "PROJECT_ID = 'arpae-prod-ml'\n",
    "\n",
    "# BigQuery\n",
    "BQ_DATASET = 'SAMPLE_DATA'\n",
    "JOINED_BQ_DATASET = 'JOINED_DATA'\n",
    "\n",
    "# Const\n",
    "COMMON_PERIOD_INIT = '2011-01-01'\n",
    "COMMON_PERIOD_END = '2021-12-31' \n",
    "\n",
    "# Cols\n",
    "DATE_COL = 'date'\n",
    "\n",
    "# Feats\n",
    "METEO_FEATS = ['week_amax', \n",
    "               'station_lat_amax', 'station_lon_amax', 'station_H_piano_strada_amax', 'station_H_mslm_amax', \n",
    "               'B13011_min_amin', 'B13011_max_amax', 'B13011_mean_mean', 'B13011_std_mean', 'B13011_sum_sum', \n",
    "               'B14198_min_amin', 'B14198_max_amax', 'B14198_mean_mean', 'B14198_std_mean', 'B14198_sum_sum',\n",
    "               'TEMP_min_amin', 'TEMP_max_amax', 'TEMP_mean_mean', 'TEMP_std_mean', 'TEMP_sum_sum',                                               \n",
    "               'PREC_amin', 'PREC_mean', 'PREC_std', 'PREC_median', 'PREC_amax', 'PREC_skew', 'PREC_kurtosis']\n",
    "POLLEN_FEATS = ['pol_value_amin', 'pol_value_mean', 'pol_value_std', 'pol_value_median', 'pol_value_amax', \n",
    "                'pol_value_skew', 'pol_value_kurtosis',\n",
    "                'pol_value_prev_1', 'pol_value_prev_2', 'pol_value_prev_3',\n",
    "                'pol_value_prev_4', 'pol_value_prev_5', 'pol_value_prev_6',\n",
    "                'pol_value_prev_7']\n",
    "ORIGINAL_FEATS = METEO_FEATS + POLLEN_FEATS\n",
    "LABEL_COL = 'pol_value_label'\n",
    "\n",
    "# Params\n",
    "BATCH_SIZE = 512 #128\n",
    "SEQUENCE_LEN = 7\n",
    "K_INTERVAL = 5\n",
    "\n",
    "# Layout\n",
    "COLOR_PALETTE = px.colors.qualitative.Prism\n",
    "\n",
    "OUTPUT_CLUSTER_FILENAME = \"../../data/clustering_intervals.csv\" \n"
   ]
  },
  {
   "cell_type": "markdown",
   "id": "0b40c5c9",
   "metadata": {},
   "source": [
    "<h3>Methods</h3>"
   ]
  },
  {
   "cell_type": "code",
   "execution_count": 67,
   "id": "ccb72ca3",
   "metadata": {},
   "outputs": [],
   "source": [
    "# Read Methods\n",
    "\n",
    "def _run_query(client, query): \n",
    "    df = client.query(query).to_dataframe()\n",
    "    return df\n",
    "\n",
    "def _read_table(client, project_id, dataset, table):\n",
    "    query = \"SELECT * FROM `{}.{}.{}` \".format(project_id, dataset, table)\n",
    "    df = _run_query(client, query)\n",
    "    return df\n",
    "\n",
    "def _read_table_delta(client, project_id, dataset, table, date_col, init, end):\n",
    "    query = \"SELECT * FROM `{}.{}.{}` WHERE {} > '{}' AND {} < '{}' \".format(project_id, dataset, table, date_col, init, date_col, end)\n",
    "    df = _run_query(client, query)\n",
    "    if 'reftime' in df.columns:\n",
    "        df.sort_values(by='reftime', inplace=True)\n",
    "    elif date_col in df.columns:\n",
    "        df.sort_values(by=date_col, inplace=True)\n",
    "    else:\n",
    "        return None\n",
    "    return df\n"
   ]
  },
  {
   "cell_type": "code",
   "execution_count": 68,
   "id": "36411aab",
   "metadata": {},
   "outputs": [],
   "source": [
    "# Process Methods\n",
    "\n",
    "def _shift_week(x, week):\n",
    "    date = x - timedelta(days=7*week)\n",
    "    return date.strftime(\"%Y-%m-%d\")\n",
    "\n",
    "def _normalize(x, range_dict, index_col, label_col):\n",
    "    pol_min = range_dict[x[index_col]]['min']\n",
    "    pol_max = range_dict[x[index_col]]['max']\n",
    "    return (x[label_col] - pol_min) / (pol_max - pol_min)\n",
    "\n",
    "def _set_range_value(x, range_dict, index_col, col, k): \n",
    "    pol_min = range_dict[x[index_col]]['min']\n",
    "    pol_max = range_dict[x[index_col]]['max']\n",
    "    intervals = np.linspace(pol_min, pol_max, k)\n",
    "    for i, interval in enumerate(intervals):\n",
    "        if x[col] <= interval:\n",
    "            return np.float32(i)\n",
    "    return None"
   ]
  },
  {
   "cell_type": "code",
   "execution_count": 69,
   "id": "37550651",
   "metadata": {},
   "outputs": [],
   "source": [
    "# Widget Methods\n",
    "\n",
    "def _create_scaling_widget():\n",
    "    wdgt = widgets.Dropdown(options=['interval', 'min-max-linear'], \n",
    "                            description='Select Feats:', layout={\"width\":\"50%\"})\n",
    "    return wdgt\n",
    "\n",
    "def _create_cluster_widget(clusters):\n",
    "    cluster_wdgt = widgets.Dropdown(options=clusters, description='Cluster id:', layout={\"width\":\"50%\"})\n",
    "    return cluster_wdgt"
   ]
  },
  {
   "cell_type": "code",
   "execution_count": null,
   "id": "18b63a65",
   "metadata": {},
   "outputs": [],
   "source": []
  },
  {
   "cell_type": "markdown",
   "id": "a3b476b0",
   "metadata": {},
   "source": [
    "<h3>1. Config</h3>"
   ]
  },
  {
   "cell_type": "markdown",
   "id": "8487293b",
   "metadata": {},
   "source": [
    "<h4>1.1 Config BigQuery</h4>"
   ]
  },
  {
   "cell_type": "code",
   "execution_count": 70,
   "id": "d526cc1b",
   "metadata": {},
   "outputs": [
    {
     "data": {
      "text/plain": [
       "<google.cloud.bigquery.client.Client at 0x1610f63d0>"
      ]
     },
     "execution_count": 70,
     "metadata": {},
     "output_type": "execute_result"
    }
   ],
   "source": [
    "# Setup Client\n",
    "\n",
    "bq_client = bigquery.Client(project=PROJECT_ID)\n",
    "bq_client"
   ]
  },
  {
   "cell_type": "code",
   "execution_count": null,
   "id": "6e5ae261",
   "metadata": {},
   "outputs": [],
   "source": []
  },
  {
   "cell_type": "markdown",
   "id": "3e6b9aa3",
   "metadata": {},
   "source": [
    "<h3>2. Read Data</h3>"
   ]
  },
  {
   "cell_type": "markdown",
   "id": "185c05b0",
   "metadata": {},
   "source": [
    "<h4>2.1 Read Cluster file</h4>"
   ]
  },
  {
   "cell_type": "code",
   "execution_count": 71,
   "id": "2fac3602",
   "metadata": {},
   "outputs": [
    {
     "name": "stdout",
     "output_type": "stream",
     "text": [
      "(363, 3)\n"
     ]
    },
    {
     "data": {
      "text/html": [
       "<div>\n",
       "<style scoped>\n",
       "    .dataframe tbody tr th:only-of-type {\n",
       "        vertical-align: middle;\n",
       "    }\n",
       "\n",
       "    .dataframe tbody tr th {\n",
       "        vertical-align: top;\n",
       "    }\n",
       "\n",
       "    .dataframe thead th {\n",
       "        text-align: right;\n",
       "    }\n",
       "</style>\n",
       "<table border=\"1\" class=\"dataframe\">\n",
       "  <thead>\n",
       "    <tr style=\"text-align: right;\">\n",
       "      <th></th>\n",
       "      <th>station_id</th>\n",
       "      <th>pol_var_id</th>\n",
       "      <th>cluster</th>\n",
       "    </tr>\n",
       "  </thead>\n",
       "  <tbody>\n",
       "    <tr>\n",
       "      <th>0</th>\n",
       "      <td>1</td>\n",
       "      <td>B48001</td>\n",
       "      <td>3</td>\n",
       "    </tr>\n",
       "    <tr>\n",
       "      <th>1</th>\n",
       "      <td>1</td>\n",
       "      <td>B48002</td>\n",
       "      <td>2</td>\n",
       "    </tr>\n",
       "    <tr>\n",
       "      <th>2</th>\n",
       "      <td>1</td>\n",
       "      <td>B48003</td>\n",
       "      <td>1</td>\n",
       "    </tr>\n",
       "  </tbody>\n",
       "</table>\n",
       "</div>"
      ],
      "text/plain": [
       "   station_id pol_var_id  cluster\n",
       "0           1     B48001        3\n",
       "1           1     B48002        2\n",
       "2           1     B48003        1"
      ]
     },
     "execution_count": 71,
     "metadata": {},
     "output_type": "execute_result"
    }
   ],
   "source": [
    "clusters_df = pd.read_csv(OUTPUT_CLUSTER_FILENAME)\n",
    "print(clusters_df.shape)\n",
    "clusters_df.head(3)"
   ]
  },
  {
   "cell_type": "markdown",
   "id": "7b74ed53",
   "metadata": {},
   "source": [
    "<h4>2.2 Read Tables</h4>"
   ]
  },
  {
   "cell_type": "markdown",
   "id": "e1d44bb4",
   "metadata": {},
   "source": [
    "<b>SLIDING_WINDOWS_DATASET</b> joins meteo features of last 7-days with the next-day pollen value."
   ]
  },
  {
   "cell_type": "code",
   "execution_count": 72,
   "id": "b6e59922",
   "metadata": {},
   "outputs": [
    {
     "name": "stdout",
     "output_type": "stream",
     "text": [
      "(783015, 55)\n"
     ]
    },
    {
     "data": {
      "text/html": [
       "<div>\n",
       "<style scoped>\n",
       "    .dataframe tbody tr th:only-of-type {\n",
       "        vertical-align: middle;\n",
       "    }\n",
       "\n",
       "    .dataframe tbody tr th {\n",
       "        vertical-align: top;\n",
       "    }\n",
       "\n",
       "    .dataframe thead th {\n",
       "        text-align: right;\n",
       "    }\n",
       "</style>\n",
       "<table border=\"1\" class=\"dataframe\">\n",
       "  <thead>\n",
       "    <tr style=\"text-align: right;\">\n",
       "      <th></th>\n",
       "      <th>date</th>\n",
       "      <th>station_id</th>\n",
       "      <th>pol_var_id</th>\n",
       "      <th>date_diff</th>\n",
       "      <th>B13011_min_amin</th>\n",
       "      <th>B13011_max_amax</th>\n",
       "      <th>B13011_mean_mean</th>\n",
       "      <th>B13011_std_mean</th>\n",
       "      <th>B13011_sum_sum</th>\n",
       "      <th>B14198_min_amin</th>\n",
       "      <th>...</th>\n",
       "      <th>pol_value_prev_2</th>\n",
       "      <th>pol_value_prev_3</th>\n",
       "      <th>pol_value_prev_4</th>\n",
       "      <th>pol_value_prev_5</th>\n",
       "      <th>pol_value_prev_6</th>\n",
       "      <th>pol_value_prev_7</th>\n",
       "      <th>pol_value_label</th>\n",
       "      <th>season_label</th>\n",
       "      <th>trend_label</th>\n",
       "      <th>residual_label</th>\n",
       "    </tr>\n",
       "  </thead>\n",
       "  <tbody>\n",
       "    <tr>\n",
       "      <th>463994</th>\n",
       "      <td>2011-01-02 00:00:00+00:00</td>\n",
       "      <td>8</td>\n",
       "      <td>B48029</td>\n",
       "      <td>9</td>\n",
       "      <td>0.0</td>\n",
       "      <td>11.4</td>\n",
       "      <td>0.015630</td>\n",
       "      <td>0.144917</td>\n",
       "      <td>18.6</td>\n",
       "      <td>-13.0</td>\n",
       "      <td>...</td>\n",
       "      <td>0.0</td>\n",
       "      <td>0.0</td>\n",
       "      <td>0.0</td>\n",
       "      <td>0.0</td>\n",
       "      <td>0.0</td>\n",
       "      <td>0.0</td>\n",
       "      <td>0.0</td>\n",
       "      <td>-1.338131</td>\n",
       "      <td>0.829370</td>\n",
       "      <td>0.508761</td>\n",
       "    </tr>\n",
       "    <tr>\n",
       "      <th>513242</th>\n",
       "      <td>2011-01-02 00:00:00+00:00</td>\n",
       "      <td>10</td>\n",
       "      <td>B48016</td>\n",
       "      <td>7</td>\n",
       "      <td>0.0</td>\n",
       "      <td>12.8</td>\n",
       "      <td>0.014118</td>\n",
       "      <td>0.146686</td>\n",
       "      <td>16.8</td>\n",
       "      <td>-12.0</td>\n",
       "      <td>...</td>\n",
       "      <td>0.0</td>\n",
       "      <td>0.0</td>\n",
       "      <td>0.0</td>\n",
       "      <td>0.0</td>\n",
       "      <td>0.0</td>\n",
       "      <td>0.0</td>\n",
       "      <td>0.0</td>\n",
       "      <td>-2.770304</td>\n",
       "      <td>3.846548</td>\n",
       "      <td>-1.076244</td>\n",
       "    </tr>\n",
       "    <tr>\n",
       "      <th>440463</th>\n",
       "      <td>2011-01-02 00:00:00+00:00</td>\n",
       "      <td>7</td>\n",
       "      <td>B48034</td>\n",
       "      <td>8</td>\n",
       "      <td>0.0</td>\n",
       "      <td>13.0</td>\n",
       "      <td>0.014454</td>\n",
       "      <td>0.153349</td>\n",
       "      <td>17.2</td>\n",
       "      <td>-15.0</td>\n",
       "      <td>...</td>\n",
       "      <td>0.0</td>\n",
       "      <td>0.0</td>\n",
       "      <td>0.0</td>\n",
       "      <td>0.0</td>\n",
       "      <td>0.0</td>\n",
       "      <td>0.0</td>\n",
       "      <td>0.0</td>\n",
       "      <td>-4.641494</td>\n",
       "      <td>6.968164</td>\n",
       "      <td>-2.326670</td>\n",
       "    </tr>\n",
       "  </tbody>\n",
       "</table>\n",
       "<p>3 rows × 55 columns</p>\n",
       "</div>"
      ],
      "text/plain": [
       "                             date  station_id pol_var_id  date_diff  \\\n",
       "463994  2011-01-02 00:00:00+00:00           8     B48029          9   \n",
       "513242  2011-01-02 00:00:00+00:00          10     B48016          7   \n",
       "440463  2011-01-02 00:00:00+00:00           7     B48034          8   \n",
       "\n",
       "        B13011_min_amin  B13011_max_amax  B13011_mean_mean  B13011_std_mean  \\\n",
       "463994              0.0             11.4          0.015630         0.144917   \n",
       "513242              0.0             12.8          0.014118         0.146686   \n",
       "440463              0.0             13.0          0.014454         0.153349   \n",
       "\n",
       "        B13011_sum_sum  B14198_min_amin  ...  pol_value_prev_2  \\\n",
       "463994            18.6            -13.0  ...               0.0   \n",
       "513242            16.8            -12.0  ...               0.0   \n",
       "440463            17.2            -15.0  ...               0.0   \n",
       "\n",
       "        pol_value_prev_3  pol_value_prev_4  pol_value_prev_5  \\\n",
       "463994               0.0               0.0               0.0   \n",
       "513242               0.0               0.0               0.0   \n",
       "440463               0.0               0.0               0.0   \n",
       "\n",
       "        pol_value_prev_6  pol_value_prev_7  pol_value_label  season_label  \\\n",
       "463994               0.0               0.0              0.0     -1.338131   \n",
       "513242               0.0               0.0              0.0     -2.770304   \n",
       "440463               0.0               0.0              0.0     -4.641494   \n",
       "\n",
       "        trend_label  residual_label  \n",
       "463994     0.829370        0.508761  \n",
       "513242     3.846548       -1.076244  \n",
       "440463     6.968164       -2.326670  \n",
       "\n",
       "[3 rows x 55 columns]"
      ]
     },
     "execution_count": 72,
     "metadata": {},
     "output_type": "execute_result"
    }
   ],
   "source": [
    "# Read ALL_METEO_FEATS_POL_DAT\n",
    "\n",
    "sliding_windows_dataset_df = _read_table_delta(bq_client, PROJECT_ID, JOINED_BQ_DATASET, \n",
    "                                               \"SLIDING_WINDOWS_DATASET\", \"date\",\n",
    "                                               COMMON_PERIOD_INIT, COMMON_PERIOD_END)\n",
    "sliding_windows_dataset_df['date'] = sliding_windows_dataset_df['date'].astype(\"str\")\n",
    "print(sliding_windows_dataset_df.shape)\n",
    "sliding_windows_dataset_df.head(3)"
   ]
  },
  {
   "cell_type": "code",
   "execution_count": null,
   "id": "9c87666c",
   "metadata": {},
   "outputs": [],
   "source": []
  },
  {
   "cell_type": "markdown",
   "id": "0a11067d",
   "metadata": {},
   "source": [
    "<h3>3. Prepare Data</h3>"
   ]
  },
  {
   "cell_type": "markdown",
   "id": "fc1ae6e8",
   "metadata": {},
   "source": [
    "<h4>3.1 Prepare Data</h4>"
   ]
  },
  {
   "cell_type": "code",
   "execution_count": 73,
   "id": "e40ed877",
   "metadata": {},
   "outputs": [],
   "source": [
    "# Set data\n",
    "\n",
    "data_df = sliding_windows_dataset_df.copy()"
   ]
  },
  {
   "cell_type": "code",
   "execution_count": 74,
   "id": "610f53a0",
   "metadata": {},
   "outputs": [
    {
     "data": {
      "application/vnd.jupyter.widget-view+json": {
       "model_id": "062314396fcf4b718a31d3f6c5133797",
       "version_major": 2,
       "version_minor": 0
      },
      "text/plain": [
       "Dropdown(description='Cluster id:', layout=Layout(width='50%'), options=(0, 1, 2, 3, 4, 5, 6, 7, 8, 9), value=…"
      ]
     },
     "metadata": {},
     "output_type": "display_data"
    }
   ],
   "source": [
    "# Select a single cluster \n",
    "\n",
    "clusters = sorted(clusters_df.cluster.unique())\n",
    "cluster_wdgt = _create_cluster_widget(clusters)\n",
    "display(cluster_wdgt)"
   ]
  },
  {
   "cell_type": "code",
   "execution_count": 75,
   "id": "77db0fe8",
   "metadata": {},
   "outputs": [
    {
     "name": "stdout",
     "output_type": "stream",
     "text": [
      "(58663, 55)\n"
     ]
    },
    {
     "data": {
      "text/html": [
       "<div>\n",
       "<style scoped>\n",
       "    .dataframe tbody tr th:only-of-type {\n",
       "        vertical-align: middle;\n",
       "    }\n",
       "\n",
       "    .dataframe tbody tr th {\n",
       "        vertical-align: top;\n",
       "    }\n",
       "\n",
       "    .dataframe thead th {\n",
       "        text-align: right;\n",
       "    }\n",
       "</style>\n",
       "<table border=\"1\" class=\"dataframe\">\n",
       "  <thead>\n",
       "    <tr style=\"text-align: right;\">\n",
       "      <th></th>\n",
       "      <th>date</th>\n",
       "      <th>station_id</th>\n",
       "      <th>pol_var_id</th>\n",
       "      <th>date_diff</th>\n",
       "      <th>B13011_min_amin</th>\n",
       "      <th>B13011_max_amax</th>\n",
       "      <th>B13011_mean_mean</th>\n",
       "      <th>B13011_std_mean</th>\n",
       "      <th>B13011_sum_sum</th>\n",
       "      <th>B14198_min_amin</th>\n",
       "      <th>...</th>\n",
       "      <th>pol_value_prev_2</th>\n",
       "      <th>pol_value_prev_3</th>\n",
       "      <th>pol_value_prev_4</th>\n",
       "      <th>pol_value_prev_5</th>\n",
       "      <th>pol_value_prev_6</th>\n",
       "      <th>pol_value_prev_7</th>\n",
       "      <th>pol_value_label</th>\n",
       "      <th>season_label</th>\n",
       "      <th>trend_label</th>\n",
       "      <th>residual_label</th>\n",
       "    </tr>\n",
       "  </thead>\n",
       "  <tbody>\n",
       "    <tr>\n",
       "      <th>0</th>\n",
       "      <td>2011-03-07 00:00:00+00:00</td>\n",
       "      <td>1</td>\n",
       "      <td>B48018</td>\n",
       "      <td>7</td>\n",
       "      <td>0.0</td>\n",
       "      <td>22.4</td>\n",
       "      <td>0.163866</td>\n",
       "      <td>0.793851</td>\n",
       "      <td>195.0</td>\n",
       "      <td>-9.0</td>\n",
       "      <td>...</td>\n",
       "      <td>0.0</td>\n",
       "      <td>0.0</td>\n",
       "      <td>0.0</td>\n",
       "      <td>0.0</td>\n",
       "      <td>0.0</td>\n",
       "      <td>0.0</td>\n",
       "      <td>0.0</td>\n",
       "      <td>0.227010</td>\n",
       "      <td>1.504411</td>\n",
       "      <td>-1.731421</td>\n",
       "    </tr>\n",
       "    <tr>\n",
       "      <th>1</th>\n",
       "      <td>2011-03-08 00:00:00+00:00</td>\n",
       "      <td>1</td>\n",
       "      <td>B48018</td>\n",
       "      <td>7</td>\n",
       "      <td>0.0</td>\n",
       "      <td>14.0</td>\n",
       "      <td>0.111261</td>\n",
       "      <td>0.453520</td>\n",
       "      <td>132.4</td>\n",
       "      <td>-13.0</td>\n",
       "      <td>...</td>\n",
       "      <td>0.0</td>\n",
       "      <td>0.0</td>\n",
       "      <td>0.0</td>\n",
       "      <td>0.0</td>\n",
       "      <td>0.0</td>\n",
       "      <td>0.0</td>\n",
       "      <td>0.0</td>\n",
       "      <td>0.334604</td>\n",
       "      <td>1.505589</td>\n",
       "      <td>-1.840193</td>\n",
       "    </tr>\n",
       "    <tr>\n",
       "      <th>2</th>\n",
       "      <td>2011-03-09 00:00:00+00:00</td>\n",
       "      <td>1</td>\n",
       "      <td>B48018</td>\n",
       "      <td>7</td>\n",
       "      <td>0.0</td>\n",
       "      <td>14.0</td>\n",
       "      <td>0.059832</td>\n",
       "      <td>0.321228</td>\n",
       "      <td>71.2</td>\n",
       "      <td>-13.0</td>\n",
       "      <td>...</td>\n",
       "      <td>0.0</td>\n",
       "      <td>0.0</td>\n",
       "      <td>0.0</td>\n",
       "      <td>0.0</td>\n",
       "      <td>0.0</td>\n",
       "      <td>0.0</td>\n",
       "      <td>0.0</td>\n",
       "      <td>0.170328</td>\n",
       "      <td>1.505589</td>\n",
       "      <td>-1.675917</td>\n",
       "    </tr>\n",
       "  </tbody>\n",
       "</table>\n",
       "<p>3 rows × 55 columns</p>\n",
       "</div>"
      ],
      "text/plain": [
       "                        date  station_id pol_var_id  date_diff  \\\n",
       "0  2011-03-07 00:00:00+00:00           1     B48018          7   \n",
       "1  2011-03-08 00:00:00+00:00           1     B48018          7   \n",
       "2  2011-03-09 00:00:00+00:00           1     B48018          7   \n",
       "\n",
       "   B13011_min_amin  B13011_max_amax  B13011_mean_mean  B13011_std_mean  \\\n",
       "0              0.0             22.4          0.163866         0.793851   \n",
       "1              0.0             14.0          0.111261         0.453520   \n",
       "2              0.0             14.0          0.059832         0.321228   \n",
       "\n",
       "   B13011_sum_sum  B14198_min_amin  ...  pol_value_prev_2  pol_value_prev_3  \\\n",
       "0           195.0             -9.0  ...               0.0               0.0   \n",
       "1           132.4            -13.0  ...               0.0               0.0   \n",
       "2            71.2            -13.0  ...               0.0               0.0   \n",
       "\n",
       "   pol_value_prev_4  pol_value_prev_5  pol_value_prev_6  pol_value_prev_7  \\\n",
       "0               0.0               0.0               0.0               0.0   \n",
       "1               0.0               0.0               0.0               0.0   \n",
       "2               0.0               0.0               0.0               0.0   \n",
       "\n",
       "   pol_value_label  season_label  trend_label  residual_label  \n",
       "0              0.0      0.227010     1.504411       -1.731421  \n",
       "1              0.0      0.334604     1.505589       -1.840193  \n",
       "2              0.0      0.170328     1.505589       -1.675917  \n",
       "\n",
       "[3 rows x 55 columns]"
      ]
     },
     "execution_count": 75,
     "metadata": {},
     "output_type": "execute_result"
    }
   ],
   "source": [
    "# Filter data for station, bcode in the selected cluster\n",
    "\n",
    "filt_clusters_df = clusters_df[clusters_df['cluster']==cluster_wdgt.value][['station_id', 'pol_var_id']]\n",
    "data_df = pd.merge(data_df, filt_clusters_df, how='right', on=['station_id', 'pol_var_id'])\n",
    "print(data_df.shape)\n",
    "data_df.head(3)"
   ]
  },
  {
   "cell_type": "markdown",
   "id": "f3a36db0",
   "metadata": {},
   "source": [
    "<h4>3.2 Create Dataset</h4>"
   ]
  },
  {
   "cell_type": "code",
   "execution_count": 76,
   "id": "f834858c",
   "metadata": {},
   "outputs": [
    {
     "name": "stdout",
     "output_type": "stream",
     "text": [
      "(58663, 45)\n"
     ]
    },
    {
     "data": {
      "text/html": [
       "<div>\n",
       "<style scoped>\n",
       "    .dataframe tbody tr th:only-of-type {\n",
       "        vertical-align: middle;\n",
       "    }\n",
       "\n",
       "    .dataframe tbody tr th {\n",
       "        vertical-align: top;\n",
       "    }\n",
       "\n",
       "    .dataframe thead th {\n",
       "        text-align: right;\n",
       "    }\n",
       "</style>\n",
       "<table border=\"1\" class=\"dataframe\">\n",
       "  <thead>\n",
       "    <tr style=\"text-align: right;\">\n",
       "      <th></th>\n",
       "      <th>station_id</th>\n",
       "      <th>pol_var_id</th>\n",
       "      <th>date</th>\n",
       "      <th>week_amax</th>\n",
       "      <th>station_lat_amax</th>\n",
       "      <th>station_lon_amax</th>\n",
       "      <th>station_H_piano_strada_amax</th>\n",
       "      <th>station_H_mslm_amax</th>\n",
       "      <th>B13011_min_amin</th>\n",
       "      <th>B13011_max_amax</th>\n",
       "      <th>...</th>\n",
       "      <th>pol_value_skew</th>\n",
       "      <th>pol_value_kurtosis</th>\n",
       "      <th>pol_value_prev_1</th>\n",
       "      <th>pol_value_prev_2</th>\n",
       "      <th>pol_value_prev_3</th>\n",
       "      <th>pol_value_prev_4</th>\n",
       "      <th>pol_value_prev_5</th>\n",
       "      <th>pol_value_prev_6</th>\n",
       "      <th>pol_value_prev_7</th>\n",
       "      <th>pol_value_label</th>\n",
       "    </tr>\n",
       "  </thead>\n",
       "  <tbody>\n",
       "    <tr>\n",
       "      <th>0</th>\n",
       "      <td>1</td>\n",
       "      <td>B48018</td>\n",
       "      <td>2011-03-07 00:00:00+00:00</td>\n",
       "      <td>10.0</td>\n",
       "      <td>44.4914</td>\n",
       "      <td>11.3694</td>\n",
       "      <td>80.0</td>\n",
       "      <td>101.0</td>\n",
       "      <td>0.0</td>\n",
       "      <td>22.4</td>\n",
       "      <td>...</td>\n",
       "      <td>0.0</td>\n",
       "      <td>0.0</td>\n",
       "      <td>0.0</td>\n",
       "      <td>0.0</td>\n",
       "      <td>0.0</td>\n",
       "      <td>0.0</td>\n",
       "      <td>0.0</td>\n",
       "      <td>0.0</td>\n",
       "      <td>0.0</td>\n",
       "      <td>0.0</td>\n",
       "    </tr>\n",
       "    <tr>\n",
       "      <th>1</th>\n",
       "      <td>1</td>\n",
       "      <td>B48018</td>\n",
       "      <td>2011-03-08 00:00:00+00:00</td>\n",
       "      <td>10.0</td>\n",
       "      <td>44.4914</td>\n",
       "      <td>11.3694</td>\n",
       "      <td>80.0</td>\n",
       "      <td>101.0</td>\n",
       "      <td>0.0</td>\n",
       "      <td>14.0</td>\n",
       "      <td>...</td>\n",
       "      <td>0.0</td>\n",
       "      <td>0.0</td>\n",
       "      <td>0.0</td>\n",
       "      <td>0.0</td>\n",
       "      <td>0.0</td>\n",
       "      <td>0.0</td>\n",
       "      <td>0.0</td>\n",
       "      <td>0.0</td>\n",
       "      <td>0.0</td>\n",
       "      <td>0.0</td>\n",
       "    </tr>\n",
       "    <tr>\n",
       "      <th>2</th>\n",
       "      <td>1</td>\n",
       "      <td>B48018</td>\n",
       "      <td>2011-03-09 00:00:00+00:00</td>\n",
       "      <td>10.0</td>\n",
       "      <td>44.4914</td>\n",
       "      <td>11.3694</td>\n",
       "      <td>80.0</td>\n",
       "      <td>101.0</td>\n",
       "      <td>0.0</td>\n",
       "      <td>14.0</td>\n",
       "      <td>...</td>\n",
       "      <td>0.0</td>\n",
       "      <td>0.0</td>\n",
       "      <td>0.0</td>\n",
       "      <td>0.0</td>\n",
       "      <td>0.0</td>\n",
       "      <td>0.0</td>\n",
       "      <td>0.0</td>\n",
       "      <td>0.0</td>\n",
       "      <td>0.0</td>\n",
       "      <td>0.0</td>\n",
       "    </tr>\n",
       "  </tbody>\n",
       "</table>\n",
       "<p>3 rows × 45 columns</p>\n",
       "</div>"
      ],
      "text/plain": [
       "   station_id pol_var_id                       date  week_amax  \\\n",
       "0           1     B48018  2011-03-07 00:00:00+00:00       10.0   \n",
       "1           1     B48018  2011-03-08 00:00:00+00:00       10.0   \n",
       "2           1     B48018  2011-03-09 00:00:00+00:00       10.0   \n",
       "\n",
       "   station_lat_amax  station_lon_amax  station_H_piano_strada_amax  \\\n",
       "0           44.4914           11.3694                         80.0   \n",
       "1           44.4914           11.3694                         80.0   \n",
       "2           44.4914           11.3694                         80.0   \n",
       "\n",
       "   station_H_mslm_amax  B13011_min_amin  B13011_max_amax  ...  pol_value_skew  \\\n",
       "0                101.0              0.0             22.4  ...             0.0   \n",
       "1                101.0              0.0             14.0  ...             0.0   \n",
       "2                101.0              0.0             14.0  ...             0.0   \n",
       "\n",
       "   pol_value_kurtosis  pol_value_prev_1  pol_value_prev_2  pol_value_prev_3  \\\n",
       "0                 0.0               0.0               0.0               0.0   \n",
       "1                 0.0               0.0               0.0               0.0   \n",
       "2                 0.0               0.0               0.0               0.0   \n",
       "\n",
       "   pol_value_prev_4  pol_value_prev_5  pol_value_prev_6  pol_value_prev_7  \\\n",
       "0               0.0               0.0               0.0               0.0   \n",
       "1               0.0               0.0               0.0               0.0   \n",
       "2               0.0               0.0               0.0               0.0   \n",
       "\n",
       "   pol_value_label  \n",
       "0              0.0  \n",
       "1              0.0  \n",
       "2              0.0  \n",
       "\n",
       "[3 rows x 45 columns]"
      ]
     },
     "execution_count": 76,
     "metadata": {},
     "output_type": "execute_result"
    }
   ],
   "source": [
    "# Create dataset\n",
    "\n",
    "data_df.sort_values(['station_id', 'pol_var_id', DATE_COL], inplace=True)\n",
    "dataset_df = data_df[['station_id', 'pol_var_id', DATE_COL]  + ORIGINAL_FEATS + [LABEL_COL]]\n",
    "print(dataset_df.shape)\n",
    "dataset_df.head(3)"
   ]
  },
  {
   "cell_type": "code",
   "execution_count": 77,
   "id": "2ff1532b",
   "metadata": {},
   "outputs": [
    {
     "name": "stdout",
     "output_type": "stream",
     "text": [
      "(58663, 44)\n"
     ]
    },
    {
     "data": {
      "text/html": [
       "<div>\n",
       "<style scoped>\n",
       "    .dataframe tbody tr th:only-of-type {\n",
       "        vertical-align: middle;\n",
       "    }\n",
       "\n",
       "    .dataframe tbody tr th {\n",
       "        vertical-align: top;\n",
       "    }\n",
       "\n",
       "    .dataframe thead th {\n",
       "        text-align: right;\n",
       "    }\n",
       "</style>\n",
       "<table border=\"1\" class=\"dataframe\">\n",
       "  <thead>\n",
       "    <tr style=\"text-align: right;\">\n",
       "      <th></th>\n",
       "      <th>station_id</th>\n",
       "      <th>pol_var_id</th>\n",
       "      <th>week_amax</th>\n",
       "      <th>station_lat_amax</th>\n",
       "      <th>station_lon_amax</th>\n",
       "      <th>station_H_piano_strada_amax</th>\n",
       "      <th>station_H_mslm_amax</th>\n",
       "      <th>B13011_min_amin</th>\n",
       "      <th>B13011_max_amax</th>\n",
       "      <th>B13011_mean_mean</th>\n",
       "      <th>...</th>\n",
       "      <th>pol_value_skew</th>\n",
       "      <th>pol_value_kurtosis</th>\n",
       "      <th>pol_value_prev_1</th>\n",
       "      <th>pol_value_prev_2</th>\n",
       "      <th>pol_value_prev_3</th>\n",
       "      <th>pol_value_prev_4</th>\n",
       "      <th>pol_value_prev_5</th>\n",
       "      <th>pol_value_prev_6</th>\n",
       "      <th>pol_value_prev_7</th>\n",
       "      <th>pol_value_label</th>\n",
       "    </tr>\n",
       "    <tr>\n",
       "      <th>date</th>\n",
       "      <th></th>\n",
       "      <th></th>\n",
       "      <th></th>\n",
       "      <th></th>\n",
       "      <th></th>\n",
       "      <th></th>\n",
       "      <th></th>\n",
       "      <th></th>\n",
       "      <th></th>\n",
       "      <th></th>\n",
       "      <th></th>\n",
       "      <th></th>\n",
       "      <th></th>\n",
       "      <th></th>\n",
       "      <th></th>\n",
       "      <th></th>\n",
       "      <th></th>\n",
       "      <th></th>\n",
       "      <th></th>\n",
       "      <th></th>\n",
       "      <th></th>\n",
       "    </tr>\n",
       "  </thead>\n",
       "  <tbody>\n",
       "    <tr>\n",
       "      <th>2011-03-07 00:00:00+00:00</th>\n",
       "      <td>1</td>\n",
       "      <td>B48018</td>\n",
       "      <td>10.0</td>\n",
       "      <td>44.4914</td>\n",
       "      <td>11.3694</td>\n",
       "      <td>80.0</td>\n",
       "      <td>101.0</td>\n",
       "      <td>0.0</td>\n",
       "      <td>22.4</td>\n",
       "      <td>0.163866</td>\n",
       "      <td>...</td>\n",
       "      <td>0.0</td>\n",
       "      <td>0.0</td>\n",
       "      <td>0.0</td>\n",
       "      <td>0.0</td>\n",
       "      <td>0.0</td>\n",
       "      <td>0.0</td>\n",
       "      <td>0.0</td>\n",
       "      <td>0.0</td>\n",
       "      <td>0.0</td>\n",
       "      <td>0.0</td>\n",
       "    </tr>\n",
       "    <tr>\n",
       "      <th>2011-03-08 00:00:00+00:00</th>\n",
       "      <td>1</td>\n",
       "      <td>B48018</td>\n",
       "      <td>10.0</td>\n",
       "      <td>44.4914</td>\n",
       "      <td>11.3694</td>\n",
       "      <td>80.0</td>\n",
       "      <td>101.0</td>\n",
       "      <td>0.0</td>\n",
       "      <td>14.0</td>\n",
       "      <td>0.111261</td>\n",
       "      <td>...</td>\n",
       "      <td>0.0</td>\n",
       "      <td>0.0</td>\n",
       "      <td>0.0</td>\n",
       "      <td>0.0</td>\n",
       "      <td>0.0</td>\n",
       "      <td>0.0</td>\n",
       "      <td>0.0</td>\n",
       "      <td>0.0</td>\n",
       "      <td>0.0</td>\n",
       "      <td>0.0</td>\n",
       "    </tr>\n",
       "    <tr>\n",
       "      <th>2011-03-09 00:00:00+00:00</th>\n",
       "      <td>1</td>\n",
       "      <td>B48018</td>\n",
       "      <td>10.0</td>\n",
       "      <td>44.4914</td>\n",
       "      <td>11.3694</td>\n",
       "      <td>80.0</td>\n",
       "      <td>101.0</td>\n",
       "      <td>0.0</td>\n",
       "      <td>14.0</td>\n",
       "      <td>0.059832</td>\n",
       "      <td>...</td>\n",
       "      <td>0.0</td>\n",
       "      <td>0.0</td>\n",
       "      <td>0.0</td>\n",
       "      <td>0.0</td>\n",
       "      <td>0.0</td>\n",
       "      <td>0.0</td>\n",
       "      <td>0.0</td>\n",
       "      <td>0.0</td>\n",
       "      <td>0.0</td>\n",
       "      <td>0.0</td>\n",
       "    </tr>\n",
       "  </tbody>\n",
       "</table>\n",
       "<p>3 rows × 44 columns</p>\n",
       "</div>"
      ],
      "text/plain": [
       "                           station_id pol_var_id  week_amax  station_lat_amax  \\\n",
       "date                                                                            \n",
       "2011-03-07 00:00:00+00:00           1     B48018       10.0           44.4914   \n",
       "2011-03-08 00:00:00+00:00           1     B48018       10.0           44.4914   \n",
       "2011-03-09 00:00:00+00:00           1     B48018       10.0           44.4914   \n",
       "\n",
       "                           station_lon_amax  station_H_piano_strada_amax  \\\n",
       "date                                                                       \n",
       "2011-03-07 00:00:00+00:00           11.3694                         80.0   \n",
       "2011-03-08 00:00:00+00:00           11.3694                         80.0   \n",
       "2011-03-09 00:00:00+00:00           11.3694                         80.0   \n",
       "\n",
       "                           station_H_mslm_amax  B13011_min_amin  \\\n",
       "date                                                              \n",
       "2011-03-07 00:00:00+00:00                101.0              0.0   \n",
       "2011-03-08 00:00:00+00:00                101.0              0.0   \n",
       "2011-03-09 00:00:00+00:00                101.0              0.0   \n",
       "\n",
       "                           B13011_max_amax  B13011_mean_mean  ...  \\\n",
       "date                                                          ...   \n",
       "2011-03-07 00:00:00+00:00             22.4          0.163866  ...   \n",
       "2011-03-08 00:00:00+00:00             14.0          0.111261  ...   \n",
       "2011-03-09 00:00:00+00:00             14.0          0.059832  ...   \n",
       "\n",
       "                           pol_value_skew  pol_value_kurtosis  \\\n",
       "date                                                            \n",
       "2011-03-07 00:00:00+00:00             0.0                 0.0   \n",
       "2011-03-08 00:00:00+00:00             0.0                 0.0   \n",
       "2011-03-09 00:00:00+00:00             0.0                 0.0   \n",
       "\n",
       "                           pol_value_prev_1  pol_value_prev_2  \\\n",
       "date                                                            \n",
       "2011-03-07 00:00:00+00:00               0.0               0.0   \n",
       "2011-03-08 00:00:00+00:00               0.0               0.0   \n",
       "2011-03-09 00:00:00+00:00               0.0               0.0   \n",
       "\n",
       "                           pol_value_prev_3  pol_value_prev_4  \\\n",
       "date                                                            \n",
       "2011-03-07 00:00:00+00:00               0.0               0.0   \n",
       "2011-03-08 00:00:00+00:00               0.0               0.0   \n",
       "2011-03-09 00:00:00+00:00               0.0               0.0   \n",
       "\n",
       "                           pol_value_prev_5  pol_value_prev_6  \\\n",
       "date                                                            \n",
       "2011-03-07 00:00:00+00:00               0.0               0.0   \n",
       "2011-03-08 00:00:00+00:00               0.0               0.0   \n",
       "2011-03-09 00:00:00+00:00               0.0               0.0   \n",
       "\n",
       "                           pol_value_prev_7  pol_value_label  \n",
       "date                                                          \n",
       "2011-03-07 00:00:00+00:00               0.0              0.0  \n",
       "2011-03-08 00:00:00+00:00               0.0              0.0  \n",
       "2011-03-09 00:00:00+00:00               0.0              0.0  \n",
       "\n",
       "[3 rows x 44 columns]"
      ]
     },
     "execution_count": 77,
     "metadata": {},
     "output_type": "execute_result"
    }
   ],
   "source": [
    "# Set index and drop nan\n",
    "\n",
    "dataset_df.set_index(DATE_COL, inplace=True)\n",
    "dataset_df.dropna(inplace=True)\n",
    "print(dataset_df.shape)\n",
    "dataset_df.head(3)"
   ]
  },
  {
   "cell_type": "markdown",
   "id": "6c1944f7",
   "metadata": {},
   "source": [
    "<h3>4. Preprocess Data</h3>"
   ]
  },
  {
   "cell_type": "markdown",
   "id": "2f1bce8b",
   "metadata": {},
   "source": [
    "<h4>4.1 Add station & bcode 1-hot encoding features</h4>"
   ]
  },
  {
   "cell_type": "code",
   "execution_count": 78,
   "id": "b9ac8b62",
   "metadata": {},
   "outputs": [
    {
     "name": "stdout",
     "output_type": "stream",
     "text": [
      "(58663, 61)\n"
     ]
    },
    {
     "data": {
      "text/html": [
       "<div>\n",
       "<style scoped>\n",
       "    .dataframe tbody tr th:only-of-type {\n",
       "        vertical-align: middle;\n",
       "    }\n",
       "\n",
       "    .dataframe tbody tr th {\n",
       "        vertical-align: top;\n",
       "    }\n",
       "\n",
       "    .dataframe thead th {\n",
       "        text-align: right;\n",
       "    }\n",
       "</style>\n",
       "<table border=\"1\" class=\"dataframe\">\n",
       "  <thead>\n",
       "    <tr style=\"text-align: right;\">\n",
       "      <th></th>\n",
       "      <th>station_id</th>\n",
       "      <th>pol_var_id</th>\n",
       "      <th>week_amax</th>\n",
       "      <th>station_lat_amax</th>\n",
       "      <th>station_lon_amax</th>\n",
       "      <th>station_H_piano_strada_amax</th>\n",
       "      <th>station_H_mslm_amax</th>\n",
       "      <th>B13011_min_amin</th>\n",
       "      <th>B13011_max_amax</th>\n",
       "      <th>B13011_mean_mean</th>\n",
       "      <th>...</th>\n",
       "      <th>station_id_9</th>\n",
       "      <th>station_id_10</th>\n",
       "      <th>station_id_11</th>\n",
       "      <th>station_id_13</th>\n",
       "      <th>pol_var_id_B48007</th>\n",
       "      <th>pol_var_id_B48011</th>\n",
       "      <th>pol_var_id_B48018</th>\n",
       "      <th>pol_var_id_B48023</th>\n",
       "      <th>pol_var_id_B48025</th>\n",
       "      <th>pol_var_id_B48041</th>\n",
       "    </tr>\n",
       "    <tr>\n",
       "      <th>date</th>\n",
       "      <th></th>\n",
       "      <th></th>\n",
       "      <th></th>\n",
       "      <th></th>\n",
       "      <th></th>\n",
       "      <th></th>\n",
       "      <th></th>\n",
       "      <th></th>\n",
       "      <th></th>\n",
       "      <th></th>\n",
       "      <th></th>\n",
       "      <th></th>\n",
       "      <th></th>\n",
       "      <th></th>\n",
       "      <th></th>\n",
       "      <th></th>\n",
       "      <th></th>\n",
       "      <th></th>\n",
       "      <th></th>\n",
       "      <th></th>\n",
       "      <th></th>\n",
       "    </tr>\n",
       "  </thead>\n",
       "  <tbody>\n",
       "    <tr>\n",
       "      <th>2011-03-07 00:00:00+00:00</th>\n",
       "      <td>1</td>\n",
       "      <td>B48018</td>\n",
       "      <td>10.0</td>\n",
       "      <td>44.4914</td>\n",
       "      <td>11.3694</td>\n",
       "      <td>80.0</td>\n",
       "      <td>101.0</td>\n",
       "      <td>0.0</td>\n",
       "      <td>22.4</td>\n",
       "      <td>0.163866</td>\n",
       "      <td>...</td>\n",
       "      <td>0</td>\n",
       "      <td>0</td>\n",
       "      <td>0</td>\n",
       "      <td>0</td>\n",
       "      <td>0</td>\n",
       "      <td>0</td>\n",
       "      <td>1</td>\n",
       "      <td>0</td>\n",
       "      <td>0</td>\n",
       "      <td>0</td>\n",
       "    </tr>\n",
       "    <tr>\n",
       "      <th>2011-03-08 00:00:00+00:00</th>\n",
       "      <td>1</td>\n",
       "      <td>B48018</td>\n",
       "      <td>10.0</td>\n",
       "      <td>44.4914</td>\n",
       "      <td>11.3694</td>\n",
       "      <td>80.0</td>\n",
       "      <td>101.0</td>\n",
       "      <td>0.0</td>\n",
       "      <td>14.0</td>\n",
       "      <td>0.111261</td>\n",
       "      <td>...</td>\n",
       "      <td>0</td>\n",
       "      <td>0</td>\n",
       "      <td>0</td>\n",
       "      <td>0</td>\n",
       "      <td>0</td>\n",
       "      <td>0</td>\n",
       "      <td>1</td>\n",
       "      <td>0</td>\n",
       "      <td>0</td>\n",
       "      <td>0</td>\n",
       "    </tr>\n",
       "    <tr>\n",
       "      <th>2011-03-09 00:00:00+00:00</th>\n",
       "      <td>1</td>\n",
       "      <td>B48018</td>\n",
       "      <td>10.0</td>\n",
       "      <td>44.4914</td>\n",
       "      <td>11.3694</td>\n",
       "      <td>80.0</td>\n",
       "      <td>101.0</td>\n",
       "      <td>0.0</td>\n",
       "      <td>14.0</td>\n",
       "      <td>0.059832</td>\n",
       "      <td>...</td>\n",
       "      <td>0</td>\n",
       "      <td>0</td>\n",
       "      <td>0</td>\n",
       "      <td>0</td>\n",
       "      <td>0</td>\n",
       "      <td>0</td>\n",
       "      <td>1</td>\n",
       "      <td>0</td>\n",
       "      <td>0</td>\n",
       "      <td>0</td>\n",
       "    </tr>\n",
       "  </tbody>\n",
       "</table>\n",
       "<p>3 rows × 61 columns</p>\n",
       "</div>"
      ],
      "text/plain": [
       "                           station_id pol_var_id  week_amax  station_lat_amax  \\\n",
       "date                                                                            \n",
       "2011-03-07 00:00:00+00:00           1     B48018       10.0           44.4914   \n",
       "2011-03-08 00:00:00+00:00           1     B48018       10.0           44.4914   \n",
       "2011-03-09 00:00:00+00:00           1     B48018       10.0           44.4914   \n",
       "\n",
       "                           station_lon_amax  station_H_piano_strada_amax  \\\n",
       "date                                                                       \n",
       "2011-03-07 00:00:00+00:00           11.3694                         80.0   \n",
       "2011-03-08 00:00:00+00:00           11.3694                         80.0   \n",
       "2011-03-09 00:00:00+00:00           11.3694                         80.0   \n",
       "\n",
       "                           station_H_mslm_amax  B13011_min_amin  \\\n",
       "date                                                              \n",
       "2011-03-07 00:00:00+00:00                101.0              0.0   \n",
       "2011-03-08 00:00:00+00:00                101.0              0.0   \n",
       "2011-03-09 00:00:00+00:00                101.0              0.0   \n",
       "\n",
       "                           B13011_max_amax  B13011_mean_mean  ...  \\\n",
       "date                                                          ...   \n",
       "2011-03-07 00:00:00+00:00             22.4          0.163866  ...   \n",
       "2011-03-08 00:00:00+00:00             14.0          0.111261  ...   \n",
       "2011-03-09 00:00:00+00:00             14.0          0.059832  ...   \n",
       "\n",
       "                           station_id_9  station_id_10  station_id_11  \\\n",
       "date                                                                    \n",
       "2011-03-07 00:00:00+00:00             0              0              0   \n",
       "2011-03-08 00:00:00+00:00             0              0              0   \n",
       "2011-03-09 00:00:00+00:00             0              0              0   \n",
       "\n",
       "                           station_id_13  pol_var_id_B48007  \\\n",
       "date                                                          \n",
       "2011-03-07 00:00:00+00:00              0                  0   \n",
       "2011-03-08 00:00:00+00:00              0                  0   \n",
       "2011-03-09 00:00:00+00:00              0                  0   \n",
       "\n",
       "                           pol_var_id_B48011  pol_var_id_B48018  \\\n",
       "date                                                              \n",
       "2011-03-07 00:00:00+00:00                  0                  1   \n",
       "2011-03-08 00:00:00+00:00                  0                  1   \n",
       "2011-03-09 00:00:00+00:00                  0                  1   \n",
       "\n",
       "                           pol_var_id_B48023  pol_var_id_B48025  \\\n",
       "date                                                              \n",
       "2011-03-07 00:00:00+00:00                  0                  0   \n",
       "2011-03-08 00:00:00+00:00                  0                  0   \n",
       "2011-03-09 00:00:00+00:00                  0                  0   \n",
       "\n",
       "                           pol_var_id_B48041  \n",
       "date                                          \n",
       "2011-03-07 00:00:00+00:00                  0  \n",
       "2011-03-08 00:00:00+00:00                  0  \n",
       "2011-03-09 00:00:00+00:00                  0  \n",
       "\n",
       "[3 rows x 61 columns]"
      ]
     },
     "execution_count": 78,
     "metadata": {},
     "output_type": "execute_result"
    }
   ],
   "source": [
    "# Add 1-hot encoding\n",
    "\n",
    "# extract 1-hot encoding\n",
    "stations_one_hot_encoded = pd.get_dummies(dataset_df['station_id'], prefix='station_id')\n",
    "pollen_one_hot_encoded = pd.get_dummies(dataset_df['pol_var_id'], prefix='pol_var_id')\n",
    "\n",
    "# add to df\n",
    "dataset_df = pd.concat([dataset_df, stations_one_hot_encoded], axis=1)\n",
    "dataset_df = pd.concat([dataset_df, pollen_one_hot_encoded], axis=1)\n",
    "print(dataset_df.shape)\n",
    "dataset_df.head(3)"
   ]
  },
  {
   "cell_type": "code",
   "execution_count": 79,
   "id": "d70c10d3",
   "metadata": {},
   "outputs": [
    {
     "data": {
      "text/plain": [
       "58"
      ]
     },
     "execution_count": 79,
     "metadata": {},
     "output_type": "execute_result"
    }
   ],
   "source": [
    "# ADD to Features\n",
    "\n",
    "FEATS = ORIGINAL_FEATS + stations_one_hot_encoded.columns.values.tolist() + pollen_one_hot_encoded.columns.values.tolist()\n",
    "#FEATS = ORIGINAL_FEATS\n",
    "N_FEATS = len(FEATS)#+1\n",
    "N_FEATS\n"
   ]
  },
  {
   "cell_type": "markdown",
   "id": "61114bfd",
   "metadata": {},
   "source": [
    "<h4>4.2 Normalize Meteo Features (on columns)</h4>"
   ]
  },
  {
   "cell_type": "code",
   "execution_count": 80,
   "id": "20e9087e",
   "metadata": {},
   "outputs": [
    {
     "name": "stdout",
     "output_type": "stream",
     "text": [
      "Max cols: [53, 45, 12, 94, 115, 0, 116, 0, 3, 933, -2, 1084, 356, 372, 60514, 22, 41, 29, 14, 417, 10, 55, 81, 38, 219, 2, 2]\n",
      "(58663, 61)\n"
     ]
    },
    {
     "data": {
      "text/html": [
       "<div>\n",
       "<style scoped>\n",
       "    .dataframe tbody tr th:only-of-type {\n",
       "        vertical-align: middle;\n",
       "    }\n",
       "\n",
       "    .dataframe tbody tr th {\n",
       "        vertical-align: top;\n",
       "    }\n",
       "\n",
       "    .dataframe thead th {\n",
       "        text-align: right;\n",
       "    }\n",
       "</style>\n",
       "<table border=\"1\" class=\"dataframe\">\n",
       "  <thead>\n",
       "    <tr style=\"text-align: right;\">\n",
       "      <th></th>\n",
       "      <th>station_id</th>\n",
       "      <th>pol_var_id</th>\n",
       "      <th>week_amax</th>\n",
       "      <th>station_lat_amax</th>\n",
       "      <th>station_lon_amax</th>\n",
       "      <th>station_H_piano_strada_amax</th>\n",
       "      <th>station_H_mslm_amax</th>\n",
       "      <th>B13011_min_amin</th>\n",
       "      <th>B13011_max_amax</th>\n",
       "      <th>B13011_mean_mean</th>\n",
       "      <th>...</th>\n",
       "      <th>station_id_9</th>\n",
       "      <th>station_id_10</th>\n",
       "      <th>station_id_11</th>\n",
       "      <th>station_id_13</th>\n",
       "      <th>pol_var_id_B48007</th>\n",
       "      <th>pol_var_id_B48011</th>\n",
       "      <th>pol_var_id_B48018</th>\n",
       "      <th>pol_var_id_B48023</th>\n",
       "      <th>pol_var_id_B48025</th>\n",
       "      <th>pol_var_id_B48041</th>\n",
       "    </tr>\n",
       "    <tr>\n",
       "      <th>date</th>\n",
       "      <th></th>\n",
       "      <th></th>\n",
       "      <th></th>\n",
       "      <th></th>\n",
       "      <th></th>\n",
       "      <th></th>\n",
       "      <th></th>\n",
       "      <th></th>\n",
       "      <th></th>\n",
       "      <th></th>\n",
       "      <th></th>\n",
       "      <th></th>\n",
       "      <th></th>\n",
       "      <th></th>\n",
       "      <th></th>\n",
       "      <th></th>\n",
       "      <th></th>\n",
       "      <th></th>\n",
       "      <th></th>\n",
       "      <th></th>\n",
       "      <th></th>\n",
       "    </tr>\n",
       "  </thead>\n",
       "  <tbody>\n",
       "    <tr>\n",
       "      <th>2011-03-07 00:00:00+00:00</th>\n",
       "      <td>1</td>\n",
       "      <td>B48018</td>\n",
       "      <td>0.022727</td>\n",
       "      <td>0.440889</td>\n",
       "      <td>0.580657</td>\n",
       "      <td>0.847826</td>\n",
       "      <td>0.847826</td>\n",
       "      <td>0.0</td>\n",
       "      <td>0.192440</td>\n",
       "      <td>0.208824</td>\n",
       "      <td>...</td>\n",
       "      <td>0</td>\n",
       "      <td>0</td>\n",
       "      <td>0</td>\n",
       "      <td>0</td>\n",
       "      <td>0</td>\n",
       "      <td>0</td>\n",
       "      <td>1</td>\n",
       "      <td>0</td>\n",
       "      <td>0</td>\n",
       "      <td>0</td>\n",
       "    </tr>\n",
       "    <tr>\n",
       "      <th>2011-03-08 00:00:00+00:00</th>\n",
       "      <td>1</td>\n",
       "      <td>B48018</td>\n",
       "      <td>0.022727</td>\n",
       "      <td>0.440889</td>\n",
       "      <td>0.580657</td>\n",
       "      <td>0.847826</td>\n",
       "      <td>0.847826</td>\n",
       "      <td>0.0</td>\n",
       "      <td>0.120275</td>\n",
       "      <td>0.141786</td>\n",
       "      <td>...</td>\n",
       "      <td>0</td>\n",
       "      <td>0</td>\n",
       "      <td>0</td>\n",
       "      <td>0</td>\n",
       "      <td>0</td>\n",
       "      <td>0</td>\n",
       "      <td>1</td>\n",
       "      <td>0</td>\n",
       "      <td>0</td>\n",
       "      <td>0</td>\n",
       "    </tr>\n",
       "    <tr>\n",
       "      <th>2011-03-09 00:00:00+00:00</th>\n",
       "      <td>1</td>\n",
       "      <td>B48018</td>\n",
       "      <td>0.022727</td>\n",
       "      <td>0.440889</td>\n",
       "      <td>0.580657</td>\n",
       "      <td>0.847826</td>\n",
       "      <td>0.847826</td>\n",
       "      <td>0.0</td>\n",
       "      <td>0.120275</td>\n",
       "      <td>0.076248</td>\n",
       "      <td>...</td>\n",
       "      <td>0</td>\n",
       "      <td>0</td>\n",
       "      <td>0</td>\n",
       "      <td>0</td>\n",
       "      <td>0</td>\n",
       "      <td>0</td>\n",
       "      <td>1</td>\n",
       "      <td>0</td>\n",
       "      <td>0</td>\n",
       "      <td>0</td>\n",
       "    </tr>\n",
       "  </tbody>\n",
       "</table>\n",
       "<p>3 rows × 61 columns</p>\n",
       "</div>"
      ],
      "text/plain": [
       "                           station_id pol_var_id  week_amax  station_lat_amax  \\\n",
       "date                                                                            \n",
       "2011-03-07 00:00:00+00:00           1     B48018   0.022727          0.440889   \n",
       "2011-03-08 00:00:00+00:00           1     B48018   0.022727          0.440889   \n",
       "2011-03-09 00:00:00+00:00           1     B48018   0.022727          0.440889   \n",
       "\n",
       "                           station_lon_amax  station_H_piano_strada_amax  \\\n",
       "date                                                                       \n",
       "2011-03-07 00:00:00+00:00          0.580657                     0.847826   \n",
       "2011-03-08 00:00:00+00:00          0.580657                     0.847826   \n",
       "2011-03-09 00:00:00+00:00          0.580657                     0.847826   \n",
       "\n",
       "                           station_H_mslm_amax  B13011_min_amin  \\\n",
       "date                                                              \n",
       "2011-03-07 00:00:00+00:00             0.847826              0.0   \n",
       "2011-03-08 00:00:00+00:00             0.847826              0.0   \n",
       "2011-03-09 00:00:00+00:00             0.847826              0.0   \n",
       "\n",
       "                           B13011_max_amax  B13011_mean_mean  ...  \\\n",
       "date                                                          ...   \n",
       "2011-03-07 00:00:00+00:00         0.192440          0.208824  ...   \n",
       "2011-03-08 00:00:00+00:00         0.120275          0.141786  ...   \n",
       "2011-03-09 00:00:00+00:00         0.120275          0.076248  ...   \n",
       "\n",
       "                           station_id_9  station_id_10  station_id_11  \\\n",
       "date                                                                    \n",
       "2011-03-07 00:00:00+00:00             0              0              0   \n",
       "2011-03-08 00:00:00+00:00             0              0              0   \n",
       "2011-03-09 00:00:00+00:00             0              0              0   \n",
       "\n",
       "                           station_id_13  pol_var_id_B48007  \\\n",
       "date                                                          \n",
       "2011-03-07 00:00:00+00:00              0                  0   \n",
       "2011-03-08 00:00:00+00:00              0                  0   \n",
       "2011-03-09 00:00:00+00:00              0                  0   \n",
       "\n",
       "                           pol_var_id_B48011  pol_var_id_B48018  \\\n",
       "date                                                              \n",
       "2011-03-07 00:00:00+00:00                  0                  1   \n",
       "2011-03-08 00:00:00+00:00                  0                  1   \n",
       "2011-03-09 00:00:00+00:00                  0                  1   \n",
       "\n",
       "                           pol_var_id_B48023  pol_var_id_B48025  \\\n",
       "date                                                              \n",
       "2011-03-07 00:00:00+00:00                  0                  0   \n",
       "2011-03-08 00:00:00+00:00                  0                  0   \n",
       "2011-03-09 00:00:00+00:00                  0                  0   \n",
       "\n",
       "                           pol_var_id_B48041  \n",
       "date                                          \n",
       "2011-03-07 00:00:00+00:00                  0  \n",
       "2011-03-08 00:00:00+00:00                  0  \n",
       "2011-03-09 00:00:00+00:00                  0  \n",
       "\n",
       "[3 rows x 61 columns]"
      ]
     },
     "execution_count": 80,
     "metadata": {},
     "output_type": "execute_result"
    }
   ],
   "source": [
    "# Normalize all cols except for pollen ones; Save max cols: multiply predicted values to get not-normalized values\n",
    "\n",
    "cols_max = []\n",
    "for col in METEO_FEATS:\n",
    "    scaler = MinMaxScaler()\n",
    "    dataset_df[col] = pd.DataFrame(scaler.fit_transform(dataset_df[[col]])).values\n",
    "    cols_max.append(int(scaler.data_max_))\n",
    "print(\"Max cols:\", cols_max)\n",
    "print(dataset_df.shape)\n",
    "dataset_df.head(3)"
   ]
  },
  {
   "cell_type": "markdown",
   "id": "1e00a294",
   "metadata": {},
   "source": [
    "<h4>4.3 Normalize Pollen Features & Label (aggregating by pol_var_id)</h4>"
   ]
  },
  {
   "cell_type": "markdown",
   "id": "d301ad57",
   "metadata": {},
   "source": [
    "Dataset contains the previous pollen value as feature and the next pollen value as label.<br>\n",
    "We can normalize with a min-max-scaler or in a range interval."
   ]
  },
  {
   "cell_type": "code",
   "execution_count": 81,
   "id": "0d1b03c6",
   "metadata": {},
   "outputs": [
    {
     "data": {
      "application/vnd.jupyter.widget-view+json": {
       "model_id": "4779d49b81854f63b47ef1d575033536",
       "version_major": 2,
       "version_minor": 0
      },
      "text/plain": [
       "  0%|          | 0/14 [00:00<?, ?it/s]"
      ]
     },
     "metadata": {},
     "output_type": "display_data"
    }
   ],
   "source": [
    "# Create a 5-values interval for pollen values\n",
    "\n",
    "for col in tqdm(POLLEN_FEATS):\n",
    "    range_df = dataset_df[['pol_var_id', col]].groupby('pol_var_id').agg(['min', 'max'])\n",
    "    ranges = {}\n",
    "    for index, values in zip(range_df.index, range_df.values):\n",
    "        ranges[index] = {'min': values[0], 'max': values[1]}        \n",
    "    dataset_df[col] = dataset_df.apply(lambda x: _set_range_value(x, ranges, 'pol_var_id', col, K_INTERVAL), \n",
    "                                       axis=1)\n",
    "dataset_df[LABEL_COL] = dataset_df.apply(lambda x: _set_range_value(x, ranges, 'pol_var_id', LABEL_COL, \n",
    "                                                                K_INTERVAL), axis=1)"
   ]
  },
  {
   "cell_type": "markdown",
   "id": "baa21397",
   "metadata": {},
   "source": [
    "<h4>4.4 Sort Data</h4>"
   ]
  },
  {
   "cell_type": "code",
   "execution_count": 82,
   "id": "b55e3d8f",
   "metadata": {},
   "outputs": [],
   "source": [
    "# Set index to datetime\n",
    "\n",
    "dataset_df.index = pd.to_datetime(dataset_df.index)"
   ]
  },
  {
   "cell_type": "code",
   "execution_count": 83,
   "id": "12bd24a7",
   "metadata": {},
   "outputs": [
    {
     "name": "stdout",
     "output_type": "stream",
     "text": [
      "(58663, 61)\n"
     ]
    },
    {
     "data": {
      "text/html": [
       "<div>\n",
       "<style scoped>\n",
       "    .dataframe tbody tr th:only-of-type {\n",
       "        vertical-align: middle;\n",
       "    }\n",
       "\n",
       "    .dataframe tbody tr th {\n",
       "        vertical-align: top;\n",
       "    }\n",
       "\n",
       "    .dataframe thead th {\n",
       "        text-align: right;\n",
       "    }\n",
       "</style>\n",
       "<table border=\"1\" class=\"dataframe\">\n",
       "  <thead>\n",
       "    <tr style=\"text-align: right;\">\n",
       "      <th></th>\n",
       "      <th>station_id</th>\n",
       "      <th>pol_var_id</th>\n",
       "      <th>week_amax</th>\n",
       "      <th>station_lat_amax</th>\n",
       "      <th>station_lon_amax</th>\n",
       "      <th>station_H_piano_strada_amax</th>\n",
       "      <th>station_H_mslm_amax</th>\n",
       "      <th>B13011_min_amin</th>\n",
       "      <th>B13011_max_amax</th>\n",
       "      <th>B13011_mean_mean</th>\n",
       "      <th>...</th>\n",
       "      <th>station_id_9</th>\n",
       "      <th>station_id_10</th>\n",
       "      <th>station_id_11</th>\n",
       "      <th>station_id_13</th>\n",
       "      <th>pol_var_id_B48007</th>\n",
       "      <th>pol_var_id_B48011</th>\n",
       "      <th>pol_var_id_B48018</th>\n",
       "      <th>pol_var_id_B48023</th>\n",
       "      <th>pol_var_id_B48025</th>\n",
       "      <th>pol_var_id_B48041</th>\n",
       "    </tr>\n",
       "    <tr>\n",
       "      <th>date</th>\n",
       "      <th></th>\n",
       "      <th></th>\n",
       "      <th></th>\n",
       "      <th></th>\n",
       "      <th></th>\n",
       "      <th></th>\n",
       "      <th></th>\n",
       "      <th></th>\n",
       "      <th></th>\n",
       "      <th></th>\n",
       "      <th></th>\n",
       "      <th></th>\n",
       "      <th></th>\n",
       "      <th></th>\n",
       "      <th></th>\n",
       "      <th></th>\n",
       "      <th></th>\n",
       "      <th></th>\n",
       "      <th></th>\n",
       "      <th></th>\n",
       "      <th></th>\n",
       "    </tr>\n",
       "  </thead>\n",
       "  <tbody>\n",
       "    <tr>\n",
       "      <th>2011-03-07 00:00:00+00:00</th>\n",
       "      <td>1</td>\n",
       "      <td>B48018</td>\n",
       "      <td>0.022727</td>\n",
       "      <td>0.440889</td>\n",
       "      <td>0.580657</td>\n",
       "      <td>0.847826</td>\n",
       "      <td>0.847826</td>\n",
       "      <td>0.0</td>\n",
       "      <td>0.192440</td>\n",
       "      <td>0.208824</td>\n",
       "      <td>...</td>\n",
       "      <td>0</td>\n",
       "      <td>0</td>\n",
       "      <td>0</td>\n",
       "      <td>0</td>\n",
       "      <td>0</td>\n",
       "      <td>0</td>\n",
       "      <td>1</td>\n",
       "      <td>0</td>\n",
       "      <td>0</td>\n",
       "      <td>0</td>\n",
       "    </tr>\n",
       "    <tr>\n",
       "      <th>2011-03-08 00:00:00+00:00</th>\n",
       "      <td>1</td>\n",
       "      <td>B48018</td>\n",
       "      <td>0.022727</td>\n",
       "      <td>0.440889</td>\n",
       "      <td>0.580657</td>\n",
       "      <td>0.847826</td>\n",
       "      <td>0.847826</td>\n",
       "      <td>0.0</td>\n",
       "      <td>0.120275</td>\n",
       "      <td>0.141786</td>\n",
       "      <td>...</td>\n",
       "      <td>0</td>\n",
       "      <td>0</td>\n",
       "      <td>0</td>\n",
       "      <td>0</td>\n",
       "      <td>0</td>\n",
       "      <td>0</td>\n",
       "      <td>1</td>\n",
       "      <td>0</td>\n",
       "      <td>0</td>\n",
       "      <td>0</td>\n",
       "    </tr>\n",
       "    <tr>\n",
       "      <th>2011-03-09 00:00:00+00:00</th>\n",
       "      <td>1</td>\n",
       "      <td>B48018</td>\n",
       "      <td>0.022727</td>\n",
       "      <td>0.440889</td>\n",
       "      <td>0.580657</td>\n",
       "      <td>0.847826</td>\n",
       "      <td>0.847826</td>\n",
       "      <td>0.0</td>\n",
       "      <td>0.120275</td>\n",
       "      <td>0.076248</td>\n",
       "      <td>...</td>\n",
       "      <td>0</td>\n",
       "      <td>0</td>\n",
       "      <td>0</td>\n",
       "      <td>0</td>\n",
       "      <td>0</td>\n",
       "      <td>0</td>\n",
       "      <td>1</td>\n",
       "      <td>0</td>\n",
       "      <td>0</td>\n",
       "      <td>0</td>\n",
       "    </tr>\n",
       "  </tbody>\n",
       "</table>\n",
       "<p>3 rows × 61 columns</p>\n",
       "</div>"
      ],
      "text/plain": [
       "                           station_id pol_var_id  week_amax  station_lat_amax  \\\n",
       "date                                                                            \n",
       "2011-03-07 00:00:00+00:00           1     B48018   0.022727          0.440889   \n",
       "2011-03-08 00:00:00+00:00           1     B48018   0.022727          0.440889   \n",
       "2011-03-09 00:00:00+00:00           1     B48018   0.022727          0.440889   \n",
       "\n",
       "                           station_lon_amax  station_H_piano_strada_amax  \\\n",
       "date                                                                       \n",
       "2011-03-07 00:00:00+00:00          0.580657                     0.847826   \n",
       "2011-03-08 00:00:00+00:00          0.580657                     0.847826   \n",
       "2011-03-09 00:00:00+00:00          0.580657                     0.847826   \n",
       "\n",
       "                           station_H_mslm_amax  B13011_min_amin  \\\n",
       "date                                                              \n",
       "2011-03-07 00:00:00+00:00             0.847826              0.0   \n",
       "2011-03-08 00:00:00+00:00             0.847826              0.0   \n",
       "2011-03-09 00:00:00+00:00             0.847826              0.0   \n",
       "\n",
       "                           B13011_max_amax  B13011_mean_mean  ...  \\\n",
       "date                                                          ...   \n",
       "2011-03-07 00:00:00+00:00         0.192440          0.208824  ...   \n",
       "2011-03-08 00:00:00+00:00         0.120275          0.141786  ...   \n",
       "2011-03-09 00:00:00+00:00         0.120275          0.076248  ...   \n",
       "\n",
       "                           station_id_9  station_id_10  station_id_11  \\\n",
       "date                                                                    \n",
       "2011-03-07 00:00:00+00:00             0              0              0   \n",
       "2011-03-08 00:00:00+00:00             0              0              0   \n",
       "2011-03-09 00:00:00+00:00             0              0              0   \n",
       "\n",
       "                           station_id_13  pol_var_id_B48007  \\\n",
       "date                                                          \n",
       "2011-03-07 00:00:00+00:00              0                  0   \n",
       "2011-03-08 00:00:00+00:00              0                  0   \n",
       "2011-03-09 00:00:00+00:00              0                  0   \n",
       "\n",
       "                           pol_var_id_B48011  pol_var_id_B48018  \\\n",
       "date                                                              \n",
       "2011-03-07 00:00:00+00:00                  0                  1   \n",
       "2011-03-08 00:00:00+00:00                  0                  1   \n",
       "2011-03-09 00:00:00+00:00                  0                  1   \n",
       "\n",
       "                           pol_var_id_B48023  pol_var_id_B48025  \\\n",
       "date                                                              \n",
       "2011-03-07 00:00:00+00:00                  0                  0   \n",
       "2011-03-08 00:00:00+00:00                  0                  0   \n",
       "2011-03-09 00:00:00+00:00                  0                  0   \n",
       "\n",
       "                           pol_var_id_B48041  \n",
       "date                                          \n",
       "2011-03-07 00:00:00+00:00                  0  \n",
       "2011-03-08 00:00:00+00:00                  0  \n",
       "2011-03-09 00:00:00+00:00                  0  \n",
       "\n",
       "[3 rows x 61 columns]"
      ]
     },
     "execution_count": 83,
     "metadata": {},
     "output_type": "execute_result"
    }
   ],
   "source": [
    "# Sort\n",
    "\n",
    "dataset_df.sort_values(by=['station_id', 'pol_var_id', 'date'], inplace=True)\n",
    "print(dataset_df.shape)\n",
    "dataset_df.head(3)"
   ]
  },
  {
   "cell_type": "markdown",
   "id": "3d755189",
   "metadata": {},
   "source": [
    "<h4>4.5 Check Data</h4>"
   ]
  },
  {
   "cell_type": "code",
   "execution_count": 84,
   "id": "154dcef6",
   "metadata": {},
   "outputs": [
    {
     "data": {
      "image/png": "[encoded data removed]",
      "text/plain": [
       "<Figure size 1500x500 with 1 Axes>"
      ]
     },
     "metadata": {},
     "output_type": "display_data"
    }
   ],
   "source": [
    "# Plot trends\n",
    "\n",
    "plt.figure(figsize=(15, 5))\n",
    "plt.title(\"Cluster TSD Trend\")\n",
    "for station_id, pol_var_id in dataset_df[['station_id', 'pol_var_id']].drop_duplicates().values:\n",
    "    df = dataset_df[(dataset_df['station_id']==station_id) & (dataset_df['pol_var_id']==pol_var_id)]\n",
    "    df.sort_index(inplace=True)\n",
    "    plt.plot(df.index, df[LABEL_COL])\n",
    "plt.show()"
   ]
  },
  {
   "cell_type": "code",
   "execution_count": null,
   "id": "486950d6",
   "metadata": {},
   "outputs": [],
   "source": []
  },
  {
   "cell_type": "markdown",
   "id": "3bdfb242",
   "metadata": {},
   "source": [
    "<h3>5. Create Train, Val, Test Datasets</h3>"
   ]
  },
  {
   "cell_type": "markdown",
   "id": "08601bdc",
   "metadata": {},
   "source": [
    "We can use:\n",
    "- data from 2011 to 2019 included as training set\n",
    "- data of 2020 as validation set\n",
    "- data of 2021 as test set"
   ]
  },
  {
   "cell_type": "code",
   "execution_count": 85,
   "id": "cad90015",
   "metadata": {},
   "outputs": [
    {
     "name": "stdout",
     "output_type": "stream",
     "text": [
      "Data from: 2011-03-07 00:00:00+00:00 to: 2021-07-01 00:00:00+00:00\n"
     ]
    }
   ],
   "source": [
    "# Print period\n",
    "\n",
    "print(\"Data from: {} to: {}\".format(dataset_df.index.min(), dataset_df.index.max()))"
   ]
  },
  {
   "cell_type": "code",
   "execution_count": 86,
   "id": "8c4810f6",
   "metadata": {},
   "outputs": [
    {
     "data": {
      "text/plain": [
       "((48748, 61), (4879, 61), (5036, 61))"
      ]
     },
     "execution_count": 86,
     "metadata": {},
     "output_type": "execute_result"
    }
   ],
   "source": [
    "# Split df into train and test sets\n",
    "\n",
    "train_df = dataset_df[dataset_df.index < pd.to_datetime('2018-12-31 00:00:00+00:00')]\n",
    "val_df = dataset_df[(dataset_df.index > pd.to_datetime('2018-12-31 00:00:00+00:00')) & \n",
    "                    (dataset_df.index < pd.to_datetime('2019-12-31 00:00:00+00:00'))]\n",
    "test_df = dataset_df[(dataset_df.index > pd.to_datetime('2019-12-31 00:00:00+00:00')) & \n",
    "                     (dataset_df.index < pd.to_datetime('2021-12-31 00:00:00+00:00'))]\n",
    "\n",
    "train_df.shape, val_df.shape, test_df.shape"
   ]
  },
  {
   "cell_type": "code",
   "execution_count": 87,
   "id": "62ff57b1",
   "metadata": {},
   "outputs": [
    {
     "data": {
      "text/plain": [
       "((48748, 58), (4879, 58), (5036, 58))"
      ]
     },
     "execution_count": 87,
     "metadata": {},
     "output_type": "execute_result"
    }
   ],
   "source": [
    "# Split into feats and labels\n",
    "\n",
    "train_X, train_y = train_df[FEATS].values, train_df[LABEL_COL]\n",
    "val_X, val_y = val_df[FEATS].values, val_df[LABEL_COL]\n",
    "test_X, test_y = test_df[FEATS].values, test_df[LABEL_COL]\n",
    "\n",
    "train_X.shape, val_X.shape, test_X.shape"
   ]
  },
  {
   "cell_type": "code",
   "execution_count": 88,
   "id": "88ff7a81",
   "metadata": {},
   "outputs": [
    {
     "data": {
      "text/plain": [
       "((48748, 1, 58), (4879, 1, 58), (5036, 1, 58))"
      ]
     },
     "execution_count": 88,
     "metadata": {},
     "output_type": "execute_result"
    }
   ],
   "source": [
    "# Reshape X-inputs to be 3D for LSTM [samples, timesteps, features]\n",
    "\n",
    "train_X = train_X.reshape((train_X.shape[0], 1, train_X.shape[1]))\n",
    "val_X = val_X.reshape((val_X.shape[0], 1, val_X.shape[1]))\n",
    "test_X = test_X.reshape((test_X.shape[0], 1, test_X.shape[1]))\n",
    "\n",
    "train_X.shape, val_X.shape, test_X.shape"
   ]
  },
  {
   "cell_type": "code",
   "execution_count": 89,
   "id": "fb4a0f05",
   "metadata": {},
   "outputs": [],
   "source": [
    "# Set Y to categorical\n",
    "\n",
    "train_y = tf.keras.utils.to_categorical(train_y.values, num_classes=K_INTERVAL, dtype='float32')\n",
    "val_y = tf.keras.utils.to_categorical(val_y.values, num_classes=K_INTERVAL, dtype='float32')\n",
    "test_y = tf.keras.utils.to_categorical(test_y.values, num_classes=K_INTERVAL, dtype='float32')"
   ]
  },
  {
   "cell_type": "code",
   "execution_count": null,
   "id": "0c6c8ac8",
   "metadata": {},
   "outputs": [],
   "source": []
  },
  {
   "cell_type": "markdown",
   "id": "3972eeb9",
   "metadata": {},
   "source": [
    "<h3>6. Create & Train Model</h3>"
   ]
  },
  {
   "cell_type": "code",
   "execution_count": 90,
   "id": "afcf739e",
   "metadata": {},
   "outputs": [],
   "source": [
    "# Create Model V2\n",
    "\n",
    "input_layer = tf.keras.layers.Input(shape=(1, train_X.shape[2]))\n",
    "\n",
    "x = tf.keras.layers.MultiHeadAttention(num_heads=8, key_dim=64)(query=input_layer, \n",
    "                                                                value=input_layer, \n",
    "                                                                key=input_layer)\n",
    "x = tf.keras.layers.Dense(units=64)(x)\n",
    "x = tf.keras.layers.Flatten()(x)\n",
    "\n",
    "x = tf.keras.layers.Dense(units=128)(x)\n",
    "x = tf.keras.layers.Dropout(0.4)(x)\n",
    "x = tf.keras.layers.Dense(units=128)(x)\n",
    "x = tf.keras.layers.Dropout(0.4)(x)\n",
    "output_layer = tf.keras.layers.Dense(activation='softmax', units=K_INTERVAL)(x)\n",
    "model = tf.keras.models.Model(inputs=input_layer, outputs=output_layer) "
   ]
  },
  {
   "cell_type": "code",
   "execution_count": 91,
   "id": "10ea3b2e",
   "metadata": {},
   "outputs": [
    {
     "name": "stdout",
     "output_type": "stream",
     "text": [
      "Model: \"model_1\"\n",
      "__________________________________________________________________________________________________\n",
      " Layer (type)                   Output Shape         Param #     Connected to                     \n",
      "==================================================================================================\n",
      " input_2 (InputLayer)           [(None, 1, 58)]      0           []                               \n",
      "                                                                                                  \n",
      " multi_head_attention_1 (MultiH  (None, 1, 58)       120378      ['input_2[0][0]',                \n",
      " eadAttention)                                                    'input_2[0][0]',                \n",
      "                                                                  'input_2[0][0]']                \n",
      "                                                                                                  \n",
      " dense_4 (Dense)                (None, 1, 64)        3776        ['multi_head_attention_1[0][0]'] \n",
      "                                                                                                  \n",
      " flatten_1 (Flatten)            (None, 64)           0           ['dense_4[0][0]']                \n",
      "                                                                                                  \n",
      " dense_5 (Dense)                (None, 128)          8320        ['flatten_1[0][0]']              \n",
      "                                                                                                  \n",
      " dropout_2 (Dropout)            (None, 128)          0           ['dense_5[0][0]']                \n",
      "                                                                                                  \n",
      " dense_6 (Dense)                (None, 128)          16512       ['dropout_2[0][0]']              \n",
      "                                                                                                  \n",
      " dropout_3 (Dropout)            (None, 128)          0           ['dense_6[0][0]']                \n",
      "                                                                                                  \n",
      " dense_7 (Dense)                (None, 5)            645         ['dropout_3[0][0]']              \n",
      "                                                                                                  \n",
      "==================================================================================================\n",
      "Total params: 149,631\n",
      "Trainable params: 149,631\n",
      "Non-trainable params: 0\n",
      "__________________________________________________________________________________________________\n"
     ]
    }
   ],
   "source": [
    "# Compile Model: V1\n",
    "\n",
    "model.compile(loss='categorical_crossentropy', optimizer='adam')\n",
    "early_stop = EarlyStopping(monitor='val_loss', patience=10, verbose=1, mode='min', restore_best_weights=True)\n",
    "model.summary()"
   ]
  },
  {
   "cell_type": "code",
   "execution_count": 92,
   "id": "dff02363",
   "metadata": {
    "scrolled": true
   },
   "outputs": [
    {
     "name": "stdout",
     "output_type": "stream",
     "text": [
      "Epoch 1/10\n",
      "1524/1524 [==============================] - 7s 3ms/step - loss: 0.4633 - val_loss: 0.4136\n",
      "Epoch 2/10\n",
      "1524/1524 [==============================] - 5s 3ms/step - loss: 0.4334 - val_loss: 0.4270\n",
      "Epoch 3/10\n",
      "1524/1524 [==============================] - 6s 4ms/step - loss: 0.4292 - val_loss: 0.4305\n",
      "Epoch 4/10\n",
      "1524/1524 [==============================] - 6s 4ms/step - loss: 0.4286 - val_loss: 0.4092\n",
      "Epoch 5/10\n",
      "1524/1524 [==============================] - 6s 4ms/step - loss: 0.4232 - val_loss: 0.4055\n",
      "Epoch 6/10\n",
      "1524/1524 [==============================] - 6s 4ms/step - loss: 0.4220 - val_loss: 0.4075\n",
      "Epoch 7/10\n",
      "1524/1524 [==============================] - 6s 4ms/step - loss: 0.4207 - val_loss: 0.4015\n",
      "Epoch 8/10\n",
      "1524/1524 [==============================] - 6s 4ms/step - loss: 0.4214 - val_loss: 0.4023\n",
      "Epoch 9/10\n",
      "1524/1524 [==============================] - 6s 4ms/step - loss: 0.4201 - val_loss: 0.4102\n",
      "Epoch 10/10\n",
      "1524/1524 [==============================] - 6s 4ms/step - loss: 0.4191 - val_loss: 0.4167\n"
     ]
    }
   ],
   "source": [
    "# Train Model\n",
    "\n",
    "history = model.fit(train_X, train_y, \n",
    "                    epochs=10,\n",
    "                    validation_data=(val_X, val_y), \n",
    "                    verbose=1, \n",
    "                    callbacks=[early_stop],\n",
    "                    shuffle=True)"
   ]
  },
  {
   "cell_type": "code",
   "execution_count": 93,
   "id": "0dec1983",
   "metadata": {},
   "outputs": [
    {
     "data": {
      "image/png": "[encoded data removed]",
      "text/plain": [
       "<Figure size 1500x500 with 1 Axes>"
      ]
     },
     "metadata": {},
     "output_type": "display_data"
    }
   ],
   "source": [
    "# Plot History\n",
    "\n",
    "plt.figure(figsize=(15, 5))\n",
    "plt.plot(history.history['loss'], label='train')\n",
    "plt.plot(history.history['val_loss'], label='test')\n",
    "plt.legend()\n",
    "plt.show()"
   ]
  },
  {
   "cell_type": "code",
   "execution_count": null,
   "id": "24ef8c02",
   "metadata": {},
   "outputs": [],
   "source": []
  },
  {
   "cell_type": "markdown",
   "id": "003e1860",
   "metadata": {},
   "source": [
    "<h3>7. Evaluate Model</h3>"
   ]
  },
  {
   "cell_type": "markdown",
   "id": "90c396d0",
   "metadata": {},
   "source": [
    "<h4>7.1 Error</h4>"
   ]
  },
  {
   "cell_type": "code",
   "execution_count": 94,
   "id": "e5634d7e",
   "metadata": {},
   "outputs": [
    {
     "name": "stdout",
     "output_type": "stream",
     "text": [
      "158/158 [==============================] - 0s 2ms/step\n",
      "Final Mean Average Error: 0.09805308282375336\n"
     ]
    }
   ],
   "source": [
    "# Final Error\n",
    "\n",
    "preds = model.predict(test_X).squeeze()    \n",
    "mae = np.mean(np.abs(preds-test_y))\n",
    "print(\"Final Mean Average Error: {}\".format(mae))"
   ]
  },
  {
   "cell_type": "markdown",
   "id": "2fc85aeb",
   "metadata": {},
   "source": [
    "<h4>7.2 Predict</h4>"
   ]
  },
  {
   "cell_type": "code",
   "execution_count": 95,
   "id": "2f34efc5",
   "metadata": {},
   "outputs": [],
   "source": [
    "# Predict & Assign to test_df: add values for missing days in preds\n",
    "\n",
    "test_df['preds'] = [np.argmax(x) for x in preds]"
   ]
  },
  {
   "cell_type": "code",
   "execution_count": 96,
   "id": "1ac9361a",
   "metadata": {
    "scrolled": false
   },
   "outputs": [
    {
     "data": {
      "image/png": "[encoded data removed]",
      "text/plain": [
       "<Figure size 1500x500 with 1 Axes>"
      ]
     },
     "metadata": {},
     "output_type": "display_data"
    },
    {
     "data": {
      "image/png": "[encoded data removed]",
      "text/plain": [
       "<Figure size 1500x500 with 1 Axes>"
      ]
     },
     "metadata": {},
     "output_type": "display_data"
    },
    {
     "data": {
      "image/png": "[encoded data removed]",
      "text/plain": [
       "<Figure size 1500x500 with 1 Axes>"
      ]
     },
     "metadata": {},
     "output_type": "display_data"
    },
    {
     "data": {
      "image/png": "[encoded data removed]",
      "text/plain": [
       "<Figure size 1500x500 with 1 Axes>"
      ]
     },
     "metadata": {},
     "output_type": "display_data"
    },
    {
     "data": {
      "image/png": "[encoded data removed]",
      "text/plain": [
       "<Figure size 1500x500 with 1 Axes>"
      ]
     },
     "metadata": {},
     "output_type": "display_data"
    },
    {
     "data": {
      "image/png": "[encoded data removed]",
      "text/plain": [
       "<Figure size 1500x500 with 1 Axes>"
      ]
     },
     "metadata": {},
     "output_type": "display_data"
    },
    {
     "data": {
      "image/png": "[encoded data removed]",
      "text/plain": [
       "<Figure size 1500x500 with 1 Axes>"
      ]
     },
     "metadata": {},
     "output_type": "display_data"
    },
    {
     "data": {
      "image/png": "[encoded data removed]",
      "text/plain": [
       "<Figure size 1500x500 with 1 Axes>"
      ]
     },
     "metadata": {},
     "output_type": "display_data"
    },
    {
     "data": {
      "image/png": "[encoded data removed]",
      "text/plain": [
       "<Figure size 1500x500 with 1 Axes>"
      ]
     },
     "metadata": {},
     "output_type": "display_data"
    },
    {
     "data": {
      "image/png": "[encoded data removed]",
      "text/plain": [
       "<Figure size 1500x500 with 1 Axes>"
      ]
     },
     "metadata": {},
     "output_type": "display_data"
    }
   ],
   "source": [
    "# Plot some station & bcode\n",
    "\n",
    "N_SAMPLE = 10\n",
    "for station_id, pol_var_id in test_df[['station_id', 'pol_var_id']].drop_duplicates().sample(N_SAMPLE).values:\n",
    "    curr_test_df = test_df[(test_df['station_id']==station_id) & (test_df['pol_var_id']==pol_var_id)]\n",
    "    plt.figure(figsize=(15, 5))\n",
    "    plt.title(\"{} - {}\".format(station_id, pol_var_id))\n",
    "    plt.scatter(curr_test_df.index, [x+.2 for x in curr_test_df['preds']], label='pred', s=5)\n",
    "    plt.scatter(curr_test_df.index, [x+.1 for x in curr_test_df[LABEL_COL]], label='truth', s=5)\n",
    "    plt.legend()\n",
    "    plt.ylim(0, 5)\n",
    "    plt.show()"
   ]
  },
  {
   "cell_type": "code",
   "execution_count": null,
   "id": "b2ee6039",
   "metadata": {},
   "outputs": [],
   "source": []
  },
  {
   "cell_type": "code",
   "execution_count": null,
   "id": "9e5293e3",
   "metadata": {},
   "outputs": [],
   "source": []
  },
  {
   "cell_type": "code",
   "execution_count": null,
   "id": "aebbc110",
   "metadata": {},
   "outputs": [],
   "source": []
  }
 ],
 "metadata": {
  "kernelspec": {
   "display_name": "Python 3 (ipykernel)",
   "language": "python",
   "name": "python3"
  },
  "language_info": {
   "codemirror_mode": {
    "name": "ipython",
    "version": 3
   },
   "file_extension": ".py",
   "mimetype": "text/x-python",
   "name": "python",
   "nbconvert_exporter": "python",
   "pygments_lexer": "ipython3",
   "version": "3.8.15"
  }
 },
 "nbformat": 4,
 "nbformat_minor": 5
}
