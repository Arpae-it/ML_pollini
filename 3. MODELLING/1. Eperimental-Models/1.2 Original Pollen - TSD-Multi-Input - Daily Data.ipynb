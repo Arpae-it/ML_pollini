{
 "cells": [
  {
   "cell_type": "markdown",
   "id": "89711db3-ecfa-4053-bf52-681910715b1b",
   "metadata": {
    "tags": [],
    "toc-hr-collapsed": true
   },
   "source": [
    "# Clustering Exploratory Data Analysis\n",
    "Notebook to perform clustering analysis on data on BigQuery.<br>"
   ]
  },
  {
   "cell_type": "markdown",
   "id": "891c38f3-464b-4932-b531-a415a0519f9d",
   "metadata": {
    "tags": []
   },
   "source": [
    "## Imports"
   ]
  },
  {
   "cell_type": "code",
   "execution_count": 1,
   "id": "17351dbc",
   "metadata": {
    "tags": []
   },
   "outputs": [],
   "source": [
    "import json\n",
    "import calendar\n",
    "import datetime\n",
    "import warnings\n",
    "import numpy as np\n",
    "import pandas as pd\n",
    "from datetime import timedelta\n",
    "from collections import Counter\n",
    "from google.cloud import bigquery\n",
    "\n",
    "from tqdm.auto import tqdm\n",
    "import seaborn as sns\n",
    "import matplotlib.pyplot as plt\n",
    "\n",
    "import scipy.stats\n",
    "from sklearn.preprocessing import LabelEncoder\n",
    "from statsmodels.tsa.seasonal import seasonal_decompose\n",
    "\n",
    "warnings.filterwarnings('ignore')\n",
    "tqdm.pandas()"
   ]
  },
  {
   "cell_type": "code",
   "execution_count": 2,
   "id": "8f897782-a342-4aa6-af96-1065a1a0065f",
   "metadata": {},
   "outputs": [
    {
     "name": "stderr",
     "output_type": "stream",
     "text": [
      "2023-03-21 09:47:38.069635: I tensorflow/core/platform/cpu_feature_guard.cc:193] This TensorFlow binary is optimized with oneAPI Deep Neural Network Library (oneDNN) to use the following CPU instructions in performance-critical operations:  AVX2 AVX512F AVX512_VNNI FMA\n",
      "To enable them in other operations, rebuild TensorFlow with the appropriate compiler flags.\n",
      "2023-03-21 09:47:38.371463: I tensorflow/core/util/util.cc:169] oneDNN custom operations are on. You may see slightly different numerical results due to floating-point round-off errors from different computation orders. To turn them off, set the environment variable `TF_ENABLE_ONEDNN_OPTS=0`.\n",
      "2023-03-21 09:47:38.507101: E tensorflow/stream_executor/cuda/cuda_blas.cc:2981] Unable to register cuBLAS factory: Attempting to register factory for plugin cuBLAS when one has already been registered\n",
      "2023-03-21 09:47:40.266932: W tensorflow/stream_executor/platform/default/dso_loader.cc:64] Could not load dynamic library 'libnvinfer.so.7'; dlerror: libnvinfer.so.7: cannot open shared object file: No such file or directory\n",
      "2023-03-21 09:47:40.266981: W tensorflow/stream_executor/platform/default/dso_loader.cc:64] Could not load dynamic library 'libnvinfer_plugin.so.7'; dlerror: libnvinfer_plugin.so.7: cannot open shared object file: No such file or directory\n",
      "2023-03-21 09:47:40.266985: W tensorflow/compiler/tf2tensorrt/utils/py_utils.cc:38] TF-TRT Warning: Cannot dlopen some TensorRT libraries. If you would like to use Nvidia GPU with TensorRT, please make sure the missing libraries mentioned above are installed properly.\n"
     ]
    }
   ],
   "source": [
    "import tensorflow as tf\n",
    "from tensorflow.keras.layers import Dense, LSTM, Dropout, Bidirectional, Attention\n",
    "from tensorflow.keras.optimizers import Adam\n",
    "from tensorflow.keras.callbacks import EarlyStopping, ModelCheckpoint\n",
    "from tqdm.keras import TqdmCallback\n",
    "from tensorflow.keras.utils import timeseries_dataset_from_array"
   ]
  },
  {
   "cell_type": "markdown",
   "id": "e09096ab-c7d2-4172-85d3-c466fe00250d",
   "metadata": {
    "tags": []
   },
   "source": [
    "## Config"
   ]
  },
  {
   "cell_type": "code",
   "execution_count": 3,
   "id": "640de2a6-31e6-4f5a-adf7-f438423f5b1c",
   "metadata": {
    "tags": []
   },
   "outputs": [],
   "source": [
    "# Config\n",
    "\n",
    "PROJECT_ID = 'arpae-prod-ml'\n",
    "\n",
    "# BigQuery\n",
    "JOINED_BQ_DATASET = 'JOINED_DATA'\n",
    "JOINED_DATA_TABLE = \"ALL_METEO_FEATS_POL_DAT\"\n",
    "JOINED_WEEK_DATA_TABLE = \"ALL_METEO_WEEK_FEATS_POL_DAT\"\n"
   ]
  },
  {
   "cell_type": "markdown",
   "id": "72c7872e-30ee-444d-8f90-44d1a211f11f",
   "metadata": {
    "tags": []
   },
   "source": [
    "## Methods"
   ]
  },
  {
   "cell_type": "code",
   "execution_count": 4,
   "id": "3e20526a-afd2-47d1-bcc5-255420d4f9a7",
   "metadata": {
    "tags": []
   },
   "outputs": [],
   "source": [
    "# # Read Methods\n",
    "\n",
    "def _run_query(client, query): \n",
    "    df = client.query(query).to_dataframe()\n",
    "    return df\n",
    "\n",
    "def _create_station_widget(df):\n",
    "    station_ids = df.station_id.sort_values().unique()\n",
    "    station_wdgt = widgets.Dropdown(options=station_ids, description='Station Id:', layout={\"width\":\"50%\"})\n",
    "    return station_wdgt\n",
    "\n",
    "def _create_pol_var_id_widget(df):\n",
    "    pol_var_ids = df.pol_var_id.sort_values().unique()\n",
    "    pol_wdgt = widgets.Dropdown(options=pol_var_ids, description='Pol var id:', layout={\"width\":\"50%\"})\n",
    "    return pol_wdgt\n",
    "\n",
    "def min_max_scale(x):\n",
    "    return (x - x.min()) / (x.max() - x.min())"
   ]
  },
  {
   "cell_type": "markdown",
   "id": "ad89a1af-6125-4197-b381-fbed926eecfe",
   "metadata": {
    "tags": [],
    "toc-hr-collapsed": true
   },
   "source": [
    "# 1. Read Data"
   ]
  },
  {
   "cell_type": "markdown",
   "id": "82ce939b-9fb0-4ac9-90e8-99b32e00cdbb",
   "metadata": {
    "tags": []
   },
   "source": [
    "## 1.1 Config BigQuery"
   ]
  },
  {
   "cell_type": "code",
   "execution_count": 5,
   "id": "f9e75aad-52d2-4861-96f0-ccede26e436f",
   "metadata": {
    "tags": []
   },
   "outputs": [
    {
     "data": {
      "text/plain": [
       "<google.cloud.bigquery.client.Client at 0x7f71f24191b0>"
      ]
     },
     "execution_count": 5,
     "metadata": {},
     "output_type": "execute_result"
    }
   ],
   "source": [
    "# Setup Client\n",
    "\n",
    "bq_client = bigquery.Client()\n",
    "bq_client"
   ]
  },
  {
   "cell_type": "code",
   "execution_count": null,
   "id": "06684872-fd7a-43c6-9533-0abe197094a3",
   "metadata": {},
   "outputs": [],
   "source": []
  },
  {
   "cell_type": "markdown",
   "id": "a93b5790-ec45-4497-b652-102d13b09bfc",
   "metadata": {
    "tags": []
   },
   "source": [
    "## 1.2 Read Tables"
   ]
  },
  {
   "cell_type": "code",
   "execution_count": 6,
   "id": "6df38257-8675-4fea-876d-3bc11e2f93f4",
   "metadata": {
    "tags": []
   },
   "outputs": [
    {
     "name": "stdout",
     "output_type": "stream",
     "text": [
      "(33, 3)\n"
     ]
    },
    {
     "data": {
      "text/html": [
       "<div>\n",
       "<style scoped>\n",
       "    .dataframe tbody tr th:only-of-type {\n",
       "        vertical-align: middle;\n",
       "    }\n",
       "\n",
       "    .dataframe tbody tr th {\n",
       "        vertical-align: top;\n",
       "    }\n",
       "\n",
       "    .dataframe thead th {\n",
       "        text-align: right;\n",
       "    }\n",
       "</style>\n",
       "<table border=\"1\" class=\"dataframe\">\n",
       "  <thead>\n",
       "    <tr style=\"text-align: right;\">\n",
       "      <th></th>\n",
       "      <th>var_id</th>\n",
       "      <th>var_descr</th>\n",
       "      <th>eligible</th>\n",
       "    </tr>\n",
       "  </thead>\n",
       "  <tbody>\n",
       "    <tr>\n",
       "      <th>0</th>\n",
       "      <td>B48026</td>\n",
       "      <td>Mirtacee_Mirtacee indistinte, POLLEN/M**3</td>\n",
       "      <td>True</td>\n",
       "    </tr>\n",
       "    <tr>\n",
       "      <th>1</th>\n",
       "      <td>B48006</td>\n",
       "      <td>Composite_Artemisia, POLLEN/M**3</td>\n",
       "      <td>True</td>\n",
       "    </tr>\n",
       "    <tr>\n",
       "      <th>2</th>\n",
       "      <td>B48041</td>\n",
       "      <td>Spore fungine_Stemphylium, POLLEN/M**3</td>\n",
       "      <td>True</td>\n",
       "    </tr>\n",
       "  </tbody>\n",
       "</table>\n",
       "</div>"
      ],
      "text/plain": [
       "   var_id                                  var_descr  eligible\n",
       "0  B48026  Mirtacee_Mirtacee indistinte, POLLEN/M**3      True\n",
       "1  B48006           Composite_Artemisia, POLLEN/M**3      True\n",
       "2  B48041     Spore fungine_Stemphylium, POLLEN/M**3      True"
      ]
     },
     "execution_count": 6,
     "metadata": {},
     "output_type": "execute_result"
    }
   ],
   "source": [
    "# Load B_CODES\n",
    "\n",
    "sql = f\"SELECT * FROM `{PROJECT_ID}.SAMPLE_DATA.B_CODES` WHERE eligible IS true\"\n",
    "b_codes = _run_query(bq_client, sql)\n",
    "\n",
    "print(b_codes.shape)\n",
    "b_codes.head(3)"
   ]
  },
  {
   "cell_type": "code",
   "execution_count": 7,
   "id": "5367ddbb-ed48-498f-89fa-6d6f14281fa5",
   "metadata": {
    "tags": []
   },
   "outputs": [
    {
     "data": {
      "text/html": [
       "<div>\n",
       "<style scoped>\n",
       "    .dataframe tbody tr th:only-of-type {\n",
       "        vertical-align: middle;\n",
       "    }\n",
       "\n",
       "    .dataframe tbody tr th {\n",
       "        vertical-align: top;\n",
       "    }\n",
       "\n",
       "    .dataframe thead th {\n",
       "        text-align: right;\n",
       "    }\n",
       "</style>\n",
       "<table border=\"1\" class=\"dataframe\">\n",
       "  <thead>\n",
       "    <tr style=\"text-align: right;\">\n",
       "      <th></th>\n",
       "      <th>b_code</th>\n",
       "      <th>basso</th>\n",
       "      <th>medio</th>\n",
       "      <th>alto</th>\n",
       "      <th>CAL_01_JAN</th>\n",
       "      <th>CAL_02_FEB</th>\n",
       "      <th>CAL_03_MAR</th>\n",
       "      <th>CAL_04_APR</th>\n",
       "      <th>CAL_05_MAY</th>\n",
       "      <th>CAL_06_JUN</th>\n",
       "      <th>CAL_07_JUL</th>\n",
       "      <th>CAL_08_AUG</th>\n",
       "      <th>CAL_09_SEP</th>\n",
       "      <th>CAL_10_OCT</th>\n",
       "      <th>CAL_11_NOV</th>\n",
       "      <th>CAL_12_DEC</th>\n",
       "    </tr>\n",
       "  </thead>\n",
       "  <tbody>\n",
       "    <tr>\n",
       "      <th>0</th>\n",
       "      <td>B48066</td>\n",
       "      <td>0.0</td>\n",
       "      <td>0.0</td>\n",
       "      <td>0</td>\n",
       "      <td>&lt;NA&gt;</td>\n",
       "      <td>&lt;NA&gt;</td>\n",
       "      <td>&lt;NA&gt;</td>\n",
       "      <td>&lt;NA&gt;</td>\n",
       "      <td>&lt;NA&gt;</td>\n",
       "      <td>&lt;NA&gt;</td>\n",
       "      <td>&lt;NA&gt;</td>\n",
       "      <td>&lt;NA&gt;</td>\n",
       "      <td>&lt;NA&gt;</td>\n",
       "      <td>&lt;NA&gt;</td>\n",
       "      <td>&lt;NA&gt;</td>\n",
       "      <td>&lt;NA&gt;</td>\n",
       "    </tr>\n",
       "    <tr>\n",
       "      <th>1</th>\n",
       "      <td>B48081</td>\n",
       "      <td>3.0</td>\n",
       "      <td>25.0</td>\n",
       "      <td>50</td>\n",
       "      <td>&lt;NA&gt;</td>\n",
       "      <td>&lt;NA&gt;</td>\n",
       "      <td>&lt;NA&gt;</td>\n",
       "      <td>&lt;NA&gt;</td>\n",
       "      <td>&lt;NA&gt;</td>\n",
       "      <td>&lt;NA&gt;</td>\n",
       "      <td>&lt;NA&gt;</td>\n",
       "      <td>&lt;NA&gt;</td>\n",
       "      <td>&lt;NA&gt;</td>\n",
       "      <td>&lt;NA&gt;</td>\n",
       "      <td>&lt;NA&gt;</td>\n",
       "      <td>&lt;NA&gt;</td>\n",
       "    </tr>\n",
       "    <tr>\n",
       "      <th>2</th>\n",
       "      <td>B48082</td>\n",
       "      <td>3.0</td>\n",
       "      <td>25.0</td>\n",
       "      <td>50</td>\n",
       "      <td>&lt;NA&gt;</td>\n",
       "      <td>&lt;NA&gt;</td>\n",
       "      <td>&lt;NA&gt;</td>\n",
       "      <td>&lt;NA&gt;</td>\n",
       "      <td>&lt;NA&gt;</td>\n",
       "      <td>&lt;NA&gt;</td>\n",
       "      <td>&lt;NA&gt;</td>\n",
       "      <td>&lt;NA&gt;</td>\n",
       "      <td>&lt;NA&gt;</td>\n",
       "      <td>&lt;NA&gt;</td>\n",
       "      <td>&lt;NA&gt;</td>\n",
       "      <td>&lt;NA&gt;</td>\n",
       "    </tr>\n",
       "  </tbody>\n",
       "</table>\n",
       "</div>"
      ],
      "text/plain": [
       "   b_code  basso  medio  alto  CAL_01_JAN  CAL_02_FEB  CAL_03_MAR  CAL_04_APR  \\\n",
       "0  B48066    0.0    0.0     0        <NA>        <NA>        <NA>        <NA>   \n",
       "1  B48081    3.0   25.0    50        <NA>        <NA>        <NA>        <NA>   \n",
       "2  B48082    3.0   25.0    50        <NA>        <NA>        <NA>        <NA>   \n",
       "\n",
       "   CAL_05_MAY  CAL_06_JUN  CAL_07_JUL  CAL_08_AUG  CAL_09_SEP  CAL_10_OCT  \\\n",
       "0        <NA>        <NA>        <NA>        <NA>        <NA>        <NA>   \n",
       "1        <NA>        <NA>        <NA>        <NA>        <NA>        <NA>   \n",
       "2        <NA>        <NA>        <NA>        <NA>        <NA>        <NA>   \n",
       "\n",
       "   CAL_11_NOV  CAL_12_DEC  \n",
       "0        <NA>        <NA>  \n",
       "1        <NA>        <NA>  \n",
       "2        <NA>        <NA>  "
      ]
     },
     "execution_count": 7,
     "metadata": {},
     "output_type": "execute_result"
    }
   ],
   "source": [
    "# Load BCODE_SOGLIE\n",
    "\n",
    "sql = f\"SELECT * FROM `{PROJECT_ID}.SAMPLE_DATA.BCODE_SOGLIE`\"\n",
    "b_codes_soglie = _run_query(bq_client, sql)\n",
    "b_codes_soglie.head(3)"
   ]
  },
  {
   "cell_type": "code",
   "execution_count": 8,
   "id": "a9d3a212-29f7-4660-a4e1-acd277b963fe",
   "metadata": {
    "tags": []
   },
   "outputs": [
    {
     "name": "stdout",
     "output_type": "stream",
     "text": [
      "(1362096, 33)\n"
     ]
    },
    {
     "data": {
      "text/html": [
       "<div>\n",
       "<style scoped>\n",
       "    .dataframe tbody tr th:only-of-type {\n",
       "        vertical-align: middle;\n",
       "    }\n",
       "\n",
       "    .dataframe tbody tr th {\n",
       "        vertical-align: top;\n",
       "    }\n",
       "\n",
       "    .dataframe thead th {\n",
       "        text-align: right;\n",
       "    }\n",
       "</style>\n",
       "<table border=\"1\" class=\"dataframe\">\n",
       "  <thead>\n",
       "    <tr style=\"text-align: right;\">\n",
       "      <th></th>\n",
       "      <th>station_id</th>\n",
       "      <th>date</th>\n",
       "      <th>B13011_min</th>\n",
       "      <th>B13011_max</th>\n",
       "      <th>B13011_mean</th>\n",
       "      <th>B13011_std</th>\n",
       "      <th>B13011_sum</th>\n",
       "      <th>B14198_min</th>\n",
       "      <th>B14198_max</th>\n",
       "      <th>B14198_mean</th>\n",
       "      <th>...</th>\n",
       "      <th>arkimet_id</th>\n",
       "      <th>arkimet_lat</th>\n",
       "      <th>arkimet_lon</th>\n",
       "      <th>meteo_id</th>\n",
       "      <th>pol_var_id</th>\n",
       "      <th>pol_value</th>\n",
       "      <th>modified</th>\n",
       "      <th>pol_var_descr</th>\n",
       "      <th>week</th>\n",
       "      <th>year</th>\n",
       "    </tr>\n",
       "  </thead>\n",
       "  <tbody>\n",
       "    <tr>\n",
       "      <th>0</th>\n",
       "      <td>1</td>\n",
       "      <td>2006-03-01</td>\n",
       "      <td>0.0</td>\n",
       "      <td>0.0</td>\n",
       "      <td>0.0</td>\n",
       "      <td>0.0</td>\n",
       "      <td>0.0</td>\n",
       "      <td>-11.0</td>\n",
       "      <td>588.0</td>\n",
       "      <td>138.76</td>\n",
       "      <td>...</td>\n",
       "      <td>Bologna urbana</td>\n",
       "      <td>44.5008</td>\n",
       "      <td>11.3288</td>\n",
       "      <td>01421</td>\n",
       "      <td>B48001</td>\n",
       "      <td>0.0</td>\n",
       "      <td>1</td>\n",
       "      <td>Graminacee_Graminacee indistinte, POLLEN/M**3</td>\n",
       "      <td>9</td>\n",
       "      <td>2006</td>\n",
       "    </tr>\n",
       "    <tr>\n",
       "      <th>1</th>\n",
       "      <td>1</td>\n",
       "      <td>2006-03-02</td>\n",
       "      <td>0.0</td>\n",
       "      <td>0.0</td>\n",
       "      <td>0.0</td>\n",
       "      <td>0.0</td>\n",
       "      <td>0.0</td>\n",
       "      <td>-6.0</td>\n",
       "      <td>351.0</td>\n",
       "      <td>61.56</td>\n",
       "      <td>...</td>\n",
       "      <td>Bologna urbana</td>\n",
       "      <td>44.5008</td>\n",
       "      <td>11.3288</td>\n",
       "      <td>01421</td>\n",
       "      <td>B48001</td>\n",
       "      <td>0.0</td>\n",
       "      <td>1</td>\n",
       "      <td>Graminacee_Graminacee indistinte, POLLEN/M**3</td>\n",
       "      <td>9</td>\n",
       "      <td>2006</td>\n",
       "    </tr>\n",
       "    <tr>\n",
       "      <th>2</th>\n",
       "      <td>1</td>\n",
       "      <td>2006-03-03</td>\n",
       "      <td>0.0</td>\n",
       "      <td>0.0</td>\n",
       "      <td>0.0</td>\n",
       "      <td>0.0</td>\n",
       "      <td>0.0</td>\n",
       "      <td>-5.0</td>\n",
       "      <td>406.0</td>\n",
       "      <td>87.12</td>\n",
       "      <td>...</td>\n",
       "      <td>Bologna urbana</td>\n",
       "      <td>44.5008</td>\n",
       "      <td>11.3288</td>\n",
       "      <td>01421</td>\n",
       "      <td>B48001</td>\n",
       "      <td>0.0</td>\n",
       "      <td>1</td>\n",
       "      <td>Graminacee_Graminacee indistinte, POLLEN/M**3</td>\n",
       "      <td>9</td>\n",
       "      <td>2006</td>\n",
       "    </tr>\n",
       "  </tbody>\n",
       "</table>\n",
       "<p>3 rows × 33 columns</p>\n",
       "</div>"
      ],
      "text/plain": [
       "   station_id        date  B13011_min  B13011_max  B13011_mean  B13011_std  \\\n",
       "0           1  2006-03-01         0.0         0.0          0.0         0.0   \n",
       "1           1  2006-03-02         0.0         0.0          0.0         0.0   \n",
       "2           1  2006-03-03         0.0         0.0          0.0         0.0   \n",
       "\n",
       "   B13011_sum  B14198_min  B14198_max  B14198_mean  ...      arkimet_id  \\\n",
       "0         0.0       -11.0       588.0       138.76  ...  Bologna urbana   \n",
       "1         0.0        -6.0       351.0        61.56  ...  Bologna urbana   \n",
       "2         0.0        -5.0       406.0        87.12  ...  Bologna urbana   \n",
       "\n",
       "   arkimet_lat  arkimet_lon  meteo_id  pol_var_id  pol_value  modified  \\\n",
       "0      44.5008      11.3288     01421      B48001        0.0         1   \n",
       "1      44.5008      11.3288     01421      B48001        0.0         1   \n",
       "2      44.5008      11.3288     01421      B48001        0.0         1   \n",
       "\n",
       "                                   pol_var_descr  week  year  \n",
       "0  Graminacee_Graminacee indistinte, POLLEN/M**3     9  2006  \n",
       "1  Graminacee_Graminacee indistinte, POLLEN/M**3     9  2006  \n",
       "2  Graminacee_Graminacee indistinte, POLLEN/M**3     9  2006  \n",
       "\n",
       "[3 rows x 33 columns]"
      ]
     },
     "execution_count": 8,
     "metadata": {},
     "output_type": "execute_result"
    }
   ],
   "source": [
    "# Load all meteo and pollen data\n",
    "\n",
    "sql = f\"\"\"\n",
    "    SELECT DISTINCT *\n",
    "    FROM `{PROJECT_ID}.{JOINED_BQ_DATASET}.{JOINED_DATA_TABLE}`\n",
    "    WHERE pol_var_id IN {tuple(b_codes.var_id)}\n",
    "    ORDER BY station_id, pol_var_id, date\n",
    "\"\"\"\n",
    "\n",
    "raw_df = _run_query(bq_client, sql)\n",
    "\n",
    "print(raw_df.shape)\n",
    "raw_df.head(3)"
   ]
  },
  {
   "cell_type": "code",
   "execution_count": null,
   "id": "e6018531-1a19-42d8-b3ee-5b9bb8693a39",
   "metadata": {},
   "outputs": [],
   "source": []
  },
  {
   "cell_type": "markdown",
   "id": "e28714c7-cb1a-42b9-a830-b8cc84fc2a95",
   "metadata": {
    "tags": []
   },
   "source": [
    "## 1.3 Load clustering results"
   ]
  },
  {
   "cell_type": "code",
   "execution_count": 9,
   "id": "45c8429f-4512-436a-a8ca-f80a38636899",
   "metadata": {
    "tags": []
   },
   "outputs": [
    {
     "name": "stdout",
     "output_type": "stream",
     "text": [
      "(363, 3)\n"
     ]
    },
    {
     "data": {
      "text/html": [
       "<div>\n",
       "<style scoped>\n",
       "    .dataframe tbody tr th:only-of-type {\n",
       "        vertical-align: middle;\n",
       "    }\n",
       "\n",
       "    .dataframe tbody tr th {\n",
       "        vertical-align: top;\n",
       "    }\n",
       "\n",
       "    .dataframe thead th {\n",
       "        text-align: right;\n",
       "    }\n",
       "</style>\n",
       "<table border=\"1\" class=\"dataframe\">\n",
       "  <thead>\n",
       "    <tr style=\"text-align: right;\">\n",
       "      <th></th>\n",
       "      <th>station_id</th>\n",
       "      <th>pol_var_id</th>\n",
       "      <th>cluster</th>\n",
       "    </tr>\n",
       "  </thead>\n",
       "  <tbody>\n",
       "    <tr>\n",
       "      <th>221</th>\n",
       "      <td>5</td>\n",
       "      <td>B48032</td>\n",
       "      <td>8</td>\n",
       "    </tr>\n",
       "    <tr>\n",
       "      <th>253</th>\n",
       "      <td>6</td>\n",
       "      <td>B48031</td>\n",
       "      <td>6</td>\n",
       "    </tr>\n",
       "    <tr>\n",
       "      <th>138</th>\n",
       "      <td>2</td>\n",
       "      <td>B48008</td>\n",
       "      <td>10</td>\n",
       "    </tr>\n",
       "  </tbody>\n",
       "</table>\n",
       "</div>"
      ],
      "text/plain": [
       "     station_id pol_var_id  cluster\n",
       "221           5     B48032        8\n",
       "253           6     B48031        6\n",
       "138           2     B48008       10"
      ]
     },
     "execution_count": 9,
     "metadata": {},
     "output_type": "execute_result"
    }
   ],
   "source": [
    "clusters = pd.read_csv(\"data/clusters/clustering_tsd_intervals.csv\")\n",
    "\n",
    "print(clusters.shape)\n",
    "clusters.sample(3)"
   ]
  },
  {
   "cell_type": "code",
   "execution_count": 10,
   "id": "f76061a8-887f-47a5-a5fa-93b1ef2a1bce",
   "metadata": {
    "tags": []
   },
   "outputs": [
    {
     "data": {
      "image/png": "[encoded data removed]",
      "text/plain": [
       "<Figure size 800x400 with 1 Axes>"
      ]
     },
     "metadata": {},
     "output_type": "display_data"
    }
   ],
   "source": [
    "plt.figure(figsize=(8,4))\n",
    "plt.title(\"Number of specie/station per cluster\")\n",
    "sns.countplot(x=clusters[\"cluster\"]);"
   ]
  },
  {
   "cell_type": "code",
   "execution_count": null,
   "id": "73e3de17-7227-4b6a-a6b8-6360f2562998",
   "metadata": {},
   "outputs": [],
   "source": []
  },
  {
   "cell_type": "markdown",
   "id": "51f77d61-df3a-4b4b-99f1-6a865be9e5ed",
   "metadata": {
    "tags": []
   },
   "source": [
    "# 2. Data preprocess"
   ]
  },
  {
   "cell_type": "code",
   "execution_count": 11,
   "id": "479281f1-ae0f-48ce-98cf-112b2e198154",
   "metadata": {
    "tags": []
   },
   "outputs": [],
   "source": [
    "raw_df.sort_values([\"pol_var_id\", \"date\"], inplace=True)"
   ]
  },
  {
   "cell_type": "code",
   "execution_count": 12,
   "id": "118e8137-742d-4fc8-9b7c-6ee023bff373",
   "metadata": {
    "tags": []
   },
   "outputs": [],
   "source": [
    "# Convert dates to datetime format\n",
    "raw_df.date = pd.to_datetime(raw_df.date)\n",
    "\n",
    "raw_df[\"month\"] = raw_df.date.dt.month\n",
    "# df[\"day\"] = df.date.dt.day"
   ]
  },
  {
   "cell_type": "code",
   "execution_count": 13,
   "id": "05a494c6-9046-4ccc-a761-fa9b6d4ddf3c",
   "metadata": {
    "tags": []
   },
   "outputs": [
    {
     "data": {
      "text/html": [
       "<div>\n",
       "<style scoped>\n",
       "    .dataframe tbody tr th:only-of-type {\n",
       "        vertical-align: middle;\n",
       "    }\n",
       "\n",
       "    .dataframe tbody tr th {\n",
       "        vertical-align: top;\n",
       "    }\n",
       "\n",
       "    .dataframe thead th {\n",
       "        text-align: right;\n",
       "    }\n",
       "</style>\n",
       "<table border=\"1\" class=\"dataframe\">\n",
       "  <thead>\n",
       "    <tr style=\"text-align: right;\">\n",
       "      <th></th>\n",
       "      <th>station_id</th>\n",
       "      <th>B13011_min</th>\n",
       "      <th>B13011_max</th>\n",
       "      <th>B13011_mean</th>\n",
       "      <th>B13011_std</th>\n",
       "      <th>B13011_sum</th>\n",
       "      <th>B14198_min</th>\n",
       "      <th>B14198_max</th>\n",
       "      <th>B14198_mean</th>\n",
       "      <th>B14198_std</th>\n",
       "      <th>...</th>\n",
       "      <th>arkimet_lat</th>\n",
       "      <th>arkimet_lon</th>\n",
       "      <th>meteo_id</th>\n",
       "      <th>pol_var_id</th>\n",
       "      <th>pol_value</th>\n",
       "      <th>modified</th>\n",
       "      <th>pol_var_descr</th>\n",
       "      <th>week</th>\n",
       "      <th>year</th>\n",
       "      <th>month</th>\n",
       "    </tr>\n",
       "    <tr>\n",
       "      <th>date</th>\n",
       "      <th></th>\n",
       "      <th></th>\n",
       "      <th></th>\n",
       "      <th></th>\n",
       "      <th></th>\n",
       "      <th></th>\n",
       "      <th></th>\n",
       "      <th></th>\n",
       "      <th></th>\n",
       "      <th></th>\n",
       "      <th></th>\n",
       "      <th></th>\n",
       "      <th></th>\n",
       "      <th></th>\n",
       "      <th></th>\n",
       "      <th></th>\n",
       "      <th></th>\n",
       "      <th></th>\n",
       "      <th></th>\n",
       "      <th></th>\n",
       "      <th></th>\n",
       "    </tr>\n",
       "  </thead>\n",
       "  <tbody>\n",
       "    <tr>\n",
       "      <th>2006-03-01</th>\n",
       "      <td>1</td>\n",
       "      <td>0.0</td>\n",
       "      <td>0.0</td>\n",
       "      <td>0.000000</td>\n",
       "      <td>0.000000</td>\n",
       "      <td>0.0</td>\n",
       "      <td>-11.0</td>\n",
       "      <td>588.0</td>\n",
       "      <td>138.76</td>\n",
       "      <td>200.669770</td>\n",
       "      <td>...</td>\n",
       "      <td>44.5008</td>\n",
       "      <td>11.3288</td>\n",
       "      <td>01421</td>\n",
       "      <td>B48001</td>\n",
       "      <td>0.0</td>\n",
       "      <td>1</td>\n",
       "      <td>Graminacee_Graminacee indistinte, POLLEN/M**3</td>\n",
       "      <td>9</td>\n",
       "      <td>2006</td>\n",
       "      <td>3</td>\n",
       "    </tr>\n",
       "    <tr>\n",
       "      <th>2006-03-01</th>\n",
       "      <td>2</td>\n",
       "      <td>0.0</td>\n",
       "      <td>2.0</td>\n",
       "      <td>0.047541</td>\n",
       "      <td>0.244007</td>\n",
       "      <td>5.8</td>\n",
       "      <td>-9.0</td>\n",
       "      <td>513.0</td>\n",
       "      <td>115.08</td>\n",
       "      <td>161.071909</td>\n",
       "      <td>...</td>\n",
       "      <td>44.1382</td>\n",
       "      <td>12.2436</td>\n",
       "      <td>01989</td>\n",
       "      <td>B48001</td>\n",
       "      <td>0.0</td>\n",
       "      <td>1</td>\n",
       "      <td>Graminacee_Graminacee indistinte, POLLEN/M**3</td>\n",
       "      <td>9</td>\n",
       "      <td>2006</td>\n",
       "      <td>3</td>\n",
       "    </tr>\n",
       "    <tr>\n",
       "      <th>2006-03-01</th>\n",
       "      <td>4</td>\n",
       "      <td>0.0</td>\n",
       "      <td>0.0</td>\n",
       "      <td>0.000000</td>\n",
       "      <td>0.000000</td>\n",
       "      <td>0.0</td>\n",
       "      <td>-13.0</td>\n",
       "      <td>651.0</td>\n",
       "      <td>167.48</td>\n",
       "      <td>242.134109</td>\n",
       "      <td>...</td>\n",
       "      <td>44.8325</td>\n",
       "      <td>11.6211</td>\n",
       "      <td>01573</td>\n",
       "      <td>B48001</td>\n",
       "      <td>0.0</td>\n",
       "      <td>1</td>\n",
       "      <td>Graminacee_Graminacee indistinte, POLLEN/M**3</td>\n",
       "      <td>9</td>\n",
       "      <td>2006</td>\n",
       "      <td>3</td>\n",
       "    </tr>\n",
       "  </tbody>\n",
       "</table>\n",
       "<p>3 rows × 33 columns</p>\n",
       "</div>"
      ],
      "text/plain": [
       "            station_id  B13011_min  B13011_max  B13011_mean  B13011_std  \\\n",
       "date                                                                      \n",
       "2006-03-01           1         0.0         0.0     0.000000    0.000000   \n",
       "2006-03-01           2         0.0         2.0     0.047541    0.244007   \n",
       "2006-03-01           4         0.0         0.0     0.000000    0.000000   \n",
       "\n",
       "            B13011_sum  B14198_min  B14198_max  B14198_mean  B14198_std  ...  \\\n",
       "date                                                                     ...   \n",
       "2006-03-01         0.0       -11.0       588.0       138.76  200.669770  ...   \n",
       "2006-03-01         5.8        -9.0       513.0       115.08  161.071909  ...   \n",
       "2006-03-01         0.0       -13.0       651.0       167.48  242.134109  ...   \n",
       "\n",
       "            arkimet_lat  arkimet_lon  meteo_id  pol_var_id  pol_value  \\\n",
       "date                                                                    \n",
       "2006-03-01      44.5008      11.3288     01421      B48001        0.0   \n",
       "2006-03-01      44.1382      12.2436     01989      B48001        0.0   \n",
       "2006-03-01      44.8325      11.6211     01573      B48001        0.0   \n",
       "\n",
       "            modified                                  pol_var_descr  week  \\\n",
       "date                                                                        \n",
       "2006-03-01         1  Graminacee_Graminacee indistinte, POLLEN/M**3     9   \n",
       "2006-03-01         1  Graminacee_Graminacee indistinte, POLLEN/M**3     9   \n",
       "2006-03-01         1  Graminacee_Graminacee indistinte, POLLEN/M**3     9   \n",
       "\n",
       "            year  month  \n",
       "date                     \n",
       "2006-03-01  2006      3  \n",
       "2006-03-01  2006      3  \n",
       "2006-03-01  2006      3  \n",
       "\n",
       "[3 rows x 33 columns]"
      ]
     },
     "execution_count": 13,
     "metadata": {},
     "output_type": "execute_result"
    }
   ],
   "source": [
    "# Set datetime as index\n",
    "# raw_df.set_index([\"pol_var_id\", \"station_id\", \"date\"], inplace=True)\n",
    "raw_df.set_index(\"date\", inplace=True)\n",
    "\n",
    "raw_df.head(3)"
   ]
  },
  {
   "cell_type": "code",
   "execution_count": 14,
   "id": "88be9f9a-f276-4e17-b5dc-35220eccc753",
   "metadata": {
    "tags": []
   },
   "outputs": [],
   "source": [
    "### Sort dataset\n",
    "raw_df.sort_values(by=['station_id', \"pol_var_id\", 'date'], ascending=True, inplace=True)"
   ]
  },
  {
   "cell_type": "code",
   "execution_count": null,
   "id": "177d6e02-8d89-4ef7-ae48-4a3b9c0e204a",
   "metadata": {},
   "outputs": [],
   "source": []
  },
  {
   "cell_type": "markdown",
   "id": "aea680c5-eab0-49f5-a353-b1beb49f37fd",
   "metadata": {
    "tags": []
   },
   "source": [
    "# 3. Feature process"
   ]
  },
  {
   "cell_type": "markdown",
   "id": "512cc15a-86e5-4936-9550-8b91de68a0ea",
   "metadata": {},
   "source": [
    "## 3.1 Adding Seasonal trend as feature"
   ]
  },
  {
   "cell_type": "code",
   "execution_count": 15,
   "id": "327ffe0b-f404-46cf-aae4-9ac048361539",
   "metadata": {
    "tags": []
   },
   "outputs": [
    {
     "data": {
      "application/vnd.jupyter.widget-view+json": {
       "model_id": "5068ff0595d941e189e1ed69fb17e803",
       "version_major": 2,
       "version_minor": 0
      },
      "text/plain": [
       "  0%|          | 0/363 [00:00<?, ?it/s]"
      ]
     },
     "metadata": {},
     "output_type": "display_data"
    }
   ],
   "source": [
    "seasonal_feature = \"seasonal\"\n",
    "\n",
    "raw_df[seasonal_feature] = None\n",
    "for (stat_id, specie_id), specie_data in tqdm(raw_df.groupby([\"station_id\", \"pol_var_id\"])):\n",
    "    \n",
    "    # Prepare specie data\n",
    "    specie_data.sort_index(inplace=True)\n",
    "    specie_pollen = specie_data[[\"pol_value\"]].resample('D').interpolate()\n",
    "    \n",
    "    # Evaluate seasonal\n",
    "    decomposition = seasonal_decompose(specie_pollen, period=365, model='additive')\n",
    "    specie_seasonal = decomposition.seasonal\n",
    "    \n",
    "    # Join seasonal feautre\n",
    "    mask = ((raw_df.station_id == stat_id) & (raw_df.pol_var_id == specie_id)) # get specie mask\n",
    "    specie_seasonal = specie_seasonal.reindex(raw_df.loc[mask].index) # reindex due to index diff\n",
    "    raw_df.loc[mask, seasonal_feature] = specie_seasonal # now we can add the seasonal feature\n",
    "\n",
    "raw_df.seasonal = raw_df.seasonal.astype(float)"
   ]
  },
  {
   "cell_type": "code",
   "execution_count": null,
   "id": "94581b66-7611-4b67-9cf1-a6e2761c7527",
   "metadata": {},
   "outputs": [],
   "source": []
  },
  {
   "cell_type": "markdown",
   "id": "cab47b45-54c4-4303-884f-567fa3d2f706",
   "metadata": {
    "tags": []
   },
   "source": [
    "# 4. Select data and generate windows"
   ]
  },
  {
   "cell_type": "markdown",
   "id": "143712b9-6788-4471-a4b7-464e26976128",
   "metadata": {},
   "source": [
    "### 4.1 Select Cluster"
   ]
  },
  {
   "cell_type": "code",
   "execution_count": 16,
   "id": "82c7d2dc-fcea-4b3f-97fd-d961f1fee9ac",
   "metadata": {
    "tags": []
   },
   "outputs": [
    {
     "data": {
      "text/html": [
       "<div>\n",
       "<style scoped>\n",
       "    .dataframe tbody tr th:only-of-type {\n",
       "        vertical-align: middle;\n",
       "    }\n",
       "\n",
       "    .dataframe tbody tr th {\n",
       "        vertical-align: top;\n",
       "    }\n",
       "\n",
       "    .dataframe thead th {\n",
       "        text-align: right;\n",
       "    }\n",
       "</style>\n",
       "<table border=\"1\" class=\"dataframe\">\n",
       "  <thead>\n",
       "    <tr style=\"text-align: right;\">\n",
       "      <th></th>\n",
       "      <th>station_id</th>\n",
       "      <th>pol_var_id</th>\n",
       "      <th>cluster</th>\n",
       "    </tr>\n",
       "  </thead>\n",
       "  <tbody>\n",
       "    <tr>\n",
       "      <th>0</th>\n",
       "      <td>10</td>\n",
       "      <td>B48001</td>\n",
       "      <td>4</td>\n",
       "    </tr>\n",
       "    <tr>\n",
       "      <th>1</th>\n",
       "      <td>10</td>\n",
       "      <td>B48002</td>\n",
       "      <td>10</td>\n",
       "    </tr>\n",
       "    <tr>\n",
       "      <th>2</th>\n",
       "      <td>10</td>\n",
       "      <td>B48003</td>\n",
       "      <td>6</td>\n",
       "    </tr>\n",
       "    <tr>\n",
       "      <th>3</th>\n",
       "      <td>10</td>\n",
       "      <td>B48005</td>\n",
       "      <td>1</td>\n",
       "    </tr>\n",
       "    <tr>\n",
       "      <th>4</th>\n",
       "      <td>10</td>\n",
       "      <td>B48006</td>\n",
       "      <td>3</td>\n",
       "    </tr>\n",
       "    <tr>\n",
       "      <th>...</th>\n",
       "      <td>...</td>\n",
       "      <td>...</td>\n",
       "      <td>...</td>\n",
       "    </tr>\n",
       "    <tr>\n",
       "      <th>358</th>\n",
       "      <td>9</td>\n",
       "      <td>B48038</td>\n",
       "      <td>2</td>\n",
       "    </tr>\n",
       "    <tr>\n",
       "      <th>359</th>\n",
       "      <td>9</td>\n",
       "      <td>B48039</td>\n",
       "      <td>5</td>\n",
       "    </tr>\n",
       "    <tr>\n",
       "      <th>360</th>\n",
       "      <td>9</td>\n",
       "      <td>B48041</td>\n",
       "      <td>1</td>\n",
       "    </tr>\n",
       "    <tr>\n",
       "      <th>361</th>\n",
       "      <td>9</td>\n",
       "      <td>B48044</td>\n",
       "      <td>8</td>\n",
       "    </tr>\n",
       "    <tr>\n",
       "      <th>362</th>\n",
       "      <td>9</td>\n",
       "      <td>B48045</td>\n",
       "      <td>8</td>\n",
       "    </tr>\n",
       "  </tbody>\n",
       "</table>\n",
       "<p>363 rows × 3 columns</p>\n",
       "</div>"
      ],
      "text/plain": [
       "     station_id pol_var_id  cluster\n",
       "0            10     B48001        4\n",
       "1            10     B48002       10\n",
       "2            10     B48003        6\n",
       "3            10     B48005        1\n",
       "4            10     B48006        3\n",
       "..          ...        ...      ...\n",
       "358           9     B48038        2\n",
       "359           9     B48039        5\n",
       "360           9     B48041        1\n",
       "361           9     B48044        8\n",
       "362           9     B48045        8\n",
       "\n",
       "[363 rows x 3 columns]"
      ]
     },
     "execution_count": 16,
     "metadata": {},
     "output_type": "execute_result"
    }
   ],
   "source": [
    "cluster_n = 0\n",
    "\n",
    "specie_cluster = clusters #[clusters.cluster == cluster_n] #.sample(1) ### .sample() is for debugging purpose!\n",
    "specie_cluster"
   ]
  },
  {
   "cell_type": "markdown",
   "id": "f0a44310-8ec9-4eb0-af87-a81216fdd6eb",
   "metadata": {},
   "source": [
    "### 4.2 Select data"
   ]
  },
  {
   "cell_type": "code",
   "execution_count": 17,
   "id": "47373ace-86f3-4011-8143-794b3dc7f7d9",
   "metadata": {
    "tags": []
   },
   "outputs": [
    {
     "name": "stdout",
     "output_type": "stream",
     "text": [
      "(1361784, 35)\n"
     ]
    },
    {
     "data": {
      "text/html": [
       "<div>\n",
       "<style scoped>\n",
       "    .dataframe tbody tr th:only-of-type {\n",
       "        vertical-align: middle;\n",
       "    }\n",
       "\n",
       "    .dataframe tbody tr th {\n",
       "        vertical-align: top;\n",
       "    }\n",
       "\n",
       "    .dataframe thead th {\n",
       "        text-align: right;\n",
       "    }\n",
       "</style>\n",
       "<table border=\"1\" class=\"dataframe\">\n",
       "  <thead>\n",
       "    <tr style=\"text-align: right;\">\n",
       "      <th></th>\n",
       "      <th>station_id</th>\n",
       "      <th>B13011_min</th>\n",
       "      <th>B13011_max</th>\n",
       "      <th>B13011_mean</th>\n",
       "      <th>B13011_std</th>\n",
       "      <th>B13011_sum</th>\n",
       "      <th>B14198_min</th>\n",
       "      <th>B14198_max</th>\n",
       "      <th>B14198_mean</th>\n",
       "      <th>B14198_std</th>\n",
       "      <th>...</th>\n",
       "      <th>meteo_id</th>\n",
       "      <th>pol_var_id</th>\n",
       "      <th>pol_value</th>\n",
       "      <th>modified</th>\n",
       "      <th>pol_var_descr</th>\n",
       "      <th>week</th>\n",
       "      <th>year</th>\n",
       "      <th>month</th>\n",
       "      <th>seasonal</th>\n",
       "      <th>cluster</th>\n",
       "    </tr>\n",
       "  </thead>\n",
       "  <tbody>\n",
       "    <tr>\n",
       "      <th>0</th>\n",
       "      <td>1</td>\n",
       "      <td>0.0</td>\n",
       "      <td>0.0</td>\n",
       "      <td>0.000000</td>\n",
       "      <td>0.000000</td>\n",
       "      <td>0.0</td>\n",
       "      <td>-11.0</td>\n",
       "      <td>588.0</td>\n",
       "      <td>138.76</td>\n",
       "      <td>200.669770</td>\n",
       "      <td>...</td>\n",
       "      <td>01421</td>\n",
       "      <td>B48001</td>\n",
       "      <td>0.0</td>\n",
       "      <td>1</td>\n",
       "      <td>Graminacee_Graminacee indistinte, POLLEN/M**3</td>\n",
       "      <td>9</td>\n",
       "      <td>2006</td>\n",
       "      <td>3</td>\n",
       "      <td>-7.423273</td>\n",
       "      <td>4</td>\n",
       "    </tr>\n",
       "    <tr>\n",
       "      <th>1</th>\n",
       "      <td>1</td>\n",
       "      <td>0.0</td>\n",
       "      <td>0.0</td>\n",
       "      <td>0.000000</td>\n",
       "      <td>0.000000</td>\n",
       "      <td>0.0</td>\n",
       "      <td>-6.0</td>\n",
       "      <td>351.0</td>\n",
       "      <td>61.56</td>\n",
       "      <td>98.767015</td>\n",
       "      <td>...</td>\n",
       "      <td>01421</td>\n",
       "      <td>B48001</td>\n",
       "      <td>0.0</td>\n",
       "      <td>1</td>\n",
       "      <td>Graminacee_Graminacee indistinte, POLLEN/M**3</td>\n",
       "      <td>9</td>\n",
       "      <td>2006</td>\n",
       "      <td>3</td>\n",
       "      <td>-7.420884</td>\n",
       "      <td>4</td>\n",
       "    </tr>\n",
       "    <tr>\n",
       "      <th>2</th>\n",
       "      <td>1</td>\n",
       "      <td>0.0</td>\n",
       "      <td>0.0</td>\n",
       "      <td>0.000000</td>\n",
       "      <td>0.000000</td>\n",
       "      <td>0.0</td>\n",
       "      <td>-5.0</td>\n",
       "      <td>406.0</td>\n",
       "      <td>87.12</td>\n",
       "      <td>133.675702</td>\n",
       "      <td>...</td>\n",
       "      <td>01421</td>\n",
       "      <td>B48001</td>\n",
       "      <td>0.0</td>\n",
       "      <td>1</td>\n",
       "      <td>Graminacee_Graminacee indistinte, POLLEN/M**3</td>\n",
       "      <td>9</td>\n",
       "      <td>2006</td>\n",
       "      <td>3</td>\n",
       "      <td>-7.505362</td>\n",
       "      <td>4</td>\n",
       "    </tr>\n",
       "    <tr>\n",
       "      <th>3</th>\n",
       "      <td>1</td>\n",
       "      <td>0.0</td>\n",
       "      <td>0.0</td>\n",
       "      <td>0.000000</td>\n",
       "      <td>0.000000</td>\n",
       "      <td>0.0</td>\n",
       "      <td>-9.0</td>\n",
       "      <td>580.0</td>\n",
       "      <td>137.80</td>\n",
       "      <td>197.542822</td>\n",
       "      <td>...</td>\n",
       "      <td>01421</td>\n",
       "      <td>B48001</td>\n",
       "      <td>0.0</td>\n",
       "      <td>1</td>\n",
       "      <td>Graminacee_Graminacee indistinte, POLLEN/M**3</td>\n",
       "      <td>9</td>\n",
       "      <td>2006</td>\n",
       "      <td>3</td>\n",
       "      <td>-5.268076</td>\n",
       "      <td>4</td>\n",
       "    </tr>\n",
       "    <tr>\n",
       "      <th>4</th>\n",
       "      <td>1</td>\n",
       "      <td>0.0</td>\n",
       "      <td>7.2</td>\n",
       "      <td>0.360656</td>\n",
       "      <td>1.039593</td>\n",
       "      <td>44.0</td>\n",
       "      <td>-5.0</td>\n",
       "      <td>310.0</td>\n",
       "      <td>69.16</td>\n",
       "      <td>100.580266</td>\n",
       "      <td>...</td>\n",
       "      <td>01421</td>\n",
       "      <td>B48001</td>\n",
       "      <td>0.0</td>\n",
       "      <td>1</td>\n",
       "      <td>Graminacee_Graminacee indistinte, POLLEN/M**3</td>\n",
       "      <td>10</td>\n",
       "      <td>2006</td>\n",
       "      <td>3</td>\n",
       "      <td>-5.351214</td>\n",
       "      <td>4</td>\n",
       "    </tr>\n",
       "  </tbody>\n",
       "</table>\n",
       "<p>5 rows × 35 columns</p>\n",
       "</div>"
      ],
      "text/plain": [
       "   station_id  B13011_min  B13011_max  B13011_mean  B13011_std  B13011_sum  \\\n",
       "0           1         0.0         0.0     0.000000    0.000000         0.0   \n",
       "1           1         0.0         0.0     0.000000    0.000000         0.0   \n",
       "2           1         0.0         0.0     0.000000    0.000000         0.0   \n",
       "3           1         0.0         0.0     0.000000    0.000000         0.0   \n",
       "4           1         0.0         7.2     0.360656    1.039593        44.0   \n",
       "\n",
       "   B14198_min  B14198_max  B14198_mean  B14198_std  ...  meteo_id  pol_var_id  \\\n",
       "0       -11.0       588.0       138.76  200.669770  ...     01421      B48001   \n",
       "1        -6.0       351.0        61.56   98.767015  ...     01421      B48001   \n",
       "2        -5.0       406.0        87.12  133.675702  ...     01421      B48001   \n",
       "3        -9.0       580.0       137.80  197.542822  ...     01421      B48001   \n",
       "4        -5.0       310.0        69.16  100.580266  ...     01421      B48001   \n",
       "\n",
       "   pol_value  modified                                  pol_var_descr  week  \\\n",
       "0        0.0         1  Graminacee_Graminacee indistinte, POLLEN/M**3     9   \n",
       "1        0.0         1  Graminacee_Graminacee indistinte, POLLEN/M**3     9   \n",
       "2        0.0         1  Graminacee_Graminacee indistinte, POLLEN/M**3     9   \n",
       "3        0.0         1  Graminacee_Graminacee indistinte, POLLEN/M**3     9   \n",
       "4        0.0         1  Graminacee_Graminacee indistinte, POLLEN/M**3    10   \n",
       "\n",
       "   year  month  seasonal  cluster  \n",
       "0  2006      3 -7.423273        4  \n",
       "1  2006      3 -7.420884        4  \n",
       "2  2006      3 -7.505362        4  \n",
       "3  2006      3 -5.268076        4  \n",
       "4  2006      3 -5.351214        4  \n",
       "\n",
       "[5 rows x 35 columns]"
      ]
     },
     "execution_count": 17,
     "metadata": {},
     "output_type": "execute_result"
    }
   ],
   "source": [
    "# Select species/stations from cluster result\n",
    "\n",
    "df_feature = pd.merge(raw_df, specie_cluster, on=[\"station_id\", \"pol_var_id\"], how=\"inner\")\n",
    "# df_feature = df_feature[features + [seasonal_feature, y_label]]\n",
    "df_feature.station_id = df_feature.station_id.astype(int)\n",
    "df_feature.dropna(inplace=True)\n",
    "\n",
    "assert len(specie_cluster) == len(df_feature[[\"station_id\", \"pol_var_id\"]].drop_duplicates())\n",
    "\n",
    "print(df_feature.shape)\n",
    "df_feature.head(5)"
   ]
  },
  {
   "cell_type": "markdown",
   "id": "097852bc-8680-4886-81d5-1dc8933aa49e",
   "metadata": {},
   "source": [
    "### 4.3 Shift pollen value to predict by one day"
   ]
  },
  {
   "cell_type": "code",
   "execution_count": 18,
   "id": "066af6c8-1df2-4c0e-97d4-1d6d1228e186",
   "metadata": {
    "tags": []
   },
   "outputs": [
    {
     "data": {
      "text/plain": [
       "(1361421, 35)"
      ]
     },
     "execution_count": 18,
     "metadata": {},
     "output_type": "execute_result"
    }
   ],
   "source": [
    "### Applying shift here\n",
    "df_feature['pol_value'] = df_feature.groupby(['station_id', 'pol_var_id'])['pol_value'].shift(-1)\n",
    "df_feature.dropna(inplace=True)\n",
    "df_feature.shape"
   ]
  },
  {
   "cell_type": "markdown",
   "id": "4716e8f5-663b-41e8-a060-c15ab818f0a7",
   "metadata": {},
   "source": [
    "### 4.4 Previous days values as feature"
   ]
  },
  {
   "cell_type": "code",
   "execution_count": 19,
   "id": "0ede9fc3-229c-47d3-aea9-511a76ac11af",
   "metadata": {
    "tags": []
   },
   "outputs": [],
   "source": [
    "# ### Pollen\n",
    "# how_many_previous_days = 7\n",
    "# columns_to_shift = \n",
    "\n",
    "# for shift_n in range(1, how_many_previous_days+1):\n",
    "#     feat_name = f\"pol_value_prev_{shift_n}D\"\n",
    "#     df_feature[feat_name] = df_feature.groupby(['station_id', 'pol_var_id'])['pol_value'].shift(+shift_n)\n",
    "\n",
    "# # df_feature[[\"pol_value\", 'pol_value_prev_1D', 'pol_value_prev_2D', 'pol_value_prev_3D', 'pol_value_prev_4D']].head(20)\n",
    "\n",
    "# df_feature.dropna(inplace=True)\n",
    "# df_feature.shape"
   ]
  },
  {
   "cell_type": "code",
   "execution_count": 20,
   "id": "a526a25c-ebd1-41e7-9d68-1a219329a346",
   "metadata": {
    "tags": []
   },
   "outputs": [
    {
     "data": {
      "text/plain": [
       "(1359606, 51)"
      ]
     },
     "execution_count": 20,
     "metadata": {},
     "output_type": "execute_result"
    }
   ],
   "source": [
    "### Pollen\n",
    "how_many_previous_days = 5\n",
    "columns_to_shift = [\"pol_value\", \"PREC\", \"TEMP_max\"]\n",
    "\n",
    "for shift_n in range(1, how_many_previous_days+1):\n",
    "    feat_names = [f\"{col}_prev_{shift_n}D\" for col in columns_to_shift]\n",
    "    df_feature[feat_names] = df_feature.groupby(['station_id', 'pol_var_id'])[columns_to_shift].shift(+shift_n)\n",
    "\n",
    "# df_feature[[\"pol_value\", 'pol_value_prev_1D', 'pol_value_prev_2D', 'pol_value_prev_3D', 'pol_value_prev_4D']].head(20)\n",
    "\n",
    "df_feature.dropna(inplace=True)\n",
    "df_feature.reset_index(inplace=True)\n",
    "df_feature.shape"
   ]
  },
  {
   "cell_type": "markdown",
   "id": "29f425ec-9150-4ee4-a5f7-e5e93cd28ada",
   "metadata": {},
   "source": [
    "### 4.5 Specie and station are added as a categorical feature to our model"
   ]
  },
  {
   "cell_type": "code",
   "execution_count": 21,
   "id": "b2a95044-c060-4158-876b-875cea6d6c2f",
   "metadata": {
    "tags": []
   },
   "outputs": [
    {
     "data": {
      "text/html": [
       "<div>\n",
       "<style scoped>\n",
       "    .dataframe tbody tr th:only-of-type {\n",
       "        vertical-align: middle;\n",
       "    }\n",
       "\n",
       "    .dataframe tbody tr th {\n",
       "        vertical-align: top;\n",
       "    }\n",
       "\n",
       "    .dataframe thead th {\n",
       "        text-align: right;\n",
       "    }\n",
       "</style>\n",
       "<table border=\"1\" class=\"dataframe\">\n",
       "  <thead>\n",
       "    <tr style=\"text-align: right;\">\n",
       "      <th></th>\n",
       "      <th>index</th>\n",
       "      <th>station_id</th>\n",
       "      <th>B13011_min</th>\n",
       "      <th>B13011_max</th>\n",
       "      <th>B13011_mean</th>\n",
       "      <th>B13011_std</th>\n",
       "      <th>B13011_sum</th>\n",
       "      <th>B14198_min</th>\n",
       "      <th>B14198_max</th>\n",
       "      <th>B14198_mean</th>\n",
       "      <th>...</th>\n",
       "      <th>pol_var_id_2</th>\n",
       "      <th>pol_var_id_4</th>\n",
       "      <th>pol_var_id_5</th>\n",
       "      <th>pol_var_id_6</th>\n",
       "      <th>pol_var_id_7</th>\n",
       "      <th>pol_var_id_8</th>\n",
       "      <th>pol_var_id_9</th>\n",
       "      <th>pol_var_id_10</th>\n",
       "      <th>pol_var_id_11</th>\n",
       "      <th>pol_var_id_13</th>\n",
       "    </tr>\n",
       "  </thead>\n",
       "  <tbody>\n",
       "    <tr>\n",
       "      <th>0</th>\n",
       "      <td>5</td>\n",
       "      <td>1</td>\n",
       "      <td>0.0</td>\n",
       "      <td>23.4</td>\n",
       "      <td>0.403279</td>\n",
       "      <td>2.959337</td>\n",
       "      <td>49.2</td>\n",
       "      <td>-8.0</td>\n",
       "      <td>649.0</td>\n",
       "      <td>159.56</td>\n",
       "      <td>...</td>\n",
       "      <td>0</td>\n",
       "      <td>0</td>\n",
       "      <td>0</td>\n",
       "      <td>0</td>\n",
       "      <td>0</td>\n",
       "      <td>0</td>\n",
       "      <td>0</td>\n",
       "      <td>0</td>\n",
       "      <td>0</td>\n",
       "      <td>0</td>\n",
       "    </tr>\n",
       "    <tr>\n",
       "      <th>1</th>\n",
       "      <td>6</td>\n",
       "      <td>1</td>\n",
       "      <td>0.0</td>\n",
       "      <td>0.4</td>\n",
       "      <td>0.003279</td>\n",
       "      <td>0.036214</td>\n",
       "      <td>0.4</td>\n",
       "      <td>-10.0</td>\n",
       "      <td>660.0</td>\n",
       "      <td>167.40</td>\n",
       "      <td>...</td>\n",
       "      <td>0</td>\n",
       "      <td>0</td>\n",
       "      <td>0</td>\n",
       "      <td>0</td>\n",
       "      <td>0</td>\n",
       "      <td>0</td>\n",
       "      <td>0</td>\n",
       "      <td>0</td>\n",
       "      <td>0</td>\n",
       "      <td>0</td>\n",
       "    </tr>\n",
       "    <tr>\n",
       "      <th>2</th>\n",
       "      <td>7</td>\n",
       "      <td>1</td>\n",
       "      <td>0.0</td>\n",
       "      <td>0.0</td>\n",
       "      <td>0.000000</td>\n",
       "      <td>0.000000</td>\n",
       "      <td>0.0</td>\n",
       "      <td>-14.0</td>\n",
       "      <td>649.0</td>\n",
       "      <td>163.60</td>\n",
       "      <td>...</td>\n",
       "      <td>0</td>\n",
       "      <td>0</td>\n",
       "      <td>0</td>\n",
       "      <td>0</td>\n",
       "      <td>0</td>\n",
       "      <td>0</td>\n",
       "      <td>0</td>\n",
       "      <td>0</td>\n",
       "      <td>0</td>\n",
       "      <td>0</td>\n",
       "    </tr>\n",
       "    <tr>\n",
       "      <th>3</th>\n",
       "      <td>8</td>\n",
       "      <td>1</td>\n",
       "      <td>0.0</td>\n",
       "      <td>0.0</td>\n",
       "      <td>0.000000</td>\n",
       "      <td>0.000000</td>\n",
       "      <td>0.0</td>\n",
       "      <td>-12.0</td>\n",
       "      <td>629.0</td>\n",
       "      <td>144.80</td>\n",
       "      <td>...</td>\n",
       "      <td>0</td>\n",
       "      <td>0</td>\n",
       "      <td>0</td>\n",
       "      <td>0</td>\n",
       "      <td>0</td>\n",
       "      <td>0</td>\n",
       "      <td>0</td>\n",
       "      <td>0</td>\n",
       "      <td>0</td>\n",
       "      <td>0</td>\n",
       "    </tr>\n",
       "    <tr>\n",
       "      <th>4</th>\n",
       "      <td>9</td>\n",
       "      <td>1</td>\n",
       "      <td>0.0</td>\n",
       "      <td>10.4</td>\n",
       "      <td>0.308197</td>\n",
       "      <td>1.129367</td>\n",
       "      <td>37.6</td>\n",
       "      <td>-8.0</td>\n",
       "      <td>610.0</td>\n",
       "      <td>97.80</td>\n",
       "      <td>...</td>\n",
       "      <td>0</td>\n",
       "      <td>0</td>\n",
       "      <td>0</td>\n",
       "      <td>0</td>\n",
       "      <td>0</td>\n",
       "      <td>0</td>\n",
       "      <td>0</td>\n",
       "      <td>0</td>\n",
       "      <td>0</td>\n",
       "      <td>0</td>\n",
       "    </tr>\n",
       "  </tbody>\n",
       "</table>\n",
       "<p>5 rows × 73 columns</p>\n",
       "</div>"
      ],
      "text/plain": [
       "   index  station_id  B13011_min  B13011_max  B13011_mean  B13011_std  \\\n",
       "0      5           1         0.0        23.4     0.403279    2.959337   \n",
       "1      6           1         0.0         0.4     0.003279    0.036214   \n",
       "2      7           1         0.0         0.0     0.000000    0.000000   \n",
       "3      8           1         0.0         0.0     0.000000    0.000000   \n",
       "4      9           1         0.0        10.4     0.308197    1.129367   \n",
       "\n",
       "   B13011_sum  B14198_min  B14198_max  B14198_mean  ...  pol_var_id_2  \\\n",
       "0        49.2        -8.0       649.0       159.56  ...             0   \n",
       "1         0.4       -10.0       660.0       167.40  ...             0   \n",
       "2         0.0       -14.0       649.0       163.60  ...             0   \n",
       "3         0.0       -12.0       629.0       144.80  ...             0   \n",
       "4        37.6        -8.0       610.0        97.80  ...             0   \n",
       "\n",
       "   pol_var_id_4  pol_var_id_5  pol_var_id_6  pol_var_id_7  pol_var_id_8  \\\n",
       "0             0             0             0             0             0   \n",
       "1             0             0             0             0             0   \n",
       "2             0             0             0             0             0   \n",
       "3             0             0             0             0             0   \n",
       "4             0             0             0             0             0   \n",
       "\n",
       "   pol_var_id_9  pol_var_id_10  pol_var_id_11  pol_var_id_13  \n",
       "0             0              0              0              0  \n",
       "1             0              0              0              0  \n",
       "2             0              0              0              0  \n",
       "3             0              0              0              0  \n",
       "4             0              0              0              0  \n",
       "\n",
       "[5 rows x 73 columns]"
      ]
     },
     "execution_count": 21,
     "metadata": {},
     "output_type": "execute_result"
    }
   ],
   "source": [
    "# le = LabelEncoder()\n",
    "# df_feature[\"station_id\"] = le.fit_transform(df_feature[\"station_id\"])\n",
    "# df_feature[\"pol_var_id\"] = le.fit_transform(df_feature[\"pol_var_id\"])\n",
    "\n",
    "# print(\"Station id:\", df_feature.station_id.unique())\n",
    "# print(\"Pollen id:\", df_feature.pol_var_id.unique())\n",
    "\n",
    "stations_one_hot_encoded = pd.get_dummies(df_feature['station_id'], prefix='station_id')\n",
    "pollen_one_hot_encoded = pd.get_dummies(df_feature['station_id'], prefix='pol_var_id')\n",
    "\n",
    "# Add one-hot encoded values to original dataframe\n",
    "df_feature = pd.concat([df_feature, stations_one_hot_encoded], axis=1)\n",
    "df_feature = pd.concat([df_feature, pollen_one_hot_encoded], axis=1)\n",
    "\n",
    "df_feature.head(5)"
   ]
  },
  {
   "cell_type": "markdown",
   "id": "0ad9d1e5-09d5-49e9-aced-cb013c2243e4",
   "metadata": {},
   "source": [
    "### 4.6 Training and Test set split"
   ]
  },
  {
   "cell_type": "code",
   "execution_count": 22,
   "id": "f08665b1-5af3-4968-91aa-2436c2688624",
   "metadata": {
    "tags": []
   },
   "outputs": [
    {
     "name": "stdout",
     "output_type": "stream",
     "text": [
      "55 features: ['month' 'station_lat' 'station_lon' 'station_H_piano_strada'\n",
      " 'station_H_mslm' 'B13011_min' 'B13011_max' 'B13011_mean' 'B13011_std'\n",
      " 'B14198_min' 'B14198_max' 'B14198_mean' 'B14198_std' 'TEMP_min'\n",
      " 'TEMP_max' 'TEMP_mean' 'TEMP_std' 'PREC' 'pol_value_prev_1D'\n",
      " 'pol_value_prev_2D' 'pol_value_prev_3D' 'pol_value_prev_4D'\n",
      " 'pol_value_prev_5D' 'PREC_prev_1D' 'PREC_prev_2D' 'PREC_prev_3D'\n",
      " 'PREC_prev_4D' 'PREC_prev_5D' 'TEMP_max_prev_1D' 'TEMP_max_prev_2D'\n",
      " 'TEMP_max_prev_3D' 'TEMP_max_prev_4D' 'TEMP_max_prev_5D' 'station_id_1'\n",
      " 'station_id_2' 'station_id_4' 'station_id_5' 'station_id_6'\n",
      " 'station_id_7' 'station_id_8' 'station_id_9' 'station_id_10'\n",
      " 'station_id_11' 'station_id_13' 'pol_var_id_1' 'pol_var_id_2'\n",
      " 'pol_var_id_4' 'pol_var_id_5' 'pol_var_id_6' 'pol_var_id_7'\n",
      " 'pol_var_id_8' 'pol_var_id_9' 'pol_var_id_10' 'pol_var_id_11'\n",
      " 'pol_var_id_13']\n"
     ]
    }
   ],
   "source": [
    "y_label = \"pol_value\"\n",
    "\n",
    "features = [\n",
    "    #\"station_id\",\n",
    "    #\"pol_var_id\",\n",
    "    \"month\",\n",
    "    \"station_lat\", \"station_lon\",\n",
    "    \"station_H_piano_strada\", \"station_H_mslm\",\n",
    "    \"B13011_min\", \"B13011_max\", \"B13011_mean\", \"B13011_std\",\n",
    "    \"B14198_min\", \"B14198_max\", \"B14198_mean\", \"B14198_std\",\n",
    "    \"TEMP_min\", \"TEMP_max\", \"TEMP_mean\", \"TEMP_std\",\n",
    "    \"PREC\"\n",
    "]\n",
    "\n",
    "# Add previous pollen day\n",
    "for col in columns_to_shift:\n",
    "    shifted_feature_names = df_feature.keys()[df_feature.keys().str.contains(f\"{col}_prev\")]\n",
    "    features.extend(shifted_feature_names.tolist())\n",
    "\n",
    "# Add one hot encodings of station and species\n",
    "station_one_hot = df_feature.keys()[df_feature.keys().str.contains(\"station_id_\")]\n",
    "features.extend(station_one_hot.tolist())\n",
    "\n",
    "pollen_one_hot = df_feature.keys()[df_feature.keys().str.contains(\"pol_var_id_\")]\n",
    "features.extend(pollen_one_hot.tolist())\n",
    "\n",
    "features = np.array(features)\n",
    "print(f\"{len(features)} features: {features}\")"
   ]
  },
  {
   "cell_type": "markdown",
   "id": "1e8a4dd9-57c7-48e4-9316-7528af39aaa0",
   "metadata": {},
   "source": [
    "### 4.8 Generate windows for LSTM, in batches"
   ]
  },
  {
   "cell_type": "code",
   "execution_count": 35,
   "id": "cbe86445-cad5-4e13-80c8-f1df708f5af6",
   "metadata": {
    "tags": []
   },
   "outputs": [
    {
     "name": "stdout",
     "output_type": "stream",
     "text": [
      "Training shapes: (1291625, 55) (1291625, 1) (1291625,)\n",
      "Test shapes:     (67981, 55) (67981, 1) (67981,)\n"
     ]
    }
   ],
   "source": [
    "X_features = df_feature[features]\n",
    "X_seasonal = df_feature[[seasonal_feature]]\n",
    "y = df_feature.pol_value\n",
    "\n",
    "split_idx = int(len(X_features) * .95)\n",
    "\n",
    "x_feature_train, x_seasonal_train, y_train = X_features[:split_idx], X_seasonal[:split_idx], y[:split_idx]\n",
    "x_feature_test,  x_seasonal_test,  y_test =  X_features[split_idx:], X_seasonal[split_idx:], y[split_idx:]\n",
    "\n",
    "print(\"Training shapes:\", x_feature_train.shape, x_seasonal_train.shape, y_train.shape)\n",
    "print(\"Test shapes:    \", x_feature_test.shape,  x_seasonal_test.shape,  y_test.shape)"
   ]
  },
  {
   "cell_type": "code",
   "execution_count": 36,
   "id": "5937a6e6-5f8d-459f-9b96-c87f40b70007",
   "metadata": {
    "tags": []
   },
   "outputs": [
    {
     "name": "stdout",
     "output_type": "stream",
     "text": [
      "Training window shapes: (1291619, 7, 55) (1291619, 7, 1) (1291619, 7, 1)\n",
      "Test window shapes:     (67975, 7, 55) (67975, 7, 1) (67975, 7, 1)\n"
     ]
    }
   ],
   "source": [
    "def gen_win(x, window_size=window_day_size, stride=1):\n",
    "    nw = ((x.shape[0] - window_size) // stride) + 1\n",
    "    w = np.lib.stride_tricks.as_strided(x, shape=(nw, window_size, x.shape[1]), strides=(x.strides[0] * stride, x.strides[0], x.strides[1]))\n",
    "    return w\n",
    "\n",
    "x_feature_train = gen_win(x_feature_train.values)\n",
    "x_seasonal_train = gen_win(x_seasonal_train.values)\n",
    "y_train_w = gen_win(y_train.values.reshape(-1,1))\n",
    "\n",
    "x_feature_test = gen_win(x_feature_test.values)\n",
    "x_seasonal_test = gen_win(x_seasonal_test.values)\n",
    "y_test_w = gen_win(y_test.values.reshape(-1,1))\n",
    "\n",
    "print(\"Training window shapes:\", x_feature_train.shape, x_seasonal_train.shape, y_train_w.shape)\n",
    "print(\"Test window shapes:    \", x_feature_test.shape,  x_seasonal_test.shape,  y_test_w.shape)"
   ]
  },
  {
   "cell_type": "code",
   "execution_count": null,
   "id": "f171f3f0-9ccc-46fc-b49d-4907c28d4411",
   "metadata": {},
   "outputs": [],
   "source": []
  },
  {
   "cell_type": "markdown",
   "id": "c8489c43-ef90-4942-ac58-9b3ad394633c",
   "metadata": {},
   "source": [
    "### 4.9 Training/test split"
   ]
  },
  {
   "cell_type": "code",
   "execution_count": 26,
   "id": "a068d08a-aac6-40df-a28b-01a0f2dfbec1",
   "metadata": {
    "tags": []
   },
   "outputs": [],
   "source": [
    "# X = df_feature[np.hstack([features, [seasonal_feature]])]\n",
    "# y = df_feature.pol_value\n",
    "\n",
    "# split_idx = int(len(X) * .95)\n",
    "\n",
    "# x_train, y_train = X[:split_idx], y[:split_idx]\n",
    "# x_test, y_test = X[split_idx:], y[split_idx:]\n",
    "\n",
    "# x_train.shape, y_train.shape, x_test.shape, y_test.shape"
   ]
  },
  {
   "cell_type": "code",
   "execution_count": null,
   "id": "31a289ac-c305-4776-b80a-e623fc461f74",
   "metadata": {},
   "outputs": [],
   "source": []
  },
  {
   "cell_type": "code",
   "execution_count": 38,
   "id": "b1acb973-8b58-41ed-b269-a903ec81b417",
   "metadata": {
    "tags": []
   },
   "outputs": [],
   "source": [
    "# training_size = .9"
   ]
  },
  {
   "cell_type": "code",
   "execution_count": 37,
   "id": "0459f8b9-d619-4e82-b063-1c38d107db01",
   "metadata": {
    "tags": []
   },
   "outputs": [],
   "source": [
    "# ### Group by station and pollen\n",
    "# groups = df_feature.groupby([\"station_id\", \"pol_var_id\"])\n",
    "\n",
    "# ### Get training_size rows for each group\n",
    "# training_idxs = groups.apply(lambda g: g.index.values[:int(len(g.index.values) * training_size)])\n",
    "# training_idxs = np.hstack(training_idxs.values)\n",
    "\n",
    "# ### Get test indexes as the remaining ones\n",
    "# test_idxs = df_feature[~df_feature.index.isin(training_idxs)].index\n",
    "\n",
    "# len(df_feature.index), len(training_idxs), len(test_idxs), (len(training_idxs)+len(test_idxs))==len(df_feature.index)"
   ]
  },
  {
   "cell_type": "code",
   "execution_count": 39,
   "id": "b6ee11ab-4df0-48fd-a520-4c6f45ae8d0c",
   "metadata": {
    "tags": []
   },
   "outputs": [],
   "source": [
    "# X = df_feature[np.hstack([features, [seasonal_feature]])]\n",
    "# y = df_feature.pol_value\n",
    "\n",
    "# x_train, y_train = X.loc[training_idxs], y[training_idxs]\n",
    "# x_test, y_test = X.loc[test_idxs], y[test_idxs]\n",
    "\n",
    "# x_train.shape, y_train.shape, x_test.shape, y_test.shape"
   ]
  },
  {
   "cell_type": "code",
   "execution_count": null,
   "id": "28008750-3b34-47d8-a9f1-544fb1c66991",
   "metadata": {},
   "outputs": [],
   "source": []
  },
  {
   "cell_type": "markdown",
   "id": "6a8f0340-c03b-44c1-9945-86f07c7958cb",
   "metadata": {},
   "source": [
    "### 4.10 Create timeseries_dataset_from_array"
   ]
  },
  {
   "cell_type": "code",
   "execution_count": 33,
   "id": "36d5bc0f-a883-48f4-804a-30f27335ae0d",
   "metadata": {
    "tags": []
   },
   "outputs": [],
   "source": [
    "# batch_size = 512\n",
    "# window_day_size = 7\n",
    "\n",
    "# train_dataset = tf.keras.preprocessing.timeseries_dataset_from_array(\n",
    "#     x_train,\n",
    "#     y_train,\n",
    "#     sequence_length=window_day_size,\n",
    "#     batch_size=batch_size,\n",
    "# )\n",
    "\n",
    "# test_dataset = tf.keras.preprocessing.timeseries_dataset_from_array(\n",
    "#     x_test,\n",
    "#     y_test,\n",
    "#     sequence_length=window_day_size,\n",
    "#     batch_size=batch_size,\n",
    "# )"
   ]
  },
  {
   "cell_type": "code",
   "execution_count": null,
   "id": "ee293164-23ab-40a0-8966-a6fc1ecaf324",
   "metadata": {},
   "outputs": [],
   "source": []
  },
  {
   "cell_type": "markdown",
   "id": "9d99b597-83e1-486b-b018-20b4cbde7fd2",
   "metadata": {},
   "source": [
    "### 4.11 Feature Selection"
   ]
  },
  {
   "cell_type": "code",
   "execution_count": 31,
   "id": "eebf956c-20f8-4d80-a45e-c722e53919e2",
   "metadata": {
    "tags": []
   },
   "outputs": [],
   "source": [
    "# from sklearn.feature_selection import RFECV\n",
    "# from sklearn.linear_model import LinearRegression\n",
    "# X = np.hstack([X_features, X_seasonal])\n",
    "# clf = LinearRegression().fit(X, y)\n",
    "# selector = RFECV(clf, step=1, cv=5, n_jobs=-1)\n",
    "# selector = selector.fit(X, y)\n",
    "# features[selector.support_[:-1]]\n",
    "# features[selector.ranking_[:-1]]"
   ]
  },
  {
   "cell_type": "code",
   "execution_count": null,
   "id": "6f18e8e6-f725-40bf-a5ad-55054f148094",
   "metadata": {},
   "outputs": [],
   "source": []
  },
  {
   "cell_type": "markdown",
   "id": "21967fa6-5b4b-47b6-955c-0e81671663ba",
   "metadata": {},
   "source": [
    "# 5. Model training"
   ]
  },
  {
   "cell_type": "markdown",
   "id": "7420748b-8a66-4940-9de5-93ddc220d2cd",
   "metadata": {
    "tags": []
   },
   "source": [
    "### Multiple Input, LSTM, Attention"
   ]
  },
  {
   "cell_type": "code",
   "execution_count": 32,
   "id": "a75eb6ca-e7ef-4216-85b7-3f5806c8414e",
   "metadata": {
    "tags": []
   },
   "outputs": [],
   "source": [
    "# def get_model():\n",
    "#     # Define model inputs\n",
    "#     input_left = tf.keras.layers.Input(shape=(window_day_size, x_feature_train.shape[-1]))\n",
    "#     input_right = tf.keras.layers.Input(shape=(window_day_size, x_seasonal_train.shape[-1]))\n",
    "\n",
    "#     # Left branch\n",
    "#     x1 = tf.keras.layers.LSTM(units=512, return_sequences=True)(input_left)\n",
    "#     x1 = tf.keras.layers.LSTM(units=256)(x1)\n",
    "\n",
    "#     # Right branch\n",
    "#     x2 = tf.keras.layers.LSTM(units=512, return_sequences=True)(input_right)\n",
    "#     x2 = tf.keras.layers.LSTM(units=256)(x2)\n",
    "\n",
    "#     # Concatenate Left/Right input\n",
    "#     # concatenated = tf.keras.layers.concatenate([x1, x2])\n",
    "#     # concatenated = tf.keras.layers.Multiply([x1, x2])\n",
    "\n",
    "#     ### With Attention layer\n",
    "#     attn_layer = tf.keras.layers.Attention()([x1, x2])\n",
    "#     attn_output = tf.keras.layers.Dense(units=64, activation=\"relu\")(attn_layer)\n",
    "#     # concatenated = tf.keras.layers.concatenate([concatenated, attn_output])\n",
    "\n",
    "#     # Output layer\n",
    "#     output_layer = tf.keras.layers.Dense(units=1)\n",
    "\n",
    "#     # Define model architecture\n",
    "#     model = tf.keras.models.Model(inputs=[input_left, input_right], outputs=output_layer(attn_output)) #concatenated))\n",
    "\n",
    "#     n_epochs = 100\n",
    "#     batch_size = 512\n",
    "#     learning_rate = .005\n",
    "\n",
    "#     optimizer = Adam(learning_rate=learning_rate)\n",
    "#     model.compile(optimizer=optimizer, loss=\"mse\")\n",
    "#     return model"
   ]
  },
  {
   "cell_type": "markdown",
   "id": "ce5f8a86-3fc9-4d7e-aaf1-00a6b20aa7a2",
   "metadata": {
    "tags": []
   },
   "source": [
    "### Multiple Input, LSTM, MultiHeadAttention"
   ]
  },
  {
   "cell_type": "code",
   "execution_count": 33,
   "id": "46711e1f-dcbd-4731-9328-fa12b8708d79",
   "metadata": {
    "tags": []
   },
   "outputs": [],
   "source": [
    "# def get_model():\n",
    "#     # Define model inputs\n",
    "#     input_left = tf.keras.layers.Input(shape=(window_day_size, x_feature_train.shape[-1]))\n",
    "#     input_right = tf.keras.layers.Input(shape=(window_day_size, x_seasonal_train.shape[-1]))\n",
    "\n",
    "#     # Left branch\n",
    "#     x1 = tf.keras.layers.LSTM(units=512, return_sequences=True)(input_left)\n",
    "#     x1 = tf.keras.layers.LSTM(units=256, return_sequences=True)(x1)\n",
    "\n",
    "#     # Right branch\n",
    "#     x2 = tf.keras.layers.LSTM(units=512, return_sequences=True)(input_right)\n",
    "#     x2 = tf.keras.layers.LSTM(units=256, return_sequences=True)(x2)\n",
    "\n",
    "#     ### MultiHeadAttention Layer\n",
    "#     attn_layer = tf.keras.layers.MultiHeadAttention(num_heads=8, key_dim=64)(query=x1, value=x1, key=x2)\n",
    "#     attn_output = tf.keras.layers.Dense(units=64, activation=\"relu\")(attn_layer)\n",
    "    \n",
    "#     attn_lstm = tf.keras.layers.LSTM(units=64)(attn_output)\n",
    "#     dense_lst = tf.keras.layers.Dense(units=16)(attn_lstm)\n",
    "\n",
    "#     # Output layer\n",
    "#     output_layer = tf.keras.layers.Dense(units=1)\n",
    "\n",
    "#     # Define model architecture\n",
    "#     model = tf.keras.models.Model(inputs=[input_left, input_right], outputs=output_layer(attn_lstm))\n",
    "\n",
    "#     optimizer = Adam(learning_rate=learning_rate)\n",
    "#     model.compile(optimizer=optimizer, loss=\"mse\")\n",
    "#     return model"
   ]
  },
  {
   "cell_type": "markdown",
   "id": "a67eccec-9f4c-4c8e-91ae-787cb15edcc0",
   "metadata": {
    "tags": []
   },
   "source": [
    "### Multiple Input, LSTM, MultiHeadAttention"
   ]
  },
  {
   "cell_type": "code",
   "execution_count": 40,
   "id": "72cb3e8d-4143-4b1f-9997-40d1dd525add",
   "metadata": {
    "tags": []
   },
   "outputs": [
    {
     "name": "stdout",
     "output_type": "stream",
     "text": [
      "rm: cannot remove 'data/model/best_model.h5': No such file or directory\n"
     ]
    },
    {
     "data": {
      "application/vnd.jupyter.widget-view+json": {
       "model_id": "683de34f22aa4285a91a955254d9c4b0",
       "version_major": 2,
       "version_minor": 0
      },
      "text/plain": [
       "0epoch [00:00, ?epoch/s]"
      ]
     },
     "metadata": {},
     "output_type": "display_data"
    },
    {
     "data": {
      "application/vnd.jupyter.widget-view+json": {
       "model_id": "",
       "version_major": 2,
       "version_minor": 0
      },
      "text/plain": [
       "0batch [00:00, ?batch/s]"
      ]
     },
     "metadata": {},
     "output_type": "display_data"
    },
    {
     "name": "stderr",
     "output_type": "stream",
     "text": [
      "2023-03-21 09:49:31.586961: I tensorflow/stream_executor/cuda/cuda_dnn.cc:384] Loaded cuDNN version 8600\n",
      "2023-03-21 09:49:31.773712: I tensorflow/stream_executor/cuda/cuda_blas.cc:1614] TensorFloat-32 will be used for the matrix multiplication. This will only be logged once.\n",
      "2023-03-21 09:49:31.773734: I tensorflow/stream_executor/cuda/cuda_blas.cc:1614] TensorFloat-32 will be used for the matrix multiplication. This will only be logged once.\n"
     ]
    },
    {
     "name": "stdout",
     "output_type": "stream",
     "text": [
      "WARNING:tensorflow:Callback method `on_train_batch_end` is slow compared to the batch time (batch time: 0.0135s vs `on_train_batch_end` time: 0.0148s). Check your callbacks.\n",
      "Restoring model weights from the end of the best epoch: 31.\n",
      "Epoch 41: early stopping\n",
      "Loading best model\n"
     ]
    }
   ],
   "source": [
    "def get_model():\n",
    "    # Define model inputs\n",
    "    input_left = tf.keras.layers.Input(shape=(window_day_size, x_feature_train.shape[-1]))\n",
    "    input_right = tf.keras.layers.Input(shape=(window_day_size, x_seasonal_train.shape[-1]))\n",
    "\n",
    "    # Concatenate\n",
    "    input_layer = tf.keras.layers.concatenate([input_left, input_right])\n",
    "    \n",
    "    dense_1 = tf.keras.layers.LSTM(units=256, return_sequences=True)(input_layer)\n",
    "\n",
    "    ### Multi head attention\n",
    "    # attn_layer = tf.keras.layers.MultiHeadAttention(num_heads=8, key_dim=64)(query=input_layer, value=input_layer, key=input_layer)\n",
    "    attn_layer = tf.keras.layers.MultiHeadAttention(num_heads=8, key_dim=64)(query=dense_1, value=dense_1, key=dense_1)\n",
    "    attn_output = tf.keras.layers.Dense(units=64, activation=\"relu\")(attn_layer)\n",
    "\n",
    "    # Reshape attention layer\n",
    "    # reshape_size = (attn_output.shape[1] * attn_output.shape[2],)\n",
    "    # att_reshape = tf.keras.layers.Reshape(reshape_size)(attn_output)\n",
    "    att_reshape = tf.keras.layers.Flatten()(attn_output)\n",
    "\n",
    "    # Dense layer\n",
    "    dense_lst_1 = tf.keras.layers.Dense(units=512)(att_reshape)\n",
    "    #dense_lst_2 = tf.keras.layers.Dense(units=256)(dense_lst_1)\n",
    "\n",
    "    # Output layer\n",
    "    output_layer = tf.keras.layers.Dense(units=1)\n",
    "\n",
    "    # Define model architecture\n",
    "    model = tf.keras.models.Model(inputs=[input_left, input_right], outputs=output_layer(dense_lst_1)) #2))\n",
    "\n",
    "    optimizer = Adam(learning_rate=learning_rate)\n",
    "    model.compile(optimizer=optimizer, loss=\"mse\")\n",
    "    return model\n",
    "\n",
    "early_stop = EarlyStopping(monitor='val_loss', patience=10, verbose=1, mode='min', restore_best_weights=True)\n",
    "model_checkpoint = ModelCheckpoint('data/model/best_model.h5', monitor='val_loss', mode='min', save_best_only=True)\n",
    "\n",
    "n_epochs = 100\n",
    "batch_size = 2048\n",
    "learning_rate = .0001\n",
    "\n",
    "!rm \"data/model/best_model.h5\"\n",
    "model = get_model()\n",
    "history = model.fit(\n",
    "    (x_feature_train, x_seasonal_train),\n",
    "    y_train_w,\n",
    "    validation_data=((x_feature_test, x_seasonal_test), y_test_w),\n",
    "    batch_size=batch_size,\n",
    "    epochs=n_epochs,\n",
    "    shuffle=True,\n",
    "    verbose=0,\n",
    "    callbacks=[early_stop, model_checkpoint, TqdmCallback(verbose=1)]\n",
    "    # callbacks=[model_checkpoint, TqdmCallback(verbose=1)]\n",
    "    # callbacks=[TqdmCallback(verbose=1)]\n",
    ")\n",
    "\n",
    "# Load the best model\n",
    "print(\"Loading best model\")\n",
    "model = tf.keras.models.load_model('data/model/best_model.h5')"
   ]
  },
  {
   "cell_type": "code",
   "execution_count": 43,
   "id": "836957d8-fbc9-4935-b9bf-25d854c0189a",
   "metadata": {
    "tags": []
   },
   "outputs": [],
   "source": [
    "# ## Test on training data\n",
    "# predictions = model.predict((x_feature_train, x_seasonal_train))\n",
    "# predictions = predictions.reshape(predictions.shape[0])\n",
    "# mse = model.evaluate((x_feature_train, x_seasonal_train), y_train_w, verbose=False)\n",
    "\n",
    "# plt.figure(figsize=(16,4))\n",
    "# plt.title(f\"Training Data Preditcions - MSE: {np.round(mse, 2)}\")\n",
    "# plt.plot(y_train.values, label=\"pol_value true\")\n",
    "# plt.plot(predictions, label=\"pol_value predicted\")\n",
    "# plt.legend(loc=\"upper right\")\n",
    "# plt.grid(alpha=.4)"
   ]
  },
  {
   "cell_type": "code",
   "execution_count": 42,
   "id": "8bba9662-af07-46ab-846f-43bf24acbcec",
   "metadata": {
    "tags": []
   },
   "outputs": [
    {
     "name": "stdout",
     "output_type": "stream",
     "text": [
      "2125/2125 [==============================] - 3s 1ms/step\n"
     ]
    },
    {
     "data": {
      "image/png": "[encoded data removed]",
      "text/plain": [
       "<Figure size 1600x400 with 1 Axes>"
      ]
     },
     "metadata": {},
     "output_type": "display_data"
    }
   ],
   "source": [
    "## Test on validation data\n",
    "predictions = model.predict((x_feature_test, x_seasonal_test))\n",
    "predictions = predictions.reshape(predictions.shape[0])\n",
    "mse = model.evaluate((x_feature_test, x_seasonal_test), y_test_w, verbose=False)\n",
    "\n",
    "plt.figure(figsize=(16,4))\n",
    "plt.title(f\"Validation Data Preditcions - MSE: {np.round(mse, 2)}\")\n",
    "plt.plot(y_test.values, label=\"pol_value true\")\n",
    "plt.plot(predictions, label=\"pol_value predicted\")\n",
    "plt.legend(loc=\"upper right\")\n",
    "plt.grid(alpha=.4)"
   ]
  },
  {
   "cell_type": "code",
   "execution_count": null,
   "id": "a0fb1242-52fc-4a21-a510-1e8e872ec3fe",
   "metadata": {},
   "outputs": [],
   "source": []
  },
  {
   "cell_type": "code",
   "execution_count": null,
   "id": "e29c7a9f-80dd-4107-a9a9-4b2d8a4ee1b9",
   "metadata": {},
   "outputs": [],
   "source": []
  },
  {
   "cell_type": "code",
   "execution_count": null,
   "id": "2c2df6cd-b0ca-4dd6-89f9-ab3273ea387d",
   "metadata": {},
   "outputs": [],
   "source": []
  }
 ],
 "metadata": {
  "kernelspec": {
   "display_name": "Python 3 (ipykernel)",
   "language": "python",
   "name": "python3"
  },
  "language_info": {
   "codemirror_mode": {
    "name": "ipython",
    "version": 3
   },
   "file_extension": ".py",
   "mimetype": "text/x-python",
   "name": "python",
   "nbconvert_exporter": "python",
   "pygments_lexer": "ipython3",
   "version": "3.10.9"
  }
 },
 "nbformat": 4,
 "nbformat_minor": 5
}
