{
 "cells": [
  {
   "cell_type": "markdown",
   "id": "89711db3-ecfa-4053-bf52-681910715b1b",
   "metadata": {
    "tags": [],
    "toc-hr-collapsed": true
   },
   "source": [
    "# LSTM/SelfAttention\n",
    "* Weekly data, normalized and not"
   ]
  },
  {
   "cell_type": "markdown",
   "id": "891c38f3-464b-4932-b531-a415a0519f9d",
   "metadata": {
    "tags": []
   },
   "source": [
    "# Imports"
   ]
  },
  {
   "cell_type": "code",
   "execution_count": 3,
   "id": "17351dbc",
   "metadata": {
    "tags": []
   },
   "outputs": [],
   "source": [
    "import os\n",
    "import random\n",
    "import calendar\n",
    "import datetime\n",
    "import warnings\n",
    "import logging\n",
    "import numpy as np\n",
    "import pandas as pd\n",
    "from datetime import timedelta\n",
    "from collections import Counter\n",
    "from google.cloud import bigquery\n",
    "from dotenv import load_dotenv\n",
    "from pathlib import Path\n",
    "\n",
    "from tqdm.auto import tqdm\n",
    "import seaborn as sns\n",
    "import matplotlib.pyplot as plt\n",
    "import ipywidgets as widgets\n",
    "\n",
    "warnings.filterwarnings(\"ignore\")\n",
    "tqdm.pandas()"
   ]
  },
  {
   "cell_type": "code",
   "execution_count": 4,
   "id": "8f897782-a342-4aa6-af96-1065a1a0065f",
   "metadata": {
    "tags": []
   },
   "outputs": [
    {
     "data": {
      "text/plain": [
       "[PhysicalDevice(name='/physical_device:GPU:0', device_type='GPU')]"
      ]
     },
     "execution_count": 4,
     "metadata": {},
     "output_type": "execute_result"
    }
   ],
   "source": [
    "import comet_ml\n",
    "from comet_ml import Experiment, Optimizer\n",
    "logging.getLogger(\"comet_ml\").setLevel(\"ERROR\")\n",
    "\n",
    "import scipy.stats\n",
    "from sklearn.preprocessing import LabelEncoder, MinMaxScaler\n",
    "from statsmodels.tsa.seasonal import seasonal_decompose\n",
    "\n",
    "os.environ['TF_CPP_MIN_LOG_LEVEL'] = '3'\n",
    "import tensorflow as tf\n",
    "tf.get_logger().setLevel(\"ERROR\")\n",
    "\n",
    "from tensorflow.keras.optimizers import Adam, AdamW\n",
    "from tensorflow.keras.preprocessing import timeseries_dataset_from_array\n",
    "from tensorflow.keras.callbacks import EarlyStopping, ModelCheckpoint\n",
    "from tqdm.keras import TqdmCallback\n",
    "\n",
    "tf.config.list_physical_devices('GPU')"
   ]
  },
  {
   "cell_type": "markdown",
   "id": "e09096ab-c7d2-4172-85d3-c466fe00250d",
   "metadata": {
    "tags": []
   },
   "source": [
    "## Config"
   ]
  },
  {
   "cell_type": "code",
   "execution_count": 5,
   "id": "640de2a6-31e6-4f5a-adf7-f438423f5b1c",
   "metadata": {
    "tags": []
   },
   "outputs": [],
   "source": [
    "# Config\n",
    "PROJECT_ID = \"arpae-prod-ml\"\n",
    "\n",
    "# BigQuery\n",
    "JOINED_BQ_DATASET = \"JOINED_DATA\"\n",
    "JOINED_DATA_TABLE = \"SLIDING_WINDOWS_DATASET\"\n",
    "\n",
    "# Dataset path\n",
    "dataset_path = \"data/\"\n",
    "\n",
    "# Ouput\n",
    "model_output = \"models\""
   ]
  },
  {
   "cell_type": "code",
   "execution_count": 6,
   "id": "8d2dea3a-4768-4ee6-88ac-6c76c4439ab4",
   "metadata": {
    "tags": []
   },
   "outputs": [],
   "source": [
    "# Load Comet API Key from env\n",
    "dotenv_path = Path('data/env_vars.sh')\n",
    "load_dotenv(dotenv_path=dotenv_path)\n",
    "\n",
    "COMET_API_KEY = os.getenv('COMET_API_KEY')\n",
    "project_name = \"arpae-ml-pollen-prediction-ht\"\n",
    "comet_ml_workspace = \"pveronesi\""
   ]
  },
  {
   "cell_type": "markdown",
   "id": "72c7872e-30ee-444d-8f90-44d1a211f11f",
   "metadata": {
    "tags": []
   },
   "source": [
    "## Methods"
   ]
  },
  {
   "cell_type": "code",
   "execution_count": 7,
   "id": "3e20526a-afd2-47d1-bcc5-255420d4f9a7",
   "metadata": {
    "tags": []
   },
   "outputs": [],
   "source": [
    "def _run_query(client, query):\n",
    "    df = client.query(query).to_dataframe()\n",
    "    return df\n",
    "\n",
    "def _create_station_widget(df):\n",
    "    station_ids = df.station_id.sort_values().unique()\n",
    "    station_wdgt = widgets.Dropdown(options=station_ids, description='Station Id:', layout={\"width\":\"50%\"})\n",
    "    return station_wdgt\n",
    "\n",
    "def _create_pol_var_id_widget(df):\n",
    "    pol_var_ids = df.pol_var_id.sort_values().unique()\n",
    "    pol_wdgt = widgets.Dropdown(options=pol_var_ids, description='Pol var id:', layout={\"width\":\"50%\"})\n",
    "    return pol_wdgt\n",
    "\n",
    "def _create_cluster_n_widget(df):\n",
    "    cluster_ids = list(df.cluster.sort_values().unique())\n",
    "    cluster_ids.append(\"all\")\n",
    "    cls_wdgt = widgets.Dropdown(options=cluster_ids, description='Cluster id:', layout={\"width\":\"50%\"})\n",
    "    return cls_wdgt\n",
    "\n",
    "def min_max_scale(x):\n",
    "    return (x - x.min()) / (x.max() - x.min())"
   ]
  },
  {
   "cell_type": "markdown",
   "id": "ad89a1af-6125-4197-b381-fbed926eecfe",
   "metadata": {
    "tags": [],
    "toc-hr-collapsed": true
   },
   "source": [
    "# 1. Load Dataset"
   ]
  },
  {
   "cell_type": "markdown",
   "id": "9a0473ee-3d00-4ce8-93bc-da9c23c4055d",
   "metadata": {
    "tags": []
   },
   "source": [
    "### Load clustering results"
   ]
  },
  {
   "cell_type": "code",
   "execution_count": 8,
   "id": "7c32fb63-0af3-489b-94a0-8bea13e66173",
   "metadata": {
    "tags": []
   },
   "outputs": [
    {
     "name": "stdout",
     "output_type": "stream",
     "text": [
      "(363, 3)\n"
     ]
    },
    {
     "data": {
      "text/html": [
       "<div>\n",
       "<style scoped>\n",
       "    .dataframe tbody tr th:only-of-type {\n",
       "        vertical-align: middle;\n",
       "    }\n",
       "\n",
       "    .dataframe tbody tr th {\n",
       "        vertical-align: top;\n",
       "    }\n",
       "\n",
       "    .dataframe thead th {\n",
       "        text-align: right;\n",
       "    }\n",
       "</style>\n",
       "<table border=\"1\" class=\"dataframe\">\n",
       "  <thead>\n",
       "    <tr style=\"text-align: right;\">\n",
       "      <th></th>\n",
       "      <th>station_id</th>\n",
       "      <th>pol_var_id</th>\n",
       "      <th>cluster</th>\n",
       "    </tr>\n",
       "  </thead>\n",
       "  <tbody>\n",
       "    <tr>\n",
       "      <th>276</th>\n",
       "      <td>10</td>\n",
       "      <td>B48017</td>\n",
       "      <td>4</td>\n",
       "    </tr>\n",
       "    <tr>\n",
       "      <th>154</th>\n",
       "      <td>6</td>\n",
       "      <td>B48031</td>\n",
       "      <td>9</td>\n",
       "    </tr>\n",
       "    <tr>\n",
       "      <th>92</th>\n",
       "      <td>4</td>\n",
       "      <td>B48036</td>\n",
       "      <td>9</td>\n",
       "    </tr>\n",
       "  </tbody>\n",
       "</table>\n",
       "</div>"
      ],
      "text/plain": [
       "     station_id pol_var_id  cluster\n",
       "276          10     B48017        4\n",
       "154           6     B48031        9\n",
       "92            4     B48036        9"
      ]
     },
     "metadata": {},
     "output_type": "display_data"
    },
    {
     "data": {
      "image/png": "[encoded data removed]",
      "text/plain": [
       "<Figure size 800x200 with 1 Axes>"
      ]
     },
     "metadata": {},
     "output_type": "display_data"
    }
   ],
   "source": [
    "### Load clustering data\n",
    "clusters = pd.read_csv(\"data/clusters/clustering_intervals.csv\")\n",
    "\n",
    "print(clusters.shape)\n",
    "display(clusters.sample(3))\n",
    "\n",
    "plt.figure(figsize=(8,2))\n",
    "plt.title(\"Number of specie/station per cluster\")\n",
    "sns.countplot(x=clusters[\"cluster\"]);"
   ]
  },
  {
   "cell_type": "markdown",
   "id": "e93a5629-3294-4019-9f05-2db86d433dae",
   "metadata": {
    "tags": []
   },
   "source": [
    "### Load dataset"
   ]
  },
  {
   "cell_type": "code",
   "execution_count": 9,
   "id": "c0815339-98a6-4c7f-b61d-d076a56d5fc0",
   "metadata": {
    "tags": []
   },
   "outputs": [],
   "source": [
    "### From BigQuery\n",
    "# bq_client = bigquery.Client.from_service_account_json(\"data/arpae-prod-ml-f7820c528250.json\")\n",
    "# sql = f\"SELECT * FROM `{PROJECT_ID}.{JOINED_BQ_DATASET}.{JOINED_DATA_TABLE}`\"\n",
    "# df_dataset = _run_query(bq_client, sql)\n",
    "\n",
    "### From local file\n",
    "df_dataset = pd.read_feather(\"data/dataset_7D_normalized_2023.feather\")\n",
    "df_dataset.drop_duplicates(inplace=True)\n",
    "\n",
    "# Convert dates, sort and set index\n",
    "df_dataset.date = pd.to_datetime(df_dataset.date)\n",
    "df_dataset.sort_values([\"station_id\", \"pol_var_id\", \"date\"], inplace=True)\n",
    "df_dataset.set_index(\"date\", inplace=True)"
   ]
  },
  {
   "cell_type": "code",
   "execution_count": 11,
   "id": "0fec1865-c1a2-4f2e-9d54-ef4246363318",
   "metadata": {
    "tags": []
   },
   "outputs": [
    {
     "name": "stdout",
     "output_type": "stream",
     "text": [
      "(1178889, 99)\n"
     ]
    },
    {
     "data": {
      "text/html": [
       "<div>\n",
       "<style scoped>\n",
       "    .dataframe tbody tr th:only-of-type {\n",
       "        vertical-align: middle;\n",
       "    }\n",
       "\n",
       "    .dataframe tbody tr th {\n",
       "        vertical-align: top;\n",
       "    }\n",
       "\n",
       "    .dataframe thead th {\n",
       "        text-align: right;\n",
       "    }\n",
       "</style>\n",
       "<table border=\"1\" class=\"dataframe\">\n",
       "  <thead>\n",
       "    <tr style=\"text-align: right;\">\n",
       "      <th></th>\n",
       "      <th>station_id</th>\n",
       "      <th>pol_var_id</th>\n",
       "      <th>B13011_min_amin</th>\n",
       "      <th>B13011_max_amax</th>\n",
       "      <th>B13011_mean_mean</th>\n",
       "      <th>B13011_std_mean</th>\n",
       "      <th>B13011_sum_sum</th>\n",
       "      <th>B14198_min_amin</th>\n",
       "      <th>B14198_max_amax</th>\n",
       "      <th>B14198_mean_mean</th>\n",
       "      <th>...</th>\n",
       "      <th>pol_var_id_B48034</th>\n",
       "      <th>pol_var_id_B48036</th>\n",
       "      <th>pol_var_id_B48037</th>\n",
       "      <th>pol_var_id_B48038</th>\n",
       "      <th>pol_var_id_B48039</th>\n",
       "      <th>pol_var_id_B48041</th>\n",
       "      <th>pol_var_id_B48044</th>\n",
       "      <th>pol_var_id_B48045</th>\n",
       "      <th>WHICH</th>\n",
       "      <th>cluster</th>\n",
       "    </tr>\n",
       "    <tr>\n",
       "      <th>date</th>\n",
       "      <th></th>\n",
       "      <th></th>\n",
       "      <th></th>\n",
       "      <th></th>\n",
       "      <th></th>\n",
       "      <th></th>\n",
       "      <th></th>\n",
       "      <th></th>\n",
       "      <th></th>\n",
       "      <th></th>\n",
       "      <th></th>\n",
       "      <th></th>\n",
       "      <th></th>\n",
       "      <th></th>\n",
       "      <th></th>\n",
       "      <th></th>\n",
       "      <th></th>\n",
       "      <th></th>\n",
       "      <th></th>\n",
       "      <th></th>\n",
       "      <th></th>\n",
       "    </tr>\n",
       "  </thead>\n",
       "  <tbody>\n",
       "    <tr>\n",
       "      <th>2006-09-05 00:00:00+00:00</th>\n",
       "      <td>1</td>\n",
       "      <td>B48001</td>\n",
       "      <td>0.0</td>\n",
       "      <td>0.010309</td>\n",
       "      <td>0.007163</td>\n",
       "      <td>0.010346</td>\n",
       "      <td>5.140287e-03</td>\n",
       "      <td>0.555556</td>\n",
       "      <td>0.707631</td>\n",
       "      <td>0.648377</td>\n",
       "      <td>...</td>\n",
       "      <td>0</td>\n",
       "      <td>0</td>\n",
       "      <td>0</td>\n",
       "      <td>0</td>\n",
       "      <td>0</td>\n",
       "      <td>0</td>\n",
       "      <td>0</td>\n",
       "      <td>0</td>\n",
       "      <td>training</td>\n",
       "      <td>3</td>\n",
       "    </tr>\n",
       "    <tr>\n",
       "      <th>2006-09-06 00:00:00+00:00</th>\n",
       "      <td>1</td>\n",
       "      <td>B48001</td>\n",
       "      <td>0.0</td>\n",
       "      <td>0.010309</td>\n",
       "      <td>0.001791</td>\n",
       "      <td>0.004397</td>\n",
       "      <td>1.285072e-03</td>\n",
       "      <td>0.555556</td>\n",
       "      <td>0.707631</td>\n",
       "      <td>0.644707</td>\n",
       "      <td>...</td>\n",
       "      <td>0</td>\n",
       "      <td>0</td>\n",
       "      <td>0</td>\n",
       "      <td>0</td>\n",
       "      <td>0</td>\n",
       "      <td>0</td>\n",
       "      <td>0</td>\n",
       "      <td>0</td>\n",
       "      <td>training</td>\n",
       "      <td>3</td>\n",
       "    </tr>\n",
       "    <tr>\n",
       "      <th>2006-09-07 00:00:00+00:00</th>\n",
       "      <td>1</td>\n",
       "      <td>B48001</td>\n",
       "      <td>0.0</td>\n",
       "      <td>0.000000</td>\n",
       "      <td>0.000000</td>\n",
       "      <td>0.000000</td>\n",
       "      <td>6.087323e-17</td>\n",
       "      <td>0.555556</td>\n",
       "      <td>0.684836</td>\n",
       "      <td>0.625042</td>\n",
       "      <td>...</td>\n",
       "      <td>0</td>\n",
       "      <td>0</td>\n",
       "      <td>0</td>\n",
       "      <td>0</td>\n",
       "      <td>0</td>\n",
       "      <td>0</td>\n",
       "      <td>0</td>\n",
       "      <td>0</td>\n",
       "      <td>training</td>\n",
       "      <td>3</td>\n",
       "    </tr>\n",
       "    <tr>\n",
       "      <th>2006-09-08 00:00:00+00:00</th>\n",
       "      <td>1</td>\n",
       "      <td>B48001</td>\n",
       "      <td>0.0</td>\n",
       "      <td>0.017182</td>\n",
       "      <td>0.015519</td>\n",
       "      <td>0.011157</td>\n",
       "      <td>1.113729e-02</td>\n",
       "      <td>0.555556</td>\n",
       "      <td>0.677899</td>\n",
       "      <td>0.585648</td>\n",
       "      <td>...</td>\n",
       "      <td>0</td>\n",
       "      <td>0</td>\n",
       "      <td>0</td>\n",
       "      <td>0</td>\n",
       "      <td>0</td>\n",
       "      <td>0</td>\n",
       "      <td>0</td>\n",
       "      <td>0</td>\n",
       "      <td>training</td>\n",
       "      <td>3</td>\n",
       "    </tr>\n",
       "    <tr>\n",
       "      <th>2006-09-09 00:00:00+00:00</th>\n",
       "      <td>1</td>\n",
       "      <td>B48001</td>\n",
       "      <td>0.0</td>\n",
       "      <td>0.044674</td>\n",
       "      <td>0.031038</td>\n",
       "      <td>0.037994</td>\n",
       "      <td>2.227458e-02</td>\n",
       "      <td>0.555556</td>\n",
       "      <td>0.679881</td>\n",
       "      <td>0.582157</td>\n",
       "      <td>...</td>\n",
       "      <td>0</td>\n",
       "      <td>0</td>\n",
       "      <td>0</td>\n",
       "      <td>0</td>\n",
       "      <td>0</td>\n",
       "      <td>0</td>\n",
       "      <td>0</td>\n",
       "      <td>0</td>\n",
       "      <td>training</td>\n",
       "      <td>3</td>\n",
       "    </tr>\n",
       "  </tbody>\n",
       "</table>\n",
       "<p>5 rows × 99 columns</p>\n",
       "</div>"
      ],
      "text/plain": [
       "                           station_id pol_var_id  B13011_min_amin   \n",
       "date                                                                \n",
       "2006-09-05 00:00:00+00:00           1     B48001              0.0  \\\n",
       "2006-09-06 00:00:00+00:00           1     B48001              0.0   \n",
       "2006-09-07 00:00:00+00:00           1     B48001              0.0   \n",
       "2006-09-08 00:00:00+00:00           1     B48001              0.0   \n",
       "2006-09-09 00:00:00+00:00           1     B48001              0.0   \n",
       "\n",
       "                           B13011_max_amax  B13011_mean_mean  B13011_std_mean   \n",
       "date                                                                            \n",
       "2006-09-05 00:00:00+00:00         0.010309          0.007163         0.010346  \\\n",
       "2006-09-06 00:00:00+00:00         0.010309          0.001791         0.004397   \n",
       "2006-09-07 00:00:00+00:00         0.000000          0.000000         0.000000   \n",
       "2006-09-08 00:00:00+00:00         0.017182          0.015519         0.011157   \n",
       "2006-09-09 00:00:00+00:00         0.044674          0.031038         0.037994   \n",
       "\n",
       "                           B13011_sum_sum  B14198_min_amin  B14198_max_amax   \n",
       "date                                                                          \n",
       "2006-09-05 00:00:00+00:00    5.140287e-03         0.555556         0.707631  \\\n",
       "2006-09-06 00:00:00+00:00    1.285072e-03         0.555556         0.707631   \n",
       "2006-09-07 00:00:00+00:00    6.087323e-17         0.555556         0.684836   \n",
       "2006-09-08 00:00:00+00:00    1.113729e-02         0.555556         0.677899   \n",
       "2006-09-09 00:00:00+00:00    2.227458e-02         0.555556         0.679881   \n",
       "\n",
       "                           B14198_mean_mean  ...  pol_var_id_B48034   \n",
       "date                                         ...                      \n",
       "2006-09-05 00:00:00+00:00          0.648377  ...                  0  \\\n",
       "2006-09-06 00:00:00+00:00          0.644707  ...                  0   \n",
       "2006-09-07 00:00:00+00:00          0.625042  ...                  0   \n",
       "2006-09-08 00:00:00+00:00          0.585648  ...                  0   \n",
       "2006-09-09 00:00:00+00:00          0.582157  ...                  0   \n",
       "\n",
       "                           pol_var_id_B48036  pol_var_id_B48037   \n",
       "date                                                              \n",
       "2006-09-05 00:00:00+00:00                  0                  0  \\\n",
       "2006-09-06 00:00:00+00:00                  0                  0   \n",
       "2006-09-07 00:00:00+00:00                  0                  0   \n",
       "2006-09-08 00:00:00+00:00                  0                  0   \n",
       "2006-09-09 00:00:00+00:00                  0                  0   \n",
       "\n",
       "                           pol_var_id_B48038  pol_var_id_B48039   \n",
       "date                                                              \n",
       "2006-09-05 00:00:00+00:00                  0                  0  \\\n",
       "2006-09-06 00:00:00+00:00                  0                  0   \n",
       "2006-09-07 00:00:00+00:00                  0                  0   \n",
       "2006-09-08 00:00:00+00:00                  0                  0   \n",
       "2006-09-09 00:00:00+00:00                  0                  0   \n",
       "\n",
       "                           pol_var_id_B48041  pol_var_id_B48044   \n",
       "date                                                              \n",
       "2006-09-05 00:00:00+00:00                  0                  0  \\\n",
       "2006-09-06 00:00:00+00:00                  0                  0   \n",
       "2006-09-07 00:00:00+00:00                  0                  0   \n",
       "2006-09-08 00:00:00+00:00                  0                  0   \n",
       "2006-09-09 00:00:00+00:00                  0                  0   \n",
       "\n",
       "                           pol_var_id_B48045     WHICH  cluster  \n",
       "date                                                             \n",
       "2006-09-05 00:00:00+00:00                  0  training        3  \n",
       "2006-09-06 00:00:00+00:00                  0  training        3  \n",
       "2006-09-07 00:00:00+00:00                  0  training        3  \n",
       "2006-09-08 00:00:00+00:00                  0  training        3  \n",
       "2006-09-09 00:00:00+00:00                  0  training        3  \n",
       "\n",
       "[5 rows x 99 columns]"
      ]
     },
     "execution_count": 11,
     "metadata": {},
     "output_type": "execute_result"
    }
   ],
   "source": [
    "### Dataset preview\n",
    "print(df_dataset.shape)\n",
    "df_dataset.head(5)"
   ]
  },
  {
   "cell_type": "markdown",
   "id": "406fc432-fbed-41db-95cd-5a67cda5b1b8",
   "metadata": {},
   "source": [
    "___"
   ]
  },
  {
   "cell_type": "markdown",
   "id": "502a56b7-2355-49f4-99c1-b3c3548b64aa",
   "metadata": {
    "tags": []
   },
   "source": [
    "# 2. Define training parameters"
   ]
  },
  {
   "cell_type": "code",
   "execution_count": 12,
   "id": "3d9881c0-2b34-42bf-8acc-4af9dc9e1965",
   "metadata": {
    "tags": []
   },
   "outputs": [
    {
     "name": "stdout",
     "output_type": "stream",
     "text": [
      "Len features: 73\n",
      "y_label: pol_value_label\n"
     ]
    }
   ],
   "source": [
    "all_features = [\n",
    "    # 'station_id', 'pol_var_id', 'pol_value_label',\n",
    "    # 'season_label', 'seasonal_mean', 'seasonal_prev_1',\n",
    "    # 'trend_label', 'trend_mean', 'trend_prev_1',\n",
    "    # 'residual_label', 'residual_mean', 'residual_prev_1',\n",
    "    'week_amax',\n",
    "    'B13011_min_amin', 'B13011_max_amax', 'B13011_mean_mean', 'B13011_std_mean', 'B13011_sum_sum',\n",
    "    'B14198_min_amin', 'B14198_max_amax', 'B14198_mean_mean', 'B14198_std_mean', 'B14198_sum_sum',\n",
    "    #'TEMP_min_amin', 'TEMP_max_amax', 'TEMP_mean_mean', 'TEMP_std_mean', 'TEMP_sum_sum',\n",
    "    'station_lat_amax', 'station_lon_amax', 'station_H_piano_strada_amax', 'station_H_mslm_amax',\n",
    "    #'PREC_amin', 'PREC_mean', 'PREC_std', 'PREC_median', 'PREC_amax', 'PREC_skew', 'PREC_kurtosis',\n",
    "    'pol_value_amin', 'pol_value_mean', 'pol_value_std', 'pol_value_median', 'pol_value_amax', 'pol_value_skew', 'pol_value_kurtosis',\n",
    "    'pol_value_prev_1', 'pol_value_prev_2', 'pol_value_prev_3', 'pol_value_prev_4', 'pol_value_prev_5', 'pol_value_prev_6', 'pol_value_prev_7',\n",
    "    'station_id_1', 'station_id_2', 'station_id_4', 'station_id_5', 'station_id_6', 'station_id_7', 'station_id_8', 'station_id_9', 'station_id_10', 'station_id_11', 'station_id_13',\n",
    "    'pol_var_id_B48001', 'pol_var_id_B48002', 'pol_var_id_B48003', 'pol_var_id_B48005', 'pol_var_id_B48006', 'pol_var_id_B48007', 'pol_var_id_B48008', 'pol_var_id_B48011', 'pol_var_id_B48012', 'pol_var_id_B48013', 'pol_var_id_B48015', 'pol_var_id_B48016', 'pol_var_id_B48017', 'pol_var_id_B48018', 'pol_var_id_B48019', 'pol_var_id_B48021', 'pol_var_id_B48023', 'pol_var_id_B48024', 'pol_var_id_B48025', 'pol_var_id_B48026', 'pol_var_id_B48029', 'pol_var_id_B48030', 'pol_var_id_B48031', 'pol_var_id_B48032', 'pol_var_id_B48033', 'pol_var_id_B48034', 'pol_var_id_B48036', 'pol_var_id_B48037', 'pol_var_id_B48038', 'pol_var_id_B48039', 'pol_var_id_B48041', 'pol_var_id_B48044', 'pol_var_id_B48045'\n",
    "]\n",
    "\n",
    "y_label = \"pol_value_label\"\n",
    "\n",
    "print(f\"Len features: {len(all_features)}\")\n",
    "print(f\"y_label: {y_label}\")"
   ]
  },
  {
   "cell_type": "code",
   "execution_count": 13,
   "id": "e357cd1a-f998-4eb5-a9cb-f528ea5cb66a",
   "metadata": {
    "tags": []
   },
   "outputs": [],
   "source": [
    "def get_dataset(cluster_n, params):\n",
    "    # Create an object to store dataset and results\n",
    "    class dataset: pass\n",
    "    dataset.cluster_n = cluster_n\n",
    "\n",
    "    # Create cluster training/test/validation split\n",
    "    df_feature = df_dataset[df_dataset.cluster == cluster_n].copy()\n",
    "    dataset.x_train = df_feature[df_feature.WHICH == \"training\"]\n",
    "    dataset.y_train = df_feature[df_feature.WHICH == \"training\"][[y_label]]\n",
    "    dataset.x_valid = df_feature[df_feature.WHICH == \"validation\"]\n",
    "    dataset.y_valid = df_feature[df_feature.WHICH == \"validation\"][[y_label]]\n",
    "    dataset.x_test = df_feature[df_feature.WHICH == \"test\"]\n",
    "    dataset.y_test = df_feature[df_feature.WHICH == \"test\"][[y_label]]\n",
    "    \n",
    "    # Drop all-0 columns (one hot encodings)\n",
    "    to_keep = [c for c in dataset.x_train.columns if dataset.x_train[c].any()]\n",
    "    dataset.features = [feature for feature in all_features if feature in to_keep]\n",
    "\n",
    "    dataset.train_dataset = timeseries_dataset_from_array(dataset.x_train[dataset.features], dataset.y_train, sequence_length=params.sequence_length, batch_size=params.batch_size)\n",
    "    dataset.valid_dataset = timeseries_dataset_from_array(dataset.x_valid[dataset.features], dataset.y_valid, sequence_length=params.sequence_length, batch_size=params.batch_size)\n",
    "    dataset.test_dataset = timeseries_dataset_from_array(dataset.x_test[dataset.features], dataset.y_test, sequence_length=params.sequence_length, batch_size=params.batch_size)\n",
    "\n",
    "    return dataset"
   ]
  },
  {
   "cell_type": "markdown",
   "id": "76ac1320-6d4f-4bd1-b061-8456358ce047",
   "metadata": {},
   "source": [
    "___"
   ]
  },
  {
   "cell_type": "markdown",
   "id": "21967fa6-5b4b-47b6-955c-0e81671663ba",
   "metadata": {
    "tags": []
   },
   "source": [
    "# 3. Model structure definition\n",
    "* LSTM + MultiHeadAttention"
   ]
  },
  {
   "cell_type": "code",
   "execution_count": 14,
   "id": "3d2c95a6-2415-4d35-a07e-e1dab5ad9fde",
   "metadata": {
    "tags": []
   },
   "outputs": [],
   "source": [
    "model_arch_name = \"LSTM+MultiHeadAttention+AdamW\"\n",
    "\n",
    "def get_model(params, feature_len):\n",
    "    # Define model inputs\n",
    "    input_layer = tf.keras.layers.Input(shape=(params.sequence_length, feature_len))\n",
    "\n",
    "    # LSTM Layer\n",
    "    lstm_1 = tf.keras.layers.LSTM(units=params.lstm_1_units, dropout=params.dropout, return_sequences=True)(input_layer)\n",
    "    lstm_2 = tf.keras.layers.LSTM(units=params.lstm_2_units, dropout=params.dropout, return_sequences=True)(lstm_1)\n",
    "\n",
    "    ### Multi head attention\n",
    "    attn_layer = tf.keras.layers.MultiHeadAttention(num_heads=8, key_dim=64)(query=lstm_2, value=lstm_2, key=lstm_2)\n",
    "    attn_output = tf.keras.layers.Dense(units=params.dense_1_units)(attn_layer)\n",
    "\n",
    "    # Reshape attention layer\n",
    "    att_reshape = tf.keras.layers.Flatten()(attn_output)\n",
    "\n",
    "    # Dense layer\n",
    "    dense_lst_1 = tf.keras.layers.Dense(units=params.dense_1_units)(att_reshape)\n",
    "    dropout_1 = tf.keras.layers.Dropout(params.dropout)(dense_lst_1)\n",
    "    dense_lst_2 = tf.keras.layers.Dense(units=params.dense_2_units)(dropout_1)\n",
    "\n",
    "    # Output layer\n",
    "    output_layer = tf.keras.layers.Dense(units=1)(dense_lst_2)\n",
    "\n",
    "    # Define model architecture\n",
    "    model = tf.keras.models.Model(inputs=input_layer, outputs=output_layer)\n",
    "\n",
    "    # Optimizer\n",
    "    optimizer = AdamW(learning_rate=params.learning_rate)\n",
    "    model.compile(optimizer=optimizer, loss=\"mse\")\n",
    "    return model"
   ]
  },
  {
   "cell_type": "code",
   "execution_count": 12,
   "id": "de227537-9059-4a31-a717-5184201dd18a",
   "metadata": {
    "tags": []
   },
   "outputs": [],
   "source": [
    "def train_model(dataset, params):\n",
    "    model_name = f\"{model_arch_name}_Cluster-{dataset.cluster_n}\"\n",
    "    print(f\"Training model {model_name}\")\n",
    "\n",
    "    # Load model and fit dataset\n",
    "    model = get_model(params=params, feature_len=len(dataset.features))\n",
    "\n",
    "    history = model.fit(\n",
    "        dataset.train_dataset,\n",
    "        validation_data=dataset.valid_dataset,\n",
    "        epochs=params.n_epochs,\n",
    "        shuffle=params.shuffle,\n",
    "        verbose=0,\n",
    "        callbacks=[\n",
    "            EarlyStopping(monitor=\"val_loss\", patience=params.patience, verbose=1, mode=\"min\", restore_best_weights=True),\n",
    "            ModelCheckpoint(f\"{model_output}/{model_name}.h5\", monitor=\"val_loss\", mode=\"min\", save_best_only=True),\n",
    "            TqdmCallback(verbose=1),\n",
    "        ],\n",
    "    )\n",
    "\n",
    "    return history, model"
   ]
  },
  {
   "cell_type": "markdown",
   "id": "7aec9599-eb2a-4fd5-bde2-fc467ff61e27",
   "metadata": {},
   "source": [
    "___"
   ]
  },
  {
   "cell_type": "markdown",
   "id": "6b85fbec-1088-4dcc-9ea3-ca6cf58e90f5",
   "metadata": {
    "jp-MarkdownHeadingCollapsed": true,
    "tags": []
   },
   "source": [
    "# 4. Training"
   ]
  },
  {
   "cell_type": "code",
   "execution_count": 13,
   "id": "26d24b26-887e-4180-8b9d-50fcf62032d0",
   "metadata": {
    "tags": []
   },
   "outputs": [],
   "source": [
    "# ### Choose clusters for training and test\n",
    "# all_clusters = sorted(clusters.cluster.unique())\n",
    "\n",
    "# # for debugging purpose\n",
    "# all_clusters = random.sample(all_clusters, 1)\n",
    "# print(f\"Training on clusters: {all_clusters}\")"
   ]
  },
  {
   "cell_type": "code",
   "execution_count": 14,
   "id": "06872802-ac0d-4b4c-ba08-34207875d123",
   "metadata": {
    "tags": []
   },
   "outputs": [],
   "source": [
    "# # Model parameters\n",
    "# class model_params:\n",
    "#     lstm_1_units = 256\n",
    "#     lstm_2_units = 128\n",
    "#     dense_1_units = 128\n",
    "#     dense_2_units = 64\n",
    "#     dropout = .2\n",
    "#     learning_rate = 0.0001\n",
    "#     batch_size = 1024\n",
    "#     sequence_length = 7\n",
    "#     n_epochs = 100\n",
    "#     patience = 10\n",
    "#     shuffle = True"
   ]
  },
  {
   "cell_type": "code",
   "execution_count": 15,
   "id": "764da3e9-a7cb-4415-9c31-c90e6535be55",
   "metadata": {
    "tags": []
   },
   "outputs": [],
   "source": [
    "# trainings = []\n",
    "# for cluster_n in tqdm(all_clusters):\n",
    "#     # Load model\n",
    "#     model_name, model = get_model(model_params)\n",
    "#     # Load dataset\n",
    "#     dataset = get_dataset(cluster_n=cluster_n, params=model_params)\n",
    "#     # Fit model on dataset, store results\n",
    "#     dataset.model_name, dataset.history, dataset.model = train_model(dataset, model_params)\n",
    "#     trainings.append(dataset)"
   ]
  },
  {
   "cell_type": "markdown",
   "id": "1d2e46f9-9adc-4277-b3e6-a6f8491feaaa",
   "metadata": {},
   "source": [
    "___"
   ]
  },
  {
   "cell_type": "markdown",
   "id": "f7fe4520-017d-487f-8456-5fa36b8c91f6",
   "metadata": {
    "tags": []
   },
   "source": [
    "# 5. Hyperparameter tuning"
   ]
  },
  {
   "cell_type": "code",
   "execution_count": 16,
   "id": "86a78f22-99e0-4297-9ae4-5226f5b95bd1",
   "metadata": {
    "tags": []
   },
   "outputs": [
    {
     "name": "stdout",
     "output_type": "stream",
     "text": [
      "Training on clusters: [0, 1, 2, 3, 4, 5, 6, 7, 8, 9]\n"
     ]
    }
   ],
   "source": [
    "### Choose clusters for training and test\n",
    "all_clusters = sorted(clusters.cluster.unique())\n",
    "\n",
    "# for debugging purpose\n",
    "# all_clusters = random.sample(all_clusters, 1)\n",
    "# all_clusters = [9]\n",
    "\n",
    "print(f\"Training on clusters: {all_clusters}\")"
   ]
  },
  {
   "cell_type": "code",
   "execution_count": 17,
   "id": "1d802930-b1ae-4318-8db0-2c6b2e5008ab",
   "metadata": {
    "tags": []
   },
   "outputs": [],
   "source": [
    "### Define Hyperparameters\n",
    "max_combo = 15\n",
    "hyperparams = {\n",
    "    \"algorithm\": \"bayes\",\n",
    "    \"parameters\": {\n",
    "        \"lstm_1_units\": {\"type\": \"discrete\", \"values\": [64, 128, 256, 512]},\n",
    "        \"lstm_2_units\": {\"type\": \"discrete\", \"values\": [64, 128, 256]},\n",
    "        \"dense_1_units\": {\"type\": \"discrete\", \"values\": [64, 128, 256, 512]},\n",
    "        \"dense_2_units\": {\"type\": \"discrete\", \"values\": [64, 128, 256]},\n",
    "        \"dropout\": {\"type\": \"float\", \"min\": 0.0, \"max\": 0.4},\n",
    "        \"learning_rate\": {\"type\": \"float\", \"min\": 0.00001, \"max\": 0.1},\n",
    "        \"batch_size\": {\"type\": \"discrete\", \"values\": [256, 512, 1024, 2048, 4096]},\n",
    "        \"sequence_length\": {\"type\": \"discrete\", \"values\": [7, 14, 21]},\n",
    "        \n",
    "    },\n",
    "    \"spec\": {\"maxCombo\": max_combo, \"objective\": \"minimize\", \"metric\": \"val_loss\"},\n",
    "    \"trials\": 1,\n",
    "}"
   ]
  },
  {
   "cell_type": "code",
   "execution_count": 31,
   "id": "ade045ce-a33c-49b2-9692-827c9b098ba6",
   "metadata": {
    "tags": []
   },
   "outputs": [
    {
     "data": {
      "application/vnd.jupyter.widget-view+json": {
       "model_id": "3c480a4a101845da98ebc753f85b5e83",
       "version_major": 2,
       "version_minor": 0
      },
      "text/plain": [
       "Hyperparameter Tuning on Cluster::   0%|          | 0/9 [00:00<?, ?it/s]"
      ]
     },
     "metadata": {},
     "output_type": "display_data"
    },
    {
     "data": {
      "application/vnd.jupyter.widget-view+json": {
       "model_id": "e41853f982144928b50492c4cc22a75e",
       "version_major": 2,
       "version_minor": 0
      },
      "text/plain": [
       "Doing dxperiments...:   0%|          | 0/15 [00:00<?, ?it/s]"
      ]
     },
     "metadata": {},
     "output_type": "display_data"
    },
    {
     "name": "stdout",
     "output_type": "stream",
     "text": [
      "Training model LSTM+MultiHeadAttention+AdamW_Cluster-1\n"
     ]
    },
    {
     "data": {
      "application/vnd.jupyter.widget-view+json": {
       "model_id": "80b0e31b64e847c6817bd9c72ef10a80",
       "version_major": 2,
       "version_minor": 0
      },
      "text/plain": [
       "0epoch [00:00, ?epoch/s]"
      ]
     },
     "metadata": {},
     "output_type": "display_data"
    },
    {
     "data": {
      "application/vnd.jupyter.widget-view+json": {
       "model_id": "",
       "version_major": 2,
       "version_minor": 0
      },
      "text/plain": [
       "0batch [00:00, ?batch/s]"
      ]
     },
     "metadata": {},
     "output_type": "display_data"
    },
    {
     "name": "stdout",
     "output_type": "stream",
     "text": [
      "Restoring model weights from the end of the best epoch: 17.\n",
      "Epoch 27: early stopping\n",
      "Training model LSTM+MultiHeadAttention+AdamW_Cluster-1\n"
     ]
    },
    {
     "data": {
      "application/vnd.jupyter.widget-view+json": {
       "model_id": "eabe168eb8784cc4bc216d40c90db91b",
       "version_major": 2,
       "version_minor": 0
      },
      "text/plain": [
       "0epoch [00:00, ?epoch/s]"
      ]
     },
     "metadata": {},
     "output_type": "display_data"
    },
    {
     "data": {
      "application/vnd.jupyter.widget-view+json": {
       "model_id": "",
       "version_major": 2,
       "version_minor": 0
      },
      "text/plain": [
       "0batch [00:00, ?batch/s]"
      ]
     },
     "metadata": {},
     "output_type": "display_data"
    },
    {
     "name": "stdout",
     "output_type": "stream",
     "text": [
      "Training model LSTM+MultiHeadAttention+AdamW_Cluster-1\n"
     ]
    },
    {
     "data": {
      "application/vnd.jupyter.widget-view+json": {
       "model_id": "46ba782f16da4280920d13fa485c5270",
       "version_major": 2,
       "version_minor": 0
      },
      "text/plain": [
       "0epoch [00:00, ?epoch/s]"
      ]
     },
     "metadata": {},
     "output_type": "display_data"
    },
    {
     "data": {
      "application/vnd.jupyter.widget-view+json": {
       "model_id": "",
       "version_major": 2,
       "version_minor": 0
      },
      "text/plain": [
       "0batch [00:00, ?batch/s]"
      ]
     },
     "metadata": {},
     "output_type": "display_data"
    },
    {
     "name": "stdout",
     "output_type": "stream",
     "text": [
      "Restoring model weights from the end of the best epoch: 17.\n",
      "Epoch 27: early stopping\n",
      "Training model LSTM+MultiHeadAttention+AdamW_Cluster-1\n"
     ]
    },
    {
     "data": {
      "application/vnd.jupyter.widget-view+json": {
       "model_id": "fcb7a052f27e481589bbaccc360925e5",
       "version_major": 2,
       "version_minor": 0
      },
      "text/plain": [
       "0epoch [00:00, ?epoch/s]"
      ]
     },
     "metadata": {},
     "output_type": "display_data"
    },
    {
     "data": {
      "application/vnd.jupyter.widget-view+json": {
       "model_id": "",
       "version_major": 2,
       "version_minor": 0
      },
      "text/plain": [
       "0batch [00:00, ?batch/s]"
      ]
     },
     "metadata": {},
     "output_type": "display_data"
    },
    {
     "name": "stdout",
     "output_type": "stream",
     "text": [
      "Restoring model weights from the end of the best epoch: 44.\n",
      "Epoch 54: early stopping\n",
      "Training model LSTM+MultiHeadAttention+AdamW_Cluster-1\n"
     ]
    },
    {
     "data": {
      "application/vnd.jupyter.widget-view+json": {
       "model_id": "87b26d0ef2d14a809a95894ae54f548e",
       "version_major": 2,
       "version_minor": 0
      },
      "text/plain": [
       "0epoch [00:00, ?epoch/s]"
      ]
     },
     "metadata": {},
     "output_type": "display_data"
    },
    {
     "data": {
      "application/vnd.jupyter.widget-view+json": {
       "model_id": "",
       "version_major": 2,
       "version_minor": 0
      },
      "text/plain": [
       "0batch [00:00, ?batch/s]"
      ]
     },
     "metadata": {},
     "output_type": "display_data"
    },
    {
     "name": "stdout",
     "output_type": "stream",
     "text": [
      "Restoring model weights from the end of the best epoch: 10.\n",
      "Epoch 20: early stopping\n",
      "Training model LSTM+MultiHeadAttention+AdamW_Cluster-1\n"
     ]
    },
    {
     "data": {
      "application/vnd.jupyter.widget-view+json": {
       "model_id": "878a5cdf97754085825b285a425aeeb5",
       "version_major": 2,
       "version_minor": 0
      },
      "text/plain": [
       "0epoch [00:00, ?epoch/s]"
      ]
     },
     "metadata": {},
     "output_type": "display_data"
    },
    {
     "data": {
      "application/vnd.jupyter.widget-view+json": {
       "model_id": "",
       "version_major": 2,
       "version_minor": 0
      },
      "text/plain": [
       "0batch [00:00, ?batch/s]"
      ]
     },
     "metadata": {},
     "output_type": "display_data"
    },
    {
     "name": "stdout",
     "output_type": "stream",
     "text": [
      "Restoring model weights from the end of the best epoch: 7.\n",
      "Epoch 17: early stopping\n",
      "Training model LSTM+MultiHeadAttention+AdamW_Cluster-1\n"
     ]
    },
    {
     "data": {
      "application/vnd.jupyter.widget-view+json": {
       "model_id": "060d0613a73b4a8584285df1a8af38a5",
       "version_major": 2,
       "version_minor": 0
      },
      "text/plain": [
       "0epoch [00:00, ?epoch/s]"
      ]
     },
     "metadata": {},
     "output_type": "display_data"
    },
    {
     "data": {
      "application/vnd.jupyter.widget-view+json": {
       "model_id": "",
       "version_major": 2,
       "version_minor": 0
      },
      "text/plain": [
       "0batch [00:00, ?batch/s]"
      ]
     },
     "metadata": {},
     "output_type": "display_data"
    },
    {
     "name": "stdout",
     "output_type": "stream",
     "text": [
      "Restoring model weights from the end of the best epoch: 86.\n",
      "Epoch 96: early stopping\n",
      "Training model LSTM+MultiHeadAttention+AdamW_Cluster-1\n"
     ]
    },
    {
     "data": {
      "application/vnd.jupyter.widget-view+json": {
       "model_id": "c457fe303c5a4df7a21b839d035861a5",
       "version_major": 2,
       "version_minor": 0
      },
      "text/plain": [
       "0epoch [00:00, ?epoch/s]"
      ]
     },
     "metadata": {},
     "output_type": "display_data"
    },
    {
     "data": {
      "application/vnd.jupyter.widget-view+json": {
       "model_id": "",
       "version_major": 2,
       "version_minor": 0
      },
      "text/plain": [
       "0batch [00:00, ?batch/s]"
      ]
     },
     "metadata": {},
     "output_type": "display_data"
    },
    {
     "name": "stdout",
     "output_type": "stream",
     "text": [
      "Restoring model weights from the end of the best epoch: 75.\n",
      "Epoch 85: early stopping\n",
      "Training model LSTM+MultiHeadAttention+AdamW_Cluster-1\n"
     ]
    },
    {
     "data": {
      "application/vnd.jupyter.widget-view+json": {
       "model_id": "e0ada23ee49a43c48140e5b113960025",
       "version_major": 2,
       "version_minor": 0
      },
      "text/plain": [
       "0epoch [00:00, ?epoch/s]"
      ]
     },
     "metadata": {},
     "output_type": "display_data"
    },
    {
     "data": {
      "application/vnd.jupyter.widget-view+json": {
       "model_id": "",
       "version_major": 2,
       "version_minor": 0
      },
      "text/plain": [
       "0batch [00:00, ?batch/s]"
      ]
     },
     "metadata": {},
     "output_type": "display_data"
    },
    {
     "name": "stdout",
     "output_type": "stream",
     "text": [
      "Restoring model weights from the end of the best epoch: 1.\n",
      "Epoch 11: early stopping\n",
      "Training model LSTM+MultiHeadAttention+AdamW_Cluster-1\n"
     ]
    },
    {
     "data": {
      "application/vnd.jupyter.widget-view+json": {
       "model_id": "f06d7751ec9e49e1b99b9b58c63fb8ae",
       "version_major": 2,
       "version_minor": 0
      },
      "text/plain": [
       "0epoch [00:00, ?epoch/s]"
      ]
     },
     "metadata": {},
     "output_type": "display_data"
    },
    {
     "data": {
      "application/vnd.jupyter.widget-view+json": {
       "model_id": "",
       "version_major": 2,
       "version_minor": 0
      },
      "text/plain": [
       "0batch [00:00, ?batch/s]"
      ]
     },
     "metadata": {},
     "output_type": "display_data"
    },
    {
     "name": "stdout",
     "output_type": "stream",
     "text": [
      "Restoring model weights from the end of the best epoch: 33.\n",
      "Epoch 43: early stopping\n",
      "Training model LSTM+MultiHeadAttention+AdamW_Cluster-1\n"
     ]
    },
    {
     "data": {
      "application/vnd.jupyter.widget-view+json": {
       "model_id": "d2f040b445c34478bdc88f40da7fa0a4",
       "version_major": 2,
       "version_minor": 0
      },
      "text/plain": [
       "0epoch [00:00, ?epoch/s]"
      ]
     },
     "metadata": {},
     "output_type": "display_data"
    },
    {
     "data": {
      "application/vnd.jupyter.widget-view+json": {
       "model_id": "",
       "version_major": 2,
       "version_minor": 0
      },
      "text/plain": [
       "0batch [00:00, ?batch/s]"
      ]
     },
     "metadata": {},
     "output_type": "display_data"
    },
    {
     "name": "stdout",
     "output_type": "stream",
     "text": [
      "Restoring model weights from the end of the best epoch: 71.\n",
      "Epoch 81: early stopping\n",
      "Training model LSTM+MultiHeadAttention+AdamW_Cluster-1\n"
     ]
    },
    {
     "data": {
      "application/vnd.jupyter.widget-view+json": {
       "model_id": "917979e0fd02404489017dadf0c5a1f6",
       "version_major": 2,
       "version_minor": 0
      },
      "text/plain": [
       "0epoch [00:00, ?epoch/s]"
      ]
     },
     "metadata": {},
     "output_type": "display_data"
    },
    {
     "data": {
      "application/vnd.jupyter.widget-view+json": {
       "model_id": "",
       "version_major": 2,
       "version_minor": 0
      },
      "text/plain": [
       "0batch [00:00, ?batch/s]"
      ]
     },
     "metadata": {},
     "output_type": "display_data"
    },
    {
     "name": "stdout",
     "output_type": "stream",
     "text": [
      "Restoring model weights from the end of the best epoch: 51.\n",
      "Epoch 61: early stopping\n",
      "Training model LSTM+MultiHeadAttention+AdamW_Cluster-1\n"
     ]
    },
    {
     "data": {
      "application/vnd.jupyter.widget-view+json": {
       "model_id": "d435740f94e34617baf3516cea445fb8",
       "version_major": 2,
       "version_minor": 0
      },
      "text/plain": [
       "0epoch [00:00, ?epoch/s]"
      ]
     },
     "metadata": {},
     "output_type": "display_data"
    },
    {
     "data": {
      "application/vnd.jupyter.widget-view+json": {
       "model_id": "",
       "version_major": 2,
       "version_minor": 0
      },
      "text/plain": [
       "0batch [00:00, ?batch/s]"
      ]
     },
     "metadata": {},
     "output_type": "display_data"
    },
    {
     "name": "stdout",
     "output_type": "stream",
     "text": [
      "Training model LSTM+MultiHeadAttention+AdamW_Cluster-1\n"
     ]
    },
    {
     "data": {
      "application/vnd.jupyter.widget-view+json": {
       "model_id": "c90b90a0943148ca81b91450c528bce7",
       "version_major": 2,
       "version_minor": 0
      },
      "text/plain": [
       "0epoch [00:00, ?epoch/s]"
      ]
     },
     "metadata": {},
     "output_type": "display_data"
    },
    {
     "data": {
      "application/vnd.jupyter.widget-view+json": {
       "model_id": "",
       "version_major": 2,
       "version_minor": 0
      },
      "text/plain": [
       "0batch [00:00, ?batch/s]"
      ]
     },
     "metadata": {},
     "output_type": "display_data"
    },
    {
     "name": "stdout",
     "output_type": "stream",
     "text": [
      "Restoring model weights from the end of the best epoch: 24.\n",
      "Epoch 34: early stopping\n",
      "Training model LSTM+MultiHeadAttention+AdamW_Cluster-1\n"
     ]
    },
    {
     "data": {
      "application/vnd.jupyter.widget-view+json": {
       "model_id": "ef71b7c6c4ad4c6e8d1ec05d2e82f3ea",
       "version_major": 2,
       "version_minor": 0
      },
      "text/plain": [
       "0epoch [00:00, ?epoch/s]"
      ]
     },
     "metadata": {},
     "output_type": "display_data"
    },
    {
     "data": {
      "application/vnd.jupyter.widget-view+json": {
       "model_id": "",
       "version_major": 2,
       "version_minor": 0
      },
      "text/plain": [
       "0batch [00:00, ?batch/s]"
      ]
     },
     "metadata": {},
     "output_type": "display_data"
    },
    {
     "data": {
      "application/vnd.jupyter.widget-view+json": {
       "model_id": "d0362a915e0d42418701243f21efbabe",
       "version_major": 2,
       "version_minor": 0
      },
      "text/plain": [
       "Doing dxperiments...:   0%|          | 0/15 [00:00<?, ?it/s]"
      ]
     },
     "metadata": {},
     "output_type": "display_data"
    },
    {
     "name": "stdout",
     "output_type": "stream",
     "text": [
      "Training model LSTM+MultiHeadAttention+AdamW_Cluster-2\n"
     ]
    },
    {
     "data": {
      "application/vnd.jupyter.widget-view+json": {
       "model_id": "db80d38f97b4413a85ba3f76e9b29661",
       "version_major": 2,
       "version_minor": 0
      },
      "text/plain": [
       "0epoch [00:00, ?epoch/s]"
      ]
     },
     "metadata": {},
     "output_type": "display_data"
    },
    {
     "data": {
      "application/vnd.jupyter.widget-view+json": {
       "model_id": "",
       "version_major": 2,
       "version_minor": 0
      },
      "text/plain": [
       "0batch [00:00, ?batch/s]"
      ]
     },
     "metadata": {},
     "output_type": "display_data"
    },
    {
     "name": "stdout",
     "output_type": "stream",
     "text": [
      "Restoring model weights from the end of the best epoch: 55.\n",
      "Epoch 65: early stopping\n"
     ]
    },
    {
     "name": "stderr",
     "output_type": "stream",
     "text": [
      "\u001b[1;38;5;196mCOMET ERROR:\u001b[0m Failed to report experiment status (experiment ended)\n",
      "\u001b[1;38;5;196mCOMET ERROR:\u001b[0m Heartbeat processing error\n"
     ]
    },
    {
     "name": "stdout",
     "output_type": "stream",
     "text": [
      "Training model LSTM+MultiHeadAttention+AdamW_Cluster-2\n"
     ]
    },
    {
     "data": {
      "application/vnd.jupyter.widget-view+json": {
       "model_id": "2a176636cf7649b7ae7cf4fef79e676d",
       "version_major": 2,
       "version_minor": 0
      },
      "text/plain": [
       "0epoch [00:00, ?epoch/s]"
      ]
     },
     "metadata": {},
     "output_type": "display_data"
    },
    {
     "data": {
      "application/vnd.jupyter.widget-view+json": {
       "model_id": "",
       "version_major": 2,
       "version_minor": 0
      },
      "text/plain": [
       "0batch [00:00, ?batch/s]"
      ]
     },
     "metadata": {},
     "output_type": "display_data"
    },
    {
     "name": "stderr",
     "output_type": "stream",
     "text": [
      "\u001b[1;38;5;196mCOMET ERROR:\u001b[0m Heartbeat processing error\n"
     ]
    },
    {
     "name": "stdout",
     "output_type": "stream",
     "text": [
      "Restoring model weights from the end of the best epoch: 24.\n",
      "Epoch 34: early stopping\n"
     ]
    },
    {
     "name": "stderr",
     "output_type": "stream",
     "text": [
      "\u001b[1;38;5;196mCOMET ERROR:\u001b[0m Optimizer couldn't end\n"
     ]
    },
    {
     "name": "stdout",
     "output_type": "stream",
     "text": [
      "Training model LSTM+MultiHeadAttention+AdamW_Cluster-2\n"
     ]
    },
    {
     "data": {
      "application/vnd.jupyter.widget-view+json": {
       "model_id": "a758b89da1694d20bf415e4506b01c3c",
       "version_major": 2,
       "version_minor": 0
      },
      "text/plain": [
       "0epoch [00:00, ?epoch/s]"
      ]
     },
     "metadata": {},
     "output_type": "display_data"
    },
    {
     "data": {
      "application/vnd.jupyter.widget-view+json": {
       "model_id": "",
       "version_major": 2,
       "version_minor": 0
      },
      "text/plain": [
       "0batch [00:00, ?batch/s]"
      ]
     },
     "metadata": {},
     "output_type": "display_data"
    },
    {
     "name": "stdout",
     "output_type": "stream",
     "text": [
      "Restoring model weights from the end of the best epoch: 18.\n",
      "Epoch 28: early stopping\n",
      "Training model LSTM+MultiHeadAttention+AdamW_Cluster-2\n"
     ]
    },
    {
     "data": {
      "application/vnd.jupyter.widget-view+json": {
       "model_id": "cb8b4ec1c6694b3f988ccd4d5d3f0e92",
       "version_major": 2,
       "version_minor": 0
      },
      "text/plain": [
       "0epoch [00:00, ?epoch/s]"
      ]
     },
     "metadata": {},
     "output_type": "display_data"
    },
    {
     "data": {
      "application/vnd.jupyter.widget-view+json": {
       "model_id": "",
       "version_major": 2,
       "version_minor": 0
      },
      "text/plain": [
       "0batch [00:00, ?batch/s]"
      ]
     },
     "metadata": {},
     "output_type": "display_data"
    },
    {
     "name": "stdout",
     "output_type": "stream",
     "text": [
      "Restoring model weights from the end of the best epoch: 22.\n",
      "Epoch 32: early stopping\n",
      "Training model LSTM+MultiHeadAttention+AdamW_Cluster-2\n"
     ]
    },
    {
     "data": {
      "application/vnd.jupyter.widget-view+json": {
       "model_id": "78f861b7e84a4a4bb3d3c9733c34e65c",
       "version_major": 2,
       "version_minor": 0
      },
      "text/plain": [
       "0epoch [00:00, ?epoch/s]"
      ]
     },
     "metadata": {},
     "output_type": "display_data"
    },
    {
     "data": {
      "application/vnd.jupyter.widget-view+json": {
       "model_id": "",
       "version_major": 2,
       "version_minor": 0
      },
      "text/plain": [
       "0batch [00:00, ?batch/s]"
      ]
     },
     "metadata": {},
     "output_type": "display_data"
    },
    {
     "name": "stdout",
     "output_type": "stream",
     "text": [
      "Restoring model weights from the end of the best epoch: 81.\n",
      "Epoch 91: early stopping\n",
      "Training model LSTM+MultiHeadAttention+AdamW_Cluster-2\n"
     ]
    },
    {
     "data": {
      "application/vnd.jupyter.widget-view+json": {
       "model_id": "5020100c9842429cbec90b3a3a411051",
       "version_major": 2,
       "version_minor": 0
      },
      "text/plain": [
       "0epoch [00:00, ?epoch/s]"
      ]
     },
     "metadata": {},
     "output_type": "display_data"
    },
    {
     "data": {
      "application/vnd.jupyter.widget-view+json": {
       "model_id": "",
       "version_major": 2,
       "version_minor": 0
      },
      "text/plain": [
       "0batch [00:00, ?batch/s]"
      ]
     },
     "metadata": {},
     "output_type": "display_data"
    },
    {
     "name": "stdout",
     "output_type": "stream",
     "text": [
      "Restoring model weights from the end of the best epoch: 55.\n",
      "Epoch 65: early stopping\n",
      "Training model LSTM+MultiHeadAttention+AdamW_Cluster-2\n"
     ]
    },
    {
     "data": {
      "application/vnd.jupyter.widget-view+json": {
       "model_id": "fe85658e6e3d42d09d976f5534a11707",
       "version_major": 2,
       "version_minor": 0
      },
      "text/plain": [
       "0epoch [00:00, ?epoch/s]"
      ]
     },
     "metadata": {},
     "output_type": "display_data"
    },
    {
     "data": {
      "application/vnd.jupyter.widget-view+json": {
       "model_id": "",
       "version_major": 2,
       "version_minor": 0
      },
      "text/plain": [
       "0batch [00:00, ?batch/s]"
      ]
     },
     "metadata": {},
     "output_type": "display_data"
    },
    {
     "name": "stdout",
     "output_type": "stream",
     "text": [
      "Training model LSTM+MultiHeadAttention+AdamW_Cluster-2\n"
     ]
    },
    {
     "data": {
      "application/vnd.jupyter.widget-view+json": {
       "model_id": "6ad04a68b3b24275acd55684f618891e",
       "version_major": 2,
       "version_minor": 0
      },
      "text/plain": [
       "0epoch [00:00, ?epoch/s]"
      ]
     },
     "metadata": {},
     "output_type": "display_data"
    },
    {
     "data": {
      "application/vnd.jupyter.widget-view+json": {
       "model_id": "",
       "version_major": 2,
       "version_minor": 0
      },
      "text/plain": [
       "0batch [00:00, ?batch/s]"
      ]
     },
     "metadata": {},
     "output_type": "display_data"
    },
    {
     "name": "stdout",
     "output_type": "stream",
     "text": [
      "Restoring model weights from the end of the best epoch: 50.\n",
      "Epoch 60: early stopping\n",
      "Training model LSTM+MultiHeadAttention+AdamW_Cluster-2\n"
     ]
    },
    {
     "data": {
      "application/vnd.jupyter.widget-view+json": {
       "model_id": "c388c0b4e4b24e3a87ee32e72b3fd73e",
       "version_major": 2,
       "version_minor": 0
      },
      "text/plain": [
       "0epoch [00:00, ?epoch/s]"
      ]
     },
     "metadata": {},
     "output_type": "display_data"
    },
    {
     "data": {
      "application/vnd.jupyter.widget-view+json": {
       "model_id": "",
       "version_major": 2,
       "version_minor": 0
      },
      "text/plain": [
       "0batch [00:00, ?batch/s]"
      ]
     },
     "metadata": {},
     "output_type": "display_data"
    },
    {
     "name": "stdout",
     "output_type": "stream",
     "text": [
      "Training model LSTM+MultiHeadAttention+AdamW_Cluster-2\n"
     ]
    },
    {
     "data": {
      "application/vnd.jupyter.widget-view+json": {
       "model_id": "5ae2fb6400784acfb1948230293ba11a",
       "version_major": 2,
       "version_minor": 0
      },
      "text/plain": [
       "0epoch [00:00, ?epoch/s]"
      ]
     },
     "metadata": {},
     "output_type": "display_data"
    },
    {
     "data": {
      "application/vnd.jupyter.widget-view+json": {
       "model_id": "",
       "version_major": 2,
       "version_minor": 0
      },
      "text/plain": [
       "0batch [00:00, ?batch/s]"
      ]
     },
     "metadata": {},
     "output_type": "display_data"
    },
    {
     "name": "stdout",
     "output_type": "stream",
     "text": [
      "Restoring model weights from the end of the best epoch: 50.\n",
      "Epoch 60: early stopping\n",
      "Training model LSTM+MultiHeadAttention+AdamW_Cluster-2\n"
     ]
    },
    {
     "data": {
      "application/vnd.jupyter.widget-view+json": {
       "model_id": "65b881903c7640c0b18885c09a5b87e9",
       "version_major": 2,
       "version_minor": 0
      },
      "text/plain": [
       "0epoch [00:00, ?epoch/s]"
      ]
     },
     "metadata": {},
     "output_type": "display_data"
    },
    {
     "data": {
      "application/vnd.jupyter.widget-view+json": {
       "model_id": "",
       "version_major": 2,
       "version_minor": 0
      },
      "text/plain": [
       "0batch [00:00, ?batch/s]"
      ]
     },
     "metadata": {},
     "output_type": "display_data"
    },
    {
     "name": "stdout",
     "output_type": "stream",
     "text": [
      "Training model LSTM+MultiHeadAttention+AdamW_Cluster-2\n"
     ]
    },
    {
     "data": {
      "application/vnd.jupyter.widget-view+json": {
       "model_id": "85a6486f137745e6a9843cd5f8540de9",
       "version_major": 2,
       "version_minor": 0
      },
      "text/plain": [
       "0epoch [00:00, ?epoch/s]"
      ]
     },
     "metadata": {},
     "output_type": "display_data"
    },
    {
     "data": {
      "application/vnd.jupyter.widget-view+json": {
       "model_id": "",
       "version_major": 2,
       "version_minor": 0
      },
      "text/plain": [
       "0batch [00:00, ?batch/s]"
      ]
     },
     "metadata": {},
     "output_type": "display_data"
    },
    {
     "name": "stdout",
     "output_type": "stream",
     "text": [
      "Restoring model weights from the end of the best epoch: 26.\n",
      "Epoch 36: early stopping\n",
      "Training model LSTM+MultiHeadAttention+AdamW_Cluster-2\n"
     ]
    },
    {
     "data": {
      "application/vnd.jupyter.widget-view+json": {
       "model_id": "e0832e53e7d343b78bcf898e81525db0",
       "version_major": 2,
       "version_minor": 0
      },
      "text/plain": [
       "0epoch [00:00, ?epoch/s]"
      ]
     },
     "metadata": {},
     "output_type": "display_data"
    },
    {
     "data": {
      "application/vnd.jupyter.widget-view+json": {
       "model_id": "",
       "version_major": 2,
       "version_minor": 0
      },
      "text/plain": [
       "0batch [00:00, ?batch/s]"
      ]
     },
     "metadata": {},
     "output_type": "display_data"
    },
    {
     "name": "stdout",
     "output_type": "stream",
     "text": [
      "Training model LSTM+MultiHeadAttention+AdamW_Cluster-2\n"
     ]
    },
    {
     "data": {
      "application/vnd.jupyter.widget-view+json": {
       "model_id": "fda3a48a413843f9b1f3ac8f0bfe0295",
       "version_major": 2,
       "version_minor": 0
      },
      "text/plain": [
       "0epoch [00:00, ?epoch/s]"
      ]
     },
     "metadata": {},
     "output_type": "display_data"
    },
    {
     "data": {
      "application/vnd.jupyter.widget-view+json": {
       "model_id": "",
       "version_major": 2,
       "version_minor": 0
      },
      "text/plain": [
       "0batch [00:00, ?batch/s]"
      ]
     },
     "metadata": {},
     "output_type": "display_data"
    },
    {
     "name": "stdout",
     "output_type": "stream",
     "text": [
      "Restoring model weights from the end of the best epoch: 74.\n",
      "Epoch 84: early stopping\n",
      "Training model LSTM+MultiHeadAttention+AdamW_Cluster-2\n"
     ]
    },
    {
     "data": {
      "application/vnd.jupyter.widget-view+json": {
       "model_id": "3a3ed6d89723450e8cbd65195d19d50b",
       "version_major": 2,
       "version_minor": 0
      },
      "text/plain": [
       "0epoch [00:00, ?epoch/s]"
      ]
     },
     "metadata": {},
     "output_type": "display_data"
    },
    {
     "data": {
      "application/vnd.jupyter.widget-view+json": {
       "model_id": "",
       "version_major": 2,
       "version_minor": 0
      },
      "text/plain": [
       "0batch [00:00, ?batch/s]"
      ]
     },
     "metadata": {},
     "output_type": "display_data"
    },
    {
     "data": {
      "application/vnd.jupyter.widget-view+json": {
       "model_id": "bd09a173ec534ead9173ffa7d9cd2f7f",
       "version_major": 2,
       "version_minor": 0
      },
      "text/plain": [
       "Doing dxperiments...:   0%|          | 0/15 [00:00<?, ?it/s]"
      ]
     },
     "metadata": {},
     "output_type": "display_data"
    },
    {
     "name": "stdout",
     "output_type": "stream",
     "text": [
      "Training model LSTM+MultiHeadAttention+AdamW_Cluster-3\n"
     ]
    },
    {
     "data": {
      "application/vnd.jupyter.widget-view+json": {
       "model_id": "f8d187a12110421d8235c1576b3c5a26",
       "version_major": 2,
       "version_minor": 0
      },
      "text/plain": [
       "0epoch [00:00, ?epoch/s]"
      ]
     },
     "metadata": {},
     "output_type": "display_data"
    },
    {
     "data": {
      "application/vnd.jupyter.widget-view+json": {
       "model_id": "",
       "version_major": 2,
       "version_minor": 0
      },
      "text/plain": [
       "0batch [00:00, ?batch/s]"
      ]
     },
     "metadata": {},
     "output_type": "display_data"
    },
    {
     "name": "stderr",
     "output_type": "stream",
     "text": [
      "\u001b[1;38;5;196mCOMET ERROR:\u001b[0m Optimizer couldn't end\n",
      "\u001b[1;38;5;196mCOMET ERROR:\u001b[0m Error sending a notification, make sure you have opted-in for notifications\n"
     ]
    },
    {
     "name": "stdout",
     "output_type": "stream",
     "text": [
      "Training model LSTM+MultiHeadAttention+AdamW_Cluster-3\n"
     ]
    },
    {
     "data": {
      "application/vnd.jupyter.widget-view+json": {
       "model_id": "e836199741b442fda37b90a79dca3028",
       "version_major": 2,
       "version_minor": 0
      },
      "text/plain": [
       "0epoch [00:00, ?epoch/s]"
      ]
     },
     "metadata": {},
     "output_type": "display_data"
    },
    {
     "data": {
      "application/vnd.jupyter.widget-view+json": {
       "model_id": "",
       "version_major": 2,
       "version_minor": 0
      },
      "text/plain": [
       "0batch [00:00, ?batch/s]"
      ]
     },
     "metadata": {},
     "output_type": "display_data"
    },
    {
     "name": "stdout",
     "output_type": "stream",
     "text": [
      "Restoring model weights from the end of the best epoch: 8.\n",
      "Epoch 18: early stopping\n",
      "Training model LSTM+MultiHeadAttention+AdamW_Cluster-3\n"
     ]
    },
    {
     "data": {
      "application/vnd.jupyter.widget-view+json": {
       "model_id": "96f2df30825342fe9e26dce06f7b1602",
       "version_major": 2,
       "version_minor": 0
      },
      "text/plain": [
       "0epoch [00:00, ?epoch/s]"
      ]
     },
     "metadata": {},
     "output_type": "display_data"
    },
    {
     "data": {
      "application/vnd.jupyter.widget-view+json": {
       "model_id": "",
       "version_major": 2,
       "version_minor": 0
      },
      "text/plain": [
       "0batch [00:00, ?batch/s]"
      ]
     },
     "metadata": {},
     "output_type": "display_data"
    },
    {
     "name": "stdout",
     "output_type": "stream",
     "text": [
      "Training model LSTM+MultiHeadAttention+AdamW_Cluster-3\n"
     ]
    },
    {
     "data": {
      "application/vnd.jupyter.widget-view+json": {
       "model_id": "fd5c795d6dea48f6bb88c0056b3e3bee",
       "version_major": 2,
       "version_minor": 0
      },
      "text/plain": [
       "0epoch [00:00, ?epoch/s]"
      ]
     },
     "metadata": {},
     "output_type": "display_data"
    },
    {
     "data": {
      "application/vnd.jupyter.widget-view+json": {
       "model_id": "",
       "version_major": 2,
       "version_minor": 0
      },
      "text/plain": [
       "0batch [00:00, ?batch/s]"
      ]
     },
     "metadata": {},
     "output_type": "display_data"
    },
    {
     "name": "stdout",
     "output_type": "stream",
     "text": [
      "Training model LSTM+MultiHeadAttention+AdamW_Cluster-3\n"
     ]
    },
    {
     "data": {
      "application/vnd.jupyter.widget-view+json": {
       "model_id": "ed6436768f434bc9bc00360ff360555b",
       "version_major": 2,
       "version_minor": 0
      },
      "text/plain": [
       "0epoch [00:00, ?epoch/s]"
      ]
     },
     "metadata": {},
     "output_type": "display_data"
    },
    {
     "data": {
      "application/vnd.jupyter.widget-view+json": {
       "model_id": "",
       "version_major": 2,
       "version_minor": 0
      },
      "text/plain": [
       "0batch [00:00, ?batch/s]"
      ]
     },
     "metadata": {},
     "output_type": "display_data"
    },
    {
     "name": "stdout",
     "output_type": "stream",
     "text": [
      "Restoring model weights from the end of the best epoch: 17.\n",
      "Epoch 27: early stopping\n",
      "Training model LSTM+MultiHeadAttention+AdamW_Cluster-3\n"
     ]
    },
    {
     "data": {
      "application/vnd.jupyter.widget-view+json": {
       "model_id": "973ae7624c37407f91c53e4b76f1026c",
       "version_major": 2,
       "version_minor": 0
      },
      "text/plain": [
       "0epoch [00:00, ?epoch/s]"
      ]
     },
     "metadata": {},
     "output_type": "display_data"
    },
    {
     "data": {
      "application/vnd.jupyter.widget-view+json": {
       "model_id": "",
       "version_major": 2,
       "version_minor": 0
      },
      "text/plain": [
       "0batch [00:00, ?batch/s]"
      ]
     },
     "metadata": {},
     "output_type": "display_data"
    },
    {
     "name": "stdout",
     "output_type": "stream",
     "text": [
      "Restoring model weights from the end of the best epoch: 32.\n",
      "Epoch 42: early stopping\n",
      "Training model LSTM+MultiHeadAttention+AdamW_Cluster-3\n"
     ]
    },
    {
     "data": {
      "application/vnd.jupyter.widget-view+json": {
       "model_id": "0b41de575f85403cbe8f34a6119093ec",
       "version_major": 2,
       "version_minor": 0
      },
      "text/plain": [
       "0epoch [00:00, ?epoch/s]"
      ]
     },
     "metadata": {},
     "output_type": "display_data"
    },
    {
     "data": {
      "application/vnd.jupyter.widget-view+json": {
       "model_id": "",
       "version_major": 2,
       "version_minor": 0
      },
      "text/plain": [
       "0batch [00:00, ?batch/s]"
      ]
     },
     "metadata": {},
     "output_type": "display_data"
    },
    {
     "name": "stdout",
     "output_type": "stream",
     "text": [
      "Restoring model weights from the end of the best epoch: 23.\n",
      "Epoch 33: early stopping\n",
      "Training model LSTM+MultiHeadAttention+AdamW_Cluster-3\n"
     ]
    },
    {
     "data": {
      "application/vnd.jupyter.widget-view+json": {
       "model_id": "3bb52ad400454f6d9de202ffa31ee350",
       "version_major": 2,
       "version_minor": 0
      },
      "text/plain": [
       "0epoch [00:00, ?epoch/s]"
      ]
     },
     "metadata": {},
     "output_type": "display_data"
    },
    {
     "data": {
      "application/vnd.jupyter.widget-view+json": {
       "model_id": "",
       "version_major": 2,
       "version_minor": 0
      },
      "text/plain": [
       "0batch [00:00, ?batch/s]"
      ]
     },
     "metadata": {},
     "output_type": "display_data"
    },
    {
     "name": "stdout",
     "output_type": "stream",
     "text": [
      "Restoring model weights from the end of the best epoch: 5.\n",
      "Epoch 15: early stopping\n",
      "Training model LSTM+MultiHeadAttention+AdamW_Cluster-3\n"
     ]
    },
    {
     "data": {
      "application/vnd.jupyter.widget-view+json": {
       "model_id": "db66bc2b930b4a6eb410027f0c94bbb6",
       "version_major": 2,
       "version_minor": 0
      },
      "text/plain": [
       "0epoch [00:00, ?epoch/s]"
      ]
     },
     "metadata": {},
     "output_type": "display_data"
    },
    {
     "data": {
      "application/vnd.jupyter.widget-view+json": {
       "model_id": "",
       "version_major": 2,
       "version_minor": 0
      },
      "text/plain": [
       "0batch [00:00, ?batch/s]"
      ]
     },
     "metadata": {},
     "output_type": "display_data"
    },
    {
     "name": "stdout",
     "output_type": "stream",
     "text": [
      "Restoring model weights from the end of the best epoch: 33.\n",
      "Epoch 43: early stopping\n",
      "Training model LSTM+MultiHeadAttention+AdamW_Cluster-3\n"
     ]
    },
    {
     "data": {
      "application/vnd.jupyter.widget-view+json": {
       "model_id": "e1028d34e59542abaee6f09a3bb87caa",
       "version_major": 2,
       "version_minor": 0
      },
      "text/plain": [
       "0epoch [00:00, ?epoch/s]"
      ]
     },
     "metadata": {},
     "output_type": "display_data"
    },
    {
     "data": {
      "application/vnd.jupyter.widget-view+json": {
       "model_id": "",
       "version_major": 2,
       "version_minor": 0
      },
      "text/plain": [
       "0batch [00:00, ?batch/s]"
      ]
     },
     "metadata": {},
     "output_type": "display_data"
    },
    {
     "name": "stdout",
     "output_type": "stream",
     "text": [
      "Training model LSTM+MultiHeadAttention+AdamW_Cluster-3\n"
     ]
    },
    {
     "data": {
      "application/vnd.jupyter.widget-view+json": {
       "model_id": "62841ea265494250a47e953bdaf7a783",
       "version_major": 2,
       "version_minor": 0
      },
      "text/plain": [
       "0epoch [00:00, ?epoch/s]"
      ]
     },
     "metadata": {},
     "output_type": "display_data"
    },
    {
     "data": {
      "application/vnd.jupyter.widget-view+json": {
       "model_id": "",
       "version_major": 2,
       "version_minor": 0
      },
      "text/plain": [
       "0batch [00:00, ?batch/s]"
      ]
     },
     "metadata": {},
     "output_type": "display_data"
    },
    {
     "name": "stdout",
     "output_type": "stream",
     "text": [
      "Restoring model weights from the end of the best epoch: 21.\n",
      "Epoch 31: early stopping\n",
      "Training model LSTM+MultiHeadAttention+AdamW_Cluster-3\n"
     ]
    },
    {
     "data": {
      "application/vnd.jupyter.widget-view+json": {
       "model_id": "1b3c415a55a64587988399c30b964706",
       "version_major": 2,
       "version_minor": 0
      },
      "text/plain": [
       "0epoch [00:00, ?epoch/s]"
      ]
     },
     "metadata": {},
     "output_type": "display_data"
    },
    {
     "data": {
      "application/vnd.jupyter.widget-view+json": {
       "model_id": "",
       "version_major": 2,
       "version_minor": 0
      },
      "text/plain": [
       "0batch [00:00, ?batch/s]"
      ]
     },
     "metadata": {},
     "output_type": "display_data"
    },
    {
     "name": "stdout",
     "output_type": "stream",
     "text": [
      "Restoring model weights from the end of the best epoch: 10.\n",
      "Epoch 20: early stopping\n",
      "Training model LSTM+MultiHeadAttention+AdamW_Cluster-3\n"
     ]
    },
    {
     "data": {
      "application/vnd.jupyter.widget-view+json": {
       "model_id": "e7742ab14e644eaca2bf5749044ba6f9",
       "version_major": 2,
       "version_minor": 0
      },
      "text/plain": [
       "0epoch [00:00, ?epoch/s]"
      ]
     },
     "metadata": {},
     "output_type": "display_data"
    },
    {
     "data": {
      "application/vnd.jupyter.widget-view+json": {
       "model_id": "",
       "version_major": 2,
       "version_minor": 0
      },
      "text/plain": [
       "0batch [00:00, ?batch/s]"
      ]
     },
     "metadata": {},
     "output_type": "display_data"
    },
    {
     "name": "stdout",
     "output_type": "stream",
     "text": [
      "Restoring model weights from the end of the best epoch: 70.\n",
      "Epoch 80: early stopping\n",
      "Training model LSTM+MultiHeadAttention+AdamW_Cluster-3\n"
     ]
    },
    {
     "data": {
      "application/vnd.jupyter.widget-view+json": {
       "model_id": "51a5660def3243d18d41ba88e6bb9e5a",
       "version_major": 2,
       "version_minor": 0
      },
      "text/plain": [
       "0epoch [00:00, ?epoch/s]"
      ]
     },
     "metadata": {},
     "output_type": "display_data"
    },
    {
     "data": {
      "application/vnd.jupyter.widget-view+json": {
       "model_id": "",
       "version_major": 2,
       "version_minor": 0
      },
      "text/plain": [
       "0batch [00:00, ?batch/s]"
      ]
     },
     "metadata": {},
     "output_type": "display_data"
    },
    {
     "name": "stdout",
     "output_type": "stream",
     "text": [
      "Restoring model weights from the end of the best epoch: 42.\n",
      "Epoch 52: early stopping\n",
      "Training model LSTM+MultiHeadAttention+AdamW_Cluster-3\n"
     ]
    },
    {
     "data": {
      "application/vnd.jupyter.widget-view+json": {
       "model_id": "cf9dbbf1245b445ebb9683eff79050e0",
       "version_major": 2,
       "version_minor": 0
      },
      "text/plain": [
       "0epoch [00:00, ?epoch/s]"
      ]
     },
     "metadata": {},
     "output_type": "display_data"
    },
    {
     "data": {
      "application/vnd.jupyter.widget-view+json": {
       "model_id": "",
       "version_major": 2,
       "version_minor": 0
      },
      "text/plain": [
       "0batch [00:00, ?batch/s]"
      ]
     },
     "metadata": {},
     "output_type": "display_data"
    },
    {
     "name": "stdout",
     "output_type": "stream",
     "text": [
      "Restoring model weights from the end of the best epoch: 16.\n",
      "Epoch 26: early stopping\n"
     ]
    },
    {
     "data": {
      "application/vnd.jupyter.widget-view+json": {
       "model_id": "9c3727d4bf744ca48e8a174605b33232",
       "version_major": 2,
       "version_minor": 0
      },
      "text/plain": [
       "Doing dxperiments...:   0%|          | 0/15 [00:00<?, ?it/s]"
      ]
     },
     "metadata": {},
     "output_type": "display_data"
    },
    {
     "name": "stdout",
     "output_type": "stream",
     "text": [
      "Training model LSTM+MultiHeadAttention+AdamW_Cluster-4\n"
     ]
    },
    {
     "data": {
      "application/vnd.jupyter.widget-view+json": {
       "model_id": "f3bc225aa84949e483b2b77fb53431c3",
       "version_major": 2,
       "version_minor": 0
      },
      "text/plain": [
       "0epoch [00:00, ?epoch/s]"
      ]
     },
     "metadata": {},
     "output_type": "display_data"
    },
    {
     "data": {
      "application/vnd.jupyter.widget-view+json": {
       "model_id": "",
       "version_major": 2,
       "version_minor": 0
      },
      "text/plain": [
       "0batch [00:00, ?batch/s]"
      ]
     },
     "metadata": {},
     "output_type": "display_data"
    },
    {
     "name": "stdout",
     "output_type": "stream",
     "text": [
      "Training model LSTM+MultiHeadAttention+AdamW_Cluster-4\n"
     ]
    },
    {
     "data": {
      "application/vnd.jupyter.widget-view+json": {
       "model_id": "8f943fe7b5d4446797e8bd039bb64344",
       "version_major": 2,
       "version_minor": 0
      },
      "text/plain": [
       "0epoch [00:00, ?epoch/s]"
      ]
     },
     "metadata": {},
     "output_type": "display_data"
    },
    {
     "data": {
      "application/vnd.jupyter.widget-view+json": {
       "model_id": "",
       "version_major": 2,
       "version_minor": 0
      },
      "text/plain": [
       "0batch [00:00, ?batch/s]"
      ]
     },
     "metadata": {},
     "output_type": "display_data"
    },
    {
     "name": "stdout",
     "output_type": "stream",
     "text": [
      "Training model LSTM+MultiHeadAttention+AdamW_Cluster-4\n"
     ]
    },
    {
     "data": {
      "application/vnd.jupyter.widget-view+json": {
       "model_id": "856af2e731f64b83b1ef9787bb5e38ec",
       "version_major": 2,
       "version_minor": 0
      },
      "text/plain": [
       "0epoch [00:00, ?epoch/s]"
      ]
     },
     "metadata": {},
     "output_type": "display_data"
    },
    {
     "data": {
      "application/vnd.jupyter.widget-view+json": {
       "model_id": "",
       "version_major": 2,
       "version_minor": 0
      },
      "text/plain": [
       "0batch [00:00, ?batch/s]"
      ]
     },
     "metadata": {},
     "output_type": "display_data"
    },
    {
     "name": "stdout",
     "output_type": "stream",
     "text": [
      "Restoring model weights from the end of the best epoch: 77.\n",
      "Epoch 87: early stopping\n",
      "Training model LSTM+MultiHeadAttention+AdamW_Cluster-4\n"
     ]
    },
    {
     "data": {
      "application/vnd.jupyter.widget-view+json": {
       "model_id": "ca70efb286ea416880502245914b95e0",
       "version_major": 2,
       "version_minor": 0
      },
      "text/plain": [
       "0epoch [00:00, ?epoch/s]"
      ]
     },
     "metadata": {},
     "output_type": "display_data"
    },
    {
     "data": {
      "application/vnd.jupyter.widget-view+json": {
       "model_id": "",
       "version_major": 2,
       "version_minor": 0
      },
      "text/plain": [
       "0batch [00:00, ?batch/s]"
      ]
     },
     "metadata": {},
     "output_type": "display_data"
    },
    {
     "name": "stdout",
     "output_type": "stream",
     "text": [
      "Restoring model weights from the end of the best epoch: 13.\n",
      "Epoch 23: early stopping\n",
      "Training model LSTM+MultiHeadAttention+AdamW_Cluster-4\n"
     ]
    },
    {
     "data": {
      "application/vnd.jupyter.widget-view+json": {
       "model_id": "cd730e94c274457d8595e6c6df11b989",
       "version_major": 2,
       "version_minor": 0
      },
      "text/plain": [
       "0epoch [00:00, ?epoch/s]"
      ]
     },
     "metadata": {},
     "output_type": "display_data"
    },
    {
     "data": {
      "application/vnd.jupyter.widget-view+json": {
       "model_id": "",
       "version_major": 2,
       "version_minor": 0
      },
      "text/plain": [
       "0batch [00:00, ?batch/s]"
      ]
     },
     "metadata": {},
     "output_type": "display_data"
    },
    {
     "name": "stdout",
     "output_type": "stream",
     "text": [
      "Training model LSTM+MultiHeadAttention+AdamW_Cluster-4\n"
     ]
    },
    {
     "data": {
      "application/vnd.jupyter.widget-view+json": {
       "model_id": "8bd2fa50095a4ad5b2d45f7f4b46df69",
       "version_major": 2,
       "version_minor": 0
      },
      "text/plain": [
       "0epoch [00:00, ?epoch/s]"
      ]
     },
     "metadata": {},
     "output_type": "display_data"
    },
    {
     "data": {
      "application/vnd.jupyter.widget-view+json": {
       "model_id": "",
       "version_major": 2,
       "version_minor": 0
      },
      "text/plain": [
       "0batch [00:00, ?batch/s]"
      ]
     },
     "metadata": {},
     "output_type": "display_data"
    },
    {
     "name": "stderr",
     "output_type": "stream",
     "text": [
      "\u001b[1;38;5;196mCOMET ERROR:\u001b[0m Heartbeat processing error\n",
      "\u001b[1;38;5;196mCOMET ERROR:\u001b[0m Optimizer couldn't end\n"
     ]
    },
    {
     "name": "stdout",
     "output_type": "stream",
     "text": [
      "Training model LSTM+MultiHeadAttention+AdamW_Cluster-4\n"
     ]
    },
    {
     "data": {
      "application/vnd.jupyter.widget-view+json": {
       "model_id": "33aae252b69242db9a8268ea4893eca6",
       "version_major": 2,
       "version_minor": 0
      },
      "text/plain": [
       "0epoch [00:00, ?epoch/s]"
      ]
     },
     "metadata": {},
     "output_type": "display_data"
    },
    {
     "data": {
      "application/vnd.jupyter.widget-view+json": {
       "model_id": "",
       "version_major": 2,
       "version_minor": 0
      },
      "text/plain": [
       "0batch [00:00, ?batch/s]"
      ]
     },
     "metadata": {},
     "output_type": "display_data"
    },
    {
     "name": "stderr",
     "output_type": "stream",
     "text": [
      "\u001b[1;38;5;196mCOMET ERROR:\u001b[0m Heartbeat processing error\n"
     ]
    },
    {
     "name": "stdout",
     "output_type": "stream",
     "text": [
      "Training model LSTM+MultiHeadAttention+AdamW_Cluster-4\n"
     ]
    },
    {
     "data": {
      "application/vnd.jupyter.widget-view+json": {
       "model_id": "3202fd10242b4b669b06fcf224d397e2",
       "version_major": 2,
       "version_minor": 0
      },
      "text/plain": [
       "0epoch [00:00, ?epoch/s]"
      ]
     },
     "metadata": {},
     "output_type": "display_data"
    },
    {
     "data": {
      "application/vnd.jupyter.widget-view+json": {
       "model_id": "",
       "version_major": 2,
       "version_minor": 0
      },
      "text/plain": [
       "0batch [00:00, ?batch/s]"
      ]
     },
     "metadata": {},
     "output_type": "display_data"
    },
    {
     "name": "stdout",
     "output_type": "stream",
     "text": [
      "Restoring model weights from the end of the best epoch: 5.\n",
      "Epoch 15: early stopping\n",
      "Training model LSTM+MultiHeadAttention+AdamW_Cluster-4\n"
     ]
    },
    {
     "data": {
      "application/vnd.jupyter.widget-view+json": {
       "model_id": "35e32ba68fb641d091265d793d3b9f6f",
       "version_major": 2,
       "version_minor": 0
      },
      "text/plain": [
       "0epoch [00:00, ?epoch/s]"
      ]
     },
     "metadata": {},
     "output_type": "display_data"
    },
    {
     "data": {
      "application/vnd.jupyter.widget-view+json": {
       "model_id": "",
       "version_major": 2,
       "version_minor": 0
      },
      "text/plain": [
       "0batch [00:00, ?batch/s]"
      ]
     },
     "metadata": {},
     "output_type": "display_data"
    },
    {
     "name": "stdout",
     "output_type": "stream",
     "text": [
      "Restoring model weights from the end of the best epoch: 67.\n",
      "Epoch 77: early stopping\n",
      "Training model LSTM+MultiHeadAttention+AdamW_Cluster-4\n"
     ]
    },
    {
     "data": {
      "application/vnd.jupyter.widget-view+json": {
       "model_id": "d3980739ecf34cb0b357a084fe8722fe",
       "version_major": 2,
       "version_minor": 0
      },
      "text/plain": [
       "0epoch [00:00, ?epoch/s]"
      ]
     },
     "metadata": {},
     "output_type": "display_data"
    },
    {
     "data": {
      "application/vnd.jupyter.widget-view+json": {
       "model_id": "",
       "version_major": 2,
       "version_minor": 0
      },
      "text/plain": [
       "0batch [00:00, ?batch/s]"
      ]
     },
     "metadata": {},
     "output_type": "display_data"
    },
    {
     "name": "stdout",
     "output_type": "stream",
     "text": [
      "Training model LSTM+MultiHeadAttention+AdamW_Cluster-4\n"
     ]
    },
    {
     "data": {
      "application/vnd.jupyter.widget-view+json": {
       "model_id": "3fa9d11728cb4d62a4c1403ddaf54df9",
       "version_major": 2,
       "version_minor": 0
      },
      "text/plain": [
       "0epoch [00:00, ?epoch/s]"
      ]
     },
     "metadata": {},
     "output_type": "display_data"
    },
    {
     "data": {
      "application/vnd.jupyter.widget-view+json": {
       "model_id": "",
       "version_major": 2,
       "version_minor": 0
      },
      "text/plain": [
       "0batch [00:00, ?batch/s]"
      ]
     },
     "metadata": {},
     "output_type": "display_data"
    },
    {
     "name": "stdout",
     "output_type": "stream",
     "text": [
      "Training model LSTM+MultiHeadAttention+AdamW_Cluster-4\n"
     ]
    },
    {
     "data": {
      "application/vnd.jupyter.widget-view+json": {
       "model_id": "781503baf104409d83ffab6c398e4966",
       "version_major": 2,
       "version_minor": 0
      },
      "text/plain": [
       "0epoch [00:00, ?epoch/s]"
      ]
     },
     "metadata": {},
     "output_type": "display_data"
    },
    {
     "data": {
      "application/vnd.jupyter.widget-view+json": {
       "model_id": "",
       "version_major": 2,
       "version_minor": 0
      },
      "text/plain": [
       "0batch [00:00, ?batch/s]"
      ]
     },
     "metadata": {},
     "output_type": "display_data"
    },
    {
     "name": "stdout",
     "output_type": "stream",
     "text": [
      "Training model LSTM+MultiHeadAttention+AdamW_Cluster-4\n"
     ]
    },
    {
     "data": {
      "application/vnd.jupyter.widget-view+json": {
       "model_id": "9a6d06cab9ea4450a3643a89408e082d",
       "version_major": 2,
       "version_minor": 0
      },
      "text/plain": [
       "0epoch [00:00, ?epoch/s]"
      ]
     },
     "metadata": {},
     "output_type": "display_data"
    },
    {
     "data": {
      "application/vnd.jupyter.widget-view+json": {
       "model_id": "",
       "version_major": 2,
       "version_minor": 0
      },
      "text/plain": [
       "0batch [00:00, ?batch/s]"
      ]
     },
     "metadata": {},
     "output_type": "display_data"
    },
    {
     "name": "stdout",
     "output_type": "stream",
     "text": [
      "Training model LSTM+MultiHeadAttention+AdamW_Cluster-4\n"
     ]
    },
    {
     "data": {
      "application/vnd.jupyter.widget-view+json": {
       "model_id": "4fa6c7b3661f468fa4a403154f6e4aa6",
       "version_major": 2,
       "version_minor": 0
      },
      "text/plain": [
       "0epoch [00:00, ?epoch/s]"
      ]
     },
     "metadata": {},
     "output_type": "display_data"
    },
    {
     "data": {
      "application/vnd.jupyter.widget-view+json": {
       "model_id": "",
       "version_major": 2,
       "version_minor": 0
      },
      "text/plain": [
       "0batch [00:00, ?batch/s]"
      ]
     },
     "metadata": {},
     "output_type": "display_data"
    },
    {
     "name": "stdout",
     "output_type": "stream",
     "text": [
      "Restoring model weights from the end of the best epoch: 29.\n",
      "Epoch 39: early stopping\n",
      "Training model LSTM+MultiHeadAttention+AdamW_Cluster-4\n"
     ]
    },
    {
     "data": {
      "application/vnd.jupyter.widget-view+json": {
       "model_id": "ba2f198cb21949a2a08023750ed3ef6c",
       "version_major": 2,
       "version_minor": 0
      },
      "text/plain": [
       "0epoch [00:00, ?epoch/s]"
      ]
     },
     "metadata": {},
     "output_type": "display_data"
    },
    {
     "data": {
      "application/vnd.jupyter.widget-view+json": {
       "model_id": "",
       "version_major": 2,
       "version_minor": 0
      },
      "text/plain": [
       "0batch [00:00, ?batch/s]"
      ]
     },
     "metadata": {},
     "output_type": "display_data"
    },
    {
     "name": "stdout",
     "output_type": "stream",
     "text": [
      "Restoring model weights from the end of the best epoch: 25.\n",
      "Epoch 35: early stopping\n"
     ]
    },
    {
     "data": {
      "application/vnd.jupyter.widget-view+json": {
       "model_id": "3ee8be66f64a46a58253b91fa75ef425",
       "version_major": 2,
       "version_minor": 0
      },
      "text/plain": [
       "Doing dxperiments...:   0%|          | 0/15 [00:00<?, ?it/s]"
      ]
     },
     "metadata": {},
     "output_type": "display_data"
    },
    {
     "name": "stdout",
     "output_type": "stream",
     "text": [
      "Training model LSTM+MultiHeadAttention+AdamW_Cluster-5\n"
     ]
    },
    {
     "data": {
      "application/vnd.jupyter.widget-view+json": {
       "model_id": "45184543601245fa8461753630013b44",
       "version_major": 2,
       "version_minor": 0
      },
      "text/plain": [
       "0epoch [00:00, ?epoch/s]"
      ]
     },
     "metadata": {},
     "output_type": "display_data"
    },
    {
     "data": {
      "application/vnd.jupyter.widget-view+json": {
       "model_id": "",
       "version_major": 2,
       "version_minor": 0
      },
      "text/plain": [
       "0batch [00:00, ?batch/s]"
      ]
     },
     "metadata": {},
     "output_type": "display_data"
    },
    {
     "name": "stdout",
     "output_type": "stream",
     "text": [
      "Restoring model weights from the end of the best epoch: 61.\n",
      "Epoch 71: early stopping\n",
      "Training model LSTM+MultiHeadAttention+AdamW_Cluster-5\n"
     ]
    },
    {
     "data": {
      "application/vnd.jupyter.widget-view+json": {
       "model_id": "05236f305b0743d0aa093e30dfc7e011",
       "version_major": 2,
       "version_minor": 0
      },
      "text/plain": [
       "0epoch [00:00, ?epoch/s]"
      ]
     },
     "metadata": {},
     "output_type": "display_data"
    },
    {
     "data": {
      "application/vnd.jupyter.widget-view+json": {
       "model_id": "",
       "version_major": 2,
       "version_minor": 0
      },
      "text/plain": [
       "0batch [00:00, ?batch/s]"
      ]
     },
     "metadata": {},
     "output_type": "display_data"
    },
    {
     "name": "stdout",
     "output_type": "stream",
     "text": [
      "Training model LSTM+MultiHeadAttention+AdamW_Cluster-5\n"
     ]
    },
    {
     "data": {
      "application/vnd.jupyter.widget-view+json": {
       "model_id": "617638f6223d43d7ae55c35e464b1d43",
       "version_major": 2,
       "version_minor": 0
      },
      "text/plain": [
       "0epoch [00:00, ?epoch/s]"
      ]
     },
     "metadata": {},
     "output_type": "display_data"
    },
    {
     "data": {
      "application/vnd.jupyter.widget-view+json": {
       "model_id": "",
       "version_major": 2,
       "version_minor": 0
      },
      "text/plain": [
       "0batch [00:00, ?batch/s]"
      ]
     },
     "metadata": {},
     "output_type": "display_data"
    },
    {
     "name": "stdout",
     "output_type": "stream",
     "text": [
      "Training model LSTM+MultiHeadAttention+AdamW_Cluster-5\n"
     ]
    },
    {
     "data": {
      "application/vnd.jupyter.widget-view+json": {
       "model_id": "67d07cb93c5741f7a894a069ca9f2330",
       "version_major": 2,
       "version_minor": 0
      },
      "text/plain": [
       "0epoch [00:00, ?epoch/s]"
      ]
     },
     "metadata": {},
     "output_type": "display_data"
    },
    {
     "data": {
      "application/vnd.jupyter.widget-view+json": {
       "model_id": "",
       "version_major": 2,
       "version_minor": 0
      },
      "text/plain": [
       "0batch [00:00, ?batch/s]"
      ]
     },
     "metadata": {},
     "output_type": "display_data"
    },
    {
     "name": "stdout",
     "output_type": "stream",
     "text": [
      "Training model LSTM+MultiHeadAttention+AdamW_Cluster-5\n"
     ]
    },
    {
     "data": {
      "application/vnd.jupyter.widget-view+json": {
       "model_id": "957fa07b60fd497680fd67d76a66b091",
       "version_major": 2,
       "version_minor": 0
      },
      "text/plain": [
       "0epoch [00:00, ?epoch/s]"
      ]
     },
     "metadata": {},
     "output_type": "display_data"
    },
    {
     "data": {
      "application/vnd.jupyter.widget-view+json": {
       "model_id": "",
       "version_major": 2,
       "version_minor": 0
      },
      "text/plain": [
       "0batch [00:00, ?batch/s]"
      ]
     },
     "metadata": {},
     "output_type": "display_data"
    },
    {
     "name": "stdout",
     "output_type": "stream",
     "text": [
      "Training model LSTM+MultiHeadAttention+AdamW_Cluster-5\n"
     ]
    },
    {
     "data": {
      "application/vnd.jupyter.widget-view+json": {
       "model_id": "f62e9ab31d444028a8b7e85c1e3a054b",
       "version_major": 2,
       "version_minor": 0
      },
      "text/plain": [
       "0epoch [00:00, ?epoch/s]"
      ]
     },
     "metadata": {},
     "output_type": "display_data"
    },
    {
     "data": {
      "application/vnd.jupyter.widget-view+json": {
       "model_id": "",
       "version_major": 2,
       "version_minor": 0
      },
      "text/plain": [
       "0batch [00:00, ?batch/s]"
      ]
     },
     "metadata": {},
     "output_type": "display_data"
    },
    {
     "name": "stdout",
     "output_type": "stream",
     "text": [
      "Restoring model weights from the end of the best epoch: 87.\n",
      "Epoch 97: early stopping\n",
      "Training model LSTM+MultiHeadAttention+AdamW_Cluster-5\n"
     ]
    },
    {
     "data": {
      "application/vnd.jupyter.widget-view+json": {
       "model_id": "0442b047e32049f0b5a0ac3da230b8d8",
       "version_major": 2,
       "version_minor": 0
      },
      "text/plain": [
       "0epoch [00:00, ?epoch/s]"
      ]
     },
     "metadata": {},
     "output_type": "display_data"
    },
    {
     "data": {
      "application/vnd.jupyter.widget-view+json": {
       "model_id": "",
       "version_major": 2,
       "version_minor": 0
      },
      "text/plain": [
       "0batch [00:00, ?batch/s]"
      ]
     },
     "metadata": {},
     "output_type": "display_data"
    },
    {
     "name": "stdout",
     "output_type": "stream",
     "text": [
      "Training model LSTM+MultiHeadAttention+AdamW_Cluster-5\n"
     ]
    },
    {
     "data": {
      "application/vnd.jupyter.widget-view+json": {
       "model_id": "945d502cacfb47c48c86e9aba25c0d0d",
       "version_major": 2,
       "version_minor": 0
      },
      "text/plain": [
       "0epoch [00:00, ?epoch/s]"
      ]
     },
     "metadata": {},
     "output_type": "display_data"
    },
    {
     "data": {
      "application/vnd.jupyter.widget-view+json": {
       "model_id": "",
       "version_major": 2,
       "version_minor": 0
      },
      "text/plain": [
       "0batch [00:00, ?batch/s]"
      ]
     },
     "metadata": {},
     "output_type": "display_data"
    },
    {
     "name": "stdout",
     "output_type": "stream",
     "text": [
      "Restoring model weights from the end of the best epoch: 30.\n",
      "Epoch 40: early stopping\n",
      "Training model LSTM+MultiHeadAttention+AdamW_Cluster-5\n"
     ]
    },
    {
     "data": {
      "application/vnd.jupyter.widget-view+json": {
       "model_id": "400c9b4ce2a8415aa04bb39d75d1ca30",
       "version_major": 2,
       "version_minor": 0
      },
      "text/plain": [
       "0epoch [00:00, ?epoch/s]"
      ]
     },
     "metadata": {},
     "output_type": "display_data"
    },
    {
     "data": {
      "application/vnd.jupyter.widget-view+json": {
       "model_id": "",
       "version_major": 2,
       "version_minor": 0
      },
      "text/plain": [
       "0batch [00:00, ?batch/s]"
      ]
     },
     "metadata": {},
     "output_type": "display_data"
    },
    {
     "name": "stdout",
     "output_type": "stream",
     "text": [
      "Restoring model weights from the end of the best epoch: 43.\n",
      "Epoch 53: early stopping\n",
      "Training model LSTM+MultiHeadAttention+AdamW_Cluster-5\n"
     ]
    },
    {
     "data": {
      "application/vnd.jupyter.widget-view+json": {
       "model_id": "f0872f924fa843149e7fde6e882bf6e4",
       "version_major": 2,
       "version_minor": 0
      },
      "text/plain": [
       "0epoch [00:00, ?epoch/s]"
      ]
     },
     "metadata": {},
     "output_type": "display_data"
    },
    {
     "data": {
      "application/vnd.jupyter.widget-view+json": {
       "model_id": "",
       "version_major": 2,
       "version_minor": 0
      },
      "text/plain": [
       "0batch [00:00, ?batch/s]"
      ]
     },
     "metadata": {},
     "output_type": "display_data"
    },
    {
     "name": "stdout",
     "output_type": "stream",
     "text": [
      "Restoring model weights from the end of the best epoch: 4.\n",
      "Epoch 14: early stopping\n",
      "Training model LSTM+MultiHeadAttention+AdamW_Cluster-5\n"
     ]
    },
    {
     "data": {
      "application/vnd.jupyter.widget-view+json": {
       "model_id": "899ce5f2dfe74541bc61be085d071290",
       "version_major": 2,
       "version_minor": 0
      },
      "text/plain": [
       "0epoch [00:00, ?epoch/s]"
      ]
     },
     "metadata": {},
     "output_type": "display_data"
    },
    {
     "data": {
      "application/vnd.jupyter.widget-view+json": {
       "model_id": "",
       "version_major": 2,
       "version_minor": 0
      },
      "text/plain": [
       "0batch [00:00, ?batch/s]"
      ]
     },
     "metadata": {},
     "output_type": "display_data"
    },
    {
     "name": "stdout",
     "output_type": "stream",
     "text": [
      "Restoring model weights from the end of the best epoch: 15.\n",
      "Epoch 25: early stopping\n",
      "Training model LSTM+MultiHeadAttention+AdamW_Cluster-5\n"
     ]
    },
    {
     "data": {
      "application/vnd.jupyter.widget-view+json": {
       "model_id": "c878ff03da15440eaa124b02ca714c85",
       "version_major": 2,
       "version_minor": 0
      },
      "text/plain": [
       "0epoch [00:00, ?epoch/s]"
      ]
     },
     "metadata": {},
     "output_type": "display_data"
    },
    {
     "data": {
      "application/vnd.jupyter.widget-view+json": {
       "model_id": "",
       "version_major": 2,
       "version_minor": 0
      },
      "text/plain": [
       "0batch [00:00, ?batch/s]"
      ]
     },
     "metadata": {},
     "output_type": "display_data"
    },
    {
     "name": "stdout",
     "output_type": "stream",
     "text": [
      "Restoring model weights from the end of the best epoch: 19.\n",
      "Epoch 29: early stopping\n",
      "Training model LSTM+MultiHeadAttention+AdamW_Cluster-5\n"
     ]
    },
    {
     "data": {
      "application/vnd.jupyter.widget-view+json": {
       "model_id": "797164d384ad499b9e91839330bfdc66",
       "version_major": 2,
       "version_minor": 0
      },
      "text/plain": [
       "0epoch [00:00, ?epoch/s]"
      ]
     },
     "metadata": {},
     "output_type": "display_data"
    },
    {
     "data": {
      "application/vnd.jupyter.widget-view+json": {
       "model_id": "",
       "version_major": 2,
       "version_minor": 0
      },
      "text/plain": [
       "0batch [00:00, ?batch/s]"
      ]
     },
     "metadata": {},
     "output_type": "display_data"
    },
    {
     "name": "stdout",
     "output_type": "stream",
     "text": [
      "Training model LSTM+MultiHeadAttention+AdamW_Cluster-5\n"
     ]
    },
    {
     "data": {
      "application/vnd.jupyter.widget-view+json": {
       "model_id": "c7c0eda0d098413b9eadd3701fbbf815",
       "version_major": 2,
       "version_minor": 0
      },
      "text/plain": [
       "0epoch [00:00, ?epoch/s]"
      ]
     },
     "metadata": {},
     "output_type": "display_data"
    },
    {
     "data": {
      "application/vnd.jupyter.widget-view+json": {
       "model_id": "",
       "version_major": 2,
       "version_minor": 0
      },
      "text/plain": [
       "0batch [00:00, ?batch/s]"
      ]
     },
     "metadata": {},
     "output_type": "display_data"
    },
    {
     "name": "stdout",
     "output_type": "stream",
     "text": [
      "Training model LSTM+MultiHeadAttention+AdamW_Cluster-5\n"
     ]
    },
    {
     "data": {
      "application/vnd.jupyter.widget-view+json": {
       "model_id": "681e7506abdc4064b33143b19a00b5c1",
       "version_major": 2,
       "version_minor": 0
      },
      "text/plain": [
       "0epoch [00:00, ?epoch/s]"
      ]
     },
     "metadata": {},
     "output_type": "display_data"
    },
    {
     "data": {
      "application/vnd.jupyter.widget-view+json": {
       "model_id": "",
       "version_major": 2,
       "version_minor": 0
      },
      "text/plain": [
       "0batch [00:00, ?batch/s]"
      ]
     },
     "metadata": {},
     "output_type": "display_data"
    },
    {
     "name": "stdout",
     "output_type": "stream",
     "text": [
      "Restoring model weights from the end of the best epoch: 37.\n",
      "Epoch 47: early stopping\n"
     ]
    },
    {
     "data": {
      "application/vnd.jupyter.widget-view+json": {
       "model_id": "a107ae8f9b794e84b88630922b78dec2",
       "version_major": 2,
       "version_minor": 0
      },
      "text/plain": [
       "Doing dxperiments...:   0%|          | 0/15 [00:00<?, ?it/s]"
      ]
     },
     "metadata": {},
     "output_type": "display_data"
    },
    {
     "name": "stdout",
     "output_type": "stream",
     "text": [
      "Training model LSTM+MultiHeadAttention+AdamW_Cluster-6\n"
     ]
    },
    {
     "data": {
      "application/vnd.jupyter.widget-view+json": {
       "model_id": "c027ffbb81064cff8e26cc92ff852dbc",
       "version_major": 2,
       "version_minor": 0
      },
      "text/plain": [
       "0epoch [00:00, ?epoch/s]"
      ]
     },
     "metadata": {},
     "output_type": "display_data"
    },
    {
     "data": {
      "application/vnd.jupyter.widget-view+json": {
       "model_id": "",
       "version_major": 2,
       "version_minor": 0
      },
      "text/plain": [
       "0batch [00:00, ?batch/s]"
      ]
     },
     "metadata": {},
     "output_type": "display_data"
    },
    {
     "name": "stdout",
     "output_type": "stream",
     "text": [
      "Restoring model weights from the end of the best epoch: 4.\n",
      "Epoch 14: early stopping\n",
      "Training model LSTM+MultiHeadAttention+AdamW_Cluster-6\n"
     ]
    },
    {
     "data": {
      "application/vnd.jupyter.widget-view+json": {
       "model_id": "c5c8017dbb4e46cbbddd0d1bd282897a",
       "version_major": 2,
       "version_minor": 0
      },
      "text/plain": [
       "0epoch [00:00, ?epoch/s]"
      ]
     },
     "metadata": {},
     "output_type": "display_data"
    },
    {
     "data": {
      "application/vnd.jupyter.widget-view+json": {
       "model_id": "",
       "version_major": 2,
       "version_minor": 0
      },
      "text/plain": [
       "0batch [00:00, ?batch/s]"
      ]
     },
     "metadata": {},
     "output_type": "display_data"
    },
    {
     "name": "stdout",
     "output_type": "stream",
     "text": [
      "Restoring model weights from the end of the best epoch: 30.\n",
      "Epoch 40: early stopping\n",
      "Training model LSTM+MultiHeadAttention+AdamW_Cluster-6\n"
     ]
    },
    {
     "data": {
      "application/vnd.jupyter.widget-view+json": {
       "model_id": "0bb7b23ea2f946adbb43dccf95fb71f0",
       "version_major": 2,
       "version_minor": 0
      },
      "text/plain": [
       "0epoch [00:00, ?epoch/s]"
      ]
     },
     "metadata": {},
     "output_type": "display_data"
    },
    {
     "data": {
      "application/vnd.jupyter.widget-view+json": {
       "model_id": "",
       "version_major": 2,
       "version_minor": 0
      },
      "text/plain": [
       "0batch [00:00, ?batch/s]"
      ]
     },
     "metadata": {},
     "output_type": "display_data"
    },
    {
     "name": "stdout",
     "output_type": "stream",
     "text": [
      "Restoring model weights from the end of the best epoch: 11.\n",
      "Epoch 21: early stopping\n",
      "Training model LSTM+MultiHeadAttention+AdamW_Cluster-6\n"
     ]
    },
    {
     "data": {
      "application/vnd.jupyter.widget-view+json": {
       "model_id": "5d31b72ae8a04937b43e99132c476fdd",
       "version_major": 2,
       "version_minor": 0
      },
      "text/plain": [
       "0epoch [00:00, ?epoch/s]"
      ]
     },
     "metadata": {},
     "output_type": "display_data"
    },
    {
     "data": {
      "application/vnd.jupyter.widget-view+json": {
       "model_id": "",
       "version_major": 2,
       "version_minor": 0
      },
      "text/plain": [
       "0batch [00:00, ?batch/s]"
      ]
     },
     "metadata": {},
     "output_type": "display_data"
    },
    {
     "name": "stdout",
     "output_type": "stream",
     "text": [
      "Training model LSTM+MultiHeadAttention+AdamW_Cluster-6\n"
     ]
    },
    {
     "data": {
      "application/vnd.jupyter.widget-view+json": {
       "model_id": "6c7e8dd5b88149f9ad10c3e86af6e893",
       "version_major": 2,
       "version_minor": 0
      },
      "text/plain": [
       "0epoch [00:00, ?epoch/s]"
      ]
     },
     "metadata": {},
     "output_type": "display_data"
    },
    {
     "data": {
      "application/vnd.jupyter.widget-view+json": {
       "model_id": "",
       "version_major": 2,
       "version_minor": 0
      },
      "text/plain": [
       "0batch [00:00, ?batch/s]"
      ]
     },
     "metadata": {},
     "output_type": "display_data"
    },
    {
     "name": "stdout",
     "output_type": "stream",
     "text": [
      "Restoring model weights from the end of the best epoch: 8.\n",
      "Epoch 18: early stopping\n",
      "Training model LSTM+MultiHeadAttention+AdamW_Cluster-6\n"
     ]
    },
    {
     "data": {
      "application/vnd.jupyter.widget-view+json": {
       "model_id": "fa1fda262794483db112735388fd1c76",
       "version_major": 2,
       "version_minor": 0
      },
      "text/plain": [
       "0epoch [00:00, ?epoch/s]"
      ]
     },
     "metadata": {},
     "output_type": "display_data"
    },
    {
     "data": {
      "application/vnd.jupyter.widget-view+json": {
       "model_id": "",
       "version_major": 2,
       "version_minor": 0
      },
      "text/plain": [
       "0batch [00:00, ?batch/s]"
      ]
     },
     "metadata": {},
     "output_type": "display_data"
    },
    {
     "name": "stdout",
     "output_type": "stream",
     "text": [
      "Restoring model weights from the end of the best epoch: 44.\n",
      "Epoch 54: early stopping\n",
      "Training model LSTM+MultiHeadAttention+AdamW_Cluster-6\n"
     ]
    },
    {
     "data": {
      "application/vnd.jupyter.widget-view+json": {
       "model_id": "5cf4d457056a425793f24775cdb3c206",
       "version_major": 2,
       "version_minor": 0
      },
      "text/plain": [
       "0epoch [00:00, ?epoch/s]"
      ]
     },
     "metadata": {},
     "output_type": "display_data"
    },
    {
     "data": {
      "application/vnd.jupyter.widget-view+json": {
       "model_id": "",
       "version_major": 2,
       "version_minor": 0
      },
      "text/plain": [
       "0batch [00:00, ?batch/s]"
      ]
     },
     "metadata": {},
     "output_type": "display_data"
    },
    {
     "name": "stdout",
     "output_type": "stream",
     "text": [
      "Restoring model weights from the end of the best epoch: 30.\n",
      "Epoch 40: early stopping\n",
      "Training model LSTM+MultiHeadAttention+AdamW_Cluster-6\n"
     ]
    },
    {
     "data": {
      "application/vnd.jupyter.widget-view+json": {
       "model_id": "782c03c4979b40d5b12b7ca64ed2578d",
       "version_major": 2,
       "version_minor": 0
      },
      "text/plain": [
       "0epoch [00:00, ?epoch/s]"
      ]
     },
     "metadata": {},
     "output_type": "display_data"
    },
    {
     "data": {
      "application/vnd.jupyter.widget-view+json": {
       "model_id": "",
       "version_major": 2,
       "version_minor": 0
      },
      "text/plain": [
       "0batch [00:00, ?batch/s]"
      ]
     },
     "metadata": {},
     "output_type": "display_data"
    },
    {
     "name": "stdout",
     "output_type": "stream",
     "text": [
      "Training model LSTM+MultiHeadAttention+AdamW_Cluster-6\n"
     ]
    },
    {
     "data": {
      "application/vnd.jupyter.widget-view+json": {
       "model_id": "4f9c617d7e61456eb1179d74f93b1b2e",
       "version_major": 2,
       "version_minor": 0
      },
      "text/plain": [
       "0epoch [00:00, ?epoch/s]"
      ]
     },
     "metadata": {},
     "output_type": "display_data"
    },
    {
     "data": {
      "application/vnd.jupyter.widget-view+json": {
       "model_id": "",
       "version_major": 2,
       "version_minor": 0
      },
      "text/plain": [
       "0batch [00:00, ?batch/s]"
      ]
     },
     "metadata": {},
     "output_type": "display_data"
    },
    {
     "name": "stdout",
     "output_type": "stream",
     "text": [
      "Restoring model weights from the end of the best epoch: 75.\n",
      "Epoch 85: early stopping\n",
      "Training model LSTM+MultiHeadAttention+AdamW_Cluster-6\n"
     ]
    },
    {
     "data": {
      "application/vnd.jupyter.widget-view+json": {
       "model_id": "e4554e9e61194c48bb7e67d12139ffe0",
       "version_major": 2,
       "version_minor": 0
      },
      "text/plain": [
       "0epoch [00:00, ?epoch/s]"
      ]
     },
     "metadata": {},
     "output_type": "display_data"
    },
    {
     "data": {
      "application/vnd.jupyter.widget-view+json": {
       "model_id": "",
       "version_major": 2,
       "version_minor": 0
      },
      "text/plain": [
       "0batch [00:00, ?batch/s]"
      ]
     },
     "metadata": {},
     "output_type": "display_data"
    },
    {
     "name": "stdout",
     "output_type": "stream",
     "text": [
      "Training model LSTM+MultiHeadAttention+AdamW_Cluster-6\n"
     ]
    },
    {
     "data": {
      "application/vnd.jupyter.widget-view+json": {
       "model_id": "93ba0d86c2744191af5b9cce0e885a45",
       "version_major": 2,
       "version_minor": 0
      },
      "text/plain": [
       "0epoch [00:00, ?epoch/s]"
      ]
     },
     "metadata": {},
     "output_type": "display_data"
    },
    {
     "data": {
      "application/vnd.jupyter.widget-view+json": {
       "model_id": "",
       "version_major": 2,
       "version_minor": 0
      },
      "text/plain": [
       "0batch [00:00, ?batch/s]"
      ]
     },
     "metadata": {},
     "output_type": "display_data"
    },
    {
     "name": "stdout",
     "output_type": "stream",
     "text": [
      "Restoring model weights from the end of the best epoch: 7.\n",
      "Epoch 17: early stopping\n",
      "Training model LSTM+MultiHeadAttention+AdamW_Cluster-6\n"
     ]
    },
    {
     "data": {
      "application/vnd.jupyter.widget-view+json": {
       "model_id": "a2a3e583dcc24b88a674e46a94ff849c",
       "version_major": 2,
       "version_minor": 0
      },
      "text/plain": [
       "0epoch [00:00, ?epoch/s]"
      ]
     },
     "metadata": {},
     "output_type": "display_data"
    },
    {
     "data": {
      "application/vnd.jupyter.widget-view+json": {
       "model_id": "",
       "version_major": 2,
       "version_minor": 0
      },
      "text/plain": [
       "0batch [00:00, ?batch/s]"
      ]
     },
     "metadata": {},
     "output_type": "display_data"
    },
    {
     "name": "stdout",
     "output_type": "stream",
     "text": [
      "Restoring model weights from the end of the best epoch: 70.\n",
      "Epoch 80: early stopping\n",
      "Training model LSTM+MultiHeadAttention+AdamW_Cluster-6\n"
     ]
    },
    {
     "data": {
      "application/vnd.jupyter.widget-view+json": {
       "model_id": "57608f9b2a2b4c92af0e2fec5eb0d3d5",
       "version_major": 2,
       "version_minor": 0
      },
      "text/plain": [
       "0epoch [00:00, ?epoch/s]"
      ]
     },
     "metadata": {},
     "output_type": "display_data"
    },
    {
     "data": {
      "application/vnd.jupyter.widget-view+json": {
       "model_id": "",
       "version_major": 2,
       "version_minor": 0
      },
      "text/plain": [
       "0batch [00:00, ?batch/s]"
      ]
     },
     "metadata": {},
     "output_type": "display_data"
    },
    {
     "name": "stdout",
     "output_type": "stream",
     "text": [
      "Restoring model weights from the end of the best epoch: 47.\n",
      "Epoch 57: early stopping\n",
      "Training model LSTM+MultiHeadAttention+AdamW_Cluster-6\n"
     ]
    },
    {
     "data": {
      "application/vnd.jupyter.widget-view+json": {
       "model_id": "8d5116230a53492b83bd4d6daaaee3dd",
       "version_major": 2,
       "version_minor": 0
      },
      "text/plain": [
       "0epoch [00:00, ?epoch/s]"
      ]
     },
     "metadata": {},
     "output_type": "display_data"
    },
    {
     "data": {
      "application/vnd.jupyter.widget-view+json": {
       "model_id": "",
       "version_major": 2,
       "version_minor": 0
      },
      "text/plain": [
       "0batch [00:00, ?batch/s]"
      ]
     },
     "metadata": {},
     "output_type": "display_data"
    },
    {
     "name": "stdout",
     "output_type": "stream",
     "text": [
      "Training model LSTM+MultiHeadAttention+AdamW_Cluster-6\n"
     ]
    },
    {
     "data": {
      "application/vnd.jupyter.widget-view+json": {
       "model_id": "b2a733445df641fdbf8c6eb538a64b06",
       "version_major": 2,
       "version_minor": 0
      },
      "text/plain": [
       "0epoch [00:00, ?epoch/s]"
      ]
     },
     "metadata": {},
     "output_type": "display_data"
    },
    {
     "data": {
      "application/vnd.jupyter.widget-view+json": {
       "model_id": "",
       "version_major": 2,
       "version_minor": 0
      },
      "text/plain": [
       "0batch [00:00, ?batch/s]"
      ]
     },
     "metadata": {},
     "output_type": "display_data"
    },
    {
     "data": {
      "application/vnd.jupyter.widget-view+json": {
       "model_id": "528baf11f7484901a1630353dde1e705",
       "version_major": 2,
       "version_minor": 0
      },
      "text/plain": [
       "Doing dxperiments...:   0%|          | 0/15 [00:00<?, ?it/s]"
      ]
     },
     "metadata": {},
     "output_type": "display_data"
    },
    {
     "name": "stdout",
     "output_type": "stream",
     "text": [
      "Training model LSTM+MultiHeadAttention+AdamW_Cluster-7\n"
     ]
    },
    {
     "data": {
      "application/vnd.jupyter.widget-view+json": {
       "model_id": "940633029f9e4d4d8f1c703af9d0a44c",
       "version_major": 2,
       "version_minor": 0
      },
      "text/plain": [
       "0epoch [00:00, ?epoch/s]"
      ]
     },
     "metadata": {},
     "output_type": "display_data"
    },
    {
     "data": {
      "application/vnd.jupyter.widget-view+json": {
       "model_id": "",
       "version_major": 2,
       "version_minor": 0
      },
      "text/plain": [
       "0batch [00:00, ?batch/s]"
      ]
     },
     "metadata": {},
     "output_type": "display_data"
    },
    {
     "name": "stdout",
     "output_type": "stream",
     "text": [
      "Training model LSTM+MultiHeadAttention+AdamW_Cluster-7\n"
     ]
    },
    {
     "data": {
      "application/vnd.jupyter.widget-view+json": {
       "model_id": "50abee6d62d44611b40d6b5a93201fb8",
       "version_major": 2,
       "version_minor": 0
      },
      "text/plain": [
       "0epoch [00:00, ?epoch/s]"
      ]
     },
     "metadata": {},
     "output_type": "display_data"
    },
    {
     "data": {
      "application/vnd.jupyter.widget-view+json": {
       "model_id": "",
       "version_major": 2,
       "version_minor": 0
      },
      "text/plain": [
       "0batch [00:00, ?batch/s]"
      ]
     },
     "metadata": {},
     "output_type": "display_data"
    },
    {
     "name": "stdout",
     "output_type": "stream",
     "text": [
      "Training model LSTM+MultiHeadAttention+AdamW_Cluster-7\n"
     ]
    },
    {
     "data": {
      "application/vnd.jupyter.widget-view+json": {
       "model_id": "417cf7e10d294795bc83107b299df1aa",
       "version_major": 2,
       "version_minor": 0
      },
      "text/plain": [
       "0epoch [00:00, ?epoch/s]"
      ]
     },
     "metadata": {},
     "output_type": "display_data"
    },
    {
     "data": {
      "application/vnd.jupyter.widget-view+json": {
       "model_id": "",
       "version_major": 2,
       "version_minor": 0
      },
      "text/plain": [
       "0batch [00:00, ?batch/s]"
      ]
     },
     "metadata": {},
     "output_type": "display_data"
    },
    {
     "name": "stdout",
     "output_type": "stream",
     "text": [
      "Training model LSTM+MultiHeadAttention+AdamW_Cluster-7\n"
     ]
    },
    {
     "data": {
      "application/vnd.jupyter.widget-view+json": {
       "model_id": "ece5f6f40ed74919aa061a60e34fd0df",
       "version_major": 2,
       "version_minor": 0
      },
      "text/plain": [
       "0epoch [00:00, ?epoch/s]"
      ]
     },
     "metadata": {},
     "output_type": "display_data"
    },
    {
     "data": {
      "application/vnd.jupyter.widget-view+json": {
       "model_id": "",
       "version_major": 2,
       "version_minor": 0
      },
      "text/plain": [
       "0batch [00:00, ?batch/s]"
      ]
     },
     "metadata": {},
     "output_type": "display_data"
    },
    {
     "name": "stdout",
     "output_type": "stream",
     "text": [
      "Restoring model weights from the end of the best epoch: 15.\n",
      "Epoch 25: early stopping\n",
      "Training model LSTM+MultiHeadAttention+AdamW_Cluster-7\n"
     ]
    },
    {
     "data": {
      "application/vnd.jupyter.widget-view+json": {
       "model_id": "0b3051e1843a4e2b9d26d52ee1d227e5",
       "version_major": 2,
       "version_minor": 0
      },
      "text/plain": [
       "0epoch [00:00, ?epoch/s]"
      ]
     },
     "metadata": {},
     "output_type": "display_data"
    },
    {
     "data": {
      "application/vnd.jupyter.widget-view+json": {
       "model_id": "",
       "version_major": 2,
       "version_minor": 0
      },
      "text/plain": [
       "0batch [00:00, ?batch/s]"
      ]
     },
     "metadata": {},
     "output_type": "display_data"
    },
    {
     "name": "stdout",
     "output_type": "stream",
     "text": [
      "Restoring model weights from the end of the best epoch: 70.\n",
      "Epoch 80: early stopping\n",
      "Training model LSTM+MultiHeadAttention+AdamW_Cluster-7\n"
     ]
    },
    {
     "data": {
      "application/vnd.jupyter.widget-view+json": {
       "model_id": "c8df91eb32b442e2958b760026b78ca1",
       "version_major": 2,
       "version_minor": 0
      },
      "text/plain": [
       "0epoch [00:00, ?epoch/s]"
      ]
     },
     "metadata": {},
     "output_type": "display_data"
    },
    {
     "data": {
      "application/vnd.jupyter.widget-view+json": {
       "model_id": "",
       "version_major": 2,
       "version_minor": 0
      },
      "text/plain": [
       "0batch [00:00, ?batch/s]"
      ]
     },
     "metadata": {},
     "output_type": "display_data"
    },
    {
     "name": "stdout",
     "output_type": "stream",
     "text": [
      "Restoring model weights from the end of the best epoch: 4.\n",
      "Epoch 14: early stopping\n",
      "Training model LSTM+MultiHeadAttention+AdamW_Cluster-7\n"
     ]
    },
    {
     "data": {
      "application/vnd.jupyter.widget-view+json": {
       "model_id": "594aabcfb747481ca231ebb047e96313",
       "version_major": 2,
       "version_minor": 0
      },
      "text/plain": [
       "0epoch [00:00, ?epoch/s]"
      ]
     },
     "metadata": {},
     "output_type": "display_data"
    },
    {
     "data": {
      "application/vnd.jupyter.widget-view+json": {
       "model_id": "",
       "version_major": 2,
       "version_minor": 0
      },
      "text/plain": [
       "0batch [00:00, ?batch/s]"
      ]
     },
     "metadata": {},
     "output_type": "display_data"
    },
    {
     "name": "stdout",
     "output_type": "stream",
     "text": [
      "Restoring model weights from the end of the best epoch: 22.\n",
      "Epoch 32: early stopping\n",
      "Training model LSTM+MultiHeadAttention+AdamW_Cluster-7\n"
     ]
    },
    {
     "data": {
      "application/vnd.jupyter.widget-view+json": {
       "model_id": "ba03f3f79241436db58e303ab3499a74",
       "version_major": 2,
       "version_minor": 0
      },
      "text/plain": [
       "0epoch [00:00, ?epoch/s]"
      ]
     },
     "metadata": {},
     "output_type": "display_data"
    },
    {
     "data": {
      "application/vnd.jupyter.widget-view+json": {
       "model_id": "",
       "version_major": 2,
       "version_minor": 0
      },
      "text/plain": [
       "0batch [00:00, ?batch/s]"
      ]
     },
     "metadata": {},
     "output_type": "display_data"
    },
    {
     "name": "stdout",
     "output_type": "stream",
     "text": [
      "Restoring model weights from the end of the best epoch: 32.\n",
      "Epoch 42: early stopping\n",
      "Training model LSTM+MultiHeadAttention+AdamW_Cluster-7\n"
     ]
    },
    {
     "data": {
      "application/vnd.jupyter.widget-view+json": {
       "model_id": "3d1a035c83484a04901eecaf96782f83",
       "version_major": 2,
       "version_minor": 0
      },
      "text/plain": [
       "0epoch [00:00, ?epoch/s]"
      ]
     },
     "metadata": {},
     "output_type": "display_data"
    },
    {
     "data": {
      "application/vnd.jupyter.widget-view+json": {
       "model_id": "",
       "version_major": 2,
       "version_minor": 0
      },
      "text/plain": [
       "0batch [00:00, ?batch/s]"
      ]
     },
     "metadata": {},
     "output_type": "display_data"
    },
    {
     "name": "stdout",
     "output_type": "stream",
     "text": [
      "Training model LSTM+MultiHeadAttention+AdamW_Cluster-7\n"
     ]
    },
    {
     "data": {
      "application/vnd.jupyter.widget-view+json": {
       "model_id": "113320d7acee457887baa07a9f6183e9",
       "version_major": 2,
       "version_minor": 0
      },
      "text/plain": [
       "0epoch [00:00, ?epoch/s]"
      ]
     },
     "metadata": {},
     "output_type": "display_data"
    },
    {
     "data": {
      "application/vnd.jupyter.widget-view+json": {
       "model_id": "",
       "version_major": 2,
       "version_minor": 0
      },
      "text/plain": [
       "0batch [00:00, ?batch/s]"
      ]
     },
     "metadata": {},
     "output_type": "display_data"
    },
    {
     "name": "stdout",
     "output_type": "stream",
     "text": [
      "Restoring model weights from the end of the best epoch: 40.\n",
      "Epoch 50: early stopping\n",
      "Training model LSTM+MultiHeadAttention+AdamW_Cluster-7\n"
     ]
    },
    {
     "data": {
      "application/vnd.jupyter.widget-view+json": {
       "model_id": "35b9aa07a68e47589aaba842bc087d9c",
       "version_major": 2,
       "version_minor": 0
      },
      "text/plain": [
       "0epoch [00:00, ?epoch/s]"
      ]
     },
     "metadata": {},
     "output_type": "display_data"
    },
    {
     "data": {
      "application/vnd.jupyter.widget-view+json": {
       "model_id": "",
       "version_major": 2,
       "version_minor": 0
      },
      "text/plain": [
       "0batch [00:00, ?batch/s]"
      ]
     },
     "metadata": {},
     "output_type": "display_data"
    },
    {
     "name": "stdout",
     "output_type": "stream",
     "text": [
      "Restoring model weights from the end of the best epoch: 36.\n",
      "Epoch 46: early stopping\n",
      "Training model LSTM+MultiHeadAttention+AdamW_Cluster-7\n"
     ]
    },
    {
     "data": {
      "application/vnd.jupyter.widget-view+json": {
       "model_id": "9dd7704286e04ab6b90bbc7db97b8132",
       "version_major": 2,
       "version_minor": 0
      },
      "text/plain": [
       "0epoch [00:00, ?epoch/s]"
      ]
     },
     "metadata": {},
     "output_type": "display_data"
    },
    {
     "data": {
      "application/vnd.jupyter.widget-view+json": {
       "model_id": "",
       "version_major": 2,
       "version_minor": 0
      },
      "text/plain": [
       "0batch [00:00, ?batch/s]"
      ]
     },
     "metadata": {},
     "output_type": "display_data"
    },
    {
     "name": "stdout",
     "output_type": "stream",
     "text": [
      "Restoring model weights from the end of the best epoch: 90.\n",
      "Epoch 100: early stopping\n",
      "Training model LSTM+MultiHeadAttention+AdamW_Cluster-7\n"
     ]
    },
    {
     "data": {
      "application/vnd.jupyter.widget-view+json": {
       "model_id": "9b8e4d3a20f54f83a2e0c6f18b6022a4",
       "version_major": 2,
       "version_minor": 0
      },
      "text/plain": [
       "0epoch [00:00, ?epoch/s]"
      ]
     },
     "metadata": {},
     "output_type": "display_data"
    },
    {
     "data": {
      "application/vnd.jupyter.widget-view+json": {
       "model_id": "",
       "version_major": 2,
       "version_minor": 0
      },
      "text/plain": [
       "0batch [00:00, ?batch/s]"
      ]
     },
     "metadata": {},
     "output_type": "display_data"
    },
    {
     "name": "stdout",
     "output_type": "stream",
     "text": [
      "Restoring model weights from the end of the best epoch: 49.\n",
      "Epoch 59: early stopping\n",
      "Training model LSTM+MultiHeadAttention+AdamW_Cluster-7\n"
     ]
    },
    {
     "data": {
      "application/vnd.jupyter.widget-view+json": {
       "model_id": "81bcf6134de54e59b69b7da65100de78",
       "version_major": 2,
       "version_minor": 0
      },
      "text/plain": [
       "0epoch [00:00, ?epoch/s]"
      ]
     },
     "metadata": {},
     "output_type": "display_data"
    },
    {
     "data": {
      "application/vnd.jupyter.widget-view+json": {
       "model_id": "",
       "version_major": 2,
       "version_minor": 0
      },
      "text/plain": [
       "0batch [00:00, ?batch/s]"
      ]
     },
     "metadata": {},
     "output_type": "display_data"
    },
    {
     "name": "stdout",
     "output_type": "stream",
     "text": [
      "Restoring model weights from the end of the best epoch: 37.\n",
      "Epoch 47: early stopping\n",
      "Training model LSTM+MultiHeadAttention+AdamW_Cluster-7\n"
     ]
    },
    {
     "data": {
      "application/vnd.jupyter.widget-view+json": {
       "model_id": "05f214afad544751ba00a54380d2053f",
       "version_major": 2,
       "version_minor": 0
      },
      "text/plain": [
       "0epoch [00:00, ?epoch/s]"
      ]
     },
     "metadata": {},
     "output_type": "display_data"
    },
    {
     "data": {
      "application/vnd.jupyter.widget-view+json": {
       "model_id": "",
       "version_major": 2,
       "version_minor": 0
      },
      "text/plain": [
       "0batch [00:00, ?batch/s]"
      ]
     },
     "metadata": {},
     "output_type": "display_data"
    },
    {
     "data": {
      "application/vnd.jupyter.widget-view+json": {
       "model_id": "c9caeac50f874a8f8509d68afe719bc4",
       "version_major": 2,
       "version_minor": 0
      },
      "text/plain": [
       "Doing dxperiments...:   0%|          | 0/15 [00:00<?, ?it/s]"
      ]
     },
     "metadata": {},
     "output_type": "display_data"
    },
    {
     "name": "stdout",
     "output_type": "stream",
     "text": [
      "Training model LSTM+MultiHeadAttention+AdamW_Cluster-8\n"
     ]
    },
    {
     "data": {
      "application/vnd.jupyter.widget-view+json": {
       "model_id": "a4d32f6adbe648a58c7f65d68a25d9e8",
       "version_major": 2,
       "version_minor": 0
      },
      "text/plain": [
       "0epoch [00:00, ?epoch/s]"
      ]
     },
     "metadata": {},
     "output_type": "display_data"
    },
    {
     "data": {
      "application/vnd.jupyter.widget-view+json": {
       "model_id": "",
       "version_major": 2,
       "version_minor": 0
      },
      "text/plain": [
       "0batch [00:00, ?batch/s]"
      ]
     },
     "metadata": {},
     "output_type": "display_data"
    },
    {
     "name": "stdout",
     "output_type": "stream",
     "text": [
      "Restoring model weights from the end of the best epoch: 10.\n",
      "Epoch 20: early stopping\n",
      "Training model LSTM+MultiHeadAttention+AdamW_Cluster-8\n"
     ]
    },
    {
     "data": {
      "application/vnd.jupyter.widget-view+json": {
       "model_id": "8fff229abb8744a2be7ce4829957d08b",
       "version_major": 2,
       "version_minor": 0
      },
      "text/plain": [
       "0epoch [00:00, ?epoch/s]"
      ]
     },
     "metadata": {},
     "output_type": "display_data"
    },
    {
     "data": {
      "application/vnd.jupyter.widget-view+json": {
       "model_id": "",
       "version_major": 2,
       "version_minor": 0
      },
      "text/plain": [
       "0batch [00:00, ?batch/s]"
      ]
     },
     "metadata": {},
     "output_type": "display_data"
    },
    {
     "name": "stdout",
     "output_type": "stream",
     "text": [
      "Restoring model weights from the end of the best epoch: 3.\n",
      "Epoch 13: early stopping\n",
      "Training model LSTM+MultiHeadAttention+AdamW_Cluster-8\n"
     ]
    },
    {
     "data": {
      "application/vnd.jupyter.widget-view+json": {
       "model_id": "c9a2ab0d8db3477e81b0320b5105c998",
       "version_major": 2,
       "version_minor": 0
      },
      "text/plain": [
       "0epoch [00:00, ?epoch/s]"
      ]
     },
     "metadata": {},
     "output_type": "display_data"
    },
    {
     "data": {
      "application/vnd.jupyter.widget-view+json": {
       "model_id": "",
       "version_major": 2,
       "version_minor": 0
      },
      "text/plain": [
       "0batch [00:00, ?batch/s]"
      ]
     },
     "metadata": {},
     "output_type": "display_data"
    },
    {
     "name": "stdout",
     "output_type": "stream",
     "text": [
      "Training model LSTM+MultiHeadAttention+AdamW_Cluster-8\n"
     ]
    },
    {
     "data": {
      "application/vnd.jupyter.widget-view+json": {
       "model_id": "7f2d873424704edfa4412006ca460559",
       "version_major": 2,
       "version_minor": 0
      },
      "text/plain": [
       "0epoch [00:00, ?epoch/s]"
      ]
     },
     "metadata": {},
     "output_type": "display_data"
    },
    {
     "data": {
      "application/vnd.jupyter.widget-view+json": {
       "model_id": "",
       "version_major": 2,
       "version_minor": 0
      },
      "text/plain": [
       "0batch [00:00, ?batch/s]"
      ]
     },
     "metadata": {},
     "output_type": "display_data"
    },
    {
     "name": "stdout",
     "output_type": "stream",
     "text": [
      "Restoring model weights from the end of the best epoch: 48.\n",
      "Epoch 58: early stopping\n",
      "Training model LSTM+MultiHeadAttention+AdamW_Cluster-8\n"
     ]
    },
    {
     "data": {
      "application/vnd.jupyter.widget-view+json": {
       "model_id": "e153048278844d97a57d667c5ae3a3a0",
       "version_major": 2,
       "version_minor": 0
      },
      "text/plain": [
       "0epoch [00:00, ?epoch/s]"
      ]
     },
     "metadata": {},
     "output_type": "display_data"
    },
    {
     "data": {
      "application/vnd.jupyter.widget-view+json": {
       "model_id": "",
       "version_major": 2,
       "version_minor": 0
      },
      "text/plain": [
       "0batch [00:00, ?batch/s]"
      ]
     },
     "metadata": {},
     "output_type": "display_data"
    },
    {
     "name": "stdout",
     "output_type": "stream",
     "text": [
      "Restoring model weights from the end of the best epoch: 71.\n",
      "Epoch 81: early stopping\n",
      "Training model LSTM+MultiHeadAttention+AdamW_Cluster-8\n"
     ]
    },
    {
     "data": {
      "application/vnd.jupyter.widget-view+json": {
       "model_id": "a3b13f6b6ed849549a207fe9f1c4dbf0",
       "version_major": 2,
       "version_minor": 0
      },
      "text/plain": [
       "0epoch [00:00, ?epoch/s]"
      ]
     },
     "metadata": {},
     "output_type": "display_data"
    },
    {
     "data": {
      "application/vnd.jupyter.widget-view+json": {
       "model_id": "",
       "version_major": 2,
       "version_minor": 0
      },
      "text/plain": [
       "0batch [00:00, ?batch/s]"
      ]
     },
     "metadata": {},
     "output_type": "display_data"
    },
    {
     "name": "stdout",
     "output_type": "stream",
     "text": [
      "Training model LSTM+MultiHeadAttention+AdamW_Cluster-8\n"
     ]
    },
    {
     "data": {
      "application/vnd.jupyter.widget-view+json": {
       "model_id": "32ee1be7f9a0404f9de2cab9e656e84b",
       "version_major": 2,
       "version_minor": 0
      },
      "text/plain": [
       "0epoch [00:00, ?epoch/s]"
      ]
     },
     "metadata": {},
     "output_type": "display_data"
    },
    {
     "data": {
      "application/vnd.jupyter.widget-view+json": {
       "model_id": "",
       "version_major": 2,
       "version_minor": 0
      },
      "text/plain": [
       "0batch [00:00, ?batch/s]"
      ]
     },
     "metadata": {},
     "output_type": "display_data"
    },
    {
     "name": "stdout",
     "output_type": "stream",
     "text": [
      "Training model LSTM+MultiHeadAttention+AdamW_Cluster-8\n"
     ]
    },
    {
     "data": {
      "application/vnd.jupyter.widget-view+json": {
       "model_id": "c995c33e08814f179a5022bec06aa467",
       "version_major": 2,
       "version_minor": 0
      },
      "text/plain": [
       "0epoch [00:00, ?epoch/s]"
      ]
     },
     "metadata": {},
     "output_type": "display_data"
    },
    {
     "data": {
      "application/vnd.jupyter.widget-view+json": {
       "model_id": "",
       "version_major": 2,
       "version_minor": 0
      },
      "text/plain": [
       "0batch [00:00, ?batch/s]"
      ]
     },
     "metadata": {},
     "output_type": "display_data"
    },
    {
     "name": "stdout",
     "output_type": "stream",
     "text": [
      "Restoring model weights from the end of the best epoch: 5.\n",
      "Epoch 15: early stopping\n",
      "Training model LSTM+MultiHeadAttention+AdamW_Cluster-8\n"
     ]
    },
    {
     "data": {
      "application/vnd.jupyter.widget-view+json": {
       "model_id": "01c4f02de6404251b9465fc4bbc61550",
       "version_major": 2,
       "version_minor": 0
      },
      "text/plain": [
       "0epoch [00:00, ?epoch/s]"
      ]
     },
     "metadata": {},
     "output_type": "display_data"
    },
    {
     "data": {
      "application/vnd.jupyter.widget-view+json": {
       "model_id": "",
       "version_major": 2,
       "version_minor": 0
      },
      "text/plain": [
       "0batch [00:00, ?batch/s]"
      ]
     },
     "metadata": {},
     "output_type": "display_data"
    },
    {
     "name": "stdout",
     "output_type": "stream",
     "text": [
      "Restoring model weights from the end of the best epoch: 89.\n",
      "Epoch 99: early stopping\n",
      "Training model LSTM+MultiHeadAttention+AdamW_Cluster-8\n"
     ]
    },
    {
     "data": {
      "application/vnd.jupyter.widget-view+json": {
       "model_id": "1dfad63223e24d28b74bc6b0e30dbd41",
       "version_major": 2,
       "version_minor": 0
      },
      "text/plain": [
       "0epoch [00:00, ?epoch/s]"
      ]
     },
     "metadata": {},
     "output_type": "display_data"
    },
    {
     "data": {
      "application/vnd.jupyter.widget-view+json": {
       "model_id": "",
       "version_major": 2,
       "version_minor": 0
      },
      "text/plain": [
       "0batch [00:00, ?batch/s]"
      ]
     },
     "metadata": {},
     "output_type": "display_data"
    },
    {
     "name": "stdout",
     "output_type": "stream",
     "text": [
      "Restoring model weights from the end of the best epoch: 11.\n",
      "Epoch 21: early stopping\n",
      "Training model LSTM+MultiHeadAttention+AdamW_Cluster-8\n"
     ]
    },
    {
     "data": {
      "application/vnd.jupyter.widget-view+json": {
       "model_id": "7c7d78c69d8d4001ad8010987e1a5305",
       "version_major": 2,
       "version_minor": 0
      },
      "text/plain": [
       "0epoch [00:00, ?epoch/s]"
      ]
     },
     "metadata": {},
     "output_type": "display_data"
    },
    {
     "data": {
      "application/vnd.jupyter.widget-view+json": {
       "model_id": "",
       "version_major": 2,
       "version_minor": 0
      },
      "text/plain": [
       "0batch [00:00, ?batch/s]"
      ]
     },
     "metadata": {},
     "output_type": "display_data"
    },
    {
     "name": "stdout",
     "output_type": "stream",
     "text": [
      "Training model LSTM+MultiHeadAttention+AdamW_Cluster-8\n"
     ]
    },
    {
     "data": {
      "application/vnd.jupyter.widget-view+json": {
       "model_id": "a095e7f0d35f447bacd3b3fb6cdc1417",
       "version_major": 2,
       "version_minor": 0
      },
      "text/plain": [
       "0epoch [00:00, ?epoch/s]"
      ]
     },
     "metadata": {},
     "output_type": "display_data"
    },
    {
     "data": {
      "application/vnd.jupyter.widget-view+json": {
       "model_id": "",
       "version_major": 2,
       "version_minor": 0
      },
      "text/plain": [
       "0batch [00:00, ?batch/s]"
      ]
     },
     "metadata": {},
     "output_type": "display_data"
    },
    {
     "name": "stdout",
     "output_type": "stream",
     "text": [
      "Training model LSTM+MultiHeadAttention+AdamW_Cluster-8\n"
     ]
    },
    {
     "data": {
      "application/vnd.jupyter.widget-view+json": {
       "model_id": "6f312c5ce8e340748662c7af4994ebee",
       "version_major": 2,
       "version_minor": 0
      },
      "text/plain": [
       "0epoch [00:00, ?epoch/s]"
      ]
     },
     "metadata": {},
     "output_type": "display_data"
    },
    {
     "data": {
      "application/vnd.jupyter.widget-view+json": {
       "model_id": "",
       "version_major": 2,
       "version_minor": 0
      },
      "text/plain": [
       "0batch [00:00, ?batch/s]"
      ]
     },
     "metadata": {},
     "output_type": "display_data"
    },
    {
     "name": "stdout",
     "output_type": "stream",
     "text": [
      "Restoring model weights from the end of the best epoch: 52.\n",
      "Epoch 62: early stopping\n",
      "Training model LSTM+MultiHeadAttention+AdamW_Cluster-8\n"
     ]
    },
    {
     "data": {
      "application/vnd.jupyter.widget-view+json": {
       "model_id": "193a4ee6c40646b7a798b87b0809e1ca",
       "version_major": 2,
       "version_minor": 0
      },
      "text/plain": [
       "0epoch [00:00, ?epoch/s]"
      ]
     },
     "metadata": {},
     "output_type": "display_data"
    },
    {
     "data": {
      "application/vnd.jupyter.widget-view+json": {
       "model_id": "",
       "version_major": 2,
       "version_minor": 0
      },
      "text/plain": [
       "0batch [00:00, ?batch/s]"
      ]
     },
     "metadata": {},
     "output_type": "display_data"
    },
    {
     "name": "stdout",
     "output_type": "stream",
     "text": [
      "Restoring model weights from the end of the best epoch: 30.\n",
      "Epoch 40: early stopping\n",
      "Training model LSTM+MultiHeadAttention+AdamW_Cluster-8\n"
     ]
    },
    {
     "data": {
      "application/vnd.jupyter.widget-view+json": {
       "model_id": "058dc11aa15f4bb7936686fbe47babb8",
       "version_major": 2,
       "version_minor": 0
      },
      "text/plain": [
       "0epoch [00:00, ?epoch/s]"
      ]
     },
     "metadata": {},
     "output_type": "display_data"
    },
    {
     "data": {
      "application/vnd.jupyter.widget-view+json": {
       "model_id": "",
       "version_major": 2,
       "version_minor": 0
      },
      "text/plain": [
       "0batch [00:00, ?batch/s]"
      ]
     },
     "metadata": {},
     "output_type": "display_data"
    },
    {
     "name": "stdout",
     "output_type": "stream",
     "text": [
      "Restoring model weights from the end of the best epoch: 33.\n",
      "Epoch 43: early stopping\n"
     ]
    },
    {
     "data": {
      "application/vnd.jupyter.widget-view+json": {
       "model_id": "3f3a025caa604f1c9f083272698cee9c",
       "version_major": 2,
       "version_minor": 0
      },
      "text/plain": [
       "Doing dxperiments...:   0%|          | 0/15 [00:00<?, ?it/s]"
      ]
     },
     "metadata": {},
     "output_type": "display_data"
    },
    {
     "name": "stdout",
     "output_type": "stream",
     "text": [
      "Training model LSTM+MultiHeadAttention+AdamW_Cluster-9\n"
     ]
    },
    {
     "data": {
      "application/vnd.jupyter.widget-view+json": {
       "model_id": "0155dbb0a7154683a987448202d7d89c",
       "version_major": 2,
       "version_minor": 0
      },
      "text/plain": [
       "0epoch [00:00, ?epoch/s]"
      ]
     },
     "metadata": {},
     "output_type": "display_data"
    },
    {
     "data": {
      "application/vnd.jupyter.widget-view+json": {
       "model_id": "",
       "version_major": 2,
       "version_minor": 0
      },
      "text/plain": [
       "0batch [00:00, ?batch/s]"
      ]
     },
     "metadata": {},
     "output_type": "display_data"
    },
    {
     "name": "stdout",
     "output_type": "stream",
     "text": [
      "Restoring model weights from the end of the best epoch: 46.\n",
      "Epoch 56: early stopping\n",
      "Training model LSTM+MultiHeadAttention+AdamW_Cluster-9\n"
     ]
    },
    {
     "data": {
      "application/vnd.jupyter.widget-view+json": {
       "model_id": "ee631b3d0c4b4296807163570de36690",
       "version_major": 2,
       "version_minor": 0
      },
      "text/plain": [
       "0epoch [00:00, ?epoch/s]"
      ]
     },
     "metadata": {},
     "output_type": "display_data"
    },
    {
     "data": {
      "application/vnd.jupyter.widget-view+json": {
       "model_id": "",
       "version_major": 2,
       "version_minor": 0
      },
      "text/plain": [
       "0batch [00:00, ?batch/s]"
      ]
     },
     "metadata": {},
     "output_type": "display_data"
    },
    {
     "name": "stdout",
     "output_type": "stream",
     "text": [
      "Training model LSTM+MultiHeadAttention+AdamW_Cluster-9\n"
     ]
    },
    {
     "data": {
      "application/vnd.jupyter.widget-view+json": {
       "model_id": "f6c746d4aeaa4923af5f676a0a846007",
       "version_major": 2,
       "version_minor": 0
      },
      "text/plain": [
       "0epoch [00:00, ?epoch/s]"
      ]
     },
     "metadata": {},
     "output_type": "display_data"
    },
    {
     "data": {
      "application/vnd.jupyter.widget-view+json": {
       "model_id": "",
       "version_major": 2,
       "version_minor": 0
      },
      "text/plain": [
       "0batch [00:00, ?batch/s]"
      ]
     },
     "metadata": {},
     "output_type": "display_data"
    },
    {
     "name": "stdout",
     "output_type": "stream",
     "text": [
      "Restoring model weights from the end of the best epoch: 39.\n",
      "Epoch 49: early stopping\n",
      "Training model LSTM+MultiHeadAttention+AdamW_Cluster-9\n"
     ]
    },
    {
     "data": {
      "application/vnd.jupyter.widget-view+json": {
       "model_id": "9d3797b6d8c143a28521547d1b9fcfb1",
       "version_major": 2,
       "version_minor": 0
      },
      "text/plain": [
       "0epoch [00:00, ?epoch/s]"
      ]
     },
     "metadata": {},
     "output_type": "display_data"
    },
    {
     "data": {
      "application/vnd.jupyter.widget-view+json": {
       "model_id": "",
       "version_major": 2,
       "version_minor": 0
      },
      "text/plain": [
       "0batch [00:00, ?batch/s]"
      ]
     },
     "metadata": {},
     "output_type": "display_data"
    },
    {
     "name": "stdout",
     "output_type": "stream",
     "text": [
      "Restoring model weights from the end of the best epoch: 37.\n",
      "Epoch 47: early stopping\n",
      "Training model LSTM+MultiHeadAttention+AdamW_Cluster-9\n"
     ]
    },
    {
     "data": {
      "application/vnd.jupyter.widget-view+json": {
       "model_id": "12da287318fc4b968183e76ee1107ede",
       "version_major": 2,
       "version_minor": 0
      },
      "text/plain": [
       "0epoch [00:00, ?epoch/s]"
      ]
     },
     "metadata": {},
     "output_type": "display_data"
    },
    {
     "data": {
      "application/vnd.jupyter.widget-view+json": {
       "model_id": "",
       "version_major": 2,
       "version_minor": 0
      },
      "text/plain": [
       "0batch [00:00, ?batch/s]"
      ]
     },
     "metadata": {},
     "output_type": "display_data"
    },
    {
     "name": "stdout",
     "output_type": "stream",
     "text": [
      "Training model LSTM+MultiHeadAttention+AdamW_Cluster-9\n"
     ]
    },
    {
     "data": {
      "application/vnd.jupyter.widget-view+json": {
       "model_id": "352237dfe38e4f838e76fb4a5d0a1ed1",
       "version_major": 2,
       "version_minor": 0
      },
      "text/plain": [
       "0epoch [00:00, ?epoch/s]"
      ]
     },
     "metadata": {},
     "output_type": "display_data"
    },
    {
     "data": {
      "application/vnd.jupyter.widget-view+json": {
       "model_id": "",
       "version_major": 2,
       "version_minor": 0
      },
      "text/plain": [
       "0batch [00:00, ?batch/s]"
      ]
     },
     "metadata": {},
     "output_type": "display_data"
    },
    {
     "name": "stdout",
     "output_type": "stream",
     "text": [
      "Training model LSTM+MultiHeadAttention+AdamW_Cluster-9\n"
     ]
    },
    {
     "data": {
      "application/vnd.jupyter.widget-view+json": {
       "model_id": "b0f6a61bab6445ccb3da8a4529b8f56d",
       "version_major": 2,
       "version_minor": 0
      },
      "text/plain": [
       "0epoch [00:00, ?epoch/s]"
      ]
     },
     "metadata": {},
     "output_type": "display_data"
    },
    {
     "data": {
      "application/vnd.jupyter.widget-view+json": {
       "model_id": "",
       "version_major": 2,
       "version_minor": 0
      },
      "text/plain": [
       "0batch [00:00, ?batch/s]"
      ]
     },
     "metadata": {},
     "output_type": "display_data"
    },
    {
     "name": "stdout",
     "output_type": "stream",
     "text": [
      "Restoring model weights from the end of the best epoch: 80.\n",
      "Epoch 90: early stopping\n",
      "Training model LSTM+MultiHeadAttention+AdamW_Cluster-9\n"
     ]
    },
    {
     "data": {
      "application/vnd.jupyter.widget-view+json": {
       "model_id": "8680e181cc654d438b11405fb78c3c08",
       "version_major": 2,
       "version_minor": 0
      },
      "text/plain": [
       "0epoch [00:00, ?epoch/s]"
      ]
     },
     "metadata": {},
     "output_type": "display_data"
    },
    {
     "data": {
      "application/vnd.jupyter.widget-view+json": {
       "model_id": "",
       "version_major": 2,
       "version_minor": 0
      },
      "text/plain": [
       "0batch [00:00, ?batch/s]"
      ]
     },
     "metadata": {},
     "output_type": "display_data"
    },
    {
     "name": "stdout",
     "output_type": "stream",
     "text": [
      "Restoring model weights from the end of the best epoch: 15.\n",
      "Epoch 25: early stopping\n",
      "Training model LSTM+MultiHeadAttention+AdamW_Cluster-9\n"
     ]
    },
    {
     "data": {
      "application/vnd.jupyter.widget-view+json": {
       "model_id": "3d26f42009c34aa1bb6c4721628b4f40",
       "version_major": 2,
       "version_minor": 0
      },
      "text/plain": [
       "0epoch [00:00, ?epoch/s]"
      ]
     },
     "metadata": {},
     "output_type": "display_data"
    },
    {
     "data": {
      "application/vnd.jupyter.widget-view+json": {
       "model_id": "",
       "version_major": 2,
       "version_minor": 0
      },
      "text/plain": [
       "0batch [00:00, ?batch/s]"
      ]
     },
     "metadata": {},
     "output_type": "display_data"
    },
    {
     "name": "stdout",
     "output_type": "stream",
     "text": [
      "Restoring model weights from the end of the best epoch: 37.\n",
      "Epoch 47: early stopping\n",
      "Training model LSTM+MultiHeadAttention+AdamW_Cluster-9\n"
     ]
    },
    {
     "data": {
      "application/vnd.jupyter.widget-view+json": {
       "model_id": "53d904d02c074ac3902a75e78ce01a80",
       "version_major": 2,
       "version_minor": 0
      },
      "text/plain": [
       "0epoch [00:00, ?epoch/s]"
      ]
     },
     "metadata": {},
     "output_type": "display_data"
    },
    {
     "data": {
      "application/vnd.jupyter.widget-view+json": {
       "model_id": "",
       "version_major": 2,
       "version_minor": 0
      },
      "text/plain": [
       "0batch [00:00, ?batch/s]"
      ]
     },
     "metadata": {},
     "output_type": "display_data"
    },
    {
     "name": "stdout",
     "output_type": "stream",
     "text": [
      "Training model LSTM+MultiHeadAttention+AdamW_Cluster-9\n"
     ]
    },
    {
     "data": {
      "application/vnd.jupyter.widget-view+json": {
       "model_id": "85ecf5d1b3534e11b3b3d2d494bd5dd3",
       "version_major": 2,
       "version_minor": 0
      },
      "text/plain": [
       "0epoch [00:00, ?epoch/s]"
      ]
     },
     "metadata": {},
     "output_type": "display_data"
    },
    {
     "data": {
      "application/vnd.jupyter.widget-view+json": {
       "model_id": "",
       "version_major": 2,
       "version_minor": 0
      },
      "text/plain": [
       "0batch [00:00, ?batch/s]"
      ]
     },
     "metadata": {},
     "output_type": "display_data"
    },
    {
     "name": "stdout",
     "output_type": "stream",
     "text": [
      "Restoring model weights from the end of the best epoch: 37.\n",
      "Epoch 47: early stopping\n",
      "Training model LSTM+MultiHeadAttention+AdamW_Cluster-9\n"
     ]
    },
    {
     "data": {
      "application/vnd.jupyter.widget-view+json": {
       "model_id": "cef8674afffa4a0a8adc558e2d6edf3d",
       "version_major": 2,
       "version_minor": 0
      },
      "text/plain": [
       "0epoch [00:00, ?epoch/s]"
      ]
     },
     "metadata": {},
     "output_type": "display_data"
    },
    {
     "data": {
      "application/vnd.jupyter.widget-view+json": {
       "model_id": "",
       "version_major": 2,
       "version_minor": 0
      },
      "text/plain": [
       "0batch [00:00, ?batch/s]"
      ]
     },
     "metadata": {},
     "output_type": "display_data"
    },
    {
     "name": "stdout",
     "output_type": "stream",
     "text": [
      "Restoring model weights from the end of the best epoch: 22.\n",
      "Epoch 32: early stopping\n",
      "Training model LSTM+MultiHeadAttention+AdamW_Cluster-9\n"
     ]
    },
    {
     "data": {
      "application/vnd.jupyter.widget-view+json": {
       "model_id": "bd5b8f207e144c31a4b6f09d627f359d",
       "version_major": 2,
       "version_minor": 0
      },
      "text/plain": [
       "0epoch [00:00, ?epoch/s]"
      ]
     },
     "metadata": {},
     "output_type": "display_data"
    },
    {
     "data": {
      "application/vnd.jupyter.widget-view+json": {
       "model_id": "",
       "version_major": 2,
       "version_minor": 0
      },
      "text/plain": [
       "0batch [00:00, ?batch/s]"
      ]
     },
     "metadata": {},
     "output_type": "display_data"
    },
    {
     "name": "stdout",
     "output_type": "stream",
     "text": [
      "Restoring model weights from the end of the best epoch: 22.\n",
      "Epoch 32: early stopping\n",
      "Training model LSTM+MultiHeadAttention+AdamW_Cluster-9\n"
     ]
    },
    {
     "data": {
      "application/vnd.jupyter.widget-view+json": {
       "model_id": "0e79bae5512049f0851db78fa340381f",
       "version_major": 2,
       "version_minor": 0
      },
      "text/plain": [
       "0epoch [00:00, ?epoch/s]"
      ]
     },
     "metadata": {},
     "output_type": "display_data"
    },
    {
     "data": {
      "application/vnd.jupyter.widget-view+json": {
       "model_id": "",
       "version_major": 2,
       "version_minor": 0
      },
      "text/plain": [
       "0batch [00:00, ?batch/s]"
      ]
     },
     "metadata": {},
     "output_type": "display_data"
    },
    {
     "name": "stdout",
     "output_type": "stream",
     "text": [
      "Restoring model weights from the end of the best epoch: 38.\n",
      "Epoch 48: early stopping\n",
      "Training model LSTM+MultiHeadAttention+AdamW_Cluster-9\n"
     ]
    },
    {
     "data": {
      "application/vnd.jupyter.widget-view+json": {
       "model_id": "8f0ae50073f44474a2a00860a67cf900",
       "version_major": 2,
       "version_minor": 0
      },
      "text/plain": [
       "0epoch [00:00, ?epoch/s]"
      ]
     },
     "metadata": {},
     "output_type": "display_data"
    },
    {
     "data": {
      "application/vnd.jupyter.widget-view+json": {
       "model_id": "",
       "version_major": 2,
       "version_minor": 0
      },
      "text/plain": [
       "0batch [00:00, ?batch/s]"
      ]
     },
     "metadata": {},
     "output_type": "display_data"
    },
    {
     "name": "stdout",
     "output_type": "stream",
     "text": [
      "Restoring model weights from the end of the best epoch: 65.\n",
      "Epoch 75: early stopping\n"
     ]
    }
   ],
   "source": [
    "for cluster_n in tqdm(all_clusters[1:], desc=f\"Hyperparameter Tuning on Cluster:\"):\n",
    "\n",
    "    # Setup CometML Optimizer and default model params\n",
    "    optimizer = Optimizer(\n",
    "        hyperparams,\n",
    "        api_key=COMET_API_KEY, \n",
    "        project_name=project_name,\n",
    "        workspace=comet_ml_workspace,\n",
    "        log_env_details=False,\n",
    "        display_summary_level=0,\n",
    "        verbose=0\n",
    "    )\n",
    "\n",
    "    # Loop experiments\n",
    "    for ith, experiment in tqdm(enumerate(optimizer.get_experiments(), start=1), total=max_combo, desc=\"Doing dxperiments...\"):\n",
    "\n",
    "        # Model parameters\n",
    "        class HT_params:\n",
    "            lstm_1_units = experiment.get_parameter(\"lstm_1_units\")\n",
    "            lstm_2_units = experiment.get_parameter(\"lstm_2_units\")\n",
    "            dense_1_units = experiment.get_parameter(\"dense_1_units\")\n",
    "            dense_2_units = experiment.get_parameter(\"dense_2_units\")\n",
    "            dropout = experiment.get_parameter(\"dropout\")\n",
    "            learning_rate = experiment.get_parameter(\"learning_rate\")\n",
    "            batch_size = experiment.get_parameter(\"batch_size\")\n",
    "            sequence_length = experiment.get_parameter(\"sequence_length\")\n",
    "            n_epochs = 100 # constant\n",
    "            patience = 10 # constant\n",
    "            shuffle = True # constant\n",
    "\n",
    "        # Load dataset\n",
    "        dataset = get_dataset(cluster_n=cluster_n, params=HT_params)\n",
    "        \n",
    "        # Load model\n",
    "        model = get_model(params=HT_params, feature_len=len(dataset.features))\n",
    "        experiment.set_name(f\"{model_arch_name}_Cluster-{cluster_n}_hyperopt-{ith}\")\n",
    "        experiment.add_tag(f\"{model_arch_name}_Cluster-{cluster_n}_hyperopt-{ith}\")\n",
    "\n",
    "        # Fit model on dataset\n",
    "        dataset.history, dataset.model = train_model(dataset, HT_params)\n",
    "\n",
    "        # Log test_mse\n",
    "        test_mse = model.evaluate(dataset.test_dataset, verbose=False)\n",
    "        experiment.log_metric(\"test_mse\", test_mse)\n",
    "\n",
    "        # Log test_pred_error\n",
    "        test_truth = dataset.y_test.values.flatten()[:-HT_params.sequence_length+1]\n",
    "        test_pred = model.predict(dataset.test_dataset, verbose=False).squeeze()\n",
    "        test_pred_error = np.mean(np.abs(test_pred - test_truth))\n",
    "        experiment.log_metric(\"test_pred_error\", test_pred_error)\n",
    "\n",
    "        # End experiment and clear tf session\n",
    "        experiment.end()\n",
    "        tf.keras.backend.clear_session()"
   ]
  },
  {
   "cell_type": "markdown",
   "id": "f0d9d8e6-16b3-4f04-ae5c-75f4b0953d7c",
   "metadata": {},
   "source": [
    "___"
   ]
  },
  {
   "cell_type": "markdown",
   "id": "357cdc47-a52b-425b-a52a-4993a421ad3c",
   "metadata": {
    "tags": []
   },
   "source": [
    "# 6. Hyperparameter selection"
   ]
  },
  {
   "cell_type": "code",
   "execution_count": 15,
   "id": "c0a8c1d6-213e-47df-8dfb-80bca61bbaee",
   "metadata": {
    "tags": []
   },
   "outputs": [],
   "source": [
    "comet_ml_api = comet_ml.api.API(api_key=COMET_API_KEY)\n",
    "experiments = comet_ml_api.get_experiments(project_name=project_name, workspace=comet_ml_workspace)"
   ]
  },
  {
   "cell_type": "code",
   "execution_count": 29,
   "id": "e9727aa8-7aa0-4666-88f1-d84a8e71bc11",
   "metadata": {
    "tags": []
   },
   "outputs": [
    {
     "data": {
      "application/vnd.jupyter.widget-view+json": {
       "model_id": "243a9496290341b3a7a680b144dc69b4",
       "version_major": 2,
       "version_minor": 0
      },
      "text/plain": [
       "  0%|          | 0/159 [00:00<?, ?it/s]"
      ]
     },
     "metadata": {},
     "output_type": "display_data"
    }
   ],
   "source": [
    "df_ht = []\n",
    "to_drop = [\"f\", \"AdamW_weight_decay\", \"validate_curr_step\", \"AdamW_name\", \"curr_step\", \"AdamW_beta_1\", \"AdamW_beta_2\", \"AdamW_ema_momentum\", \"AdamW_epsilon\", \"AdamW_amsgrad\", \"AdamW_ema_overwrite_frequency\", \"AdamW_use_ema\", \"AdamW_clipnorm\", \"AdamW_jit_compile\", \"AdamW_clipvalue\", \"AdamW_global_clipnorm\", \"AdamW_is_legacy_optimizer\"]\n",
    "\n",
    "for experiment in tqdm(experiments):\n",
    "    # Get experiment details\n",
    "    model_name, cluster_n, ht_idx = experiment.name.split(\"_\")\n",
    "    res = {\n",
    "        \"model_name\": model_name,\n",
    "        \"cluster_n\": cluster_n,\n",
    "        \"hyperopt_idx\": int(ht_idx.split(\"-\")[-1]),\n",
    "    }\n",
    "    \n",
    "    # Get mse on test set\n",
    "    test_pred_error = {\"metricValue\":0}\n",
    "    try:\n",
    "        test_pred_error = list(filter(lambda r: r[\"metricName\"] == \"test_pred_error\", experiment.get_metrics()))[0]\n",
    "    except:\n",
    "        test_pred_error = {\"metricValue\":0}\n",
    "    res[\"test_pred_error\"] = float(test_pred_error[\"metricValue\"])\n",
    "\n",
    "    # Get hyperparameters\n",
    "    for param in experiment.get_parameters_summary():\n",
    "        if param[\"name\"] not in to_drop:\n",
    "            res[param[\"name\"]] = float(param[\"valueMax\"])\n",
    "    \n",
    "    # Append experiment result\n",
    "    res[\"optimization_id\"] = experiments[0].optimization_id\n",
    "    df_ht.append(res)\n",
    "\n",
    "df_ht = pd.DataFrame(df_ht)\n",
    "df_ht = df_ht.iloc[-150:]\n",
    "df_ht"
   ]
  },
  {
   "cell_type": "markdown",
   "id": "7e8b6381-e46e-46f5-8d2b-998bc3d70f43",
   "metadata": {},
   "source": [
    "___"
   ]
  },
  {
   "cell_type": "markdown",
   "id": "3527cb34-a46e-43ef-a71b-8e543643efc1",
   "metadata": {
    "tags": []
   },
   "source": [
    "## 6.1 Get best hyperparameters for cluster"
   ]
  },
  {
   "cell_type": "code",
   "execution_count": 37,
   "id": "d084b240-150b-4b4f-b643-d5e31894a310",
   "metadata": {
    "tags": []
   },
   "outputs": [
    {
     "data": {
      "text/html": [
       "<div>\n",
       "<style scoped>\n",
       "    .dataframe tbody tr th:only-of-type {\n",
       "        vertical-align: middle;\n",
       "    }\n",
       "\n",
       "    .dataframe tbody tr th {\n",
       "        vertical-align: top;\n",
       "    }\n",
       "\n",
       "    .dataframe thead th {\n",
       "        text-align: right;\n",
       "    }\n",
       "</style>\n",
       "<table border=\"1\" class=\"dataframe\">\n",
       "  <thead>\n",
       "    <tr style=\"text-align: right;\">\n",
       "      <th></th>\n",
       "      <th>cluster_n</th>\n",
       "      <th>model_name</th>\n",
       "      <th>hyperopt_idx</th>\n",
       "      <th>test_pred_error</th>\n",
       "      <th>batch_size</th>\n",
       "      <th>dense_1_units</th>\n",
       "      <th>dense_2_units</th>\n",
       "      <th>dropout</th>\n",
       "      <th>learning_rate</th>\n",
       "      <th>lstm_1_units</th>\n",
       "      <th>lstm_2_units</th>\n",
       "      <th>sequence_length</th>\n",
       "      <th>optimization_id</th>\n",
       "      <th>AdamW_learning_rate</th>\n",
       "      <th>curr_epoch</th>\n",
       "      <th>epochs</th>\n",
       "      <th>steps</th>\n",
       "    </tr>\n",
       "  </thead>\n",
       "  <tbody>\n",
       "    <tr>\n",
       "      <th>0</th>\n",
       "      <td>Cluster-0</td>\n",
       "      <td>LSTM+MultiHeadAttention+AdamW</td>\n",
       "      <td>14</td>\n",
       "      <td>0.000000</td>\n",
       "      <td>1024.0</td>\n",
       "      <td>256.0</td>\n",
       "      <td>128.0</td>\n",
       "      <td>0.065702</td>\n",
       "      <td>0.083539</td>\n",
       "      <td>128.0</td>\n",
       "      <td>256.0</td>\n",
       "      <td>14.0</td>\n",
       "      <td>a76abaf3f3094b12920ec2e55dd6f3b7</td>\n",
       "      <td>0.08</td>\n",
       "      <td>56.0</td>\n",
       "      <td>100.0</td>\n",
       "      <td>64.0</td>\n",
       "    </tr>\n",
       "    <tr>\n",
       "      <th>1</th>\n",
       "      <td>Cluster-1</td>\n",
       "      <td>LSTM+MultiHeadAttention+AdamW</td>\n",
       "      <td>1</td>\n",
       "      <td>0.000000</td>\n",
       "      <td>4096.0</td>\n",
       "      <td>128.0</td>\n",
       "      <td>256.0</td>\n",
       "      <td>0.044907</td>\n",
       "      <td>0.026653</td>\n",
       "      <td>512.0</td>\n",
       "      <td>256.0</td>\n",
       "      <td>21.0</td>\n",
       "      <td>a76abaf3f3094b12920ec2e55dd6f3b7</td>\n",
       "      <td>0.03</td>\n",
       "      <td>0.0</td>\n",
       "      <td>100.0</td>\n",
       "      <td>25.0</td>\n",
       "    </tr>\n",
       "    <tr>\n",
       "      <th>2</th>\n",
       "      <td>Cluster-2</td>\n",
       "      <td>LSTM+MultiHeadAttention+AdamW</td>\n",
       "      <td>2</td>\n",
       "      <td>0.000000</td>\n",
       "      <td>1024.0</td>\n",
       "      <td>128.0</td>\n",
       "      <td>64.0</td>\n",
       "      <td>0.031063</td>\n",
       "      <td>0.021581</td>\n",
       "      <td>64.0</td>\n",
       "      <td>64.0</td>\n",
       "      <td>14.0</td>\n",
       "      <td>a76abaf3f3094b12920ec2e55dd6f3b7</td>\n",
       "      <td>0.02</td>\n",
       "      <td>13.0</td>\n",
       "      <td>100.0</td>\n",
       "      <td>116.0</td>\n",
       "    </tr>\n",
       "    <tr>\n",
       "      <th>3</th>\n",
       "      <td>Cluster-3</td>\n",
       "      <td>LSTM+MultiHeadAttention+AdamW</td>\n",
       "      <td>13</td>\n",
       "      <td>0.000000</td>\n",
       "      <td>1024.0</td>\n",
       "      <td>128.0</td>\n",
       "      <td>64.0</td>\n",
       "      <td>0.248787</td>\n",
       "      <td>0.095604</td>\n",
       "      <td>512.0</td>\n",
       "      <td>128.0</td>\n",
       "      <td>21.0</td>\n",
       "      <td>a76abaf3f3094b12920ec2e55dd6f3b7</td>\n",
       "      <td>0.10</td>\n",
       "      <td>79.0</td>\n",
       "      <td>100.0</td>\n",
       "      <td>88.0</td>\n",
       "    </tr>\n",
       "    <tr>\n",
       "      <th>4</th>\n",
       "      <td>Cluster-4</td>\n",
       "      <td>LSTM+MultiHeadAttention+AdamW</td>\n",
       "      <td>3</td>\n",
       "      <td>0.000000</td>\n",
       "      <td>2048.0</td>\n",
       "      <td>64.0</td>\n",
       "      <td>64.0</td>\n",
       "      <td>0.276768</td>\n",
       "      <td>0.021266</td>\n",
       "      <td>128.0</td>\n",
       "      <td>128.0</td>\n",
       "      <td>14.0</td>\n",
       "      <td>a76abaf3f3094b12920ec2e55dd6f3b7</td>\n",
       "      <td>0.02</td>\n",
       "      <td>86.0</td>\n",
       "      <td>100.0</td>\n",
       "      <td>45.0</td>\n",
       "    </tr>\n",
       "    <tr>\n",
       "      <th>5</th>\n",
       "      <td>Cluster-5</td>\n",
       "      <td>LSTM+MultiHeadAttention+AdamW</td>\n",
       "      <td>15</td>\n",
       "      <td>0.015148</td>\n",
       "      <td>2048.0</td>\n",
       "      <td>64.0</td>\n",
       "      <td>256.0</td>\n",
       "      <td>0.116679</td>\n",
       "      <td>0.098421</td>\n",
       "      <td>512.0</td>\n",
       "      <td>256.0</td>\n",
       "      <td>7.0</td>\n",
       "      <td>a76abaf3f3094b12920ec2e55dd6f3b7</td>\n",
       "      <td>0.10</td>\n",
       "      <td>46.0</td>\n",
       "      <td>100.0</td>\n",
       "      <td>16.0</td>\n",
       "    </tr>\n",
       "    <tr>\n",
       "      <th>6</th>\n",
       "      <td>Cluster-6</td>\n",
       "      <td>LSTM+MultiHeadAttention+AdamW</td>\n",
       "      <td>11</td>\n",
       "      <td>0.034630</td>\n",
       "      <td>4096.0</td>\n",
       "      <td>512.0</td>\n",
       "      <td>128.0</td>\n",
       "      <td>0.160732</td>\n",
       "      <td>0.021532</td>\n",
       "      <td>512.0</td>\n",
       "      <td>128.0</td>\n",
       "      <td>7.0</td>\n",
       "      <td>a76abaf3f3094b12920ec2e55dd6f3b7</td>\n",
       "      <td>0.02</td>\n",
       "      <td>16.0</td>\n",
       "      <td>100.0</td>\n",
       "      <td>15.0</td>\n",
       "    </tr>\n",
       "    <tr>\n",
       "      <th>7</th>\n",
       "      <td>Cluster-7</td>\n",
       "      <td>LSTM+MultiHeadAttention+AdamW</td>\n",
       "      <td>8</td>\n",
       "      <td>0.022092</td>\n",
       "      <td>4096.0</td>\n",
       "      <td>512.0</td>\n",
       "      <td>64.0</td>\n",
       "      <td>0.029836</td>\n",
       "      <td>0.052305</td>\n",
       "      <td>512.0</td>\n",
       "      <td>128.0</td>\n",
       "      <td>14.0</td>\n",
       "      <td>a76abaf3f3094b12920ec2e55dd6f3b7</td>\n",
       "      <td>0.05</td>\n",
       "      <td>41.0</td>\n",
       "      <td>100.0</td>\n",
       "      <td>14.0</td>\n",
       "    </tr>\n",
       "    <tr>\n",
       "      <th>8</th>\n",
       "      <td>Cluster-8</td>\n",
       "      <td>LSTM+MultiHeadAttention+AdamW</td>\n",
       "      <td>7</td>\n",
       "      <td>0.016125</td>\n",
       "      <td>4096.0</td>\n",
       "      <td>64.0</td>\n",
       "      <td>256.0</td>\n",
       "      <td>0.270576</td>\n",
       "      <td>0.007139</td>\n",
       "      <td>256.0</td>\n",
       "      <td>128.0</td>\n",
       "      <td>7.0</td>\n",
       "      <td>a76abaf3f3094b12920ec2e55dd6f3b7</td>\n",
       "      <td>0.01</td>\n",
       "      <td>99.0</td>\n",
       "      <td>100.0</td>\n",
       "      <td>24.0</td>\n",
       "    </tr>\n",
       "    <tr>\n",
       "      <th>9</th>\n",
       "      <td>Cluster-9</td>\n",
       "      <td>LSTM+MultiHeadAttention+AdamW</td>\n",
       "      <td>14</td>\n",
       "      <td>0.015461</td>\n",
       "      <td>256.0</td>\n",
       "      <td>64.0</td>\n",
       "      <td>256.0</td>\n",
       "      <td>0.341563</td>\n",
       "      <td>0.012901</td>\n",
       "      <td>128.0</td>\n",
       "      <td>256.0</td>\n",
       "      <td>7.0</td>\n",
       "      <td>a76abaf3f3094b12920ec2e55dd6f3b7</td>\n",
       "      <td>0.01</td>\n",
       "      <td>47.0</td>\n",
       "      <td>100.0</td>\n",
       "      <td>568.0</td>\n",
       "    </tr>\n",
       "  </tbody>\n",
       "</table>\n",
       "</div>"
      ],
      "text/plain": [
       "   cluster_n                     model_name  hyperopt_idx  test_pred_error   \n",
       "0  Cluster-0  LSTM+MultiHeadAttention+AdamW            14         0.000000  \\\n",
       "1  Cluster-1  LSTM+MultiHeadAttention+AdamW             1         0.000000   \n",
       "2  Cluster-2  LSTM+MultiHeadAttention+AdamW             2         0.000000   \n",
       "3  Cluster-3  LSTM+MultiHeadAttention+AdamW            13         0.000000   \n",
       "4  Cluster-4  LSTM+MultiHeadAttention+AdamW             3         0.000000   \n",
       "5  Cluster-5  LSTM+MultiHeadAttention+AdamW            15         0.015148   \n",
       "6  Cluster-6  LSTM+MultiHeadAttention+AdamW            11         0.034630   \n",
       "7  Cluster-7  LSTM+MultiHeadAttention+AdamW             8         0.022092   \n",
       "8  Cluster-8  LSTM+MultiHeadAttention+AdamW             7         0.016125   \n",
       "9  Cluster-9  LSTM+MultiHeadAttention+AdamW            14         0.015461   \n",
       "\n",
       "   batch_size  dense_1_units  dense_2_units   dropout  learning_rate   \n",
       "0      1024.0          256.0          128.0  0.065702       0.083539  \\\n",
       "1      4096.0          128.0          256.0  0.044907       0.026653   \n",
       "2      1024.0          128.0           64.0  0.031063       0.021581   \n",
       "3      1024.0          128.0           64.0  0.248787       0.095604   \n",
       "4      2048.0           64.0           64.0  0.276768       0.021266   \n",
       "5      2048.0           64.0          256.0  0.116679       0.098421   \n",
       "6      4096.0          512.0          128.0  0.160732       0.021532   \n",
       "7      4096.0          512.0           64.0  0.029836       0.052305   \n",
       "8      4096.0           64.0          256.0  0.270576       0.007139   \n",
       "9       256.0           64.0          256.0  0.341563       0.012901   \n",
       "\n",
       "   lstm_1_units  lstm_2_units  sequence_length   \n",
       "0         128.0         256.0             14.0  \\\n",
       "1         512.0         256.0             21.0   \n",
       "2          64.0          64.0             14.0   \n",
       "3         512.0         128.0             21.0   \n",
       "4         128.0         128.0             14.0   \n",
       "5         512.0         256.0              7.0   \n",
       "6         512.0         128.0              7.0   \n",
       "7         512.0         128.0             14.0   \n",
       "8         256.0         128.0              7.0   \n",
       "9         128.0         256.0              7.0   \n",
       "\n",
       "                    optimization_id  AdamW_learning_rate  curr_epoch  epochs   \n",
       "0  a76abaf3f3094b12920ec2e55dd6f3b7                 0.08        56.0   100.0  \\\n",
       "1  a76abaf3f3094b12920ec2e55dd6f3b7                 0.03         0.0   100.0   \n",
       "2  a76abaf3f3094b12920ec2e55dd6f3b7                 0.02        13.0   100.0   \n",
       "3  a76abaf3f3094b12920ec2e55dd6f3b7                 0.10        79.0   100.0   \n",
       "4  a76abaf3f3094b12920ec2e55dd6f3b7                 0.02        86.0   100.0   \n",
       "5  a76abaf3f3094b12920ec2e55dd6f3b7                 0.10        46.0   100.0   \n",
       "6  a76abaf3f3094b12920ec2e55dd6f3b7                 0.02        16.0   100.0   \n",
       "7  a76abaf3f3094b12920ec2e55dd6f3b7                 0.05        41.0   100.0   \n",
       "8  a76abaf3f3094b12920ec2e55dd6f3b7                 0.01        99.0   100.0   \n",
       "9  a76abaf3f3094b12920ec2e55dd6f3b7                 0.01        47.0   100.0   \n",
       "\n",
       "   steps  \n",
       "0   64.0  \n",
       "1   25.0  \n",
       "2  116.0  \n",
       "3   88.0  \n",
       "4   45.0  \n",
       "5   16.0  \n",
       "6   15.0  \n",
       "7   14.0  \n",
       "8   24.0  \n",
       "9  568.0  "
      ]
     },
     "execution_count": 37,
     "metadata": {},
     "output_type": "execute_result"
    }
   ],
   "source": [
    "best_ht = df_ht.sort_values(\"test_pred_error\").groupby(\"cluster_n\", as_index=False).first()\n",
    "best_ht.AdamW_learning_rate = best_ht.AdamW_learning_rate.round(2)\n",
    "best_ht"
   ]
  },
  {
   "cell_type": "code",
   "execution_count": null,
   "id": "3cdd6b43-2e23-4f0b-ba84-2567a34257cc",
   "metadata": {
    "tags": []
   },
   "outputs": [],
   "source": [
    "# df_ht[df_ht.curr_epoch<99].sort_values(\"test_pred_error\").groupby(\"cluster_n\", as_index=False).first()"
   ]
  },
  {
   "cell_type": "code",
   "execution_count": 38,
   "id": "26a1e275-008b-4c4f-8f78-5e876f749586",
   "metadata": {
    "tags": []
   },
   "outputs": [
    {
     "data": {
      "image/png": "[encoded data removed]",
      "text/plain": [
       "<Figure size 1200x400 with 1 Axes>"
      ]
     },
     "metadata": {},
     "output_type": "display_data"
    }
   ],
   "source": [
    "plt.figure(figsize=(12, 4))\n",
    "plt.title(\"Test loss on parameters iteration\")\n",
    "sns.lineplot(data=df_ht, x=\"hyperopt_idx\", y=\"test_pred_error\", hue=\"cluster_n\")\n",
    "sns.scatterplot(data=best_ht, x=\"hyperopt_idx\", y=\"test_pred_error\", s=80, c=\"red\", label=\"Best params\")\n",
    "plt.xticks(np.arange(1, df_ht.hyperopt_idx.max()+1))\n",
    "plt.grid(alpha=.3)\n",
    "plt.legend(loc=\"upper right\", bbox_to_anchor=(1.16, 1))\n",
    "plt.tight_layout()\n",
    "plt.show()"
   ]
  },
  {
   "cell_type": "markdown",
   "id": "e026b036-1759-4eed-8602-bef3c2f4e704",
   "metadata": {},
   "source": [
    "___"
   ]
  },
  {
   "cell_type": "markdown",
   "id": "adf1ed4c-5fc2-44cb-b07b-9ec09a8abaa1",
   "metadata": {
    "tags": []
   },
   "source": [
    "## 6.2 Get global best hyperparameter\n",
    "* Parameters used to train the same model for all clusters"
   ]
  },
  {
   "cell_type": "code",
   "execution_count": 39,
   "id": "d7256d49-39c9-4d6f-b519-639b91bb753e",
   "metadata": {
    "tags": []
   },
   "outputs": [
    {
     "data": {
      "image/png": "[encoded data removed]",
      "text/plain": [
       "<Figure size 1600x800 with 7 Axes>"
      ]
     },
     "metadata": {},
     "output_type": "display_data"
    }
   ],
   "source": [
    "params = [\"sequence_length\", \"batch_size\", \"dense_1_units\", \"dense_2_units\", \"lstm_1_units\", \"lstm_2_units\", \"AdamW_learning_rate\"]\n",
    "\n",
    "rows, cols = 3, 3\n",
    "fig, axs = plt.subplots(rows, cols, figsize=(16,8), squeeze=False)\n",
    "for subpltn, param in enumerate(params):\n",
    "    ax = axs[divmod(subpltn, cols)]\n",
    "    ax.grid(alpha=.3)\n",
    "    sns.countplot(data=best_ht, x=param, ax=ax)\n",
    "\n",
    "for subpltn in range(subpltn+1, rows*cols): fig.delaxes(axs.flatten()[subpltn]) # removing empty plots from subplot grid\n",
    "plt.tight_layout()\n",
    "plt.show();"
   ]
  },
  {
   "cell_type": "markdown",
   "id": "e6a13479-6f0e-4ec3-b399-07ad511bf609",
   "metadata": {},
   "source": [
    "### Global hyperparameters"
   ]
  },
  {
   "cell_type": "code",
   "execution_count": 40,
   "id": "a91a6729-b6af-4b03-a52b-ba4505538b5e",
   "metadata": {
    "tags": []
   },
   "outputs": [
    {
     "data": {
      "text/plain": [
       "sequence_length           7.00\n",
       "batch_size             4096.00\n",
       "dense_1_units            64.00\n",
       "dense_2_units            64.00\n",
       "lstm_1_units            512.00\n",
       "lstm_2_units            128.00\n",
       "AdamW_learning_rate       0.02\n",
       "dtype: float64"
      ]
     },
     "execution_count": 40,
     "metadata": {},
     "output_type": "execute_result"
    }
   ],
   "source": [
    "best_global_hp = best_ht[params].apply(pd.value_counts).idxmax()\n",
    "best_global_hp"
   ]
  },
  {
   "cell_type": "code",
   "execution_count": 41,
   "id": "97ee7665-29e1-411b-9533-e2063f63ce87",
   "metadata": {
    "tags": []
   },
   "outputs": [
    {
     "data": {
      "text/plain": [
       "{'sequence_length': 14.0,\n",
       " 'batch_size': 4096.0,\n",
       " 'dense_1_units': 64.0,\n",
       " 'dense_2_units': 256.0,\n",
       " 'lstm_1_units': 512.0,\n",
       " 'lstm_2_units': 128.0,\n",
       " 'AdamW_learning_rate': 0.02}"
      ]
     },
     "execution_count": 41,
     "metadata": {},
     "output_type": "execute_result"
    }
   ],
   "source": [
    "### If two parameters have the same max count, keep the highest value\n",
    "best_global_hp = {}\n",
    "for param in params:\n",
    "    max_count = best_ht[param].value_counts().max()\n",
    "    max_count_idx = best_ht[param].value_counts() == max_count\n",
    "    best_global_hp[param] = best_ht[param].value_counts()[max_count_idx].index.max()\n",
    "best_global_hp"
   ]
  },
  {
   "cell_type": "code",
   "execution_count": null,
   "id": "ec047246-2e4f-4ccf-97ca-4c05042404ae",
   "metadata": {},
   "outputs": [],
   "source": []
  },
  {
   "cell_type": "code",
   "execution_count": null,
   "id": "2f217eb9-c8ee-4d58-9f82-bfd652811767",
   "metadata": {},
   "outputs": [],
   "source": []
  },
  {
   "cell_type": "code",
   "execution_count": null,
   "id": "303fe362-afd0-4b2d-815a-f2137b0a275b",
   "metadata": {},
   "outputs": [],
   "source": []
  }
 ],
 "metadata": {
  "kernelspec": {
   "display_name": "Python 3 (ipykernel)",
   "language": "python",
   "name": "python3"
  },
  "language_info": {
   "codemirror_mode": {
    "name": "ipython",
    "version": 3
   },
   "file_extension": ".py",
   "mimetype": "text/x-python",
   "name": "python",
   "nbconvert_exporter": "python",
   "pygments_lexer": "ipython3",
   "version": "3.8.10"
  }
 },
 "nbformat": 4,
 "nbformat_minor": 5
}
