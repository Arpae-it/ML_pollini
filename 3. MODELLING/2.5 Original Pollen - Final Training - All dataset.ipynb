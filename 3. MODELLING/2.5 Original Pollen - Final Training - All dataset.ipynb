{
 "cells": [
  {
   "cell_type": "markdown",
   "id": "89711db3-ecfa-4053-bf52-681910715b1b",
   "metadata": {
    "tags": [],
    "toc-hr-collapsed": true
   },
   "source": [
    "# Model training\n",
    "* In this notebook we train one model for each cluster, using the best parameters obtained in the preceeding study available in notebook 2.3.3\n",
    "* We also evaluate the feature importance in order to select the most important ones."
   ]
  },
  {
   "cell_type": "markdown",
   "id": "891c38f3-464b-4932-b531-a415a0519f9d",
   "metadata": {
    "tags": [],
    "toc-hr-collapsed": true
   },
   "source": [
    "# Imports"
   ]
  },
  {
   "cell_type": "code",
   "execution_count": 3,
   "id": "17351dbc",
   "metadata": {
    "tags": []
   },
   "outputs": [],
   "source": [
    "import os\n",
    "import random\n",
    "import calendar\n",
    "import datetime\n",
    "import warnings\n",
    "import logging\n",
    "import numpy as np\n",
    "import pandas as pd\n",
    "from datetime import timedelta\n",
    "from collections import Counter\n",
    "from google.cloud import bigquery\n",
    "from dotenv import load_dotenv\n",
    "from pathlib import Path\n",
    "\n",
    "from tqdm.auto import tqdm\n",
    "import seaborn as sns\n",
    "import matplotlib.pyplot as plt\n",
    "import ipywidgets as widgets\n",
    "\n",
    "warnings.filterwarnings(\"ignore\")\n",
    "tqdm.pandas()"
   ]
  },
  {
   "cell_type": "code",
   "execution_count": 4,
   "id": "8f897782-a342-4aa6-af96-1065a1a0065f",
   "metadata": {
    "tags": []
   },
   "outputs": [
    {
     "data": {
      "text/plain": [
       "[PhysicalDevice(name='/physical_device:GPU:0', device_type='GPU')]"
      ]
     },
     "execution_count": 4,
     "metadata": {},
     "output_type": "execute_result"
    }
   ],
   "source": [
    "import comet_ml\n",
    "from comet_ml import Experiment, Optimizer\n",
    "logging.getLogger(\"comet_ml\").setLevel(\"ERROR\")\n",
    "\n",
    "import scipy.stats\n",
    "from sklearn.preprocessing import LabelEncoder, MinMaxScaler\n",
    "from statsmodels.tsa.seasonal import seasonal_decompose\n",
    "\n",
    "os.environ['TF_CPP_MIN_LOG_LEVEL'] = '3'\n",
    "import tensorflow as tf\n",
    "tf.get_logger().setLevel(\"ERROR\")\n",
    "\n",
    "from tensorflow.keras.optimizers import Adam, AdamW\n",
    "from tensorflow.keras.preprocessing import timeseries_dataset_from_array\n",
    "from tensorflow.keras.callbacks import EarlyStopping, ModelCheckpoint\n",
    "from tqdm.keras import TqdmCallback\n",
    "\n",
    "tf.config.list_physical_devices('GPU')"
   ]
  },
  {
   "cell_type": "markdown",
   "id": "e09096ab-c7d2-4172-85d3-c466fe00250d",
   "metadata": {
    "tags": []
   },
   "source": [
    "## Config"
   ]
  },
  {
   "cell_type": "code",
   "execution_count": 5,
   "id": "640de2a6-31e6-4f5a-adf7-f438423f5b1c",
   "metadata": {
    "tags": []
   },
   "outputs": [],
   "source": [
    "# Config\n",
    "PROJECT_ID = \"arpae-prod-ml\"\n",
    "\n",
    "# BigQuery\n",
    "JOINED_BQ_DATASET = \"JOINED_DATA\"\n",
    "JOINED_DATA_TABLE = \"SLIDING_WINDOWS_DATASET\"\n",
    "\n",
    "# Dataset path\n",
    "dataset_path = \"data/\"\n",
    "\n",
    "# Ouput\n",
    "model_output = \"models\""
   ]
  },
  {
   "cell_type": "code",
   "execution_count": 22,
   "id": "9401e933-55cb-4def-92fd-1db9019060a2",
   "metadata": {
    "tags": []
   },
   "outputs": [],
   "source": [
    "# Load Comet API Key from env\n",
    "dotenv_path = Path('../data/env_vars.sh')\n",
    "load_dotenv(dotenv_path=dotenv_path)\n",
    "\n",
    "COMET_API_KEY = os.getenv('COMET_API_KEY')\n",
    "comet_ml_workspace = \"pveronesi\"\n",
    "project_name = \"ml-pollini\""
   ]
  },
  {
   "cell_type": "markdown",
   "id": "72c7872e-30ee-444d-8f90-44d1a211f11f",
   "metadata": {
    "tags": []
   },
   "source": [
    "## Methods"
   ]
  },
  {
   "cell_type": "code",
   "execution_count": 7,
   "id": "3e20526a-afd2-47d1-bcc5-255420d4f9a7",
   "metadata": {
    "tags": []
   },
   "outputs": [],
   "source": [
    "def _run_query(client, query):\n",
    "    df = client.query(query).to_dataframe()\n",
    "    return df\n",
    "\n",
    "def _create_station_widget(df):\n",
    "    station_ids = df.station_id.sort_values().unique()\n",
    "    station_wdgt = widgets.Dropdown(options=station_ids, description='Station Id:', layout={\"width\":\"50%\"})\n",
    "    return station_wdgt\n",
    "\n",
    "def _create_pol_var_id_widget(df):\n",
    "    pol_var_ids = df.pol_var_id.sort_values().unique()\n",
    "    pol_wdgt = widgets.Dropdown(options=pol_var_ids, description='Pol var id:', layout={\"width\":\"50%\"})\n",
    "    return pol_wdgt\n",
    "\n",
    "def _create_cluster_n_widget(df):\n",
    "    cluster_ids = list(df.cluster.sort_values().unique())\n",
    "    cluster_ids.append(\"all\")\n",
    "    cls_wdgt = widgets.Dropdown(options=cluster_ids, description='Cluster id:', layout={\"width\":\"50%\"})\n",
    "    return cls_wdgt\n",
    "\n",
    "def min_max_scale(x):\n",
    "    return (x - x.min()) / (x.max() - x.min())"
   ]
  },
  {
   "cell_type": "markdown",
   "id": "ad89a1af-6125-4197-b381-fbed926eecfe",
   "metadata": {
    "tags": [],
    "toc-hr-collapsed": true
   },
   "source": [
    "# 1. Load Dataset"
   ]
  },
  {
   "cell_type": "markdown",
   "id": "9a0473ee-3d00-4ce8-93bc-da9c23c4055d",
   "metadata": {
    "tags": []
   },
   "source": [
    "### Load clustering results"
   ]
  },
  {
   "cell_type": "code",
   "execution_count": 10,
   "id": "7c32fb63-0af3-489b-94a0-8bea13e66173",
   "metadata": {
    "tags": []
   },
   "outputs": [
    {
     "name": "stdout",
     "output_type": "stream",
     "text": [
      "(363, 3)\n"
     ]
    },
    {
     "data": {
      "text/html": [
       "<div>\n",
       "<style scoped>\n",
       "    .dataframe tbody tr th:only-of-type {\n",
       "        vertical-align: middle;\n",
       "    }\n",
       "\n",
       "    .dataframe tbody tr th {\n",
       "        vertical-align: top;\n",
       "    }\n",
       "\n",
       "    .dataframe thead th {\n",
       "        text-align: right;\n",
       "    }\n",
       "</style>\n",
       "<table border=\"1\" class=\"dataframe\">\n",
       "  <thead>\n",
       "    <tr style=\"text-align: right;\">\n",
       "      <th></th>\n",
       "      <th>station_id</th>\n",
       "      <th>pol_var_id</th>\n",
       "      <th>cluster</th>\n",
       "    </tr>\n",
       "  </thead>\n",
       "  <tbody>\n",
       "    <tr>\n",
       "      <th>300</th>\n",
       "      <td>11</td>\n",
       "      <td>B48005</td>\n",
       "      <td>8</td>\n",
       "    </tr>\n",
       "    <tr>\n",
       "      <th>220</th>\n",
       "      <td>8</td>\n",
       "      <td>B48031</td>\n",
       "      <td>9</td>\n",
       "    </tr>\n",
       "    <tr>\n",
       "      <th>281</th>\n",
       "      <td>10</td>\n",
       "      <td>B48024</td>\n",
       "      <td>9</td>\n",
       "    </tr>\n",
       "  </tbody>\n",
       "</table>\n",
       "</div>"
      ],
      "text/plain": [
       "     station_id pol_var_id  cluster\n",
       "300          11     B48005        8\n",
       "220           8     B48031        9\n",
       "281          10     B48024        9"
      ]
     },
     "metadata": {},
     "output_type": "display_data"
    },
    {
     "data": {
      "image/png": "[encoded data removed]",
      "text/plain": [
       "<Figure size 800x200 with 1 Axes>"
      ]
     },
     "metadata": {},
     "output_type": "display_data"
    }
   ],
   "source": [
    "### Load clustering data\n",
    "clusters = pd.read_csv(\"../data/clustering_intervals.csv\")\n",
    "\n",
    "print(clusters.shape)\n",
    "display(clusters.sample(3))\n",
    "\n",
    "plt.figure(figsize=(8,2))\n",
    "plt.title(\"Number of specie/station per cluster\")\n",
    "sns.countplot(x=clusters[\"cluster\"]);"
   ]
  },
  {
   "cell_type": "markdown",
   "id": "e93a5629-3294-4019-9f05-2db86d433dae",
   "metadata": {
    "tags": []
   },
   "source": [
    "### Load dataset"
   ]
  },
  {
   "cell_type": "code",
   "execution_count": 11,
   "id": "ca186e6c-955b-48a2-a3f6-b1f0231e8917",
   "metadata": {
    "tags": []
   },
   "outputs": [],
   "source": [
    "### From BigQuery\n",
    "# bq_client = bigquery.Client.from_service_account_json(\"data/arpae-prod-ml-f7820c528250.json\")\n",
    "# sql = f\"SELECT * FROM `{PROJECT_ID}.{JOINED_BQ_DATASET}.{JOINED_DATA_TABLE}`\"\n",
    "# df_dataset = _run_query(bq_client, sql)\n",
    "\n",
    "### From local file\n",
    "df_dataset = pd.read_feather(\"../data/dataset_7D_normalized_2023.feather\")"
   ]
  },
  {
   "cell_type": "code",
   "execution_count": 12,
   "id": "c0815339-98a6-4c7f-b61d-d076a56d5fc0",
   "metadata": {
    "tags": []
   },
   "outputs": [],
   "source": [
    "# Join Cluster label\n",
    "# df_dataset = pd.merge(df_dataset, clusters, on=[\"station_id\", \"pol_var_id\"], how=\"inner\")\n",
    "\n",
    "# Convert dates, sort and set index\n",
    "df_dataset.date = pd.to_datetime(df_dataset.date)\n",
    "df_dataset.sort_values([\"station_id\", \"pol_var_id\", \"date\"], inplace=True)\n",
    "df_dataset.dropna(inplace=True)\n",
    "df_dataset.set_index(\"date\", inplace=True)"
   ]
  },
  {
   "cell_type": "code",
   "execution_count": 13,
   "id": "0fec1865-c1a2-4f2e-9d54-ef4246363318",
   "metadata": {
    "tags": []
   },
   "outputs": [
    {
     "name": "stdout",
     "output_type": "stream",
     "text": [
      "(1178889, 99)\n"
     ]
    },
    {
     "data": {
      "text/html": [
       "<div>\n",
       "<style scoped>\n",
       "    .dataframe tbody tr th:only-of-type {\n",
       "        vertical-align: middle;\n",
       "    }\n",
       "\n",
       "    .dataframe tbody tr th {\n",
       "        vertical-align: top;\n",
       "    }\n",
       "\n",
       "    .dataframe thead th {\n",
       "        text-align: right;\n",
       "    }\n",
       "</style>\n",
       "<table border=\"1\" class=\"dataframe\">\n",
       "  <thead>\n",
       "    <tr style=\"text-align: right;\">\n",
       "      <th></th>\n",
       "      <th>station_id</th>\n",
       "      <th>pol_var_id</th>\n",
       "      <th>B13011_min_amin</th>\n",
       "      <th>B13011_max_amax</th>\n",
       "      <th>B13011_mean_mean</th>\n",
       "      <th>B13011_std_mean</th>\n",
       "      <th>B13011_sum_sum</th>\n",
       "      <th>B14198_min_amin</th>\n",
       "      <th>B14198_max_amax</th>\n",
       "      <th>B14198_mean_mean</th>\n",
       "      <th>...</th>\n",
       "      <th>pol_var_id_B48034</th>\n",
       "      <th>pol_var_id_B48036</th>\n",
       "      <th>pol_var_id_B48037</th>\n",
       "      <th>pol_var_id_B48038</th>\n",
       "      <th>pol_var_id_B48039</th>\n",
       "      <th>pol_var_id_B48041</th>\n",
       "      <th>pol_var_id_B48044</th>\n",
       "      <th>pol_var_id_B48045</th>\n",
       "      <th>WHICH</th>\n",
       "      <th>cluster</th>\n",
       "    </tr>\n",
       "    <tr>\n",
       "      <th>date</th>\n",
       "      <th></th>\n",
       "      <th></th>\n",
       "      <th></th>\n",
       "      <th></th>\n",
       "      <th></th>\n",
       "      <th></th>\n",
       "      <th></th>\n",
       "      <th></th>\n",
       "      <th></th>\n",
       "      <th></th>\n",
       "      <th></th>\n",
       "      <th></th>\n",
       "      <th></th>\n",
       "      <th></th>\n",
       "      <th></th>\n",
       "      <th></th>\n",
       "      <th></th>\n",
       "      <th></th>\n",
       "      <th></th>\n",
       "      <th></th>\n",
       "      <th></th>\n",
       "    </tr>\n",
       "  </thead>\n",
       "  <tbody>\n",
       "    <tr>\n",
       "      <th>2006-09-05 00:00:00+00:00</th>\n",
       "      <td>1</td>\n",
       "      <td>B48001</td>\n",
       "      <td>0.0</td>\n",
       "      <td>0.010309</td>\n",
       "      <td>0.007163</td>\n",
       "      <td>0.010346</td>\n",
       "      <td>5.140287e-03</td>\n",
       "      <td>0.555556</td>\n",
       "      <td>0.707631</td>\n",
       "      <td>0.648377</td>\n",
       "      <td>...</td>\n",
       "      <td>0</td>\n",
       "      <td>0</td>\n",
       "      <td>0</td>\n",
       "      <td>0</td>\n",
       "      <td>0</td>\n",
       "      <td>0</td>\n",
       "      <td>0</td>\n",
       "      <td>0</td>\n",
       "      <td>training</td>\n",
       "      <td>3</td>\n",
       "    </tr>\n",
       "    <tr>\n",
       "      <th>2006-09-06 00:00:00+00:00</th>\n",
       "      <td>1</td>\n",
       "      <td>B48001</td>\n",
       "      <td>0.0</td>\n",
       "      <td>0.010309</td>\n",
       "      <td>0.001791</td>\n",
       "      <td>0.004397</td>\n",
       "      <td>1.285072e-03</td>\n",
       "      <td>0.555556</td>\n",
       "      <td>0.707631</td>\n",
       "      <td>0.644707</td>\n",
       "      <td>...</td>\n",
       "      <td>0</td>\n",
       "      <td>0</td>\n",
       "      <td>0</td>\n",
       "      <td>0</td>\n",
       "      <td>0</td>\n",
       "      <td>0</td>\n",
       "      <td>0</td>\n",
       "      <td>0</td>\n",
       "      <td>training</td>\n",
       "      <td>3</td>\n",
       "    </tr>\n",
       "    <tr>\n",
       "      <th>2006-09-07 00:00:00+00:00</th>\n",
       "      <td>1</td>\n",
       "      <td>B48001</td>\n",
       "      <td>0.0</td>\n",
       "      <td>0.000000</td>\n",
       "      <td>0.000000</td>\n",
       "      <td>0.000000</td>\n",
       "      <td>6.087323e-17</td>\n",
       "      <td>0.555556</td>\n",
       "      <td>0.684836</td>\n",
       "      <td>0.625042</td>\n",
       "      <td>...</td>\n",
       "      <td>0</td>\n",
       "      <td>0</td>\n",
       "      <td>0</td>\n",
       "      <td>0</td>\n",
       "      <td>0</td>\n",
       "      <td>0</td>\n",
       "      <td>0</td>\n",
       "      <td>0</td>\n",
       "      <td>training</td>\n",
       "      <td>3</td>\n",
       "    </tr>\n",
       "    <tr>\n",
       "      <th>2006-09-08 00:00:00+00:00</th>\n",
       "      <td>1</td>\n",
       "      <td>B48001</td>\n",
       "      <td>0.0</td>\n",
       "      <td>0.017182</td>\n",
       "      <td>0.015519</td>\n",
       "      <td>0.011157</td>\n",
       "      <td>1.113729e-02</td>\n",
       "      <td>0.555556</td>\n",
       "      <td>0.677899</td>\n",
       "      <td>0.585648</td>\n",
       "      <td>...</td>\n",
       "      <td>0</td>\n",
       "      <td>0</td>\n",
       "      <td>0</td>\n",
       "      <td>0</td>\n",
       "      <td>0</td>\n",
       "      <td>0</td>\n",
       "      <td>0</td>\n",
       "      <td>0</td>\n",
       "      <td>training</td>\n",
       "      <td>3</td>\n",
       "    </tr>\n",
       "    <tr>\n",
       "      <th>2006-09-09 00:00:00+00:00</th>\n",
       "      <td>1</td>\n",
       "      <td>B48001</td>\n",
       "      <td>0.0</td>\n",
       "      <td>0.044674</td>\n",
       "      <td>0.031038</td>\n",
       "      <td>0.037994</td>\n",
       "      <td>2.227458e-02</td>\n",
       "      <td>0.555556</td>\n",
       "      <td>0.679881</td>\n",
       "      <td>0.582157</td>\n",
       "      <td>...</td>\n",
       "      <td>0</td>\n",
       "      <td>0</td>\n",
       "      <td>0</td>\n",
       "      <td>0</td>\n",
       "      <td>0</td>\n",
       "      <td>0</td>\n",
       "      <td>0</td>\n",
       "      <td>0</td>\n",
       "      <td>training</td>\n",
       "      <td>3</td>\n",
       "    </tr>\n",
       "  </tbody>\n",
       "</table>\n",
       "<p>5 rows × 99 columns</p>\n",
       "</div>"
      ],
      "text/plain": [
       "                           station_id pol_var_id  B13011_min_amin   \n",
       "date                                                                \n",
       "2006-09-05 00:00:00+00:00           1     B48001              0.0  \\\n",
       "2006-09-06 00:00:00+00:00           1     B48001              0.0   \n",
       "2006-09-07 00:00:00+00:00           1     B48001              0.0   \n",
       "2006-09-08 00:00:00+00:00           1     B48001              0.0   \n",
       "2006-09-09 00:00:00+00:00           1     B48001              0.0   \n",
       "\n",
       "                           B13011_max_amax  B13011_mean_mean  B13011_std_mean   \n",
       "date                                                                            \n",
       "2006-09-05 00:00:00+00:00         0.010309          0.007163         0.010346  \\\n",
       "2006-09-06 00:00:00+00:00         0.010309          0.001791         0.004397   \n",
       "2006-09-07 00:00:00+00:00         0.000000          0.000000         0.000000   \n",
       "2006-09-08 00:00:00+00:00         0.017182          0.015519         0.011157   \n",
       "2006-09-09 00:00:00+00:00         0.044674          0.031038         0.037994   \n",
       "\n",
       "                           B13011_sum_sum  B14198_min_amin  B14198_max_amax   \n",
       "date                                                                          \n",
       "2006-09-05 00:00:00+00:00    5.140287e-03         0.555556         0.707631  \\\n",
       "2006-09-06 00:00:00+00:00    1.285072e-03         0.555556         0.707631   \n",
       "2006-09-07 00:00:00+00:00    6.087323e-17         0.555556         0.684836   \n",
       "2006-09-08 00:00:00+00:00    1.113729e-02         0.555556         0.677899   \n",
       "2006-09-09 00:00:00+00:00    2.227458e-02         0.555556         0.679881   \n",
       "\n",
       "                           B14198_mean_mean  ...  pol_var_id_B48034   \n",
       "date                                         ...                      \n",
       "2006-09-05 00:00:00+00:00          0.648377  ...                  0  \\\n",
       "2006-09-06 00:00:00+00:00          0.644707  ...                  0   \n",
       "2006-09-07 00:00:00+00:00          0.625042  ...                  0   \n",
       "2006-09-08 00:00:00+00:00          0.585648  ...                  0   \n",
       "2006-09-09 00:00:00+00:00          0.582157  ...                  0   \n",
       "\n",
       "                           pol_var_id_B48036  pol_var_id_B48037   \n",
       "date                                                              \n",
       "2006-09-05 00:00:00+00:00                  0                  0  \\\n",
       "2006-09-06 00:00:00+00:00                  0                  0   \n",
       "2006-09-07 00:00:00+00:00                  0                  0   \n",
       "2006-09-08 00:00:00+00:00                  0                  0   \n",
       "2006-09-09 00:00:00+00:00                  0                  0   \n",
       "\n",
       "                           pol_var_id_B48038  pol_var_id_B48039   \n",
       "date                                                              \n",
       "2006-09-05 00:00:00+00:00                  0                  0  \\\n",
       "2006-09-06 00:00:00+00:00                  0                  0   \n",
       "2006-09-07 00:00:00+00:00                  0                  0   \n",
       "2006-09-08 00:00:00+00:00                  0                  0   \n",
       "2006-09-09 00:00:00+00:00                  0                  0   \n",
       "\n",
       "                           pol_var_id_B48041  pol_var_id_B48044   \n",
       "date                                                              \n",
       "2006-09-05 00:00:00+00:00                  0                  0  \\\n",
       "2006-09-06 00:00:00+00:00                  0                  0   \n",
       "2006-09-07 00:00:00+00:00                  0                  0   \n",
       "2006-09-08 00:00:00+00:00                  0                  0   \n",
       "2006-09-09 00:00:00+00:00                  0                  0   \n",
       "\n",
       "                           pol_var_id_B48045     WHICH  cluster  \n",
       "date                                                             \n",
       "2006-09-05 00:00:00+00:00                  0  training        3  \n",
       "2006-09-06 00:00:00+00:00                  0  training        3  \n",
       "2006-09-07 00:00:00+00:00                  0  training        3  \n",
       "2006-09-08 00:00:00+00:00                  0  training        3  \n",
       "2006-09-09 00:00:00+00:00                  0  training        3  \n",
       "\n",
       "[5 rows x 99 columns]"
      ]
     },
     "execution_count": 13,
     "metadata": {},
     "output_type": "execute_result"
    }
   ],
   "source": [
    "### Dataset preview\n",
    "print(df_dataset.shape)\n",
    "df_dataset.head(5)"
   ]
  },
  {
   "cell_type": "markdown",
   "id": "28fe168d-d2f1-438a-8cfb-eb8d3d600f1f",
   "metadata": {},
   "source": [
    "___"
   ]
  },
  {
   "cell_type": "markdown",
   "id": "502a56b7-2355-49f4-99c1-b3c3548b64aa",
   "metadata": {
    "tags": []
   },
   "source": [
    "# 2. Define training parameters"
   ]
  },
  {
   "cell_type": "code",
   "execution_count": 14,
   "id": "3d9881c0-2b34-42bf-8acc-4af9dc9e1965",
   "metadata": {
    "tags": []
   },
   "outputs": [
    {
     "name": "stdout",
     "output_type": "stream",
     "text": [
      "Len features: 73\n",
      "y_label: pol_value_label\n"
     ]
    }
   ],
   "source": [
    "all_features = [\n",
    "    # 'station_id', 'pol_var_id', 'pol_value_label',\n",
    "    # 'season_label', 'seasonal_mean', 'seasonal_prev_1',\n",
    "    # 'trend_label', 'trend_mean', 'trend_prev_1',\n",
    "    # 'residual_label', 'residual_mean', 'residual_prev_1',\n",
    "    'week_amax',\n",
    "    'B13011_min_amin', 'B13011_max_amax', 'B13011_mean_mean', 'B13011_std_mean', 'B13011_sum_sum',\n",
    "    'B14198_min_amin', 'B14198_max_amax', 'B14198_mean_mean', 'B14198_std_mean', 'B14198_sum_sum',\n",
    "    #'TEMP_min_amin', 'TEMP_max_amax', 'TEMP_mean_mean', 'TEMP_std_mean', 'TEMP_sum_sum',\n",
    "    'station_lat_amax', 'station_lon_amax', 'station_H_piano_strada_amax', 'station_H_mslm_amax',\n",
    "    #'PREC_amin', 'PREC_mean', 'PREC_std', 'PREC_median', 'PREC_amax', 'PREC_skew', 'PREC_kurtosis',\n",
    "    'pol_value_amin', 'pol_value_mean', 'pol_value_std', 'pol_value_median', 'pol_value_amax', 'pol_value_skew', 'pol_value_kurtosis',\n",
    "    'pol_value_prev_1', 'pol_value_prev_2', 'pol_value_prev_3', 'pol_value_prev_4', 'pol_value_prev_5', 'pol_value_prev_6', 'pol_value_prev_7',\n",
    "    'station_id_1', 'station_id_2', 'station_id_4', 'station_id_5', 'station_id_6', 'station_id_7', 'station_id_8', 'station_id_9', 'station_id_10', 'station_id_11', 'station_id_13',\n",
    "    'pol_var_id_B48001', 'pol_var_id_B48002', 'pol_var_id_B48003', 'pol_var_id_B48005', 'pol_var_id_B48006', 'pol_var_id_B48007', 'pol_var_id_B48008', 'pol_var_id_B48011', 'pol_var_id_B48012', 'pol_var_id_B48013', 'pol_var_id_B48015', 'pol_var_id_B48016', 'pol_var_id_B48017', 'pol_var_id_B48018', 'pol_var_id_B48019', 'pol_var_id_B48021', 'pol_var_id_B48023', 'pol_var_id_B48024', 'pol_var_id_B48025', 'pol_var_id_B48026', 'pol_var_id_B48029', 'pol_var_id_B48030', 'pol_var_id_B48031', 'pol_var_id_B48032', 'pol_var_id_B48033', 'pol_var_id_B48034', 'pol_var_id_B48036', 'pol_var_id_B48037', 'pol_var_id_B48038', 'pol_var_id_B48039', 'pol_var_id_B48041', 'pol_var_id_B48044', 'pol_var_id_B48045'\n",
    "]\n",
    "\n",
    "y_label = \"pol_value_label\"\n",
    "\n",
    "print(f\"Len features: {len(all_features)}\")\n",
    "print(f\"y_label: {y_label}\")"
   ]
  },
  {
   "cell_type": "code",
   "execution_count": 15,
   "id": "e357cd1a-f998-4eb5-a9cb-f528ea5cb66a",
   "metadata": {
    "tags": []
   },
   "outputs": [],
   "source": [
    "def get_dataset(cluster_n, params):\n",
    "    # Create an object to store dataset and results\n",
    "    class dataset: pass\n",
    "    dataset.cluster_n = cluster_n\n",
    "\n",
    "    # Create cluster training/test/validation split\n",
    "    df_feature = df_dataset[df_dataset.cluster == cluster_n].copy()\n",
    "    dataset.x_train = df_feature\n",
    "    dataset.y_train = df_feature[[y_label]]\n",
    "\n",
    "    # dataset.x_valid = df_feature[df_feature.WHICH == \"validation\"]\n",
    "    # dataset.y_valid = df_feature[df_feature.WHICH == \"validation\"][[y_label]]\n",
    "    # dataset.x_test = df_feature[df_feature.WHICH == \"test\"]\n",
    "    # dataset.y_test = df_feature[df_feature.WHICH == \"test\"][[y_label]]\n",
    "    \n",
    "    # Drop all-0 columns (one hot encodings)\n",
    "    to_keep = [c for c in dataset.x_train.columns if dataset.x_train[c].any()]\n",
    "    dataset.features = [feature for feature in all_features if feature in to_keep]\n",
    "\n",
    "    dataset.train_dataset = timeseries_dataset_from_array(dataset.x_train[dataset.features], dataset.y_train, sequence_length=params.sequence_length, batch_size=params.batch_size)\n",
    "    #dataset.valid_dataset = timeseries_dataset_from_array(dataset.x_valid[dataset.features], dataset.y_valid, sequence_length=params.sequence_length, batch_size=params.batch_size)\n",
    "    #dataset.test_dataset = timeseries_dataset_from_array(dataset.x_test[dataset.features], dataset.y_test, sequence_length=params.sequence_length, batch_size=params.batch_size)\n",
    "\n",
    "    return dataset"
   ]
  },
  {
   "cell_type": "markdown",
   "id": "76ac1320-6d4f-4bd1-b061-8456358ce047",
   "metadata": {},
   "source": [
    "___"
   ]
  },
  {
   "cell_type": "markdown",
   "id": "21967fa6-5b4b-47b6-955c-0e81671663ba",
   "metadata": {
    "tags": []
   },
   "source": [
    "# 3. Model structure definition\n",
    "* LSTM + MultiHeadAttention"
   ]
  },
  {
   "cell_type": "code",
   "execution_count": 16,
   "id": "3d2c95a6-2415-4d35-a07e-e1dab5ad9fde",
   "metadata": {
    "tags": []
   },
   "outputs": [],
   "source": [
    "model_arch_name = \"LSTM+MultiHeadAttention+AdamW\"\n",
    "\n",
    "def get_model(params, feature_len):\n",
    "    # Define model inputs\n",
    "    input_layer = tf.keras.layers.Input(shape=(params.sequence_length, feature_len))\n",
    "\n",
    "    # LSTM Layer\n",
    "    lstm_1 = tf.keras.layers.LSTM(units=params.lstm_1_units, dropout=params.dropout, return_sequences=True)(input_layer)\n",
    "    lstm_2 = tf.keras.layers.LSTM(units=params.lstm_2_units, dropout=params.dropout, return_sequences=True)(lstm_1)\n",
    "\n",
    "    ### Multi head attention\n",
    "    attn_layer = tf.keras.layers.MultiHeadAttention(num_heads=8, key_dim=64)(query=lstm_2, value=lstm_2, key=lstm_2)\n",
    "    attn_output = tf.keras.layers.Dense(units=params.dense_1_units)(attn_layer)\n",
    "\n",
    "    # Reshape attention layer\n",
    "    att_reshape = tf.keras.layers.Flatten()(attn_output)\n",
    "\n",
    "    # Dense layer\n",
    "    dense_lst_1 = tf.keras.layers.Dense(units=params.dense_1_units)(att_reshape)\n",
    "    dropout_1 = tf.keras.layers.Dropout(params.dropout)(dense_lst_1)\n",
    "    dense_lst_2 = tf.keras.layers.Dense(units=params.dense_2_units)(dropout_1)\n",
    "\n",
    "    # Output layer\n",
    "    output_layer = tf.keras.layers.Dense(units=1)(dense_lst_2)\n",
    "\n",
    "    # Define model architecture\n",
    "    model = tf.keras.models.Model(inputs=input_layer, outputs=output_layer)\n",
    "\n",
    "    # Optimizer\n",
    "    optimizer = AdamW(learning_rate=params.learning_rate)\n",
    "    model.compile(optimizer=optimizer, loss=\"mse\")\n",
    "    return model"
   ]
  },
  {
   "cell_type": "code",
   "execution_count": 25,
   "id": "de227537-9059-4a31-a717-5184201dd18a",
   "metadata": {
    "tags": []
   },
   "outputs": [],
   "source": [
    "def train_model(dataset, params):\n",
    "    model_name = f\"final_{model_arch_name}_Cluster-{dataset.cluster_n}\"\n",
    "    print(f\"Training model {model_name}\")\n",
    "\n",
    "    # Load model and fit dataset\n",
    "    model = get_model(params=params, feature_len=len(dataset.features))\n",
    "\n",
    "    history = model.fit(\n",
    "        dataset.train_dataset,\n",
    "        epochs=params.n_epochs,\n",
    "        shuffle=params.shuffle,\n",
    "        verbose=0,\n",
    "        callbacks=[\n",
    "            EarlyStopping(monitor=\"val_loss\", patience=params.patience, verbose=1, mode=\"min\", restore_best_weights=True),\n",
    "            ModelCheckpoint(f\"{model_output}/{model_name}.h5\", monitor=\"val_loss\", mode=\"min\", save_best_only=True),\n",
    "            TqdmCallback(verbose=1),\n",
    "        ],\n",
    "    )\n",
    "    \n",
    "    model.save(f\"{model_output}/{model_name}.h5\")\n",
    "\n",
    "    return history, model"
   ]
  },
  {
   "cell_type": "markdown",
   "id": "7aec9599-eb2a-4fd5-bde2-fc467ff61e27",
   "metadata": {},
   "source": [
    "___"
   ]
  },
  {
   "cell_type": "markdown",
   "id": "6b85fbec-1088-4dcc-9ea3-ca6cf58e90f5",
   "metadata": {
    "tags": []
   },
   "source": [
    "# 4. Training"
   ]
  },
  {
   "cell_type": "code",
   "execution_count": 18,
   "id": "26d24b26-887e-4180-8b9d-50fcf62032d0",
   "metadata": {
    "tags": []
   },
   "outputs": [
    {
     "name": "stdout",
     "output_type": "stream",
     "text": [
      "Training on clusters: [0, 1, 2, 3, 4, 5, 6, 7, 8, 9]\n"
     ]
    }
   ],
   "source": [
    "### Choose clusters for training and test\n",
    "all_clusters = sorted(clusters.cluster.unique())\n",
    "\n",
    "# for debugging purpose\n",
    "# all_clusters = random.sample(all_clusters, 1)\n",
    "\n",
    "print(f\"Training on clusters: {all_clusters}\")"
   ]
  },
  {
   "cell_type": "code",
   "execution_count": 19,
   "id": "06872802-ac0d-4b4c-ba08-34207875d123",
   "metadata": {
    "tags": []
   },
   "outputs": [],
   "source": [
    "# Model parameters\n",
    "class model_params:\n",
    "    lstm_1_units = 512\n",
    "    lstm_2_units = 128\n",
    "    dense_1_units = 256\n",
    "    dense_2_units = 256\n",
    "    dropout = .2\n",
    "    learning_rate = 0.001\n",
    "    batch_size = 1024\n",
    "    sequence_length = 7\n",
    "    n_epochs = 100\n",
    "    patience = 10\n",
    "    shuffle = True"
   ]
  },
  {
   "cell_type": "code",
   "execution_count": 26,
   "id": "764da3e9-a7cb-4415-9c31-c90e6535be55",
   "metadata": {
    "tags": []
   },
   "outputs": [
    {
     "data": {
      "application/vnd.jupyter.widget-view+json": {
       "model_id": "2faadf5c7c134fdfbfb441cfbacd0b11",
       "version_major": 2,
       "version_minor": 0
      },
      "text/plain": [
       "  0%|          | 0/10 [00:00<?, ?it/s]"
      ]
     },
     "metadata": {},
     "output_type": "display_data"
    },
    {
     "name": "stdout",
     "output_type": "stream",
     "text": [
      "Training model final_LSTM+MultiHeadAttention+AdamW_Cluster-0\n"
     ]
    },
    {
     "data": {
      "application/vnd.jupyter.widget-view+json": {
       "model_id": "ac6fbe768c2a4cf4ad48fbec36b4ef26",
       "version_major": 2,
       "version_minor": 0
      },
      "text/plain": [
       "0epoch [00:00, ?epoch/s]"
      ]
     },
     "metadata": {},
     "output_type": "display_data"
    },
    {
     "data": {
      "application/vnd.jupyter.widget-view+json": {
       "model_id": "",
       "version_major": 2,
       "version_minor": 0
      },
      "text/plain": [
       "0batch [00:00, ?batch/s]"
      ]
     },
     "metadata": {},
     "output_type": "display_data"
    },
    {
     "name": "stdout",
     "output_type": "stream",
     "text": [
      "Training model final_LSTM+MultiHeadAttention+AdamW_Cluster-1\n"
     ]
    },
    {
     "data": {
      "application/vnd.jupyter.widget-view+json": {
       "model_id": "325f7461673c4539a9dbebc770a50f3f",
       "version_major": 2,
       "version_minor": 0
      },
      "text/plain": [
       "0epoch [00:00, ?epoch/s]"
      ]
     },
     "metadata": {},
     "output_type": "display_data"
    },
    {
     "data": {
      "application/vnd.jupyter.widget-view+json": {
       "model_id": "",
       "version_major": 2,
       "version_minor": 0
      },
      "text/plain": [
       "0batch [00:00, ?batch/s]"
      ]
     },
     "metadata": {},
     "output_type": "display_data"
    },
    {
     "name": "stdout",
     "output_type": "stream",
     "text": [
      "Training model final_LSTM+MultiHeadAttention+AdamW_Cluster-2\n"
     ]
    },
    {
     "data": {
      "application/vnd.jupyter.widget-view+json": {
       "model_id": "c148ec09c61549e499bacbc7b9f85a68",
       "version_major": 2,
       "version_minor": 0
      },
      "text/plain": [
       "0epoch [00:00, ?epoch/s]"
      ]
     },
     "metadata": {},
     "output_type": "display_data"
    },
    {
     "data": {
      "application/vnd.jupyter.widget-view+json": {
       "model_id": "",
       "version_major": 2,
       "version_minor": 0
      },
      "text/plain": [
       "0batch [00:00, ?batch/s]"
      ]
     },
     "metadata": {},
     "output_type": "display_data"
    },
    {
     "name": "stdout",
     "output_type": "stream",
     "text": [
      "Training model final_LSTM+MultiHeadAttention+AdamW_Cluster-3\n"
     ]
    },
    {
     "data": {
      "application/vnd.jupyter.widget-view+json": {
       "model_id": "5615009f06f94941bc4118efdfdc7f3c",
       "version_major": 2,
       "version_minor": 0
      },
      "text/plain": [
       "0epoch [00:00, ?epoch/s]"
      ]
     },
     "metadata": {},
     "output_type": "display_data"
    },
    {
     "data": {
      "application/vnd.jupyter.widget-view+json": {
       "model_id": "",
       "version_major": 2,
       "version_minor": 0
      },
      "text/plain": [
       "0batch [00:00, ?batch/s]"
      ]
     },
     "metadata": {},
     "output_type": "display_data"
    },
    {
     "name": "stdout",
     "output_type": "stream",
     "text": [
      "Training model final_LSTM+MultiHeadAttention+AdamW_Cluster-4\n"
     ]
    },
    {
     "data": {
      "application/vnd.jupyter.widget-view+json": {
       "model_id": "13c7cfcd1c68427bb62e5ef2d8e15214",
       "version_major": 2,
       "version_minor": 0
      },
      "text/plain": [
       "0epoch [00:00, ?epoch/s]"
      ]
     },
     "metadata": {},
     "output_type": "display_data"
    },
    {
     "data": {
      "application/vnd.jupyter.widget-view+json": {
       "model_id": "",
       "version_major": 2,
       "version_minor": 0
      },
      "text/plain": [
       "0batch [00:00, ?batch/s]"
      ]
     },
     "metadata": {},
     "output_type": "display_data"
    },
    {
     "name": "stdout",
     "output_type": "stream",
     "text": [
      "Training model final_LSTM+MultiHeadAttention+AdamW_Cluster-5\n"
     ]
    },
    {
     "data": {
      "application/vnd.jupyter.widget-view+json": {
       "model_id": "76dcf2cf5848422b9bab0afba6e74c00",
       "version_major": 2,
       "version_minor": 0
      },
      "text/plain": [
       "0epoch [00:00, ?epoch/s]"
      ]
     },
     "metadata": {},
     "output_type": "display_data"
    },
    {
     "data": {
      "application/vnd.jupyter.widget-view+json": {
       "model_id": "",
       "version_major": 2,
       "version_minor": 0
      },
      "text/plain": [
       "0batch [00:00, ?batch/s]"
      ]
     },
     "metadata": {},
     "output_type": "display_data"
    },
    {
     "name": "stdout",
     "output_type": "stream",
     "text": [
      "Training model final_LSTM+MultiHeadAttention+AdamW_Cluster-6\n"
     ]
    },
    {
     "data": {
      "application/vnd.jupyter.widget-view+json": {
       "model_id": "a78d00dfff8e4f4e98a38f65c7068f9a",
       "version_major": 2,
       "version_minor": 0
      },
      "text/plain": [
       "0epoch [00:00, ?epoch/s]"
      ]
     },
     "metadata": {},
     "output_type": "display_data"
    },
    {
     "data": {
      "application/vnd.jupyter.widget-view+json": {
       "model_id": "",
       "version_major": 2,
       "version_minor": 0
      },
      "text/plain": [
       "0batch [00:00, ?batch/s]"
      ]
     },
     "metadata": {},
     "output_type": "display_data"
    },
    {
     "name": "stdout",
     "output_type": "stream",
     "text": [
      "Training model final_LSTM+MultiHeadAttention+AdamW_Cluster-7\n"
     ]
    },
    {
     "data": {
      "application/vnd.jupyter.widget-view+json": {
       "model_id": "b4382f2a8c64417f88681df1d69408b0",
       "version_major": 2,
       "version_minor": 0
      },
      "text/plain": [
       "0epoch [00:00, ?epoch/s]"
      ]
     },
     "metadata": {},
     "output_type": "display_data"
    },
    {
     "data": {
      "application/vnd.jupyter.widget-view+json": {
       "model_id": "",
       "version_major": 2,
       "version_minor": 0
      },
      "text/plain": [
       "0batch [00:00, ?batch/s]"
      ]
     },
     "metadata": {},
     "output_type": "display_data"
    },
    {
     "name": "stdout",
     "output_type": "stream",
     "text": [
      "Training model final_LSTM+MultiHeadAttention+AdamW_Cluster-8\n"
     ]
    },
    {
     "data": {
      "application/vnd.jupyter.widget-view+json": {
       "model_id": "2b784deac8fd40bb8935bcd1df68e8d7",
       "version_major": 2,
       "version_minor": 0
      },
      "text/plain": [
       "0epoch [00:00, ?epoch/s]"
      ]
     },
     "metadata": {},
     "output_type": "display_data"
    },
    {
     "data": {
      "application/vnd.jupyter.widget-view+json": {
       "model_id": "",
       "version_major": 2,
       "version_minor": 0
      },
      "text/plain": [
       "0batch [00:00, ?batch/s]"
      ]
     },
     "metadata": {},
     "output_type": "display_data"
    },
    {
     "name": "stdout",
     "output_type": "stream",
     "text": [
      "Training model final_LSTM+MultiHeadAttention+AdamW_Cluster-9\n"
     ]
    },
    {
     "data": {
      "application/vnd.jupyter.widget-view+json": {
       "model_id": "ab3713b42d284c0e93bf9093bffd60c9",
       "version_major": 2,
       "version_minor": 0
      },
      "text/plain": [
       "0epoch [00:00, ?epoch/s]"
      ]
     },
     "metadata": {},
     "output_type": "display_data"
    },
    {
     "data": {
      "application/vnd.jupyter.widget-view+json": {
       "model_id": "",
       "version_major": 2,
       "version_minor": 0
      },
      "text/plain": [
       "0batch [00:00, ?batch/s]"
      ]
     },
     "metadata": {},
     "output_type": "display_data"
    }
   ],
   "source": [
    "trainings = []\n",
    "for cluster_n in tqdm(all_clusters):\n",
    "    # Setup comet experiment\n",
    "    experiment = Experiment(\n",
    "        api_key=COMET_API_KEY,\n",
    "        project_name=project_name,\n",
    "        workspace=comet_ml_workspace,\n",
    "    )\n",
    "    \n",
    "    experiment_name = f\"{model_arch_name}_Cluster-{cluster_n}\"\n",
    "    experiment.set_name(experiment_name)\n",
    "    \n",
    "    # Load dataset\n",
    "    dataset = get_dataset(cluster_n=cluster_n, params=model_params)\n",
    "\n",
    "    # Fit model on dataset, store results\n",
    "    dataset.history, dataset.model = train_model(dataset, model_params)\n",
    "    trainings.append(dataset)\n",
    "    \n",
    "    experiment.end()"
   ]
  },
  {
   "cell_type": "markdown",
   "id": "75462fe8-0058-42db-82e6-9334a74a78a2",
   "metadata": {
    "tags": []
   },
   "source": [
    "## 4.1 Loss training history"
   ]
  },
  {
   "cell_type": "code",
   "execution_count": 29,
   "id": "422c9389-ca39-484a-b897-c7d4f939b78e",
   "metadata": {
    "tags": []
   },
   "outputs": [
    {
     "data": {
      "image/png": "[encoded data removed]",
      "text/plain": [
       "<Figure size 1200x1200 with 10 Axes>"
      ]
     },
     "metadata": {},
     "output_type": "display_data"
    }
   ],
   "source": [
    "rows, cols = 5, 3\n",
    "fig, axs = plt.subplots(rows, cols, figsize=(12, 12), squeeze=False)\n",
    "plt.suptitle(model_arch_name)\n",
    "for subpltn, dataset in enumerate(trainings):\n",
    "    ax = axs[divmod(subpltn, cols)]\n",
    "    ax.set_title(f\"Cluster {dataset.cluster_n} - Loss\")\n",
    "    ax.plot(dataset.history.history[\"loss\"])\n",
    "    ax.set_ylabel(\"MSE\")\n",
    "    ax.set_xlabel(\"Epoch\")\n",
    "    ax.legend([\"loss\"], loc=\"upper right\")\n",
    "    ax.grid(alpha=0.4)\n",
    "for subpltn in range(subpltn + 1, rows * cols):\n",
    "    fig.delaxes(axs.flatten()[subpltn])  # removing empty plots from subplot grid\n",
    "plt.tight_layout()\n",
    "plt.show();"
   ]
  },
  {
   "cell_type": "code",
   "execution_count": null,
   "id": "26496756-8230-4b1e-b04d-7d868d5050c7",
   "metadata": {},
   "outputs": [],
   "source": []
  },
  {
   "cell_type": "code",
   "execution_count": null,
   "id": "343dd3b7-1d28-4312-b8f7-e52f63c8704f",
   "metadata": {},
   "outputs": [],
   "source": []
  },
  {
   "cell_type": "code",
   "execution_count": null,
   "id": "d0c34869-c1d2-4da2-a3ba-f4658b8a7d8b",
   "metadata": {},
   "outputs": [],
   "source": []
  }
 ],
 "metadata": {
  "kernelspec": {
   "display_name": "Python 3 (ipykernel)",
   "language": "python",
   "name": "python3"
  },
  "language_info": {
   "codemirror_mode": {
    "name": "ipython",
    "version": 3
   },
   "file_extension": ".py",
   "mimetype": "text/x-python",
   "name": "python",
   "nbconvert_exporter": "python",
   "pygments_lexer": "ipython3",
   "version": "3.8.10"
  }
 },
 "nbformat": 4,
 "nbformat_minor": 5
}
