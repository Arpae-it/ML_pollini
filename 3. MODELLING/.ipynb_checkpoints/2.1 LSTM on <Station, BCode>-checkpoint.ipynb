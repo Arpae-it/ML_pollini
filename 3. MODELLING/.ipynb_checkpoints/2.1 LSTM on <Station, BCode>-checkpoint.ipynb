{
 "cells": [
  {
   "cell_type": "markdown",
   "id": "27e9f867",
   "metadata": {},
   "source": [
    "# LSTM on <Station, BCode>\n",
    "Notebook to perform some model on a single <station, bcode> data.<br>\n",
    "Data read are from table ALL_METEO_FEATS_WEEK_SLIDING_POL_DAT that contains a sliding windows of:\n",
    "- feats about last 7-days meteo values\n",
    "- pollen value for the next day\n",
    "\n",
    "We simply <b>choose a <station, bcode></b> to create dataset.<br>\n",
    "Starting from past data, we can apply a <b>RNN Model</b> to forecast the next week or day."
   ]
  },
  {
   "cell_type": "markdown",
   "id": "a96a293a",
   "metadata": {},
   "source": [
    "<h3>Import</h3>"
   ]
  },
  {
   "cell_type": "code",
   "execution_count": 29,
   "id": "80880ce5",
   "metadata": {},
   "outputs": [
    {
     "data": {
      "text/html": [
       "        <script type=\"text/javascript\">\n",
       "        window.PlotlyConfig = {MathJaxConfig: 'local'};\n",
       "        if (window.MathJax && window.MathJax.Hub && window.MathJax.Hub.Config) {window.MathJax.Hub.Config({SVG: {font: \"STIX-Web\"}});}\n",
       "        if (typeof require !== 'undefined') {\n",
       "        require.undef(\"plotly\");\n",
       "        requirejs.config({\n",
       "            paths: {\n",
       "                'plotly': ['https://cdn.plot.ly/plotly-2.18.0.min']\n",
       "            }\n",
       "        });\n",
       "        require(['plotly'], function(Plotly) {\n",
       "            window._Plotly = Plotly;\n",
       "        });\n",
       "        }\n",
       "        </script>\n",
       "        "
      ]
     },
     "metadata": {},
     "output_type": "display_data"
    }
   ],
   "source": [
    "from tqdm.auto import tqdm\n",
    "import json\n",
    "import math\n",
    "import pandas as pd\n",
    "import numpy as np\n",
    "import datetime\n",
    "from datetime import timedelta\n",
    "from google.cloud import bigquery\n",
    "\n",
    "import seaborn as sns\n",
    "from collections import Counter\n",
    "import matplotlib.cm as cm\n",
    "from sklearn.cluster import KMeans\n",
    "from sklearn.cluster import DBSCAN\n",
    "from sklearn.decomposition import PCA\n",
    "from sklearn.metrics import silhouette_samples, silhouette_score\n",
    "from sklearn.preprocessing import MinMaxScaler\n",
    "\n",
    "import matplotlib.pyplot as plt\n",
    "from matplotlib.pyplot import get_cmap\n",
    "from matplotlib import cm\n",
    "import plotly.graph_objects as go\n",
    "from plotly.subplots import make_subplots\n",
    "import plotly.express as px\n",
    "import ipywidgets as widgets\n",
    "import scipy.stats\n",
    "from sklearn.model_selection import train_test_split\n",
    "from sklearn.linear_model import LinearRegression\n",
    "from sklearn.metrics import precision_recall_fscore_support\n",
    "from sklearn.metrics import mean_squared_error\n",
    "from plotly.offline import init_notebook_mode, iplot\n",
    "\n",
    "import tensorflow as tf\n",
    "from keras.models import Sequential\n",
    "from tensorflow.keras.layers import Input, Dense, Dropout, LSTM, Embedding, Dense, Concatenate, TimeDistributed\n",
    "from tensorflow.keras.callbacks import EarlyStopping, ModelCheckpoint\n",
    "\n",
    "import warnings\n",
    "warnings.filterwarnings('ignore')\n",
    "\n",
    "my_cmap = plt.get_cmap(\"Paired\")\n",
    "init_notebook_mode(connected=True)  \n",
    "tqdm.pandas()"
   ]
  },
  {
   "cell_type": "markdown",
   "id": "8a7c4047",
   "metadata": {},
   "source": [
    "<h3>Config</h3>"
   ]
  },
  {
   "cell_type": "code",
   "execution_count": 41,
   "id": "7031950c",
   "metadata": {},
   "outputs": [],
   "source": [
    "# Config\n",
    "\n",
    "PROJECT_ID = 'arpae-prod-ml'\n",
    "\n",
    "# BigQuery\n",
    "BQ_DATASET = 'SAMPLE_DATA'\n",
    "JOINED_BQ_DATASET = 'JOINED_DATA'\n",
    "\n",
    "# Const\n",
    "COMMON_PERIOD_INIT = '2011-01-01'\n",
    "COMMON_PERIOD_END = '2021-12-31' \n",
    "#COMMON_PERIOD_YEAR = '2021'\n",
    "\n",
    "# Feats\n",
    "METEO_FEATS = ['min', 'max', 'mean', 'std']\n",
    "METEO_VARS = ['B13011', 'B14198', 'PREC', 'TEMP']\n",
    "DATE_COL = 'date'\n",
    "FEATS = ['week', 'year', 'station_H_piano_strada', 'station_H_mslm', 'arkimet_lat', 'arkimet_lon',\n",
    "         'B13011_min', 'B13011_max', 'B13011_mean', 'B13011_std', 'B13011_sum',\n",
    "         'B14198_min', 'B14198_max', 'B14198_mean', 'B14198_std', 'B14198_sum',\n",
    "         'TEMP_min', 'TEMP_max', 'TEMP_mean', 'TEMP_std', 'TEMP_sum', \n",
    "         'PREC_min', 'PREC_max', 'PREC_mean', 'PREC_std', 'PREC_sum', \n",
    "         'POL_min', 'POL_max', 'POL_mean', 'POL_std', 'POL_sum']\n",
    "         #'prev_pol_value']\n",
    "LABEL_COL = 'pol_value' \n",
    "\n",
    "K_INTERVAL = 5\n",
    "BATCH_SIZE = 128\n",
    "SEQUENCE_LEN = 7\n",
    "N_FEATS = 31\n",
    "\n",
    "# Layout\n",
    "COLOR_PALETTE = px.colors.qualitative.Prism\n",
    "\n",
    "OUTPUT_CLUSTER_FILENAME = \"../data/clustering_intervals.csv\""
   ]
  },
  {
   "cell_type": "markdown",
   "id": "0b40c5c9",
   "metadata": {},
   "source": [
    "<h3>Methods</h3>"
   ]
  },
  {
   "cell_type": "code",
   "execution_count": 3,
   "id": "ccb72ca3",
   "metadata": {},
   "outputs": [],
   "source": [
    "# Read Methods\n",
    "\n",
    "def _run_query(client, query): \n",
    "    df = client.query(query).to_dataframe()\n",
    "    return df\n",
    "\n",
    "def _read_table(client, project_id, dataset, table):\n",
    "    query = \"SELECT * FROM `{}.{}.{}` \".format(project_id, dataset, table)\n",
    "    df = _run_query(client, query)\n",
    "    return df\n",
    "\n",
    "def _read_table_delta(client, project_id, dataset, table, date_col, init, end):\n",
    "    query = \"SELECT * FROM `{}.{}.{}` WHERE {} > '{}' AND {} < '{}' \".format(project_id, dataset, table, date_col, init, date_col, end)\n",
    "    df = _run_query(client, query)\n",
    "    if 'reftime' in df.columns:\n",
    "        df.sort_values(by='reftime', inplace=True)\n",
    "    elif date_col in df.columns:\n",
    "        df.sort_values(by=date_col, inplace=True)\n",
    "    else:\n",
    "        return None\n",
    "    return df\n"
   ]
  },
  {
   "cell_type": "code",
   "execution_count": 4,
   "id": "36411aab",
   "metadata": {},
   "outputs": [],
   "source": [
    "# Process Methods\n",
    "\n",
    "def _shift_week(x, week):\n",
    "    date = x - timedelta(days=7*week)\n",
    "    return date.strftime(\"%Y-%m-%d\")\n",
    "\n",
    "def _set_range_value(x, intervals):    \n",
    "    for i, interval in enumerate(intervals):\n",
    "        if x <= interval:\n",
    "            return np.float32(i)\n",
    "    return None\n",
    "\n",
    "def _create_scaling_widget():\n",
    "    wdgt = widgets.Dropdown(options=['min-max-linear', 'interval'], \n",
    "                            description='Select Feats:', layout={\"width\":\"50%\"})\n",
    "    return wdgt\n",
    "\n",
    "def _create_station_polvarid_widget(stations, bcodes):\n",
    "    station_wdgt = widgets.Dropdown(options=stations, description='Station_id:', layout={\"width\":\"50%\"})\n",
    "    polvarid_wdgt = widgets.Dropdown(options=bcodes, description='Pol_var_id:', layout={\"width\":\"50%\"})\n",
    "    return station_wdgt, polvarid_wdgt"
   ]
  },
  {
   "cell_type": "code",
   "execution_count": null,
   "id": "37550651",
   "metadata": {},
   "outputs": [],
   "source": []
  },
  {
   "cell_type": "markdown",
   "id": "a3b476b0",
   "metadata": {},
   "source": [
    "<h3>1. Config</h3>"
   ]
  },
  {
   "cell_type": "markdown",
   "id": "8487293b",
   "metadata": {},
   "source": [
    "<h4>1.1 Config BigQuery</h4>"
   ]
  },
  {
   "cell_type": "code",
   "execution_count": 5,
   "id": "d526cc1b",
   "metadata": {},
   "outputs": [
    {
     "data": {
      "text/plain": [
       "<google.cloud.bigquery.client.Client at 0x105a23220>"
      ]
     },
     "execution_count": 5,
     "metadata": {},
     "output_type": "execute_result"
    }
   ],
   "source": [
    "# Setup Client\n",
    "\n",
    "bq_client = bigquery.Client(project=PROJECT_ID)\n",
    "bq_client"
   ]
  },
  {
   "cell_type": "code",
   "execution_count": null,
   "id": "6e5ae261",
   "metadata": {},
   "outputs": [],
   "source": []
  },
  {
   "cell_type": "markdown",
   "id": "3e6b9aa3",
   "metadata": {},
   "source": [
    "<h3>2. Read Data</h3>"
   ]
  },
  {
   "cell_type": "markdown",
   "id": "7b74ed53",
   "metadata": {},
   "source": [
    "<h4>2.1 Read Tables</h4>"
   ]
  },
  {
   "cell_type": "markdown",
   "id": "e1d44bb4",
   "metadata": {},
   "source": [
    "<b>ALL_METEO_FEATS_WEEK_SLIDING_POL_DAT</b> joins meteo features of last 7-days with the next-day pollen value."
   ]
  },
  {
   "cell_type": "code",
   "execution_count": 6,
   "id": "b6e59922",
   "metadata": {},
   "outputs": [
    {
     "name": "stdout",
     "output_type": "stream",
     "text": [
      "(919479, 47)\n"
     ]
    },
    {
     "data": {
      "text/html": [
       "<div>\n",
       "<style scoped>\n",
       "    .dataframe tbody tr th:only-of-type {\n",
       "        vertical-align: middle;\n",
       "    }\n",
       "\n",
       "    .dataframe tbody tr th {\n",
       "        vertical-align: top;\n",
       "    }\n",
       "\n",
       "    .dataframe thead th {\n",
       "        text-align: right;\n",
       "    }\n",
       "</style>\n",
       "<table border=\"1\" class=\"dataframe\">\n",
       "  <thead>\n",
       "    <tr style=\"text-align: right;\">\n",
       "      <th></th>\n",
       "      <th>station_id</th>\n",
       "      <th>pol_var_date</th>\n",
       "      <th>id_gepo</th>\n",
       "      <th>station_lat</th>\n",
       "      <th>station_lon</th>\n",
       "      <th>station_nome</th>\n",
       "      <th>station_H_piano_strada</th>\n",
       "      <th>station_H_mslm</th>\n",
       "      <th>arkimet_id</th>\n",
       "      <th>arkimet_lat</th>\n",
       "      <th>...</th>\n",
       "      <th>pol_value</th>\n",
       "      <th>modified</th>\n",
       "      <th>pol_var_descr</th>\n",
       "      <th>week</th>\n",
       "      <th>year</th>\n",
       "      <th>POL_max</th>\n",
       "      <th>POL_min</th>\n",
       "      <th>POL_mean</th>\n",
       "      <th>POL_std</th>\n",
       "      <th>POL_sum</th>\n",
       "    </tr>\n",
       "  </thead>\n",
       "  <tbody>\n",
       "    <tr>\n",
       "      <th>0</th>\n",
       "      <td>1</td>\n",
       "      <td>2011-01-10</td>\n",
       "      <td>4181</td>\n",
       "      <td>44.4914</td>\n",
       "      <td>11.3694</td>\n",
       "      <td>Bologna</td>\n",
       "      <td>80.0</td>\n",
       "      <td>101.0</td>\n",
       "      <td>Bologna urbana</td>\n",
       "      <td>44.5008</td>\n",
       "      <td>...</td>\n",
       "      <td>0.43</td>\n",
       "      <td>1</td>\n",
       "      <td>Betulacee_Ontano nero, POLLEN/M**3</td>\n",
       "      <td>2</td>\n",
       "      <td>2011</td>\n",
       "      <td>0.43</td>\n",
       "      <td>0.0</td>\n",
       "      <td>0.05375</td>\n",
       "      <td>0.152028</td>\n",
       "      <td>0.43</td>\n",
       "    </tr>\n",
       "    <tr>\n",
       "      <th>49089</th>\n",
       "      <td>9</td>\n",
       "      <td>2011-01-10</td>\n",
       "      <td>4185</td>\n",
       "      <td>44.4108</td>\n",
       "      <td>12.1908</td>\n",
       "      <td>Ravenna</td>\n",
       "      <td>2.0</td>\n",
       "      <td>23.0</td>\n",
       "      <td>Ravenna urbana</td>\n",
       "      <td>44.4150</td>\n",
       "      <td>...</td>\n",
       "      <td>0.00</td>\n",
       "      <td>1</td>\n",
       "      <td>Salicacee_Salice comune, POLLEN/M**3</td>\n",
       "      <td>2</td>\n",
       "      <td>2011</td>\n",
       "      <td>0.00</td>\n",
       "      <td>0.0</td>\n",
       "      <td>0.00000</td>\n",
       "      <td>0.000000</td>\n",
       "      <td>0.00</td>\n",
       "    </tr>\n",
       "    <tr>\n",
       "      <th>853767</th>\n",
       "      <td>6</td>\n",
       "      <td>2011-01-10</td>\n",
       "      <td>4179</td>\n",
       "      <td>44.6506</td>\n",
       "      <td>10.9260</td>\n",
       "      <td>Modena</td>\n",
       "      <td>28.0</td>\n",
       "      <td>49.0</td>\n",
       "      <td>Modena urbana</td>\n",
       "      <td>44.6564</td>\n",
       "      <td>...</td>\n",
       "      <td>0.00</td>\n",
       "      <td>1</td>\n",
       "      <td>Salicacee_Salice comune, POLLEN/M**3</td>\n",
       "      <td>2</td>\n",
       "      <td>2011</td>\n",
       "      <td>0.00</td>\n",
       "      <td>0.0</td>\n",
       "      <td>0.00000</td>\n",
       "      <td>0.000000</td>\n",
       "      <td>0.00</td>\n",
       "    </tr>\n",
       "  </tbody>\n",
       "</table>\n",
       "<p>3 rows × 47 columns</p>\n",
       "</div>"
      ],
      "text/plain": [
       "        station_id pol_var_date  id_gepo  station_lat  station_lon  \\\n",
       "0                1   2011-01-10     4181      44.4914      11.3694   \n",
       "49089            9   2011-01-10     4185      44.4108      12.1908   \n",
       "853767           6   2011-01-10     4179      44.6506      10.9260   \n",
       "\n",
       "       station_nome  station_H_piano_strada  station_H_mslm      arkimet_id  \\\n",
       "0           Bologna                    80.0           101.0  Bologna urbana   \n",
       "49089       Ravenna                     2.0            23.0  Ravenna urbana   \n",
       "853767       Modena                    28.0            49.0   Modena urbana   \n",
       "\n",
       "        arkimet_lat  ...  pol_value modified  \\\n",
       "0           44.5008  ...       0.43        1   \n",
       "49089       44.4150  ...       0.00        1   \n",
       "853767      44.6564  ...       0.00        1   \n",
       "\n",
       "                               pol_var_descr week  year  POL_max  POL_min  \\\n",
       "0         Betulacee_Ontano nero, POLLEN/M**3    2  2011     0.43      0.0   \n",
       "49089   Salicacee_Salice comune, POLLEN/M**3    2  2011     0.00      0.0   \n",
       "853767  Salicacee_Salice comune, POLLEN/M**3    2  2011     0.00      0.0   \n",
       "\n",
       "        POL_mean   POL_std  POL_sum  \n",
       "0        0.05375  0.152028     0.43  \n",
       "49089    0.00000  0.000000     0.00  \n",
       "853767   0.00000  0.000000     0.00  \n",
       "\n",
       "[3 rows x 47 columns]"
      ]
     },
     "execution_count": 6,
     "metadata": {},
     "output_type": "execute_result"
    }
   ],
   "source": [
    "# Read ALL_METEO_FEATS_POL_DAT\n",
    "\n",
    "all_meteo_week_feats_sliding_pol_dat_df = _read_table_delta(bq_client, PROJECT_ID, JOINED_BQ_DATASET, \n",
    "                                                            \"ALL_METEO_FEATS_WEEK_SLIDING_POL_DAT\", \"init_date\",\n",
    "                                                            COMMON_PERIOD_INIT, COMMON_PERIOD_END)\n",
    "for date_col in ['init_date', 'end_date', 'pol_var_date']:\n",
    "    all_meteo_week_feats_sliding_pol_dat_df[date_col] = all_meteo_week_feats_sliding_pol_dat_df[date_col].astype(\"str\")\n",
    "print(all_meteo_week_feats_sliding_pol_dat_df.shape)\n",
    "all_meteo_week_feats_sliding_pol_dat_df.head(3)\n"
   ]
  },
  {
   "cell_type": "code",
   "execution_count": null,
   "id": "9c87666c",
   "metadata": {},
   "outputs": [],
   "source": []
  },
  {
   "cell_type": "markdown",
   "id": "0a11067d",
   "metadata": {},
   "source": [
    "<h3>3. Prepare Data</h3>"
   ]
  },
  {
   "cell_type": "code",
   "execution_count": 7,
   "id": "782ff849",
   "metadata": {},
   "outputs": [],
   "source": [
    "# FEATS = ['prev_POL_sum']"
   ]
  },
  {
   "cell_type": "markdown",
   "id": "5ca7d98a",
   "metadata": {},
   "source": [
    "##### magari usiamo pol_date tipo"
   ]
  },
  {
   "cell_type": "markdown",
   "id": "fc1ae6e8",
   "metadata": {},
   "source": [
    "<h4>3.1 Prepare Data</h4>"
   ]
  },
  {
   "cell_type": "code",
   "execution_count": 8,
   "id": "e40ed877",
   "metadata": {},
   "outputs": [],
   "source": [
    "# Set data\n",
    "\n",
    "data_df = all_meteo_week_feats_sliding_pol_dat_df.copy()"
   ]
  },
  {
   "cell_type": "code",
   "execution_count": 9,
   "id": "610f53a0",
   "metadata": {},
   "outputs": [
    {
     "data": {
      "application/vnd.jupyter.widget-view+json": {
       "model_id": "0d1ee9df733f458d99927c66e5a73e8c",
       "version_major": 2,
       "version_minor": 0
      },
      "text/plain": [
       "Dropdown(description='Station_id:', layout=Layout(width='50%'), options=(1, 2, 4, 5, 6, 7, 8, 9, 10, 11, 13), …"
      ]
     },
     "metadata": {},
     "output_type": "display_data"
    },
    {
     "data": {
      "application/vnd.jupyter.widget-view+json": {
       "model_id": "48a185cf88a44902a0238edb72952e17",
       "version_major": 2,
       "version_minor": 0
      },
      "text/plain": [
       "Dropdown(description='Pol_var_id:', layout=Layout(width='50%'), options=('B48001', 'B48002', 'B48003', 'B48005…"
      ]
     },
     "metadata": {},
     "output_type": "display_data"
    }
   ],
   "source": [
    "# Select a single cluster (eg: Station_id=7, Pol_var_id=B48039)\n",
    "\n",
    "stations = sorted(data_df.station_id.unique())\n",
    "polvarids = sorted(data_df.pol_var_id.unique())\n",
    "station_wdgt, polvarid_wdgt = _create_station_polvarid_widget(stations, polvarids)\n",
    "display(station_wdgt, polvarid_wdgt)"
   ]
  },
  {
   "cell_type": "code",
   "execution_count": 10,
   "id": "f9a21c0f",
   "metadata": {},
   "outputs": [
    {
     "name": "stdout",
     "output_type": "stream",
     "text": [
      "(2679, 47)\n"
     ]
    },
    {
     "data": {
      "text/html": [
       "<div>\n",
       "<style scoped>\n",
       "    .dataframe tbody tr th:only-of-type {\n",
       "        vertical-align: middle;\n",
       "    }\n",
       "\n",
       "    .dataframe tbody tr th {\n",
       "        vertical-align: top;\n",
       "    }\n",
       "\n",
       "    .dataframe thead th {\n",
       "        text-align: right;\n",
       "    }\n",
       "</style>\n",
       "<table border=\"1\" class=\"dataframe\">\n",
       "  <thead>\n",
       "    <tr style=\"text-align: right;\">\n",
       "      <th></th>\n",
       "      <th>station_id</th>\n",
       "      <th>pol_var_date</th>\n",
       "      <th>id_gepo</th>\n",
       "      <th>station_lat</th>\n",
       "      <th>station_lon</th>\n",
       "      <th>station_nome</th>\n",
       "      <th>station_H_piano_strada</th>\n",
       "      <th>station_H_mslm</th>\n",
       "      <th>arkimet_id</th>\n",
       "      <th>arkimet_lat</th>\n",
       "      <th>...</th>\n",
       "      <th>pol_value</th>\n",
       "      <th>modified</th>\n",
       "      <th>pol_var_descr</th>\n",
       "      <th>week</th>\n",
       "      <th>year</th>\n",
       "      <th>POL_max</th>\n",
       "      <th>POL_min</th>\n",
       "      <th>POL_mean</th>\n",
       "      <th>POL_std</th>\n",
       "      <th>POL_sum</th>\n",
       "    </tr>\n",
       "  </thead>\n",
       "  <tbody>\n",
       "    <tr>\n",
       "      <th>664352</th>\n",
       "      <td>7</td>\n",
       "      <td>2011-04-01</td>\n",
       "      <td>4177</td>\n",
       "      <td>44.8092</td>\n",
       "      <td>10.3267</td>\n",
       "      <td>Parma</td>\n",
       "      <td>50.0</td>\n",
       "      <td>71.0</td>\n",
       "      <td>Parma urbana</td>\n",
       "      <td>44.808</td>\n",
       "      <td>...</td>\n",
       "      <td>18.55</td>\n",
       "      <td>1</td>\n",
       "      <td>Spore fungine_Alternaria, POLLEN/M**3</td>\n",
       "      <td>13</td>\n",
       "      <td>2011</td>\n",
       "      <td>18.55</td>\n",
       "      <td>18.55</td>\n",
       "      <td>18.550000</td>\n",
       "      <td>NaN</td>\n",
       "      <td>18.55</td>\n",
       "    </tr>\n",
       "    <tr>\n",
       "      <th>664353</th>\n",
       "      <td>7</td>\n",
       "      <td>2011-04-02</td>\n",
       "      <td>4177</td>\n",
       "      <td>44.8092</td>\n",
       "      <td>10.3267</td>\n",
       "      <td>Parma</td>\n",
       "      <td>50.0</td>\n",
       "      <td>71.0</td>\n",
       "      <td>Parma urbana</td>\n",
       "      <td>44.808</td>\n",
       "      <td>...</td>\n",
       "      <td>12.72</td>\n",
       "      <td>1</td>\n",
       "      <td>Spore fungine_Alternaria, POLLEN/M**3</td>\n",
       "      <td>13</td>\n",
       "      <td>2011</td>\n",
       "      <td>18.55</td>\n",
       "      <td>12.72</td>\n",
       "      <td>15.635000</td>\n",
       "      <td>4.122433</td>\n",
       "      <td>31.27</td>\n",
       "    </tr>\n",
       "    <tr>\n",
       "      <th>664354</th>\n",
       "      <td>7</td>\n",
       "      <td>2011-04-03</td>\n",
       "      <td>4177</td>\n",
       "      <td>44.8092</td>\n",
       "      <td>10.3267</td>\n",
       "      <td>Parma</td>\n",
       "      <td>50.0</td>\n",
       "      <td>71.0</td>\n",
       "      <td>Parma urbana</td>\n",
       "      <td>44.808</td>\n",
       "      <td>...</td>\n",
       "      <td>14.31</td>\n",
       "      <td>1</td>\n",
       "      <td>Spore fungine_Alternaria, POLLEN/M**3</td>\n",
       "      <td>14</td>\n",
       "      <td>2011</td>\n",
       "      <td>18.55</td>\n",
       "      <td>12.72</td>\n",
       "      <td>15.193333</td>\n",
       "      <td>3.013708</td>\n",
       "      <td>45.58</td>\n",
       "    </tr>\n",
       "  </tbody>\n",
       "</table>\n",
       "<p>3 rows × 47 columns</p>\n",
       "</div>"
      ],
      "text/plain": [
       "        station_id pol_var_date  id_gepo  station_lat  station_lon  \\\n",
       "664352           7   2011-04-01     4177      44.8092      10.3267   \n",
       "664353           7   2011-04-02     4177      44.8092      10.3267   \n",
       "664354           7   2011-04-03     4177      44.8092      10.3267   \n",
       "\n",
       "       station_nome  station_H_piano_strada  station_H_mslm    arkimet_id  \\\n",
       "664352        Parma                    50.0            71.0  Parma urbana   \n",
       "664353        Parma                    50.0            71.0  Parma urbana   \n",
       "664354        Parma                    50.0            71.0  Parma urbana   \n",
       "\n",
       "        arkimet_lat  ...  pol_value modified  \\\n",
       "664352       44.808  ...      18.55        1   \n",
       "664353       44.808  ...      12.72        1   \n",
       "664354       44.808  ...      14.31        1   \n",
       "\n",
       "                                pol_var_descr week  year  POL_max  POL_min  \\\n",
       "664352  Spore fungine_Alternaria, POLLEN/M**3   13  2011    18.55    18.55   \n",
       "664353  Spore fungine_Alternaria, POLLEN/M**3   13  2011    18.55    12.72   \n",
       "664354  Spore fungine_Alternaria, POLLEN/M**3   14  2011    18.55    12.72   \n",
       "\n",
       "         POL_mean   POL_std  POL_sum  \n",
       "664352  18.550000       NaN    18.55  \n",
       "664353  15.635000  4.122433    31.27  \n",
       "664354  15.193333  3.013708    45.58  \n",
       "\n",
       "[3 rows x 47 columns]"
      ]
     },
     "execution_count": 10,
     "metadata": {},
     "output_type": "execute_result"
    }
   ],
   "source": [
    "# Filter data for selected cluster\n",
    "\n",
    "data_df = data_df[data_df['station_id']==station_wdgt.value]\n",
    "data_df = data_df[data_df['pol_var_id']==polvarid_wdgt.value]\n",
    "print(data_df.shape)\n",
    "data_df.head(3)"
   ]
  },
  {
   "cell_type": "markdown",
   "id": "f3a36db0",
   "metadata": {},
   "source": [
    "<h4>3.2 Create Dataset</h4>"
   ]
  },
  {
   "cell_type": "code",
   "execution_count": 11,
   "id": "f834858c",
   "metadata": {},
   "outputs": [
    {
     "name": "stdout",
     "output_type": "stream",
     "text": [
      "(2679, 33)\n"
     ]
    },
    {
     "data": {
      "text/html": [
       "<div>\n",
       "<style scoped>\n",
       "    .dataframe tbody tr th:only-of-type {\n",
       "        vertical-align: middle;\n",
       "    }\n",
       "\n",
       "    .dataframe tbody tr th {\n",
       "        vertical-align: top;\n",
       "    }\n",
       "\n",
       "    .dataframe thead th {\n",
       "        text-align: right;\n",
       "    }\n",
       "</style>\n",
       "<table border=\"1\" class=\"dataframe\">\n",
       "  <thead>\n",
       "    <tr style=\"text-align: right;\">\n",
       "      <th></th>\n",
       "      <th>date</th>\n",
       "      <th>week</th>\n",
       "      <th>year</th>\n",
       "      <th>station_H_piano_strada</th>\n",
       "      <th>station_H_mslm</th>\n",
       "      <th>arkimet_lat</th>\n",
       "      <th>arkimet_lon</th>\n",
       "      <th>B13011_min</th>\n",
       "      <th>B13011_max</th>\n",
       "      <th>B13011_mean</th>\n",
       "      <th>...</th>\n",
       "      <th>PREC_max</th>\n",
       "      <th>PREC_mean</th>\n",
       "      <th>PREC_std</th>\n",
       "      <th>PREC_sum</th>\n",
       "      <th>POL_min</th>\n",
       "      <th>POL_max</th>\n",
       "      <th>POL_mean</th>\n",
       "      <th>POL_std</th>\n",
       "      <th>POL_sum</th>\n",
       "      <th>pol_value</th>\n",
       "    </tr>\n",
       "  </thead>\n",
       "  <tbody>\n",
       "    <tr>\n",
       "      <th>664352</th>\n",
       "      <td>2011-04-01</td>\n",
       "      <td>13</td>\n",
       "      <td>2011</td>\n",
       "      <td>50.0</td>\n",
       "      <td>71.0</td>\n",
       "      <td>44.808</td>\n",
       "      <td>10.3305</td>\n",
       "      <td>0.0</td>\n",
       "      <td>9.2</td>\n",
       "      <td>0.043382</td>\n",
       "      <td>...</td>\n",
       "      <td>8.6</td>\n",
       "      <td>1.5625</td>\n",
       "      <td>1.5625</td>\n",
       "      <td>12.5</td>\n",
       "      <td>18.55</td>\n",
       "      <td>18.55</td>\n",
       "      <td>18.550000</td>\n",
       "      <td>NaN</td>\n",
       "      <td>18.55</td>\n",
       "      <td>18.55</td>\n",
       "    </tr>\n",
       "    <tr>\n",
       "      <th>664353</th>\n",
       "      <td>2011-04-02</td>\n",
       "      <td>13</td>\n",
       "      <td>2011</td>\n",
       "      <td>50.0</td>\n",
       "      <td>71.0</td>\n",
       "      <td>44.808</td>\n",
       "      <td>10.3305</td>\n",
       "      <td>0.0</td>\n",
       "      <td>9.2</td>\n",
       "      <td>0.043382</td>\n",
       "      <td>...</td>\n",
       "      <td>8.6</td>\n",
       "      <td>1.5625</td>\n",
       "      <td>1.5625</td>\n",
       "      <td>12.5</td>\n",
       "      <td>12.72</td>\n",
       "      <td>18.55</td>\n",
       "      <td>15.635000</td>\n",
       "      <td>4.122433</td>\n",
       "      <td>31.27</td>\n",
       "      <td>12.72</td>\n",
       "    </tr>\n",
       "    <tr>\n",
       "      <th>664354</th>\n",
       "      <td>2011-04-03</td>\n",
       "      <td>14</td>\n",
       "      <td>2011</td>\n",
       "      <td>50.0</td>\n",
       "      <td>71.0</td>\n",
       "      <td>44.808</td>\n",
       "      <td>10.3305</td>\n",
       "      <td>0.0</td>\n",
       "      <td>9.2</td>\n",
       "      <td>0.043382</td>\n",
       "      <td>...</td>\n",
       "      <td>8.6</td>\n",
       "      <td>1.5625</td>\n",
       "      <td>1.5625</td>\n",
       "      <td>12.5</td>\n",
       "      <td>12.72</td>\n",
       "      <td>18.55</td>\n",
       "      <td>15.193333</td>\n",
       "      <td>3.013708</td>\n",
       "      <td>45.58</td>\n",
       "      <td>14.31</td>\n",
       "    </tr>\n",
       "  </tbody>\n",
       "</table>\n",
       "<p>3 rows × 33 columns</p>\n",
       "</div>"
      ],
      "text/plain": [
       "              date  week  year  station_H_piano_strada  station_H_mslm  \\\n",
       "664352  2011-04-01    13  2011                    50.0            71.0   \n",
       "664353  2011-04-02    13  2011                    50.0            71.0   \n",
       "664354  2011-04-03    14  2011                    50.0            71.0   \n",
       "\n",
       "        arkimet_lat  arkimet_lon  B13011_min  B13011_max  B13011_mean  ...  \\\n",
       "664352       44.808      10.3305         0.0         9.2     0.043382  ...   \n",
       "664353       44.808      10.3305         0.0         9.2     0.043382  ...   \n",
       "664354       44.808      10.3305         0.0         9.2     0.043382  ...   \n",
       "\n",
       "        PREC_max  PREC_mean  PREC_std  PREC_sum  POL_min  POL_max   POL_mean  \\\n",
       "664352       8.6     1.5625    1.5625      12.5    18.55    18.55  18.550000   \n",
       "664353       8.6     1.5625    1.5625      12.5    12.72    18.55  15.635000   \n",
       "664354       8.6     1.5625    1.5625      12.5    12.72    18.55  15.193333   \n",
       "\n",
       "         POL_std  POL_sum  pol_value  \n",
       "664352       NaN    18.55      18.55  \n",
       "664353  4.122433    31.27      12.72  \n",
       "664354  3.013708    45.58      14.31  \n",
       "\n",
       "[3 rows x 33 columns]"
      ]
     },
     "execution_count": 11,
     "metadata": {},
     "output_type": "execute_result"
    }
   ],
   "source": [
    "# Create dataset\n",
    "\n",
    "#data_df['prev_'+LABEL_COL] = data_df[LABEL_COL]\n",
    "dataset_df = data_df[[DATE_COL] + FEATS + [LABEL_COL]]\n",
    "dataset_df.sort_values(['date'], inplace=True)\n",
    "print(dataset_df.shape)\n",
    "dataset_df.head(3)"
   ]
  },
  {
   "cell_type": "code",
   "execution_count": 12,
   "id": "2ff1532b",
   "metadata": {},
   "outputs": [
    {
     "name": "stdout",
     "output_type": "stream",
     "text": [
      "(2667, 32)\n"
     ]
    },
    {
     "data": {
      "text/html": [
       "<div>\n",
       "<style scoped>\n",
       "    .dataframe tbody tr th:only-of-type {\n",
       "        vertical-align: middle;\n",
       "    }\n",
       "\n",
       "    .dataframe tbody tr th {\n",
       "        vertical-align: top;\n",
       "    }\n",
       "\n",
       "    .dataframe thead th {\n",
       "        text-align: right;\n",
       "    }\n",
       "</style>\n",
       "<table border=\"1\" class=\"dataframe\">\n",
       "  <thead>\n",
       "    <tr style=\"text-align: right;\">\n",
       "      <th></th>\n",
       "      <th>week</th>\n",
       "      <th>year</th>\n",
       "      <th>station_H_piano_strada</th>\n",
       "      <th>station_H_mslm</th>\n",
       "      <th>arkimet_lat</th>\n",
       "      <th>arkimet_lon</th>\n",
       "      <th>B13011_min</th>\n",
       "      <th>B13011_max</th>\n",
       "      <th>B13011_mean</th>\n",
       "      <th>B13011_std</th>\n",
       "      <th>...</th>\n",
       "      <th>PREC_max</th>\n",
       "      <th>PREC_mean</th>\n",
       "      <th>PREC_std</th>\n",
       "      <th>PREC_sum</th>\n",
       "      <th>POL_min</th>\n",
       "      <th>POL_max</th>\n",
       "      <th>POL_mean</th>\n",
       "      <th>POL_std</th>\n",
       "      <th>POL_sum</th>\n",
       "      <th>pol_value</th>\n",
       "    </tr>\n",
       "    <tr>\n",
       "      <th>date</th>\n",
       "      <th></th>\n",
       "      <th></th>\n",
       "      <th></th>\n",
       "      <th></th>\n",
       "      <th></th>\n",
       "      <th></th>\n",
       "      <th></th>\n",
       "      <th></th>\n",
       "      <th></th>\n",
       "      <th></th>\n",
       "      <th></th>\n",
       "      <th></th>\n",
       "      <th></th>\n",
       "      <th></th>\n",
       "      <th></th>\n",
       "      <th></th>\n",
       "      <th></th>\n",
       "      <th></th>\n",
       "      <th></th>\n",
       "      <th></th>\n",
       "      <th></th>\n",
       "    </tr>\n",
       "  </thead>\n",
       "  <tbody>\n",
       "    <tr>\n",
       "      <th>2011-04-02</th>\n",
       "      <td>13</td>\n",
       "      <td>2011</td>\n",
       "      <td>50.0</td>\n",
       "      <td>71.0</td>\n",
       "      <td>44.808</td>\n",
       "      <td>10.3305</td>\n",
       "      <td>0.0</td>\n",
       "      <td>9.2</td>\n",
       "      <td>0.043382</td>\n",
       "      <td>0.2092</td>\n",
       "      <td>...</td>\n",
       "      <td>8.6</td>\n",
       "      <td>1.5625</td>\n",
       "      <td>1.5625</td>\n",
       "      <td>12.5</td>\n",
       "      <td>12.72</td>\n",
       "      <td>18.55</td>\n",
       "      <td>15.635000</td>\n",
       "      <td>4.122433</td>\n",
       "      <td>31.27</td>\n",
       "      <td>12.72</td>\n",
       "    </tr>\n",
       "    <tr>\n",
       "      <th>2011-04-03</th>\n",
       "      <td>14</td>\n",
       "      <td>2011</td>\n",
       "      <td>50.0</td>\n",
       "      <td>71.0</td>\n",
       "      <td>44.808</td>\n",
       "      <td>10.3305</td>\n",
       "      <td>0.0</td>\n",
       "      <td>9.2</td>\n",
       "      <td>0.043382</td>\n",
       "      <td>0.2092</td>\n",
       "      <td>...</td>\n",
       "      <td>8.6</td>\n",
       "      <td>1.5625</td>\n",
       "      <td>1.5625</td>\n",
       "      <td>12.5</td>\n",
       "      <td>12.72</td>\n",
       "      <td>18.55</td>\n",
       "      <td>15.193333</td>\n",
       "      <td>3.013708</td>\n",
       "      <td>45.58</td>\n",
       "      <td>14.31</td>\n",
       "    </tr>\n",
       "    <tr>\n",
       "      <th>2011-04-04</th>\n",
       "      <td>14</td>\n",
       "      <td>2011</td>\n",
       "      <td>50.0</td>\n",
       "      <td>71.0</td>\n",
       "      <td>44.808</td>\n",
       "      <td>10.3305</td>\n",
       "      <td>0.0</td>\n",
       "      <td>9.2</td>\n",
       "      <td>0.043382</td>\n",
       "      <td>0.2092</td>\n",
       "      <td>...</td>\n",
       "      <td>8.6</td>\n",
       "      <td>1.5625</td>\n",
       "      <td>1.5625</td>\n",
       "      <td>12.5</td>\n",
       "      <td>12.72</td>\n",
       "      <td>18.55</td>\n",
       "      <td>15.237500</td>\n",
       "      <td>2.462267</td>\n",
       "      <td>60.95</td>\n",
       "      <td>15.37</td>\n",
       "    </tr>\n",
       "  </tbody>\n",
       "</table>\n",
       "<p>3 rows × 32 columns</p>\n",
       "</div>"
      ],
      "text/plain": [
       "            week  year  station_H_piano_strada  station_H_mslm  arkimet_lat  \\\n",
       "date                                                                          \n",
       "2011-04-02    13  2011                    50.0            71.0       44.808   \n",
       "2011-04-03    14  2011                    50.0            71.0       44.808   \n",
       "2011-04-04    14  2011                    50.0            71.0       44.808   \n",
       "\n",
       "            arkimet_lon  B13011_min  B13011_max  B13011_mean  B13011_std  ...  \\\n",
       "date                                                                      ...   \n",
       "2011-04-02      10.3305         0.0         9.2     0.043382      0.2092  ...   \n",
       "2011-04-03      10.3305         0.0         9.2     0.043382      0.2092  ...   \n",
       "2011-04-04      10.3305         0.0         9.2     0.043382      0.2092  ...   \n",
       "\n",
       "            PREC_max  PREC_mean  PREC_std  PREC_sum  POL_min  POL_max  \\\n",
       "date                                                                    \n",
       "2011-04-02       8.6     1.5625    1.5625      12.5    12.72    18.55   \n",
       "2011-04-03       8.6     1.5625    1.5625      12.5    12.72    18.55   \n",
       "2011-04-04       8.6     1.5625    1.5625      12.5    12.72    18.55   \n",
       "\n",
       "             POL_mean   POL_std  POL_sum  pol_value  \n",
       "date                                                 \n",
       "2011-04-02  15.635000  4.122433    31.27      12.72  \n",
       "2011-04-03  15.193333  3.013708    45.58      14.31  \n",
       "2011-04-04  15.237500  2.462267    60.95      15.37  \n",
       "\n",
       "[3 rows x 32 columns]"
      ]
     },
     "execution_count": 12,
     "metadata": {},
     "output_type": "execute_result"
    }
   ],
   "source": [
    "# Set index and drop nan\n",
    "\n",
    "dataset_df.set_index('date', inplace=True)\n",
    "dataset_df.dropna(inplace=True)\n",
    "print(dataset_df.shape)\n",
    "dataset_df.head(3)"
   ]
  },
  {
   "cell_type": "code",
   "execution_count": null,
   "id": "0e5f1505",
   "metadata": {},
   "outputs": [],
   "source": []
  },
  {
   "cell_type": "markdown",
   "id": "6c1944f7",
   "metadata": {},
   "source": [
    "<h3>4. Preprocess Data</h3>"
   ]
  },
  {
   "cell_type": "markdown",
   "id": "2934d6b1",
   "metadata": {},
   "source": [
    "<h4>4.1 Normalize Features</h4>"
   ]
  },
  {
   "cell_type": "code",
   "execution_count": 13,
   "id": "e1b1a967",
   "metadata": {},
   "outputs": [],
   "source": [
    "# Normalize all cols except for pollen ones\n",
    "\n",
    "scaler = MinMaxScaler()\n",
    "for col in FEATS:\n",
    "    dataset_df[col] = pd.DataFrame(scaler.fit_transform(dataset_df[[col]])).values"
   ]
  },
  {
   "cell_type": "markdown",
   "id": "893bdfdc",
   "metadata": {},
   "source": [
    "##### todo: sistema scaler.data_max"
   ]
  },
  {
   "cell_type": "code",
   "execution_count": 14,
   "id": "00f55725",
   "metadata": {},
   "outputs": [
    {
     "name": "stdout",
     "output_type": "stream",
     "text": [
      "Max cols: [9702]\n",
      "(2667, 32)\n"
     ]
    },
    {
     "data": {
      "text/html": [
       "<div>\n",
       "<style scoped>\n",
       "    .dataframe tbody tr th:only-of-type {\n",
       "        vertical-align: middle;\n",
       "    }\n",
       "\n",
       "    .dataframe tbody tr th {\n",
       "        vertical-align: top;\n",
       "    }\n",
       "\n",
       "    .dataframe thead th {\n",
       "        text-align: right;\n",
       "    }\n",
       "</style>\n",
       "<table border=\"1\" class=\"dataframe\">\n",
       "  <thead>\n",
       "    <tr style=\"text-align: right;\">\n",
       "      <th></th>\n",
       "      <th>week</th>\n",
       "      <th>year</th>\n",
       "      <th>station_H_piano_strada</th>\n",
       "      <th>station_H_mslm</th>\n",
       "      <th>arkimet_lat</th>\n",
       "      <th>arkimet_lon</th>\n",
       "      <th>B13011_min</th>\n",
       "      <th>B13011_max</th>\n",
       "      <th>B13011_mean</th>\n",
       "      <th>B13011_std</th>\n",
       "      <th>...</th>\n",
       "      <th>PREC_max</th>\n",
       "      <th>PREC_mean</th>\n",
       "      <th>PREC_std</th>\n",
       "      <th>PREC_sum</th>\n",
       "      <th>POL_min</th>\n",
       "      <th>POL_max</th>\n",
       "      <th>POL_mean</th>\n",
       "      <th>POL_std</th>\n",
       "      <th>POL_sum</th>\n",
       "      <th>pol_value</th>\n",
       "    </tr>\n",
       "    <tr>\n",
       "      <th>date</th>\n",
       "      <th></th>\n",
       "      <th></th>\n",
       "      <th></th>\n",
       "      <th></th>\n",
       "      <th></th>\n",
       "      <th></th>\n",
       "      <th></th>\n",
       "      <th></th>\n",
       "      <th></th>\n",
       "      <th></th>\n",
       "      <th></th>\n",
       "      <th></th>\n",
       "      <th></th>\n",
       "      <th></th>\n",
       "      <th></th>\n",
       "      <th></th>\n",
       "      <th></th>\n",
       "      <th></th>\n",
       "      <th></th>\n",
       "      <th></th>\n",
       "      <th></th>\n",
       "    </tr>\n",
       "  </thead>\n",
       "  <tbody>\n",
       "    <tr>\n",
       "      <th>2011-04-02</th>\n",
       "      <td>0.000</td>\n",
       "      <td>0.0</td>\n",
       "      <td>0.0</td>\n",
       "      <td>0.0</td>\n",
       "      <td>0.0</td>\n",
       "      <td>0.0</td>\n",
       "      <td>0.0</td>\n",
       "      <td>0.144201</td>\n",
       "      <td>0.079704</td>\n",
       "      <td>0.101155</td>\n",
       "      <td>...</td>\n",
       "      <td>0.093784</td>\n",
       "      <td>0.085092</td>\n",
       "      <td>0.085092</td>\n",
       "      <td>0.085092</td>\n",
       "      <td>0.019974</td>\n",
       "      <td>0.009324</td>\n",
       "      <td>0.012016</td>\n",
       "      <td>0.005244</td>\n",
       "      <td>0.003002</td>\n",
       "      <td>12.72</td>\n",
       "    </tr>\n",
       "    <tr>\n",
       "      <th>2011-04-03</th>\n",
       "      <td>0.025</td>\n",
       "      <td>0.0</td>\n",
       "      <td>0.0</td>\n",
       "      <td>0.0</td>\n",
       "      <td>0.0</td>\n",
       "      <td>0.0</td>\n",
       "      <td>0.0</td>\n",
       "      <td>0.144201</td>\n",
       "      <td>0.079704</td>\n",
       "      <td>0.101155</td>\n",
       "      <td>...</td>\n",
       "      <td>0.093784</td>\n",
       "      <td>0.085092</td>\n",
       "      <td>0.085092</td>\n",
       "      <td>0.085092</td>\n",
       "      <td>0.019974</td>\n",
       "      <td>0.009324</td>\n",
       "      <td>0.011651</td>\n",
       "      <td>0.003730</td>\n",
       "      <td>0.004477</td>\n",
       "      <td>14.31</td>\n",
       "    </tr>\n",
       "    <tr>\n",
       "      <th>2011-04-04</th>\n",
       "      <td>0.025</td>\n",
       "      <td>0.0</td>\n",
       "      <td>0.0</td>\n",
       "      <td>0.0</td>\n",
       "      <td>0.0</td>\n",
       "      <td>0.0</td>\n",
       "      <td>0.0</td>\n",
       "      <td>0.144201</td>\n",
       "      <td>0.079704</td>\n",
       "      <td>0.101155</td>\n",
       "      <td>...</td>\n",
       "      <td>0.093784</td>\n",
       "      <td>0.085092</td>\n",
       "      <td>0.085092</td>\n",
       "      <td>0.085092</td>\n",
       "      <td>0.019974</td>\n",
       "      <td>0.009324</td>\n",
       "      <td>0.011688</td>\n",
       "      <td>0.002977</td>\n",
       "      <td>0.006062</td>\n",
       "      <td>15.37</td>\n",
       "    </tr>\n",
       "  </tbody>\n",
       "</table>\n",
       "<p>3 rows × 32 columns</p>\n",
       "</div>"
      ],
      "text/plain": [
       "             week  year  station_H_piano_strada  station_H_mslm  arkimet_lat  \\\n",
       "date                                                                           \n",
       "2011-04-02  0.000   0.0                     0.0             0.0          0.0   \n",
       "2011-04-03  0.025   0.0                     0.0             0.0          0.0   \n",
       "2011-04-04  0.025   0.0                     0.0             0.0          0.0   \n",
       "\n",
       "            arkimet_lon  B13011_min  B13011_max  B13011_mean  B13011_std  ...  \\\n",
       "date                                                                      ...   \n",
       "2011-04-02          0.0         0.0    0.144201     0.079704    0.101155  ...   \n",
       "2011-04-03          0.0         0.0    0.144201     0.079704    0.101155  ...   \n",
       "2011-04-04          0.0         0.0    0.144201     0.079704    0.101155  ...   \n",
       "\n",
       "            PREC_max  PREC_mean  PREC_std  PREC_sum   POL_min   POL_max  \\\n",
       "date                                                                      \n",
       "2011-04-02  0.093784   0.085092  0.085092  0.085092  0.019974  0.009324   \n",
       "2011-04-03  0.093784   0.085092  0.085092  0.085092  0.019974  0.009324   \n",
       "2011-04-04  0.093784   0.085092  0.085092  0.085092  0.019974  0.009324   \n",
       "\n",
       "            POL_mean   POL_std   POL_sum  pol_value  \n",
       "date                                                 \n",
       "2011-04-02  0.012016  0.005244  0.003002      12.72  \n",
       "2011-04-03  0.011651  0.003730  0.004477      14.31  \n",
       "2011-04-04  0.011688  0.002977  0.006062      15.37  \n",
       "\n",
       "[3 rows x 32 columns]"
      ]
     },
     "execution_count": 14,
     "metadata": {},
     "output_type": "execute_result"
    }
   ],
   "source": [
    "# Save max cols: multiply predicted values to get not-normalized values\n",
    "\n",
    "cols_max = [int(x) for x in scaler.data_max_]\n",
    "print(\"Max cols:\", cols_max)\n",
    "print(dataset_df.shape)\n",
    "dataset_df.head(3)"
   ]
  },
  {
   "cell_type": "markdown",
   "id": "8f29971b",
   "metadata": {},
   "source": [
    "<h4>4.2 Normalize Pollen Values</h4>"
   ]
  },
  {
   "cell_type": "markdown",
   "id": "41c28f33",
   "metadata": {},
   "source": [
    "Dataset contains the previous pollen value as feature and the next pollen value as label.<br>\n",
    "We can normalize with a min-max-scaler or in a range interval."
   ]
  },
  {
   "cell_type": "code",
   "execution_count": 15,
   "id": "8262605e",
   "metadata": {},
   "outputs": [
    {
     "data": {
      "application/vnd.jupyter.widget-view+json": {
       "model_id": "35e49d5060d64ab790cf0274d1e0cd83",
       "version_major": 2,
       "version_minor": 0
      },
      "text/plain": [
       "Dropdown(description='Select Feats:', layout=Layout(width='50%'), options=('min-max-linear', 'interval'), valu…"
      ]
     },
     "metadata": {},
     "output_type": "display_data"
    }
   ],
   "source": [
    "scaling_wdgt = _create_scaling_widget()\n",
    "display(scaling_wdgt)"
   ]
  },
  {
   "cell_type": "code",
   "execution_count": 16,
   "id": "f7303ffb",
   "metadata": {},
   "outputs": [],
   "source": [
    "# TODO: DA CAMBIARE CON CLUSTERING..\n",
    "\n",
    "if scaling_wdgt.value == 'interval':\n",
    "    min_max = dataset_df[LABEL_COL].agg(['min', 'max'])\n",
    "    intervals = np.linspace(min_max.min(), min_max.max(), K_INTERVAL)\n",
    "    dataset_df[LABEL_COL] = dataset_df[LABEL_COL].apply(lambda x: _set_range_value(x, intervals))\n",
    "        \n",
    "elif scaling_wdgt.value == 'min-max-linear':\n",
    "    scaler = MinMaxScaler()\n",
    "    dataset_df[LABEL_COL] = pd.DataFrame(scaler.fit_transform(dataset_df[[LABEL_COL]])).values\n",
    "\n",
    "else:\n",
    "    print(\"Error on widget.\")"
   ]
  },
  {
   "cell_type": "code",
   "execution_count": 17,
   "id": "486950d6",
   "metadata": {},
   "outputs": [
    {
     "name": "stdout",
     "output_type": "stream",
     "text": [
      "(2667, 32)\n"
     ]
    },
    {
     "data": {
      "text/html": [
       "<div>\n",
       "<style scoped>\n",
       "    .dataframe tbody tr th:only-of-type {\n",
       "        vertical-align: middle;\n",
       "    }\n",
       "\n",
       "    .dataframe tbody tr th {\n",
       "        vertical-align: top;\n",
       "    }\n",
       "\n",
       "    .dataframe thead th {\n",
       "        text-align: right;\n",
       "    }\n",
       "</style>\n",
       "<table border=\"1\" class=\"dataframe\">\n",
       "  <thead>\n",
       "    <tr style=\"text-align: right;\">\n",
       "      <th></th>\n",
       "      <th>week</th>\n",
       "      <th>year</th>\n",
       "      <th>station_H_piano_strada</th>\n",
       "      <th>station_H_mslm</th>\n",
       "      <th>arkimet_lat</th>\n",
       "      <th>arkimet_lon</th>\n",
       "      <th>B13011_min</th>\n",
       "      <th>B13011_max</th>\n",
       "      <th>B13011_mean</th>\n",
       "      <th>B13011_std</th>\n",
       "      <th>...</th>\n",
       "      <th>PREC_max</th>\n",
       "      <th>PREC_mean</th>\n",
       "      <th>PREC_std</th>\n",
       "      <th>PREC_sum</th>\n",
       "      <th>POL_min</th>\n",
       "      <th>POL_max</th>\n",
       "      <th>POL_mean</th>\n",
       "      <th>POL_std</th>\n",
       "      <th>POL_sum</th>\n",
       "      <th>pol_value</th>\n",
       "    </tr>\n",
       "    <tr>\n",
       "      <th>date</th>\n",
       "      <th></th>\n",
       "      <th></th>\n",
       "      <th></th>\n",
       "      <th></th>\n",
       "      <th></th>\n",
       "      <th></th>\n",
       "      <th></th>\n",
       "      <th></th>\n",
       "      <th></th>\n",
       "      <th></th>\n",
       "      <th></th>\n",
       "      <th></th>\n",
       "      <th></th>\n",
       "      <th></th>\n",
       "      <th></th>\n",
       "      <th></th>\n",
       "      <th></th>\n",
       "      <th></th>\n",
       "      <th></th>\n",
       "      <th></th>\n",
       "      <th></th>\n",
       "    </tr>\n",
       "  </thead>\n",
       "  <tbody>\n",
       "    <tr>\n",
       "      <th>2011-04-02</th>\n",
       "      <td>0.000</td>\n",
       "      <td>0.0</td>\n",
       "      <td>0.0</td>\n",
       "      <td>0.0</td>\n",
       "      <td>0.0</td>\n",
       "      <td>0.0</td>\n",
       "      <td>0.0</td>\n",
       "      <td>0.144201</td>\n",
       "      <td>0.079704</td>\n",
       "      <td>0.101155</td>\n",
       "      <td>...</td>\n",
       "      <td>0.093784</td>\n",
       "      <td>0.085092</td>\n",
       "      <td>0.085092</td>\n",
       "      <td>0.085092</td>\n",
       "      <td>0.019974</td>\n",
       "      <td>0.009324</td>\n",
       "      <td>0.012016</td>\n",
       "      <td>0.005244</td>\n",
       "      <td>0.003002</td>\n",
       "      <td>0.006867</td>\n",
       "    </tr>\n",
       "    <tr>\n",
       "      <th>2011-04-03</th>\n",
       "      <td>0.025</td>\n",
       "      <td>0.0</td>\n",
       "      <td>0.0</td>\n",
       "      <td>0.0</td>\n",
       "      <td>0.0</td>\n",
       "      <td>0.0</td>\n",
       "      <td>0.0</td>\n",
       "      <td>0.144201</td>\n",
       "      <td>0.079704</td>\n",
       "      <td>0.101155</td>\n",
       "      <td>...</td>\n",
       "      <td>0.093784</td>\n",
       "      <td>0.085092</td>\n",
       "      <td>0.085092</td>\n",
       "      <td>0.085092</td>\n",
       "      <td>0.019974</td>\n",
       "      <td>0.009324</td>\n",
       "      <td>0.011651</td>\n",
       "      <td>0.003730</td>\n",
       "      <td>0.004477</td>\n",
       "      <td>0.007725</td>\n",
       "    </tr>\n",
       "    <tr>\n",
       "      <th>2011-04-04</th>\n",
       "      <td>0.025</td>\n",
       "      <td>0.0</td>\n",
       "      <td>0.0</td>\n",
       "      <td>0.0</td>\n",
       "      <td>0.0</td>\n",
       "      <td>0.0</td>\n",
       "      <td>0.0</td>\n",
       "      <td>0.144201</td>\n",
       "      <td>0.079704</td>\n",
       "      <td>0.101155</td>\n",
       "      <td>...</td>\n",
       "      <td>0.093784</td>\n",
       "      <td>0.085092</td>\n",
       "      <td>0.085092</td>\n",
       "      <td>0.085092</td>\n",
       "      <td>0.019974</td>\n",
       "      <td>0.009324</td>\n",
       "      <td>0.011688</td>\n",
       "      <td>0.002977</td>\n",
       "      <td>0.006062</td>\n",
       "      <td>0.008297</td>\n",
       "    </tr>\n",
       "  </tbody>\n",
       "</table>\n",
       "<p>3 rows × 32 columns</p>\n",
       "</div>"
      ],
      "text/plain": [
       "             week  year  station_H_piano_strada  station_H_mslm  arkimet_lat  \\\n",
       "date                                                                           \n",
       "2011-04-02  0.000   0.0                     0.0             0.0          0.0   \n",
       "2011-04-03  0.025   0.0                     0.0             0.0          0.0   \n",
       "2011-04-04  0.025   0.0                     0.0             0.0          0.0   \n",
       "\n",
       "            arkimet_lon  B13011_min  B13011_max  B13011_mean  B13011_std  ...  \\\n",
       "date                                                                      ...   \n",
       "2011-04-02          0.0         0.0    0.144201     0.079704    0.101155  ...   \n",
       "2011-04-03          0.0         0.0    0.144201     0.079704    0.101155  ...   \n",
       "2011-04-04          0.0         0.0    0.144201     0.079704    0.101155  ...   \n",
       "\n",
       "            PREC_max  PREC_mean  PREC_std  PREC_sum   POL_min   POL_max  \\\n",
       "date                                                                      \n",
       "2011-04-02  0.093784   0.085092  0.085092  0.085092  0.019974  0.009324   \n",
       "2011-04-03  0.093784   0.085092  0.085092  0.085092  0.019974  0.009324   \n",
       "2011-04-04  0.093784   0.085092  0.085092  0.085092  0.019974  0.009324   \n",
       "\n",
       "            POL_mean   POL_std   POL_sum  pol_value  \n",
       "date                                                 \n",
       "2011-04-02  0.012016  0.005244  0.003002   0.006867  \n",
       "2011-04-03  0.011651  0.003730  0.004477   0.007725  \n",
       "2011-04-04  0.011688  0.002977  0.006062   0.008297  \n",
       "\n",
       "[3 rows x 32 columns]"
      ]
     },
     "execution_count": 17,
     "metadata": {},
     "output_type": "execute_result"
    }
   ],
   "source": [
    "print(dataset_df.shape)\n",
    "dataset_df.head(3)"
   ]
  },
  {
   "cell_type": "code",
   "execution_count": null,
   "id": "a79a5531",
   "metadata": {},
   "outputs": [],
   "source": []
  },
  {
   "cell_type": "markdown",
   "id": "3bdfb242",
   "metadata": {},
   "source": [
    "<h3>5. Create Train, Val, Test Datasets</h3>"
   ]
  },
  {
   "cell_type": "markdown",
   "id": "08601bdc",
   "metadata": {},
   "source": [
    "We can use:\n",
    "- data from 2011 to 2019 included as training set\n",
    "- data of 2020 as validation set\n",
    "- data of 2021 as test set"
   ]
  },
  {
   "cell_type": "code",
   "execution_count": 18,
   "id": "cad90015",
   "metadata": {},
   "outputs": [
    {
     "name": "stdout",
     "output_type": "stream",
     "text": [
      "Data from: 2011-04-02 to: 2021-12-15\n"
     ]
    }
   ],
   "source": [
    "# Print period\n",
    "\n",
    "print(\"Data from: {} to: {}\".format(dataset_df.index.min(), dataset_df.index.max()))"
   ]
  },
  {
   "cell_type": "code",
   "execution_count": 19,
   "id": "8c4810f6",
   "metadata": {},
   "outputs": [
    {
     "data": {
      "text/plain": [
       "((2186, 32), (240, 32), (240, 32))"
      ]
     },
     "execution_count": 19,
     "metadata": {},
     "output_type": "execute_result"
    }
   ],
   "source": [
    "# Split df into train and test sets\n",
    "\n",
    "train_df = dataset_df[dataset_df.index < pd.to_datetime('2019-12-31')]\n",
    "val_df = dataset_df[(dataset_df.index > pd.to_datetime('2019-12-31')) & \n",
    "                    (dataset_df.index < pd.to_datetime('2020-12-31'))]\n",
    "test_df = dataset_df[(dataset_df.index > pd.to_datetime('2020-12-31')) & \n",
    "                     (dataset_df.index < pd.to_datetime('2021-12-31'))]\n",
    "\n",
    "train_df.shape, val_df.shape, test_df.shape"
   ]
  },
  {
   "cell_type": "code",
   "execution_count": 20,
   "id": "62ff57b1",
   "metadata": {},
   "outputs": [
    {
     "data": {
      "text/plain": [
       "((2186, 31), (240, 31), (240, 31))"
      ]
     },
     "execution_count": 20,
     "metadata": {},
     "output_type": "execute_result"
    }
   ],
   "source": [
    "# Split into feats and labels\n",
    "\n",
    "train_X, train_y = train_df.drop(columns=LABEL_COL).values, train_df[LABEL_COL]\n",
    "val_X, val_y = val_df.drop(columns=LABEL_COL).values, val_df[LABEL_COL]\n",
    "test_X, test_y = test_df.drop(columns=LABEL_COL).values, test_df[LABEL_COL]\n",
    "\n",
    "train_X.shape, val_X.shape, test_X.shape"
   ]
  },
  {
   "cell_type": "code",
   "execution_count": 21,
   "id": "fcc17a35",
   "metadata": {},
   "outputs": [],
   "source": [
    "# Reshape X-inputs to be 3D for LSTM [samples, timesteps, features]\n",
    "\n",
    "#train_X = train_X.reshape((train_X.shape[0], 1, train_X.shape[1]))\n",
    "#val_X = val_X.reshape((val_X.shape[0], 1, val_X.shape[1]))\n",
    "#test_X = test_X.reshape((test_X.shape[0], 1, test_X.shape[1]))\n",
    "\n",
    "#train_X.shape, val_X.shape, test_X.shape"
   ]
  },
  {
   "cell_type": "code",
   "execution_count": 42,
   "id": "dff2b609",
   "metadata": {},
   "outputs": [],
   "source": [
    "# Create Sliding-Windows Dataset\n",
    "\n",
    "train_dataset = tf.keras.preprocessing.timeseries_dataset_from_array(train_X,\n",
    "                                                                     train_y,\n",
    "                                                                     sequence_length=SEQUENCE_LEN,\n",
    "                                                                     batch_size=BATCH_SIZE)\n",
    "\n",
    "val_dataset = tf.keras.preprocessing.timeseries_dataset_from_array(val_X,\n",
    "                                                                   val_y,\n",
    "                                                                   sequence_length=SEQUENCE_LEN,\n",
    "                                                                   batch_size=BATCH_SIZE)\n",
    "\n",
    "test_dataset = tf.keras.preprocessing.timeseries_dataset_from_array(test_X,\n",
    "                                                                    test_y,\n",
    "                                                                    sequence_length=SEQUENCE_LEN,\n",
    "                                                                    batch_size=BATCH_SIZE)"
   ]
  },
  {
   "cell_type": "code",
   "execution_count": null,
   "id": "f480245a",
   "metadata": {},
   "outputs": [],
   "source": []
  },
  {
   "cell_type": "markdown",
   "id": "3972eeb9",
   "metadata": {},
   "source": [
    "<h3>6. Create & Train Model</h3>"
   ]
  },
  {
   "cell_type": "code",
   "execution_count": 43,
   "id": "c16e5c5c",
   "metadata": {},
   "outputs": [],
   "source": [
    "# Create Model\n",
    "\n",
    "input_layer = tf.keras.layers.Input(shape=(SEQUENCE_LEN, N_FEATS))\n",
    "x = tf.keras.layers.LSTM(units=128, \n",
    "                              dropout=0.4, \n",
    "                              return_sequences=True)(input_layer)\n",
    "x = tf.keras.layers.LSTM(units=128, \n",
    "                              dropout=0.4, \n",
    "                              return_sequences=True)(x)\n",
    "x = tf.keras.layers.Flatten()(x)\n",
    "x = tf.keras.layers.Dense(units=512)(x)\n",
    "output_layer = tf.keras.layers.Dense(units=1)(x)\n",
    "model = tf.keras.models.Model(inputs=input_layer, outputs=output_layer) "
   ]
  },
  {
   "cell_type": "code",
   "execution_count": 44,
   "id": "10ea3b2e",
   "metadata": {},
   "outputs": [
    {
     "name": "stdout",
     "output_type": "stream",
     "text": [
      "Model: \"model_2\"\n",
      "_________________________________________________________________\n",
      " Layer (type)                Output Shape              Param #   \n",
      "=================================================================\n",
      " input_3 (InputLayer)        [(None, 7, 31)]           0         \n",
      "                                                                 \n",
      " lstm_4 (LSTM)               (None, 7, 128)            81920     \n",
      "                                                                 \n",
      " lstm_5 (LSTM)               (None, 7, 128)            131584    \n",
      "                                                                 \n",
      " flatten_2 (Flatten)         (None, 896)               0         \n",
      "                                                                 \n",
      " dense_4 (Dense)             (None, 512)               459264    \n",
      "                                                                 \n",
      " dense_5 (Dense)             (None, 1)                 513       \n",
      "                                                                 \n",
      "=================================================================\n",
      "Total params: 673,281\n",
      "Trainable params: 673,281\n",
      "Non-trainable params: 0\n",
      "_________________________________________________________________\n"
     ]
    }
   ],
   "source": [
    "# Compile Model\n",
    "\n",
    "model.compile(loss='mse', optimizer='adam')\n",
    "early_stop = EarlyStopping(monitor='val_loss', patience=10, verbose=1, mode='min', restore_best_weights=True)\n",
    "model.summary()"
   ]
  },
  {
   "cell_type": "code",
   "execution_count": 45,
   "id": "dff02363",
   "metadata": {
    "scrolled": true
   },
   "outputs": [
    {
     "name": "stdout",
     "output_type": "stream",
     "text": [
      "Epoch 1/200\n",
      "18/18 [==============================] - 5s 84ms/step - loss: 0.0301 - val_loss: 0.0159\n",
      "Epoch 2/200\n",
      "18/18 [==============================] - 1s 40ms/step - loss: 0.0070 - val_loss: 0.0078\n",
      "Epoch 3/200\n",
      "18/18 [==============================] - 1s 41ms/step - loss: 0.0057 - val_loss: 0.0065\n",
      "Epoch 4/200\n",
      "18/18 [==============================] - 1s 40ms/step - loss: 0.0067 - val_loss: 0.0044\n",
      "Epoch 5/200\n",
      "18/18 [==============================] - 1s 40ms/step - loss: 0.0046 - val_loss: 0.0034\n",
      "Epoch 6/200\n",
      "18/18 [==============================] - 1s 40ms/step - loss: 0.0035 - val_loss: 0.0032\n",
      "Epoch 7/200\n",
      "18/18 [==============================] - 1s 40ms/step - loss: 0.0033 - val_loss: 0.0032\n",
      "Epoch 8/200\n",
      "18/18 [==============================] - 1s 41ms/step - loss: 0.0037 - val_loss: 0.0031\n",
      "Epoch 9/200\n",
      "18/18 [==============================] - 1s 41ms/step - loss: 0.0034 - val_loss: 0.0031\n",
      "Epoch 10/200\n",
      "18/18 [==============================] - 1s 40ms/step - loss: 0.0032 - val_loss: 0.0031\n",
      "Epoch 11/200\n",
      "18/18 [==============================] - 1s 41ms/step - loss: 0.0033 - val_loss: 0.0033\n",
      "Epoch 12/200\n",
      "18/18 [==============================] - 1s 40ms/step - loss: 0.0035 - val_loss: 0.0034\n",
      "Epoch 13/200\n",
      "18/18 [==============================] - 1s 40ms/step - loss: 0.0033 - val_loss: 0.0034\n",
      "Epoch 14/200\n",
      "18/18 [==============================] - 1s 39ms/step - loss: 0.0033 - val_loss: 0.0032\n",
      "Epoch 15/200\n",
      "18/18 [==============================] - 1s 40ms/step - loss: 0.0034 - val_loss: 0.0031\n",
      "Epoch 16/200\n",
      "18/18 [==============================] - 1s 40ms/step - loss: 0.0032 - val_loss: 0.0030\n",
      "Epoch 17/200\n",
      "18/18 [==============================] - 1s 39ms/step - loss: 0.0033 - val_loss: 0.0029\n",
      "Epoch 18/200\n",
      "18/18 [==============================] - 1s 39ms/step - loss: 0.0035 - val_loss: 0.0030\n",
      "Epoch 19/200\n",
      "18/18 [==============================] - 1s 39ms/step - loss: 0.0035 - val_loss: 0.0032\n",
      "Epoch 20/200\n",
      "18/18 [==============================] - 1s 40ms/step - loss: 0.0032 - val_loss: 0.0029\n",
      "Epoch 21/200\n",
      "18/18 [==============================] - 1s 40ms/step - loss: 0.0030 - val_loss: 0.0031\n",
      "Epoch 22/200\n",
      "18/18 [==============================] - 1s 40ms/step - loss: 0.0032 - val_loss: 0.0037\n",
      "Epoch 23/200\n",
      "18/18 [==============================] - 1s 40ms/step - loss: 0.0032 - val_loss: 0.0030\n",
      "Epoch 24/200\n",
      "18/18 [==============================] - 1s 42ms/step - loss: 0.0032 - val_loss: 0.0028\n",
      "Epoch 25/200\n",
      "18/18 [==============================] - 1s 42ms/step - loss: 0.0032 - val_loss: 0.0031\n",
      "Epoch 26/200\n",
      "18/18 [==============================] - 1s 43ms/step - loss: 0.0031 - val_loss: 0.0032\n",
      "Epoch 27/200\n",
      "18/18 [==============================] - 1s 44ms/step - loss: 0.0035 - val_loss: 0.0034\n",
      "Epoch 28/200\n",
      "18/18 [==============================] - 1s 42ms/step - loss: 0.0033 - val_loss: 0.0030\n",
      "Epoch 29/200\n",
      "18/18 [==============================] - 1s 41ms/step - loss: 0.0033 - val_loss: 0.0029\n",
      "Epoch 30/200\n",
      "18/18 [==============================] - 1s 41ms/step - loss: 0.0031 - val_loss: 0.0028\n",
      "Epoch 31/200\n",
      "18/18 [==============================] - 1s 42ms/step - loss: 0.0031 - val_loss: 0.0028\n",
      "Epoch 32/200\n",
      "18/18 [==============================] - 1s 42ms/step - loss: 0.0031 - val_loss: 0.0029\n",
      "Epoch 33/200\n",
      "18/18 [==============================] - 1s 39ms/step - loss: 0.0031 - val_loss: 0.0030\n",
      "Epoch 34/200\n",
      "18/18 [==============================] - 1s 41ms/step - loss: 0.0031 - val_loss: 0.0030\n",
      "Epoch 35/200\n",
      "18/18 [==============================] - 1s 40ms/step - loss: 0.0031 - val_loss: 0.0029\n",
      "Epoch 36/200\n",
      "18/18 [==============================] - 1s 42ms/step - loss: 0.0031 - val_loss: 0.0028\n",
      "Epoch 37/200\n",
      "18/18 [==============================] - 1s 47ms/step - loss: 0.0034 - val_loss: 0.0028\n",
      "Epoch 38/200\n",
      "18/18 [==============================] - 1s 45ms/step - loss: 0.0030 - val_loss: 0.0030\n",
      "Epoch 39/200\n",
      "18/18 [==============================] - 1s 40ms/step - loss: 0.0033 - val_loss: 0.0032\n",
      "Epoch 40/200\n",
      "18/18 [==============================] - 1s 41ms/step - loss: 0.0033 - val_loss: 0.0030\n",
      "Epoch 41/200\n",
      "17/18 [===========================>..] - ETA: 0s - loss: 0.0033Restoring model weights from the end of the best epoch: 31.\n",
      "18/18 [==============================] - 1s 41ms/step - loss: 0.0033 - val_loss: 0.0029\n",
      "Epoch 41: early stopping\n"
     ]
    }
   ],
   "source": [
    "# Train Model\n",
    "\n",
    "history = model.fit(train_dataset, \n",
    "                    epochs=200,\n",
    "                    validation_data=val_dataset, \n",
    "                    verbose=1, \n",
    "                    callbacks=[early_stop],\n",
    "                    shuffle=False)"
   ]
  },
  {
   "cell_type": "code",
   "execution_count": 46,
   "id": "0dec1983",
   "metadata": {},
   "outputs": [
    {
     "data": {
      "image/png": "[encoded data removed]",
      "text/plain": [
       "<Figure size 1500x500 with 1 Axes>"
      ]
     },
     "metadata": {},
     "output_type": "display_data"
    }
   ],
   "source": [
    "# Plot History\n",
    "\n",
    "plt.figure(figsize=(15, 5))\n",
    "plt.plot(history.history['loss'], label='train')\n",
    "plt.plot(history.history['val_loss'], label='test')\n",
    "plt.legend()\n",
    "plt.show()"
   ]
  },
  {
   "cell_type": "code",
   "execution_count": null,
   "id": "c6641c63",
   "metadata": {},
   "outputs": [],
   "source": []
  },
  {
   "cell_type": "markdown",
   "id": "47c6a185",
   "metadata": {},
   "source": [
    "<h3>7. Evaluate Model</h3>"
   ]
  },
  {
   "cell_type": "markdown",
   "id": "9ad4df1b",
   "metadata": {},
   "source": [
    "<h4>7.1 Error</h4>"
   ]
  },
  {
   "cell_type": "code",
   "execution_count": 48,
   "id": "60fdda64",
   "metadata": {},
   "outputs": [
    {
     "name": "stdout",
     "output_type": "stream",
     "text": [
      "2/2 [==============================] - 1s 12ms/step\n",
      "Final Mean Squared Error: 0.03095950674486148\n"
     ]
    }
   ],
   "source": [
    "# Final Error\n",
    "\n",
    "preds = model.predict(test_dataset).squeeze()\n",
    "truth = []\n",
    "for x, y in test_dataset:\n",
    "    truth.extend(y.numpy())\n",
    "    \n",
    "mae = np.mean(np.abs(preds-np.array(truth)))\n",
    "print(\"Final Mean Squared Error: {}\".format(mae))"
   ]
  },
  {
   "cell_type": "markdown",
   "id": "aa51f215",
   "metadata": {},
   "source": [
    "<h4>7.2 Predict</h4>"
   ]
  },
  {
   "cell_type": "code",
   "execution_count": 49,
   "id": "2f34efc5",
   "metadata": {},
   "outputs": [],
   "source": [
    "# Predict & Assign to test_df: add values for missing days in preds\n",
    "\n",
    "for i in range(len(preds), test_df.shape[0]):\n",
    "    preds = np.append(preds, 0.0)\n",
    "test_df['preds'] = preds"
   ]
  },
  {
   "cell_type": "code",
   "execution_count": 52,
   "id": "fb3b184d",
   "metadata": {},
   "outputs": [
    {
     "data": {
      "image/png": "[encoded data removed]",
      "text/plain": [
       "<Figure size 1500x500 with 1 Axes>"
      ]
     },
     "metadata": {},
     "output_type": "display_data"
    }
   ],
   "source": [
    "# Plot \n",
    "\n",
    "plt.figure(figsize=(15, 5))\n",
    "plt.title(\"Preds VS Truth\")\n",
    "plt.plot(test_df.index, test_df['preds'], label='pred')\n",
    "plt.plot(test_df.index, test_df[LABEL_COL], label='truth')\n",
    "plt.legend()\n",
    "plt.show()"
   ]
  },
  {
   "cell_type": "code",
   "execution_count": null,
   "id": "8317995c",
   "metadata": {},
   "outputs": [],
   "source": []
  },
  {
   "cell_type": "code",
   "execution_count": null,
   "id": "2783fa15",
   "metadata": {},
   "outputs": [],
   "source": []
  },
  {
   "cell_type": "code",
   "execution_count": null,
   "id": "aebbc110",
   "metadata": {},
   "outputs": [],
   "source": []
  },
  {
   "cell_type": "code",
   "execution_count": null,
   "id": "af64dc2e",
   "metadata": {},
   "outputs": [],
   "source": []
  }
 ],
 "metadata": {
  "kernelspec": {
   "display_name": "Python 3 (ipykernel)",
   "language": "python",
   "name": "python3"
  },
  "language_info": {
   "codemirror_mode": {
    "name": "ipython",
    "version": 3
   },
   "file_extension": ".py",
   "mimetype": "text/x-python",
   "name": "python",
   "nbconvert_exporter": "python",
   "pygments_lexer": "ipython3",
   "version": "3.8.15"
  }
 },
 "nbformat": 4,
 "nbformat_minor": 5
}
