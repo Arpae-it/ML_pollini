{
 "cells": [
  {
   "cell_type": "markdown",
   "id": "89711db3-ecfa-4053-bf52-681910715b1b",
   "metadata": {
    "tags": [],
    "toc-hr-collapsed": true
   },
   "source": [
    "# Clustering Exploratory Data Analysis\n",
    "Notebook to perform clustering analysis on data on BigQuery.<br>"
   ]
  },
  {
   "cell_type": "markdown",
   "id": "891c38f3-464b-4932-b531-a415a0519f9d",
   "metadata": {
    "tags": []
   },
   "source": [
    "## Imports"
   ]
  },
  {
   "cell_type": "code",
   "execution_count": 1,
   "id": "17351dbc",
   "metadata": {
    "tags": []
   },
   "outputs": [],
   "source": [
    "import json\n",
    "import calendar\n",
    "import datetime\n",
    "import warnings\n",
    "import numpy as np\n",
    "import pandas as pd\n",
    "from datetime import timedelta\n",
    "from collections import Counter\n",
    "from google.cloud import bigquery\n",
    "\n",
    "from tqdm.auto import tqdm\n",
    "import seaborn as sns\n",
    "import matplotlib.pyplot as plt\n",
    "\n",
    "import scipy.stats\n",
    "from sklearn.preprocessing import LabelEncoder\n",
    "from statsmodels.tsa.seasonal import seasonal_decompose\n",
    "\n",
    "warnings.filterwarnings('ignore')\n",
    "tqdm.pandas()"
   ]
  },
  {
   "cell_type": "code",
   "execution_count": 2,
   "id": "8f897782-a342-4aa6-af96-1065a1a0065f",
   "metadata": {},
   "outputs": [
    {
     "name": "stderr",
     "output_type": "stream",
     "text": [
      "2023-03-21 16:23:26.810450: I tensorflow/core/platform/cpu_feature_guard.cc:193] This TensorFlow binary is optimized with oneAPI Deep Neural Network Library (oneDNN) to use the following CPU instructions in performance-critical operations:  AVX2 AVX512F AVX512_VNNI FMA\n",
      "To enable them in other operations, rebuild TensorFlow with the appropriate compiler flags.\n",
      "2023-03-21 16:23:26.880366: I tensorflow/core/util/util.cc:169] oneDNN custom operations are on. You may see slightly different numerical results due to floating-point round-off errors from different computation orders. To turn them off, set the environment variable `TF_ENABLE_ONEDNN_OPTS=0`.\n",
      "2023-03-21 16:23:26.903023: E tensorflow/stream_executor/cuda/cuda_blas.cc:2981] Unable to register cuBLAS factory: Attempting to register factory for plugin cuBLAS when one has already been registered\n",
      "2023-03-21 16:23:27.242375: W tensorflow/stream_executor/platform/default/dso_loader.cc:64] Could not load dynamic library 'libnvinfer.so.7'; dlerror: libnvinfer.so.7: cannot open shared object file: No such file or directory\n",
      "2023-03-21 16:23:27.242432: W tensorflow/stream_executor/platform/default/dso_loader.cc:64] Could not load dynamic library 'libnvinfer_plugin.so.7'; dlerror: libnvinfer_plugin.so.7: cannot open shared object file: No such file or directory\n",
      "2023-03-21 16:23:27.242436: W tensorflow/compiler/tf2tensorrt/utils/py_utils.cc:38] TF-TRT Warning: Cannot dlopen some TensorRT libraries. If you would like to use Nvidia GPU with TensorRT, please make sure the missing libraries mentioned above are installed properly.\n"
     ]
    }
   ],
   "source": [
    "import tensorflow as tf\n",
    "from tensorflow.keras.layers import Dense, LSTM, Dropout, Bidirectional, Attention\n",
    "from tensorflow.keras.optimizers import Adam\n",
    "from tensorflow.keras.callbacks import EarlyStopping, ModelCheckpoint\n",
    "from tqdm.keras import TqdmCallback\n",
    "from tensorflow.keras.utils import timeseries_dataset_from_array"
   ]
  },
  {
   "cell_type": "markdown",
   "id": "e09096ab-c7d2-4172-85d3-c466fe00250d",
   "metadata": {
    "tags": []
   },
   "source": [
    "## Config"
   ]
  },
  {
   "cell_type": "code",
   "execution_count": 3,
   "id": "640de2a6-31e6-4f5a-adf7-f438423f5b1c",
   "metadata": {
    "tags": []
   },
   "outputs": [],
   "source": [
    "# Config\n",
    "\n",
    "PROJECT_ID = 'arpae-prod-ml'\n",
    "\n",
    "# BigQuery\n",
    "JOINED_BQ_DATASET = 'JOINED_DATA'\n",
    "# JOINED_DATA_TABLE = \"ALL_METEO_FEATS_POL_DAT\"\n",
    "# JOINED_WEEK_DATA_TABLE = \"ALL_METEO_WEEK_FEATS_POL_DAT\"\n",
    "\n",
    "# 1W Sliding Window Dataset & Features\n",
    "DATASET_TABLE = \"ALL_METEO_FEATS_WEEK_SLIDING_POL_DAT\""
   ]
  },
  {
   "cell_type": "markdown",
   "id": "72c7872e-30ee-444d-8f90-44d1a211f11f",
   "metadata": {
    "tags": []
   },
   "source": [
    "## Methods"
   ]
  },
  {
   "cell_type": "code",
   "execution_count": 4,
   "id": "3e20526a-afd2-47d1-bcc5-255420d4f9a7",
   "metadata": {
    "tags": []
   },
   "outputs": [],
   "source": [
    "# # Read Methods\n",
    "\n",
    "def _run_query(client, query): \n",
    "    df = client.query(query).to_dataframe()\n",
    "    return df\n",
    "\n",
    "def _create_station_widget(df):\n",
    "    station_ids = df.station_id.sort_values().unique()\n",
    "    station_wdgt = widgets.Dropdown(options=station_ids, description='Station Id:', layout={\"width\":\"50%\"})\n",
    "    return station_wdgt\n",
    "\n",
    "def _create_pol_var_id_widget(df):\n",
    "    pol_var_ids = df.pol_var_id.sort_values().unique()\n",
    "    pol_wdgt = widgets.Dropdown(options=pol_var_ids, description='Pol var id:', layout={\"width\":\"50%\"})\n",
    "    return pol_wdgt\n",
    "\n",
    "def min_max_scale(x):\n",
    "    return (x - x.min()) / (x.max() - x.min())"
   ]
  },
  {
   "cell_type": "markdown",
   "id": "ad89a1af-6125-4197-b381-fbed926eecfe",
   "metadata": {
    "tags": [],
    "toc-hr-collapsed": true
   },
   "source": [
    "# 1. Read Data"
   ]
  },
  {
   "cell_type": "markdown",
   "id": "82ce939b-9fb0-4ac9-90e8-99b32e00cdbb",
   "metadata": {
    "tags": []
   },
   "source": [
    "## 1.1 Config BigQuery"
   ]
  },
  {
   "cell_type": "code",
   "execution_count": 5,
   "id": "f9e75aad-52d2-4861-96f0-ccede26e436f",
   "metadata": {
    "tags": []
   },
   "outputs": [
    {
     "data": {
      "text/plain": [
       "<google.cloud.bigquery.client.Client at 0x7fc08ed5f7c0>"
      ]
     },
     "execution_count": 5,
     "metadata": {},
     "output_type": "execute_result"
    }
   ],
   "source": [
    "# Setup Client\n",
    "\n",
    "bq_client = bigquery.Client()\n",
    "bq_client"
   ]
  },
  {
   "cell_type": "code",
   "execution_count": null,
   "id": "06684872-fd7a-43c6-9533-0abe197094a3",
   "metadata": {},
   "outputs": [],
   "source": []
  },
  {
   "cell_type": "markdown",
   "id": "a93b5790-ec45-4497-b652-102d13b09bfc",
   "metadata": {
    "tags": []
   },
   "source": [
    "## 1.2 Read Tables"
   ]
  },
  {
   "cell_type": "code",
   "execution_count": 6,
   "id": "6df38257-8675-4fea-876d-3bc11e2f93f4",
   "metadata": {
    "tags": []
   },
   "outputs": [
    {
     "name": "stdout",
     "output_type": "stream",
     "text": [
      "(33, 3)\n"
     ]
    },
    {
     "data": {
      "text/html": [
       "<div>\n",
       "<style scoped>\n",
       "    .dataframe tbody tr th:only-of-type {\n",
       "        vertical-align: middle;\n",
       "    }\n",
       "\n",
       "    .dataframe tbody tr th {\n",
       "        vertical-align: top;\n",
       "    }\n",
       "\n",
       "    .dataframe thead th {\n",
       "        text-align: right;\n",
       "    }\n",
       "</style>\n",
       "<table border=\"1\" class=\"dataframe\">\n",
       "  <thead>\n",
       "    <tr style=\"text-align: right;\">\n",
       "      <th></th>\n",
       "      <th>var_id</th>\n",
       "      <th>var_descr</th>\n",
       "      <th>eligible</th>\n",
       "    </tr>\n",
       "  </thead>\n",
       "  <tbody>\n",
       "    <tr>\n",
       "      <th>0</th>\n",
       "      <td>B48026</td>\n",
       "      <td>Mirtacee_Mirtacee indistinte, POLLEN/M**3</td>\n",
       "      <td>True</td>\n",
       "    </tr>\n",
       "    <tr>\n",
       "      <th>1</th>\n",
       "      <td>B48006</td>\n",
       "      <td>Composite_Artemisia, POLLEN/M**3</td>\n",
       "      <td>True</td>\n",
       "    </tr>\n",
       "    <tr>\n",
       "      <th>2</th>\n",
       "      <td>B48041</td>\n",
       "      <td>Spore fungine_Stemphylium, POLLEN/M**3</td>\n",
       "      <td>True</td>\n",
       "    </tr>\n",
       "  </tbody>\n",
       "</table>\n",
       "</div>"
      ],
      "text/plain": [
       "   var_id                                  var_descr  eligible\n",
       "0  B48026  Mirtacee_Mirtacee indistinte, POLLEN/M**3      True\n",
       "1  B48006           Composite_Artemisia, POLLEN/M**3      True\n",
       "2  B48041     Spore fungine_Stemphylium, POLLEN/M**3      True"
      ]
     },
     "execution_count": 6,
     "metadata": {},
     "output_type": "execute_result"
    }
   ],
   "source": [
    "# Load B_CODES\n",
    "\n",
    "sql = f\"SELECT * FROM `{PROJECT_ID}.SAMPLE_DATA.B_CODES` WHERE eligible IS true\"\n",
    "b_codes = _run_query(bq_client, sql)\n",
    "\n",
    "print(b_codes.shape)\n",
    "b_codes.head(3)"
   ]
  },
  {
   "cell_type": "code",
   "execution_count": 7,
   "id": "5367ddbb-ed48-498f-89fa-6d6f14281fa5",
   "metadata": {
    "tags": []
   },
   "outputs": [],
   "source": [
    "# # Load BCODE_SOGLIE\n",
    "\n",
    "# sql = f\"SELECT * FROM `{PROJECT_ID}.SAMPLE_DATA.BCODE_SOGLIE`\"\n",
    "# b_codes_soglie = _run_query(bq_client, sql)\n",
    "# b_codes_soglie.head(3)"
   ]
  },
  {
   "cell_type": "code",
   "execution_count": 8,
   "id": "a9d3a212-29f7-4660-a4e1-acd277b963fe",
   "metadata": {
    "tags": []
   },
   "outputs": [
    {
     "name": "stdout",
     "output_type": "stream",
     "text": [
      "(1362107, 47)\n"
     ]
    },
    {
     "data": {
      "text/html": [
       "<div>\n",
       "<style scoped>\n",
       "    .dataframe tbody tr th:only-of-type {\n",
       "        vertical-align: middle;\n",
       "    }\n",
       "\n",
       "    .dataframe tbody tr th {\n",
       "        vertical-align: top;\n",
       "    }\n",
       "\n",
       "    .dataframe thead th {\n",
       "        text-align: right;\n",
       "    }\n",
       "</style>\n",
       "<table border=\"1\" class=\"dataframe\">\n",
       "  <thead>\n",
       "    <tr style=\"text-align: right;\">\n",
       "      <th></th>\n",
       "      <th>station_id</th>\n",
       "      <th>pol_var_date</th>\n",
       "      <th>id_gepo</th>\n",
       "      <th>station_lat</th>\n",
       "      <th>station_lon</th>\n",
       "      <th>station_nome</th>\n",
       "      <th>station_H_piano_strada</th>\n",
       "      <th>station_H_mslm</th>\n",
       "      <th>arkimet_id</th>\n",
       "      <th>arkimet_lat</th>\n",
       "      <th>...</th>\n",
       "      <th>pol_value</th>\n",
       "      <th>modified</th>\n",
       "      <th>pol_var_descr</th>\n",
       "      <th>week</th>\n",
       "      <th>year</th>\n",
       "      <th>POL_max</th>\n",
       "      <th>POL_min</th>\n",
       "      <th>POL_mean</th>\n",
       "      <th>POL_std</th>\n",
       "      <th>POL_sum</th>\n",
       "    </tr>\n",
       "  </thead>\n",
       "  <tbody>\n",
       "    <tr>\n",
       "      <th>0</th>\n",
       "      <td>1</td>\n",
       "      <td>2006-03-01</td>\n",
       "      <td>4181</td>\n",
       "      <td>44.4914</td>\n",
       "      <td>11.3694</td>\n",
       "      <td>Bologna</td>\n",
       "      <td>80.0</td>\n",
       "      <td>101.0</td>\n",
       "      <td>Bologna urbana</td>\n",
       "      <td>44.5008</td>\n",
       "      <td>...</td>\n",
       "      <td>0.0</td>\n",
       "      <td>1</td>\n",
       "      <td>Graminacee_Graminacee indistinte, POLLEN/M**3</td>\n",
       "      <td>9</td>\n",
       "      <td>2006</td>\n",
       "      <td>0.0</td>\n",
       "      <td>0.0</td>\n",
       "      <td>0.0</td>\n",
       "      <td>NaN</td>\n",
       "      <td>0.0</td>\n",
       "    </tr>\n",
       "    <tr>\n",
       "      <th>1</th>\n",
       "      <td>1</td>\n",
       "      <td>2006-03-02</td>\n",
       "      <td>4181</td>\n",
       "      <td>44.4914</td>\n",
       "      <td>11.3694</td>\n",
       "      <td>Bologna</td>\n",
       "      <td>80.0</td>\n",
       "      <td>101.0</td>\n",
       "      <td>Bologna urbana</td>\n",
       "      <td>44.5008</td>\n",
       "      <td>...</td>\n",
       "      <td>0.0</td>\n",
       "      <td>1</td>\n",
       "      <td>Graminacee_Graminacee indistinte, POLLEN/M**3</td>\n",
       "      <td>9</td>\n",
       "      <td>2006</td>\n",
       "      <td>0.0</td>\n",
       "      <td>0.0</td>\n",
       "      <td>0.0</td>\n",
       "      <td>0.0</td>\n",
       "      <td>0.0</td>\n",
       "    </tr>\n",
       "    <tr>\n",
       "      <th>2</th>\n",
       "      <td>1</td>\n",
       "      <td>2006-03-03</td>\n",
       "      <td>4181</td>\n",
       "      <td>44.4914</td>\n",
       "      <td>11.3694</td>\n",
       "      <td>Bologna</td>\n",
       "      <td>80.0</td>\n",
       "      <td>101.0</td>\n",
       "      <td>Bologna urbana</td>\n",
       "      <td>44.5008</td>\n",
       "      <td>...</td>\n",
       "      <td>0.0</td>\n",
       "      <td>1</td>\n",
       "      <td>Graminacee_Graminacee indistinte, POLLEN/M**3</td>\n",
       "      <td>9</td>\n",
       "      <td>2006</td>\n",
       "      <td>0.0</td>\n",
       "      <td>0.0</td>\n",
       "      <td>0.0</td>\n",
       "      <td>0.0</td>\n",
       "      <td>0.0</td>\n",
       "    </tr>\n",
       "  </tbody>\n",
       "</table>\n",
       "<p>3 rows × 47 columns</p>\n",
       "</div>"
      ],
      "text/plain": [
       "   station_id pol_var_date  id_gepo  station_lat  station_lon station_nome  \\\n",
       "0           1   2006-03-01     4181      44.4914      11.3694      Bologna   \n",
       "1           1   2006-03-02     4181      44.4914      11.3694      Bologna   \n",
       "2           1   2006-03-03     4181      44.4914      11.3694      Bologna   \n",
       "\n",
       "   station_H_piano_strada  station_H_mslm      arkimet_id  arkimet_lat  ...  \\\n",
       "0                    80.0           101.0  Bologna urbana      44.5008  ...   \n",
       "1                    80.0           101.0  Bologna urbana      44.5008  ...   \n",
       "2                    80.0           101.0  Bologna urbana      44.5008  ...   \n",
       "\n",
       "   pol_value modified                                  pol_var_descr week  \\\n",
       "0        0.0        1  Graminacee_Graminacee indistinte, POLLEN/M**3    9   \n",
       "1        0.0        1  Graminacee_Graminacee indistinte, POLLEN/M**3    9   \n",
       "2        0.0        1  Graminacee_Graminacee indistinte, POLLEN/M**3    9   \n",
       "\n",
       "   year  POL_max  POL_min  POL_mean  POL_std  POL_sum  \n",
       "0  2006      0.0      0.0       0.0      NaN      0.0  \n",
       "1  2006      0.0      0.0       0.0      0.0      0.0  \n",
       "2  2006      0.0      0.0       0.0      0.0      0.0  \n",
       "\n",
       "[3 rows x 47 columns]"
      ]
     },
     "execution_count": 8,
     "metadata": {},
     "output_type": "execute_result"
    }
   ],
   "source": [
    "# Load all meteo and pollen data\n",
    "\n",
    "sql = f\"\"\"\n",
    "    SELECT DISTINCT *\n",
    "    FROM `{PROJECT_ID}.{JOINED_BQ_DATASET}.{DATASET_TABLE}`\n",
    "    WHERE pol_var_id IN {tuple(b_codes.var_id)}\n",
    "    ORDER BY station_id, pol_var_id, date\n",
    "\"\"\"\n",
    "\n",
    "raw_df = _run_query(bq_client, sql)\n",
    "\n",
    "print(raw_df.shape)\n",
    "raw_df.head(3)"
   ]
  },
  {
   "cell_type": "code",
   "execution_count": null,
   "id": "e6018531-1a19-42d8-b3ee-5b9bb8693a39",
   "metadata": {},
   "outputs": [],
   "source": []
  },
  {
   "cell_type": "code",
   "execution_count": 9,
   "id": "e1d1c94c-b713-4916-8cd1-8c1a7cb34547",
   "metadata": {
    "tags": []
   },
   "outputs": [
    {
     "data": {
      "text/html": [
       "<div>\n",
       "<style scoped>\n",
       "    .dataframe tbody tr th:only-of-type {\n",
       "        vertical-align: middle;\n",
       "    }\n",
       "\n",
       "    .dataframe tbody tr th {\n",
       "        vertical-align: top;\n",
       "    }\n",
       "\n",
       "    .dataframe thead th {\n",
       "        text-align: right;\n",
       "    }\n",
       "</style>\n",
       "<table border=\"1\" class=\"dataframe\">\n",
       "  <thead>\n",
       "    <tr style=\"text-align: right;\">\n",
       "      <th></th>\n",
       "      <th>0</th>\n",
       "      <th>1</th>\n",
       "    </tr>\n",
       "  </thead>\n",
       "  <tbody>\n",
       "    <tr>\n",
       "      <th>station_id</th>\n",
       "      <td>1</td>\n",
       "      <td>1</td>\n",
       "    </tr>\n",
       "    <tr>\n",
       "      <th>pol_var_date</th>\n",
       "      <td>2006-03-01</td>\n",
       "      <td>2006-03-02</td>\n",
       "    </tr>\n",
       "    <tr>\n",
       "      <th>id_gepo</th>\n",
       "      <td>4181</td>\n",
       "      <td>4181</td>\n",
       "    </tr>\n",
       "    <tr>\n",
       "      <th>station_lat</th>\n",
       "      <td>44.4914</td>\n",
       "      <td>44.4914</td>\n",
       "    </tr>\n",
       "    <tr>\n",
       "      <th>station_lon</th>\n",
       "      <td>11.3694</td>\n",
       "      <td>11.3694</td>\n",
       "    </tr>\n",
       "    <tr>\n",
       "      <th>station_nome</th>\n",
       "      <td>Bologna</td>\n",
       "      <td>Bologna</td>\n",
       "    </tr>\n",
       "    <tr>\n",
       "      <th>station_H_piano_strada</th>\n",
       "      <td>80.0</td>\n",
       "      <td>80.0</td>\n",
       "    </tr>\n",
       "    <tr>\n",
       "      <th>station_H_mslm</th>\n",
       "      <td>101.0</td>\n",
       "      <td>101.0</td>\n",
       "    </tr>\n",
       "    <tr>\n",
       "      <th>arkimet_id</th>\n",
       "      <td>Bologna urbana</td>\n",
       "      <td>Bologna urbana</td>\n",
       "    </tr>\n",
       "    <tr>\n",
       "      <th>arkimet_lat</th>\n",
       "      <td>44.5008</td>\n",
       "      <td>44.5008</td>\n",
       "    </tr>\n",
       "    <tr>\n",
       "      <th>arkimet_lon</th>\n",
       "      <td>11.3288</td>\n",
       "      <td>11.3288</td>\n",
       "    </tr>\n",
       "    <tr>\n",
       "      <th>meteo_id</th>\n",
       "      <td>01421</td>\n",
       "      <td>01421</td>\n",
       "    </tr>\n",
       "    <tr>\n",
       "      <th>init_date</th>\n",
       "      <td>2006-02-21</td>\n",
       "      <td>2006-02-22</td>\n",
       "    </tr>\n",
       "    <tr>\n",
       "      <th>end_date</th>\n",
       "      <td>2006-02-28</td>\n",
       "      <td>2006-03-01</td>\n",
       "    </tr>\n",
       "    <tr>\n",
       "      <th>B13011_max</th>\n",
       "      <td>16.8</td>\n",
       "      <td>16.8</td>\n",
       "    </tr>\n",
       "    <tr>\n",
       "      <th>B13011_min</th>\n",
       "      <td>0.0</td>\n",
       "      <td>0.0</td>\n",
       "    </tr>\n",
       "    <tr>\n",
       "      <th>B13011_mean</th>\n",
       "      <td>0.121926</td>\n",
       "      <td>0.111066</td>\n",
       "    </tr>\n",
       "    <tr>\n",
       "      <th>B13011_std</th>\n",
       "      <td>0.536514</td>\n",
       "      <td>0.504375</td>\n",
       "    </tr>\n",
       "    <tr>\n",
       "      <th>B13011_sum</th>\n",
       "      <td>119.0</td>\n",
       "      <td>108.4</td>\n",
       "    </tr>\n",
       "    <tr>\n",
       "      <th>B14198_max</th>\n",
       "      <td>577.0</td>\n",
       "      <td>588.0</td>\n",
       "    </tr>\n",
       "    <tr>\n",
       "      <th>B14198_min</th>\n",
       "      <td>-13.0</td>\n",
       "      <td>-13.0</td>\n",
       "    </tr>\n",
       "    <tr>\n",
       "      <th>B14198_mean</th>\n",
       "      <td>52.46</td>\n",
       "      <td>65.085</td>\n",
       "    </tr>\n",
       "    <tr>\n",
       "      <th>B14198_std</th>\n",
       "      <td>81.682496</td>\n",
       "      <td>98.102184</td>\n",
       "    </tr>\n",
       "    <tr>\n",
       "      <th>B14198_sum</th>\n",
       "      <td>10492.0</td>\n",
       "      <td>13017.0</td>\n",
       "    </tr>\n",
       "    <tr>\n",
       "      <th>TEMP_max</th>\n",
       "      <td>8.3</td>\n",
       "      <td>8.9</td>\n",
       "    </tr>\n",
       "    <tr>\n",
       "      <th>TEMP_min</th>\n",
       "      <td>-0.2</td>\n",
       "      <td>-1.7</td>\n",
       "    </tr>\n",
       "    <tr>\n",
       "      <th>TEMP_mean</th>\n",
       "      <td>4.34375</td>\n",
       "      <td>4.21875</td>\n",
       "    </tr>\n",
       "    <tr>\n",
       "      <th>TEMP_std</th>\n",
       "      <td>2.996365</td>\n",
       "      <td>3.650439</td>\n",
       "    </tr>\n",
       "    <tr>\n",
       "      <th>TEMP_sum</th>\n",
       "      <td>69.5</td>\n",
       "      <td>67.5</td>\n",
       "    </tr>\n",
       "    <tr>\n",
       "      <th>PREC_max</th>\n",
       "      <td>20.7</td>\n",
       "      <td>20.7</td>\n",
       "    </tr>\n",
       "    <tr>\n",
       "      <th>PREC_min</th>\n",
       "      <td>0.0</td>\n",
       "      <td>0.0</td>\n",
       "    </tr>\n",
       "    <tr>\n",
       "      <th>PREC_mean</th>\n",
       "      <td>5.6375</td>\n",
       "      <td>5.1875</td>\n",
       "    </tr>\n",
       "    <tr>\n",
       "      <th>PREC_std</th>\n",
       "      <td>5.6375</td>\n",
       "      <td>5.1875</td>\n",
       "    </tr>\n",
       "    <tr>\n",
       "      <th>PREC_sum</th>\n",
       "      <td>45.1</td>\n",
       "      <td>41.5</td>\n",
       "    </tr>\n",
       "    <tr>\n",
       "      <th>date</th>\n",
       "      <td>2006-03-01</td>\n",
       "      <td>2006-03-02</td>\n",
       "    </tr>\n",
       "    <tr>\n",
       "      <th>shifted_date</th>\n",
       "      <td>2006-02-28</td>\n",
       "      <td>2006-03-01</td>\n",
       "    </tr>\n",
       "    <tr>\n",
       "      <th>pol_var_id</th>\n",
       "      <td>B48001</td>\n",
       "      <td>B48001</td>\n",
       "    </tr>\n",
       "    <tr>\n",
       "      <th>pol_value</th>\n",
       "      <td>0.0</td>\n",
       "      <td>0.0</td>\n",
       "    </tr>\n",
       "    <tr>\n",
       "      <th>modified</th>\n",
       "      <td>1</td>\n",
       "      <td>1</td>\n",
       "    </tr>\n",
       "    <tr>\n",
       "      <th>pol_var_descr</th>\n",
       "      <td>Graminacee_Graminacee indistinte, POLLEN/M**3</td>\n",
       "      <td>Graminacee_Graminacee indistinte, POLLEN/M**3</td>\n",
       "    </tr>\n",
       "    <tr>\n",
       "      <th>week</th>\n",
       "      <td>9</td>\n",
       "      <td>9</td>\n",
       "    </tr>\n",
       "    <tr>\n",
       "      <th>year</th>\n",
       "      <td>2006</td>\n",
       "      <td>2006</td>\n",
       "    </tr>\n",
       "    <tr>\n",
       "      <th>POL_max</th>\n",
       "      <td>0.0</td>\n",
       "      <td>0.0</td>\n",
       "    </tr>\n",
       "    <tr>\n",
       "      <th>POL_min</th>\n",
       "      <td>0.0</td>\n",
       "      <td>0.0</td>\n",
       "    </tr>\n",
       "    <tr>\n",
       "      <th>POL_mean</th>\n",
       "      <td>0.0</td>\n",
       "      <td>0.0</td>\n",
       "    </tr>\n",
       "    <tr>\n",
       "      <th>POL_std</th>\n",
       "      <td>NaN</td>\n",
       "      <td>0.0</td>\n",
       "    </tr>\n",
       "    <tr>\n",
       "      <th>POL_sum</th>\n",
       "      <td>0.0</td>\n",
       "      <td>0.0</td>\n",
       "    </tr>\n",
       "  </tbody>\n",
       "</table>\n",
       "</div>"
      ],
      "text/plain": [
       "                                                                    0  \\\n",
       "station_id                                                          1   \n",
       "pol_var_date                                               2006-03-01   \n",
       "id_gepo                                                          4181   \n",
       "station_lat                                                   44.4914   \n",
       "station_lon                                                   11.3694   \n",
       "station_nome                                                  Bologna   \n",
       "station_H_piano_strada                                           80.0   \n",
       "station_H_mslm                                                  101.0   \n",
       "arkimet_id                                             Bologna urbana   \n",
       "arkimet_lat                                                   44.5008   \n",
       "arkimet_lon                                                   11.3288   \n",
       "meteo_id                                                        01421   \n",
       "init_date                                                  2006-02-21   \n",
       "end_date                                                   2006-02-28   \n",
       "B13011_max                                                       16.8   \n",
       "B13011_min                                                        0.0   \n",
       "B13011_mean                                                  0.121926   \n",
       "B13011_std                                                   0.536514   \n",
       "B13011_sum                                                      119.0   \n",
       "B14198_max                                                      577.0   \n",
       "B14198_min                                                      -13.0   \n",
       "B14198_mean                                                     52.46   \n",
       "B14198_std                                                  81.682496   \n",
       "B14198_sum                                                    10492.0   \n",
       "TEMP_max                                                          8.3   \n",
       "TEMP_min                                                         -0.2   \n",
       "TEMP_mean                                                     4.34375   \n",
       "TEMP_std                                                     2.996365   \n",
       "TEMP_sum                                                         69.5   \n",
       "PREC_max                                                         20.7   \n",
       "PREC_min                                                          0.0   \n",
       "PREC_mean                                                      5.6375   \n",
       "PREC_std                                                       5.6375   \n",
       "PREC_sum                                                         45.1   \n",
       "date                                                       2006-03-01   \n",
       "shifted_date                                               2006-02-28   \n",
       "pol_var_id                                                     B48001   \n",
       "pol_value                                                         0.0   \n",
       "modified                                                            1   \n",
       "pol_var_descr           Graminacee_Graminacee indistinte, POLLEN/M**3   \n",
       "week                                                                9   \n",
       "year                                                             2006   \n",
       "POL_max                                                           0.0   \n",
       "POL_min                                                           0.0   \n",
       "POL_mean                                                          0.0   \n",
       "POL_std                                                           NaN   \n",
       "POL_sum                                                           0.0   \n",
       "\n",
       "                                                                    1  \n",
       "station_id                                                          1  \n",
       "pol_var_date                                               2006-03-02  \n",
       "id_gepo                                                          4181  \n",
       "station_lat                                                   44.4914  \n",
       "station_lon                                                   11.3694  \n",
       "station_nome                                                  Bologna  \n",
       "station_H_piano_strada                                           80.0  \n",
       "station_H_mslm                                                  101.0  \n",
       "arkimet_id                                             Bologna urbana  \n",
       "arkimet_lat                                                   44.5008  \n",
       "arkimet_lon                                                   11.3288  \n",
       "meteo_id                                                        01421  \n",
       "init_date                                                  2006-02-22  \n",
       "end_date                                                   2006-03-01  \n",
       "B13011_max                                                       16.8  \n",
       "B13011_min                                                        0.0  \n",
       "B13011_mean                                                  0.111066  \n",
       "B13011_std                                                   0.504375  \n",
       "B13011_sum                                                      108.4  \n",
       "B14198_max                                                      588.0  \n",
       "B14198_min                                                      -13.0  \n",
       "B14198_mean                                                    65.085  \n",
       "B14198_std                                                  98.102184  \n",
       "B14198_sum                                                    13017.0  \n",
       "TEMP_max                                                          8.9  \n",
       "TEMP_min                                                         -1.7  \n",
       "TEMP_mean                                                     4.21875  \n",
       "TEMP_std                                                     3.650439  \n",
       "TEMP_sum                                                         67.5  \n",
       "PREC_max                                                         20.7  \n",
       "PREC_min                                                          0.0  \n",
       "PREC_mean                                                      5.1875  \n",
       "PREC_std                                                       5.1875  \n",
       "PREC_sum                                                         41.5  \n",
       "date                                                       2006-03-02  \n",
       "shifted_date                                               2006-03-01  \n",
       "pol_var_id                                                     B48001  \n",
       "pol_value                                                         0.0  \n",
       "modified                                                            1  \n",
       "pol_var_descr           Graminacee_Graminacee indistinte, POLLEN/M**3  \n",
       "week                                                                9  \n",
       "year                                                             2006  \n",
       "POL_max                                                           0.0  \n",
       "POL_min                                                           0.0  \n",
       "POL_mean                                                          0.0  \n",
       "POL_std                                                           0.0  \n",
       "POL_sum                                                           0.0  "
      ]
     },
     "execution_count": 9,
     "metadata": {},
     "output_type": "execute_result"
    }
   ],
   "source": [
    "raw_df.iloc[:2].T"
   ]
  },
  {
   "cell_type": "code",
   "execution_count": null,
   "id": "fa9465eb-39f5-4b5d-80fc-4c46a7db2361",
   "metadata": {},
   "outputs": [],
   "source": []
  },
  {
   "cell_type": "markdown",
   "id": "e28714c7-cb1a-42b9-a830-b8cc84fc2a95",
   "metadata": {
    "tags": []
   },
   "source": [
    "## 1.3 Load clustering results"
   ]
  },
  {
   "cell_type": "code",
   "execution_count": 10,
   "id": "45c8429f-4512-436a-a8ca-f80a38636899",
   "metadata": {
    "tags": []
   },
   "outputs": [
    {
     "name": "stdout",
     "output_type": "stream",
     "text": [
      "(363, 3)\n"
     ]
    },
    {
     "data": {
      "text/html": [
       "<div>\n",
       "<style scoped>\n",
       "    .dataframe tbody tr th:only-of-type {\n",
       "        vertical-align: middle;\n",
       "    }\n",
       "\n",
       "    .dataframe tbody tr th {\n",
       "        vertical-align: top;\n",
       "    }\n",
       "\n",
       "    .dataframe thead th {\n",
       "        text-align: right;\n",
       "    }\n",
       "</style>\n",
       "<table border=\"1\" class=\"dataframe\">\n",
       "  <thead>\n",
       "    <tr style=\"text-align: right;\">\n",
       "      <th></th>\n",
       "      <th>station_id</th>\n",
       "      <th>pol_var_id</th>\n",
       "      <th>cluster</th>\n",
       "    </tr>\n",
       "  </thead>\n",
       "  <tbody>\n",
       "    <tr>\n",
       "      <th>167</th>\n",
       "      <td>4</td>\n",
       "      <td>B48003</td>\n",
       "      <td>2</td>\n",
       "    </tr>\n",
       "    <tr>\n",
       "      <th>42</th>\n",
       "      <td>11</td>\n",
       "      <td>B48013</td>\n",
       "      <td>4</td>\n",
       "    </tr>\n",
       "    <tr>\n",
       "      <th>15</th>\n",
       "      <td>10</td>\n",
       "      <td>B48021</td>\n",
       "      <td>10</td>\n",
       "    </tr>\n",
       "  </tbody>\n",
       "</table>\n",
       "</div>"
      ],
      "text/plain": [
       "     station_id pol_var_id  cluster\n",
       "167           4     B48003        2\n",
       "42           11     B48013        4\n",
       "15           10     B48021       10"
      ]
     },
     "execution_count": 10,
     "metadata": {},
     "output_type": "execute_result"
    }
   ],
   "source": [
    "clusters = pd.read_csv(\"../../data/clusters/clustering_tsd_intervals.csv\")\n",
    "\n",
    "print(clusters.shape)\n",
    "clusters.sample(3)"
   ]
  },
  {
   "cell_type": "code",
   "execution_count": 11,
   "id": "f76061a8-887f-47a5-a5fa-93b1ef2a1bce",
   "metadata": {
    "tags": []
   },
   "outputs": [
    {
     "data": {
      "image/png": "[encoded data removed]",
      "text/plain": [
       "<Figure size 800x400 with 1 Axes>"
      ]
     },
     "metadata": {},
     "output_type": "display_data"
    }
   ],
   "source": [
    "plt.figure(figsize=(8,4))\n",
    "plt.title(\"Number of specie/station per cluster\")\n",
    "sns.countplot(x=clusters[\"cluster\"]);"
   ]
  },
  {
   "cell_type": "code",
   "execution_count": null,
   "id": "73e3de17-7227-4b6a-a6b8-6360f2562998",
   "metadata": {},
   "outputs": [],
   "source": []
  },
  {
   "cell_type": "markdown",
   "id": "51f77d61-df3a-4b4b-99f1-6a865be9e5ed",
   "metadata": {
    "tags": []
   },
   "source": [
    "# 2. Data preprocess"
   ]
  },
  {
   "cell_type": "code",
   "execution_count": 12,
   "id": "479281f1-ae0f-48ce-98cf-112b2e198154",
   "metadata": {
    "tags": []
   },
   "outputs": [],
   "source": [
    "raw_df.sort_values([\"station_id\", \"pol_var_id\", \"date\"], inplace=True)"
   ]
  },
  {
   "cell_type": "code",
   "execution_count": 13,
   "id": "118e8137-742d-4fc8-9b7c-6ee023bff373",
   "metadata": {
    "tags": []
   },
   "outputs": [],
   "source": [
    "# Convert dates to datetime format\n",
    "raw_df.date = pd.to_datetime(raw_df.date)\n",
    "\n",
    "raw_df[\"month\"] = raw_df.date.dt.month\n",
    "# df[\"day\"] = df.date.dt.day"
   ]
  },
  {
   "cell_type": "code",
   "execution_count": 14,
   "id": "05a494c6-9046-4ccc-a761-fa9b6d4ddf3c",
   "metadata": {
    "tags": []
   },
   "outputs": [],
   "source": [
    "# Set datetime as index\n",
    "# raw_df.set_index([\"pol_var_id\", \"station_id\", \"date\"], inplace=True)\n",
    "raw_df.set_index(\"date\", inplace=True)"
   ]
  },
  {
   "cell_type": "code",
   "execution_count": 15,
   "id": "88be9f9a-f276-4e17-b5dc-35220eccc753",
   "metadata": {
    "tags": []
   },
   "outputs": [],
   "source": [
    "### Sort dataset\n",
    "raw_df.sort_values(by=['station_id', \"pol_var_id\", 'date'], ascending=True, inplace=True)"
   ]
  },
  {
   "cell_type": "code",
   "execution_count": 16,
   "id": "574b5cea-5c21-4e29-9855-d4728449ccaa",
   "metadata": {
    "tags": []
   },
   "outputs": [],
   "source": [
    "# raw_df.drop([\"arkimet_id\", \"pol_var_descr\", \"station_nome\", \"shifted_date\", \"year\", \"meteo_id\", \"modified\"], axis=1).iloc[:3].T"
   ]
  },
  {
   "cell_type": "code",
   "execution_count": 17,
   "id": "177d6e02-8d89-4ef7-ae48-4a3b9c0e204a",
   "metadata": {},
   "outputs": [
    {
     "name": "stdout",
     "output_type": "stream",
     "text": [
      "(1362107, 47)\n"
     ]
    },
    {
     "data": {
      "text/html": [
       "<div>\n",
       "<style scoped>\n",
       "    .dataframe tbody tr th:only-of-type {\n",
       "        vertical-align: middle;\n",
       "    }\n",
       "\n",
       "    .dataframe tbody tr th {\n",
       "        vertical-align: top;\n",
       "    }\n",
       "\n",
       "    .dataframe thead th {\n",
       "        text-align: right;\n",
       "    }\n",
       "</style>\n",
       "<table border=\"1\" class=\"dataframe\">\n",
       "  <thead>\n",
       "    <tr style=\"text-align: right;\">\n",
       "      <th></th>\n",
       "      <th>station_id</th>\n",
       "      <th>pol_var_date</th>\n",
       "      <th>id_gepo</th>\n",
       "      <th>station_lat</th>\n",
       "      <th>station_lon</th>\n",
       "      <th>station_nome</th>\n",
       "      <th>station_H_piano_strada</th>\n",
       "      <th>station_H_mslm</th>\n",
       "      <th>arkimet_id</th>\n",
       "      <th>arkimet_lat</th>\n",
       "      <th>...</th>\n",
       "      <th>modified</th>\n",
       "      <th>pol_var_descr</th>\n",
       "      <th>week</th>\n",
       "      <th>year</th>\n",
       "      <th>POL_max</th>\n",
       "      <th>POL_min</th>\n",
       "      <th>POL_mean</th>\n",
       "      <th>POL_std</th>\n",
       "      <th>POL_sum</th>\n",
       "      <th>month</th>\n",
       "    </tr>\n",
       "    <tr>\n",
       "      <th>date</th>\n",
       "      <th></th>\n",
       "      <th></th>\n",
       "      <th></th>\n",
       "      <th></th>\n",
       "      <th></th>\n",
       "      <th></th>\n",
       "      <th></th>\n",
       "      <th></th>\n",
       "      <th></th>\n",
       "      <th></th>\n",
       "      <th></th>\n",
       "      <th></th>\n",
       "      <th></th>\n",
       "      <th></th>\n",
       "      <th></th>\n",
       "      <th></th>\n",
       "      <th></th>\n",
       "      <th></th>\n",
       "      <th></th>\n",
       "      <th></th>\n",
       "      <th></th>\n",
       "    </tr>\n",
       "  </thead>\n",
       "  <tbody>\n",
       "    <tr>\n",
       "      <th>2006-03-01</th>\n",
       "      <td>1</td>\n",
       "      <td>2006-03-01</td>\n",
       "      <td>4181</td>\n",
       "      <td>44.4914</td>\n",
       "      <td>11.3694</td>\n",
       "      <td>Bologna</td>\n",
       "      <td>80.0</td>\n",
       "      <td>101.0</td>\n",
       "      <td>Bologna urbana</td>\n",
       "      <td>44.5008</td>\n",
       "      <td>...</td>\n",
       "      <td>1</td>\n",
       "      <td>Graminacee_Graminacee indistinte, POLLEN/M**3</td>\n",
       "      <td>9</td>\n",
       "      <td>2006</td>\n",
       "      <td>0.0</td>\n",
       "      <td>0.0</td>\n",
       "      <td>0.0</td>\n",
       "      <td>NaN</td>\n",
       "      <td>0.0</td>\n",
       "      <td>3</td>\n",
       "    </tr>\n",
       "    <tr>\n",
       "      <th>2006-03-02</th>\n",
       "      <td>1</td>\n",
       "      <td>2006-03-02</td>\n",
       "      <td>4181</td>\n",
       "      <td>44.4914</td>\n",
       "      <td>11.3694</td>\n",
       "      <td>Bologna</td>\n",
       "      <td>80.0</td>\n",
       "      <td>101.0</td>\n",
       "      <td>Bologna urbana</td>\n",
       "      <td>44.5008</td>\n",
       "      <td>...</td>\n",
       "      <td>1</td>\n",
       "      <td>Graminacee_Graminacee indistinte, POLLEN/M**3</td>\n",
       "      <td>9</td>\n",
       "      <td>2006</td>\n",
       "      <td>0.0</td>\n",
       "      <td>0.0</td>\n",
       "      <td>0.0</td>\n",
       "      <td>0.0</td>\n",
       "      <td>0.0</td>\n",
       "      <td>3</td>\n",
       "    </tr>\n",
       "    <tr>\n",
       "      <th>2006-03-03</th>\n",
       "      <td>1</td>\n",
       "      <td>2006-03-03</td>\n",
       "      <td>4181</td>\n",
       "      <td>44.4914</td>\n",
       "      <td>11.3694</td>\n",
       "      <td>Bologna</td>\n",
       "      <td>80.0</td>\n",
       "      <td>101.0</td>\n",
       "      <td>Bologna urbana</td>\n",
       "      <td>44.5008</td>\n",
       "      <td>...</td>\n",
       "      <td>1</td>\n",
       "      <td>Graminacee_Graminacee indistinte, POLLEN/M**3</td>\n",
       "      <td>9</td>\n",
       "      <td>2006</td>\n",
       "      <td>0.0</td>\n",
       "      <td>0.0</td>\n",
       "      <td>0.0</td>\n",
       "      <td>0.0</td>\n",
       "      <td>0.0</td>\n",
       "      <td>3</td>\n",
       "    </tr>\n",
       "    <tr>\n",
       "      <th>2006-03-04</th>\n",
       "      <td>1</td>\n",
       "      <td>2006-03-04</td>\n",
       "      <td>4181</td>\n",
       "      <td>44.4914</td>\n",
       "      <td>11.3694</td>\n",
       "      <td>Bologna</td>\n",
       "      <td>80.0</td>\n",
       "      <td>101.0</td>\n",
       "      <td>Bologna urbana</td>\n",
       "      <td>44.5008</td>\n",
       "      <td>...</td>\n",
       "      <td>1</td>\n",
       "      <td>Graminacee_Graminacee indistinte, POLLEN/M**3</td>\n",
       "      <td>9</td>\n",
       "      <td>2006</td>\n",
       "      <td>0.0</td>\n",
       "      <td>0.0</td>\n",
       "      <td>0.0</td>\n",
       "      <td>0.0</td>\n",
       "      <td>0.0</td>\n",
       "      <td>3</td>\n",
       "    </tr>\n",
       "    <tr>\n",
       "      <th>2006-03-05</th>\n",
       "      <td>1</td>\n",
       "      <td>2006-03-05</td>\n",
       "      <td>4181</td>\n",
       "      <td>44.4914</td>\n",
       "      <td>11.3694</td>\n",
       "      <td>Bologna</td>\n",
       "      <td>80.0</td>\n",
       "      <td>101.0</td>\n",
       "      <td>Bologna urbana</td>\n",
       "      <td>44.5008</td>\n",
       "      <td>...</td>\n",
       "      <td>1</td>\n",
       "      <td>Graminacee_Graminacee indistinte, POLLEN/M**3</td>\n",
       "      <td>10</td>\n",
       "      <td>2006</td>\n",
       "      <td>0.0</td>\n",
       "      <td>0.0</td>\n",
       "      <td>0.0</td>\n",
       "      <td>0.0</td>\n",
       "      <td>0.0</td>\n",
       "      <td>3</td>\n",
       "    </tr>\n",
       "  </tbody>\n",
       "</table>\n",
       "<p>5 rows × 47 columns</p>\n",
       "</div>"
      ],
      "text/plain": [
       "            station_id pol_var_date  id_gepo  station_lat  station_lon  \\\n",
       "date                                                                     \n",
       "2006-03-01           1   2006-03-01     4181      44.4914      11.3694   \n",
       "2006-03-02           1   2006-03-02     4181      44.4914      11.3694   \n",
       "2006-03-03           1   2006-03-03     4181      44.4914      11.3694   \n",
       "2006-03-04           1   2006-03-04     4181      44.4914      11.3694   \n",
       "2006-03-05           1   2006-03-05     4181      44.4914      11.3694   \n",
       "\n",
       "           station_nome  station_H_piano_strada  station_H_mslm  \\\n",
       "date                                                              \n",
       "2006-03-01      Bologna                    80.0           101.0   \n",
       "2006-03-02      Bologna                    80.0           101.0   \n",
       "2006-03-03      Bologna                    80.0           101.0   \n",
       "2006-03-04      Bologna                    80.0           101.0   \n",
       "2006-03-05      Bologna                    80.0           101.0   \n",
       "\n",
       "                arkimet_id  arkimet_lat  ...  modified  \\\n",
       "date                                     ...             \n",
       "2006-03-01  Bologna urbana      44.5008  ...         1   \n",
       "2006-03-02  Bologna urbana      44.5008  ...         1   \n",
       "2006-03-03  Bologna urbana      44.5008  ...         1   \n",
       "2006-03-04  Bologna urbana      44.5008  ...         1   \n",
       "2006-03-05  Bologna urbana      44.5008  ...         1   \n",
       "\n",
       "                                            pol_var_descr week  year  POL_max  \\\n",
       "date                                                                            \n",
       "2006-03-01  Graminacee_Graminacee indistinte, POLLEN/M**3    9  2006      0.0   \n",
       "2006-03-02  Graminacee_Graminacee indistinte, POLLEN/M**3    9  2006      0.0   \n",
       "2006-03-03  Graminacee_Graminacee indistinte, POLLEN/M**3    9  2006      0.0   \n",
       "2006-03-04  Graminacee_Graminacee indistinte, POLLEN/M**3    9  2006      0.0   \n",
       "2006-03-05  Graminacee_Graminacee indistinte, POLLEN/M**3   10  2006      0.0   \n",
       "\n",
       "            POL_min  POL_mean  POL_std  POL_sum  month  \n",
       "date                                                    \n",
       "2006-03-01      0.0       0.0      NaN      0.0      3  \n",
       "2006-03-02      0.0       0.0      0.0      0.0      3  \n",
       "2006-03-03      0.0       0.0      0.0      0.0      3  \n",
       "2006-03-04      0.0       0.0      0.0      0.0      3  \n",
       "2006-03-05      0.0       0.0      0.0      0.0      3  \n",
       "\n",
       "[5 rows x 47 columns]"
      ]
     },
     "execution_count": 17,
     "metadata": {},
     "output_type": "execute_result"
    }
   ],
   "source": [
    "print(raw_df.shape)\n",
    "raw_df.head(5)"
   ]
  },
  {
   "cell_type": "code",
   "execution_count": null,
   "id": "d8d39900-345c-4b2f-8e26-1e28618765e4",
   "metadata": {},
   "outputs": [],
   "source": []
  },
  {
   "cell_type": "markdown",
   "id": "aea680c5-eab0-49f5-a353-b1beb49f37fd",
   "metadata": {
    "tags": []
   },
   "source": [
    "# 3. Feature process"
   ]
  },
  {
   "cell_type": "markdown",
   "id": "512cc15a-86e5-4936-9550-8b91de68a0ea",
   "metadata": {},
   "source": [
    "## 3.1 Adding Seasonal trend as feature"
   ]
  },
  {
   "cell_type": "code",
   "execution_count": 18,
   "id": "327ffe0b-f404-46cf-aae4-9ac048361539",
   "metadata": {
    "tags": []
   },
   "outputs": [
    {
     "data": {
      "application/vnd.jupyter.widget-view+json": {
       "model_id": "c53b1e2500ce4689b2d2661d4cbc03e5",
       "version_major": 2,
       "version_minor": 0
      },
      "text/plain": [
       "  0%|          | 0/363 [00:00<?, ?it/s]"
      ]
     },
     "metadata": {},
     "output_type": "display_data"
    }
   ],
   "source": [
    "seasonal_feature = \"seasonal\"\n",
    "\n",
    "raw_df[seasonal_feature] = None\n",
    "for (stat_id, specie_id), specie_data in tqdm(raw_df.groupby([\"station_id\", \"pol_var_id\"])):\n",
    "    \n",
    "    # Prepare specie data\n",
    "    specie_data.sort_index(inplace=True)\n",
    "    specie_pollen = specie_data[[\"pol_value\"]].resample('D').interpolate()\n",
    "    \n",
    "    # Evaluate seasonal\n",
    "    decomposition = seasonal_decompose(specie_pollen, period=365, model='additive')\n",
    "    specie_seasonal = decomposition.seasonal\n",
    "    \n",
    "    # Join seasonal feautre\n",
    "    mask = ((raw_df.station_id == stat_id) & (raw_df.pol_var_id == specie_id)) # get specie mask\n",
    "    specie_seasonal = specie_seasonal.reindex(raw_df.loc[mask].index) # reindex due to index diff\n",
    "    raw_df.loc[mask, seasonal_feature] = specie_seasonal # now we can add the seasonal feature\n",
    "\n",
    "raw_df.seasonal = raw_df.seasonal.astype(float)"
   ]
  },
  {
   "cell_type": "code",
   "execution_count": 19,
   "id": "94581b66-7611-4b67-9cf1-a6e2761c7527",
   "metadata": {},
   "outputs": [
    {
     "name": "stdout",
     "output_type": "stream",
     "text": [
      "(1362107, 48)\n"
     ]
    }
   ],
   "source": [
    "print(raw_df.shape)"
   ]
  },
  {
   "cell_type": "markdown",
   "id": "cab47b45-54c4-4303-884f-567fa3d2f706",
   "metadata": {
    "tags": []
   },
   "source": [
    "# 4. Select data and generate windows"
   ]
  },
  {
   "cell_type": "markdown",
   "id": "143712b9-6788-4471-a4b7-464e26976128",
   "metadata": {},
   "source": [
    "### 4.1 Select Cluster"
   ]
  },
  {
   "cell_type": "code",
   "execution_count": 20,
   "id": "82c7d2dc-fcea-4b3f-97fd-d961f1fee9ac",
   "metadata": {
    "tags": []
   },
   "outputs": [
    {
     "data": {
      "text/html": [
       "<div>\n",
       "<style scoped>\n",
       "    .dataframe tbody tr th:only-of-type {\n",
       "        vertical-align: middle;\n",
       "    }\n",
       "\n",
       "    .dataframe tbody tr th {\n",
       "        vertical-align: top;\n",
       "    }\n",
       "\n",
       "    .dataframe thead th {\n",
       "        text-align: right;\n",
       "    }\n",
       "</style>\n",
       "<table border=\"1\" class=\"dataframe\">\n",
       "  <thead>\n",
       "    <tr style=\"text-align: right;\">\n",
       "      <th></th>\n",
       "      <th>station_id</th>\n",
       "      <th>pol_var_id</th>\n",
       "      <th>cluster</th>\n",
       "    </tr>\n",
       "  </thead>\n",
       "  <tbody>\n",
       "    <tr>\n",
       "      <th>7</th>\n",
       "      <td>10</td>\n",
       "      <td>B48011</td>\n",
       "      <td>11</td>\n",
       "    </tr>\n",
       "    <tr>\n",
       "      <th>13</th>\n",
       "      <td>10</td>\n",
       "      <td>B48018</td>\n",
       "      <td>11</td>\n",
       "    </tr>\n",
       "    <tr>\n",
       "      <th>46</th>\n",
       "      <td>11</td>\n",
       "      <td>B48018</td>\n",
       "      <td>11</td>\n",
       "    </tr>\n",
       "    <tr>\n",
       "      <th>79</th>\n",
       "      <td>13</td>\n",
       "      <td>B48018</td>\n",
       "      <td>11</td>\n",
       "    </tr>\n",
       "    <tr>\n",
       "      <th>106</th>\n",
       "      <td>1</td>\n",
       "      <td>B48011</td>\n",
       "      <td>11</td>\n",
       "    </tr>\n",
       "    <tr>\n",
       "      <th>112</th>\n",
       "      <td>1</td>\n",
       "      <td>B48018</td>\n",
       "      <td>11</td>\n",
       "    </tr>\n",
       "    <tr>\n",
       "      <th>145</th>\n",
       "      <td>2</td>\n",
       "      <td>B48018</td>\n",
       "      <td>11</td>\n",
       "    </tr>\n",
       "    <tr>\n",
       "      <th>178</th>\n",
       "      <td>4</td>\n",
       "      <td>B48018</td>\n",
       "      <td>11</td>\n",
       "    </tr>\n",
       "    <tr>\n",
       "      <th>211</th>\n",
       "      <td>5</td>\n",
       "      <td>B48018</td>\n",
       "      <td>11</td>\n",
       "    </tr>\n",
       "    <tr>\n",
       "      <th>238</th>\n",
       "      <td>6</td>\n",
       "      <td>B48011</td>\n",
       "      <td>11</td>\n",
       "    </tr>\n",
       "    <tr>\n",
       "      <th>244</th>\n",
       "      <td>6</td>\n",
       "      <td>B48018</td>\n",
       "      <td>11</td>\n",
       "    </tr>\n",
       "    <tr>\n",
       "      <th>271</th>\n",
       "      <td>7</td>\n",
       "      <td>B48011</td>\n",
       "      <td>11</td>\n",
       "    </tr>\n",
       "    <tr>\n",
       "      <th>277</th>\n",
       "      <td>7</td>\n",
       "      <td>B48018</td>\n",
       "      <td>11</td>\n",
       "    </tr>\n",
       "    <tr>\n",
       "      <th>304</th>\n",
       "      <td>8</td>\n",
       "      <td>B48011</td>\n",
       "      <td>11</td>\n",
       "    </tr>\n",
       "    <tr>\n",
       "      <th>310</th>\n",
       "      <td>8</td>\n",
       "      <td>B48018</td>\n",
       "      <td>11</td>\n",
       "    </tr>\n",
       "    <tr>\n",
       "      <th>337</th>\n",
       "      <td>9</td>\n",
       "      <td>B48011</td>\n",
       "      <td>11</td>\n",
       "    </tr>\n",
       "    <tr>\n",
       "      <th>343</th>\n",
       "      <td>9</td>\n",
       "      <td>B48018</td>\n",
       "      <td>11</td>\n",
       "    </tr>\n",
       "  </tbody>\n",
       "</table>\n",
       "</div>"
      ],
      "text/plain": [
       "     station_id pol_var_id  cluster\n",
       "7            10     B48011       11\n",
       "13           10     B48018       11\n",
       "46           11     B48018       11\n",
       "79           13     B48018       11\n",
       "106           1     B48011       11\n",
       "112           1     B48018       11\n",
       "145           2     B48018       11\n",
       "178           4     B48018       11\n",
       "211           5     B48018       11\n",
       "238           6     B48011       11\n",
       "244           6     B48018       11\n",
       "271           7     B48011       11\n",
       "277           7     B48018       11\n",
       "304           8     B48011       11\n",
       "310           8     B48018       11\n",
       "337           9     B48011       11\n",
       "343           9     B48018       11"
      ]
     },
     "execution_count": 20,
     "metadata": {},
     "output_type": "execute_result"
    }
   ],
   "source": [
    "cluster_n = 11\n",
    "\n",
    "specie_cluster = clusters[clusters.cluster == cluster_n] #.sample(1) ### .sample() is for debugging purpose!\n",
    "specie_cluster"
   ]
  },
  {
   "cell_type": "markdown",
   "id": "f0a44310-8ec9-4eb0-af87-a81216fdd6eb",
   "metadata": {},
   "source": [
    "### 4.2 Select data"
   ]
  },
  {
   "cell_type": "code",
   "execution_count": 21,
   "id": "47373ace-86f3-4011-8143-794b3dc7f7d9",
   "metadata": {
    "tags": []
   },
   "outputs": [
    {
     "name": "stdout",
     "output_type": "stream",
     "text": [
      "(67127, 49)\n"
     ]
    },
    {
     "data": {
      "text/html": [
       "<div>\n",
       "<style scoped>\n",
       "    .dataframe tbody tr th:only-of-type {\n",
       "        vertical-align: middle;\n",
       "    }\n",
       "\n",
       "    .dataframe tbody tr th {\n",
       "        vertical-align: top;\n",
       "    }\n",
       "\n",
       "    .dataframe thead th {\n",
       "        text-align: right;\n",
       "    }\n",
       "</style>\n",
       "<table border=\"1\" class=\"dataframe\">\n",
       "  <thead>\n",
       "    <tr style=\"text-align: right;\">\n",
       "      <th></th>\n",
       "      <th>station_id</th>\n",
       "      <th>pol_var_date</th>\n",
       "      <th>id_gepo</th>\n",
       "      <th>station_lat</th>\n",
       "      <th>station_lon</th>\n",
       "      <th>station_nome</th>\n",
       "      <th>station_H_piano_strada</th>\n",
       "      <th>station_H_mslm</th>\n",
       "      <th>arkimet_id</th>\n",
       "      <th>arkimet_lat</th>\n",
       "      <th>...</th>\n",
       "      <th>week</th>\n",
       "      <th>year</th>\n",
       "      <th>POL_max</th>\n",
       "      <th>POL_min</th>\n",
       "      <th>POL_mean</th>\n",
       "      <th>POL_std</th>\n",
       "      <th>POL_sum</th>\n",
       "      <th>month</th>\n",
       "      <th>seasonal</th>\n",
       "      <th>cluster</th>\n",
       "    </tr>\n",
       "  </thead>\n",
       "  <tbody>\n",
       "    <tr>\n",
       "      <th>1</th>\n",
       "      <td>1</td>\n",
       "      <td>2006-04-02</td>\n",
       "      <td>4181</td>\n",
       "      <td>44.4914</td>\n",
       "      <td>11.3694</td>\n",
       "      <td>Bologna</td>\n",
       "      <td>80.0</td>\n",
       "      <td>101.0</td>\n",
       "      <td>Bologna urbana</td>\n",
       "      <td>44.5008</td>\n",
       "      <td>...</td>\n",
       "      <td>14</td>\n",
       "      <td>2006</td>\n",
       "      <td>0.0</td>\n",
       "      <td>0.0</td>\n",
       "      <td>0.0</td>\n",
       "      <td>0.0</td>\n",
       "      <td>0.0</td>\n",
       "      <td>4</td>\n",
       "      <td>-2.980773</td>\n",
       "      <td>11</td>\n",
       "    </tr>\n",
       "    <tr>\n",
       "      <th>2</th>\n",
       "      <td>1</td>\n",
       "      <td>2006-04-03</td>\n",
       "      <td>4181</td>\n",
       "      <td>44.4914</td>\n",
       "      <td>11.3694</td>\n",
       "      <td>Bologna</td>\n",
       "      <td>80.0</td>\n",
       "      <td>101.0</td>\n",
       "      <td>Bologna urbana</td>\n",
       "      <td>44.5008</td>\n",
       "      <td>...</td>\n",
       "      <td>14</td>\n",
       "      <td>2006</td>\n",
       "      <td>0.0</td>\n",
       "      <td>0.0</td>\n",
       "      <td>0.0</td>\n",
       "      <td>0.0</td>\n",
       "      <td>0.0</td>\n",
       "      <td>4</td>\n",
       "      <td>-2.980773</td>\n",
       "      <td>11</td>\n",
       "    </tr>\n",
       "    <tr>\n",
       "      <th>3</th>\n",
       "      <td>1</td>\n",
       "      <td>2006-04-04</td>\n",
       "      <td>4181</td>\n",
       "      <td>44.4914</td>\n",
       "      <td>11.3694</td>\n",
       "      <td>Bologna</td>\n",
       "      <td>80.0</td>\n",
       "      <td>101.0</td>\n",
       "      <td>Bologna urbana</td>\n",
       "      <td>44.5008</td>\n",
       "      <td>...</td>\n",
       "      <td>14</td>\n",
       "      <td>2006</td>\n",
       "      <td>0.0</td>\n",
       "      <td>0.0</td>\n",
       "      <td>0.0</td>\n",
       "      <td>0.0</td>\n",
       "      <td>0.0</td>\n",
       "      <td>4</td>\n",
       "      <td>-2.980773</td>\n",
       "      <td>11</td>\n",
       "    </tr>\n",
       "    <tr>\n",
       "      <th>4</th>\n",
       "      <td>1</td>\n",
       "      <td>2006-04-05</td>\n",
       "      <td>4181</td>\n",
       "      <td>44.4914</td>\n",
       "      <td>11.3694</td>\n",
       "      <td>Bologna</td>\n",
       "      <td>80.0</td>\n",
       "      <td>101.0</td>\n",
       "      <td>Bologna urbana</td>\n",
       "      <td>44.5008</td>\n",
       "      <td>...</td>\n",
       "      <td>14</td>\n",
       "      <td>2006</td>\n",
       "      <td>0.0</td>\n",
       "      <td>0.0</td>\n",
       "      <td>0.0</td>\n",
       "      <td>0.0</td>\n",
       "      <td>0.0</td>\n",
       "      <td>4</td>\n",
       "      <td>-2.980773</td>\n",
       "      <td>11</td>\n",
       "    </tr>\n",
       "    <tr>\n",
       "      <th>5</th>\n",
       "      <td>1</td>\n",
       "      <td>2006-04-06</td>\n",
       "      <td>4181</td>\n",
       "      <td>44.4914</td>\n",
       "      <td>11.3694</td>\n",
       "      <td>Bologna</td>\n",
       "      <td>80.0</td>\n",
       "      <td>101.0</td>\n",
       "      <td>Bologna urbana</td>\n",
       "      <td>44.5008</td>\n",
       "      <td>...</td>\n",
       "      <td>14</td>\n",
       "      <td>2006</td>\n",
       "      <td>0.0</td>\n",
       "      <td>0.0</td>\n",
       "      <td>0.0</td>\n",
       "      <td>0.0</td>\n",
       "      <td>0.0</td>\n",
       "      <td>4</td>\n",
       "      <td>-2.923597</td>\n",
       "      <td>11</td>\n",
       "    </tr>\n",
       "  </tbody>\n",
       "</table>\n",
       "<p>5 rows × 49 columns</p>\n",
       "</div>"
      ],
      "text/plain": [
       "   station_id pol_var_date  id_gepo  station_lat  station_lon station_nome  \\\n",
       "1           1   2006-04-02     4181      44.4914      11.3694      Bologna   \n",
       "2           1   2006-04-03     4181      44.4914      11.3694      Bologna   \n",
       "3           1   2006-04-04     4181      44.4914      11.3694      Bologna   \n",
       "4           1   2006-04-05     4181      44.4914      11.3694      Bologna   \n",
       "5           1   2006-04-06     4181      44.4914      11.3694      Bologna   \n",
       "\n",
       "   station_H_piano_strada  station_H_mslm      arkimet_id  arkimet_lat  ...  \\\n",
       "1                    80.0           101.0  Bologna urbana      44.5008  ...   \n",
       "2                    80.0           101.0  Bologna urbana      44.5008  ...   \n",
       "3                    80.0           101.0  Bologna urbana      44.5008  ...   \n",
       "4                    80.0           101.0  Bologna urbana      44.5008  ...   \n",
       "5                    80.0           101.0  Bologna urbana      44.5008  ...   \n",
       "\n",
       "   week  year POL_max POL_min  POL_mean  POL_std  POL_sum  month  seasonal  \\\n",
       "1    14  2006     0.0     0.0       0.0      0.0      0.0      4 -2.980773   \n",
       "2    14  2006     0.0     0.0       0.0      0.0      0.0      4 -2.980773   \n",
       "3    14  2006     0.0     0.0       0.0      0.0      0.0      4 -2.980773   \n",
       "4    14  2006     0.0     0.0       0.0      0.0      0.0      4 -2.980773   \n",
       "5    14  2006     0.0     0.0       0.0      0.0      0.0      4 -2.923597   \n",
       "\n",
       "   cluster  \n",
       "1       11  \n",
       "2       11  \n",
       "3       11  \n",
       "4       11  \n",
       "5       11  \n",
       "\n",
       "[5 rows x 49 columns]"
      ]
     },
     "execution_count": 21,
     "metadata": {},
     "output_type": "execute_result"
    }
   ],
   "source": [
    "# Select species/stations from cluster result\n",
    "\n",
    "df_feature = pd.merge(raw_df, specie_cluster, on=[\"station_id\", \"pol_var_id\"], how=\"inner\")\n",
    "# df_feature = df_feature[features + [seasonal_feature, y_label]]\n",
    "df_feature.station_id = df_feature.station_id.astype(int)\n",
    "df_feature.dropna(inplace=True)\n",
    "\n",
    "assert len(specie_cluster) == len(df_feature[[\"station_id\", \"pol_var_id\"]].drop_duplicates())\n",
    "\n",
    "print(df_feature.shape)\n",
    "df_feature.head(5)"
   ]
  },
  {
   "cell_type": "markdown",
   "id": "097852bc-8680-4886-81d5-1dc8933aa49e",
   "metadata": {},
   "source": [
    "### 4.3 Shift pollen value to predict by one day"
   ]
  },
  {
   "cell_type": "code",
   "execution_count": 22,
   "id": "066af6c8-1df2-4c0e-97d4-1d6d1228e186",
   "metadata": {
    "tags": []
   },
   "outputs": [],
   "source": [
    "# ### Applying shift here\n",
    "# df_feature['pol_value'] = df_feature.groupby(['station_id', 'pol_var_id'])['pol_value'].shift(-1)\n",
    "# df_feature.dropna(inplace=True)\n",
    "# df_feature.shape"
   ]
  },
  {
   "cell_type": "markdown",
   "id": "4716e8f5-663b-41e8-a060-c15ab818f0a7",
   "metadata": {},
   "source": [
    "### 4.4 Previous days values as feature"
   ]
  },
  {
   "cell_type": "code",
   "execution_count": 23,
   "id": "0ede9fc3-229c-47d3-aea9-511a76ac11af",
   "metadata": {
    "tags": []
   },
   "outputs": [],
   "source": [
    "# ### Pollen\n",
    "# how_many_previous_days = 7\n",
    "# columns_to_shift = \n",
    "\n",
    "# for shift_n in range(1, how_many_previous_days+1):\n",
    "#     feat_name = f\"pol_value_prev_{shift_n}D\"\n",
    "#     df_feature[feat_name] = df_feature.groupby(['station_id', 'pol_var_id'])['pol_value'].shift(+shift_n)\n",
    "\n",
    "# # df_feature[[\"pol_value\", 'pol_value_prev_1D', 'pol_value_prev_2D', 'pol_value_prev_3D', 'pol_value_prev_4D']].head(20)\n",
    "\n",
    "# df_feature.dropna(inplace=True)\n",
    "# df_feature.shape"
   ]
  },
  {
   "cell_type": "code",
   "execution_count": 24,
   "id": "a526a25c-ebd1-41e7-9d68-1a219329a346",
   "metadata": {
    "tags": []
   },
   "outputs": [],
   "source": [
    "# ### Pollen\n",
    "# how_many_previous_days = 5\n",
    "# columns_to_shift = [\"pol_value\", \"PREC\", \"TEMP_max\"]\n",
    "\n",
    "# for shift_n in range(1, how_many_previous_days+1):\n",
    "#     feat_names = [f\"{col}_prev_{shift_n}D\" for col in columns_to_shift]\n",
    "#     df_feature[feat_names] = df_feature.groupby(['station_id', 'pol_var_id'])[columns_to_shift].shift(+shift_n)\n",
    "\n",
    "# # df_feature[[\"pol_value\", 'pol_value_prev_1D', 'pol_value_prev_2D', 'pol_value_prev_3D', 'pol_value_prev_4D']].head(20)\n",
    "\n",
    "# df_feature.dropna(inplace=True)\n",
    "# df_feature.reset_index(inplace=True)\n",
    "# df_feature.shape"
   ]
  },
  {
   "cell_type": "markdown",
   "id": "29f425ec-9150-4ee4-a5f7-e5e93cd28ada",
   "metadata": {},
   "source": [
    "### 4.5 Specie and station are added as a categorical feature to our model"
   ]
  },
  {
   "cell_type": "code",
   "execution_count": 25,
   "id": "b2a95044-c060-4158-876b-875cea6d6c2f",
   "metadata": {
    "tags": []
   },
   "outputs": [
    {
     "data": {
      "text/html": [
       "<div>\n",
       "<style scoped>\n",
       "    .dataframe tbody tr th:only-of-type {\n",
       "        vertical-align: middle;\n",
       "    }\n",
       "\n",
       "    .dataframe tbody tr th {\n",
       "        vertical-align: top;\n",
       "    }\n",
       "\n",
       "    .dataframe thead th {\n",
       "        text-align: right;\n",
       "    }\n",
       "</style>\n",
       "<table border=\"1\" class=\"dataframe\">\n",
       "  <thead>\n",
       "    <tr style=\"text-align: right;\">\n",
       "      <th></th>\n",
       "      <th>station_id</th>\n",
       "      <th>pol_var_date</th>\n",
       "      <th>id_gepo</th>\n",
       "      <th>station_lat</th>\n",
       "      <th>station_lon</th>\n",
       "      <th>station_nome</th>\n",
       "      <th>station_H_piano_strada</th>\n",
       "      <th>station_H_mslm</th>\n",
       "      <th>arkimet_id</th>\n",
       "      <th>arkimet_lat</th>\n",
       "      <th>...</th>\n",
       "      <th>pol_var_id_2</th>\n",
       "      <th>pol_var_id_4</th>\n",
       "      <th>pol_var_id_5</th>\n",
       "      <th>pol_var_id_6</th>\n",
       "      <th>pol_var_id_7</th>\n",
       "      <th>pol_var_id_8</th>\n",
       "      <th>pol_var_id_9</th>\n",
       "      <th>pol_var_id_10</th>\n",
       "      <th>pol_var_id_11</th>\n",
       "      <th>pol_var_id_13</th>\n",
       "    </tr>\n",
       "  </thead>\n",
       "  <tbody>\n",
       "    <tr>\n",
       "      <th>1</th>\n",
       "      <td>1</td>\n",
       "      <td>2006-04-02</td>\n",
       "      <td>4181</td>\n",
       "      <td>44.4914</td>\n",
       "      <td>11.3694</td>\n",
       "      <td>Bologna</td>\n",
       "      <td>80.0</td>\n",
       "      <td>101.0</td>\n",
       "      <td>Bologna urbana</td>\n",
       "      <td>44.5008</td>\n",
       "      <td>...</td>\n",
       "      <td>0</td>\n",
       "      <td>0</td>\n",
       "      <td>0</td>\n",
       "      <td>0</td>\n",
       "      <td>0</td>\n",
       "      <td>0</td>\n",
       "      <td>0</td>\n",
       "      <td>0</td>\n",
       "      <td>0</td>\n",
       "      <td>0</td>\n",
       "    </tr>\n",
       "    <tr>\n",
       "      <th>2</th>\n",
       "      <td>1</td>\n",
       "      <td>2006-04-03</td>\n",
       "      <td>4181</td>\n",
       "      <td>44.4914</td>\n",
       "      <td>11.3694</td>\n",
       "      <td>Bologna</td>\n",
       "      <td>80.0</td>\n",
       "      <td>101.0</td>\n",
       "      <td>Bologna urbana</td>\n",
       "      <td>44.5008</td>\n",
       "      <td>...</td>\n",
       "      <td>0</td>\n",
       "      <td>0</td>\n",
       "      <td>0</td>\n",
       "      <td>0</td>\n",
       "      <td>0</td>\n",
       "      <td>0</td>\n",
       "      <td>0</td>\n",
       "      <td>0</td>\n",
       "      <td>0</td>\n",
       "      <td>0</td>\n",
       "    </tr>\n",
       "    <tr>\n",
       "      <th>3</th>\n",
       "      <td>1</td>\n",
       "      <td>2006-04-04</td>\n",
       "      <td>4181</td>\n",
       "      <td>44.4914</td>\n",
       "      <td>11.3694</td>\n",
       "      <td>Bologna</td>\n",
       "      <td>80.0</td>\n",
       "      <td>101.0</td>\n",
       "      <td>Bologna urbana</td>\n",
       "      <td>44.5008</td>\n",
       "      <td>...</td>\n",
       "      <td>0</td>\n",
       "      <td>0</td>\n",
       "      <td>0</td>\n",
       "      <td>0</td>\n",
       "      <td>0</td>\n",
       "      <td>0</td>\n",
       "      <td>0</td>\n",
       "      <td>0</td>\n",
       "      <td>0</td>\n",
       "      <td>0</td>\n",
       "    </tr>\n",
       "    <tr>\n",
       "      <th>4</th>\n",
       "      <td>1</td>\n",
       "      <td>2006-04-05</td>\n",
       "      <td>4181</td>\n",
       "      <td>44.4914</td>\n",
       "      <td>11.3694</td>\n",
       "      <td>Bologna</td>\n",
       "      <td>80.0</td>\n",
       "      <td>101.0</td>\n",
       "      <td>Bologna urbana</td>\n",
       "      <td>44.5008</td>\n",
       "      <td>...</td>\n",
       "      <td>0</td>\n",
       "      <td>0</td>\n",
       "      <td>0</td>\n",
       "      <td>0</td>\n",
       "      <td>0</td>\n",
       "      <td>0</td>\n",
       "      <td>0</td>\n",
       "      <td>0</td>\n",
       "      <td>0</td>\n",
       "      <td>0</td>\n",
       "    </tr>\n",
       "    <tr>\n",
       "      <th>5</th>\n",
       "      <td>1</td>\n",
       "      <td>2006-04-06</td>\n",
       "      <td>4181</td>\n",
       "      <td>44.4914</td>\n",
       "      <td>11.3694</td>\n",
       "      <td>Bologna</td>\n",
       "      <td>80.0</td>\n",
       "      <td>101.0</td>\n",
       "      <td>Bologna urbana</td>\n",
       "      <td>44.5008</td>\n",
       "      <td>...</td>\n",
       "      <td>0</td>\n",
       "      <td>0</td>\n",
       "      <td>0</td>\n",
       "      <td>0</td>\n",
       "      <td>0</td>\n",
       "      <td>0</td>\n",
       "      <td>0</td>\n",
       "      <td>0</td>\n",
       "      <td>0</td>\n",
       "      <td>0</td>\n",
       "    </tr>\n",
       "  </tbody>\n",
       "</table>\n",
       "<p>5 rows × 71 columns</p>\n",
       "</div>"
      ],
      "text/plain": [
       "   station_id pol_var_date  id_gepo  station_lat  station_lon station_nome  \\\n",
       "1           1   2006-04-02     4181      44.4914      11.3694      Bologna   \n",
       "2           1   2006-04-03     4181      44.4914      11.3694      Bologna   \n",
       "3           1   2006-04-04     4181      44.4914      11.3694      Bologna   \n",
       "4           1   2006-04-05     4181      44.4914      11.3694      Bologna   \n",
       "5           1   2006-04-06     4181      44.4914      11.3694      Bologna   \n",
       "\n",
       "   station_H_piano_strada  station_H_mslm      arkimet_id  arkimet_lat  ...  \\\n",
       "1                    80.0           101.0  Bologna urbana      44.5008  ...   \n",
       "2                    80.0           101.0  Bologna urbana      44.5008  ...   \n",
       "3                    80.0           101.0  Bologna urbana      44.5008  ...   \n",
       "4                    80.0           101.0  Bologna urbana      44.5008  ...   \n",
       "5                    80.0           101.0  Bologna urbana      44.5008  ...   \n",
       "\n",
       "   pol_var_id_2 pol_var_id_4 pol_var_id_5 pol_var_id_6  pol_var_id_7  \\\n",
       "1             0            0            0            0             0   \n",
       "2             0            0            0            0             0   \n",
       "3             0            0            0            0             0   \n",
       "4             0            0            0            0             0   \n",
       "5             0            0            0            0             0   \n",
       "\n",
       "   pol_var_id_8  pol_var_id_9  pol_var_id_10  pol_var_id_11  pol_var_id_13  \n",
       "1             0             0              0              0              0  \n",
       "2             0             0              0              0              0  \n",
       "3             0             0              0              0              0  \n",
       "4             0             0              0              0              0  \n",
       "5             0             0              0              0              0  \n",
       "\n",
       "[5 rows x 71 columns]"
      ]
     },
     "execution_count": 25,
     "metadata": {},
     "output_type": "execute_result"
    }
   ],
   "source": [
    "# le = LabelEncoder()\n",
    "# df_feature[\"station_id\"] = le.fit_transform(df_feature[\"station_id\"])\n",
    "# df_feature[\"pol_var_id\"] = le.fit_transform(df_feature[\"pol_var_id\"])\n",
    "\n",
    "# print(\"Station id:\", df_feature.station_id.unique())\n",
    "# print(\"Pollen id:\", df_feature.pol_var_id.unique())\n",
    "\n",
    "stations_one_hot_encoded = pd.get_dummies(df_feature['station_id'], prefix='station_id')\n",
    "pollen_one_hot_encoded = pd.get_dummies(df_feature['pol_var_id'], prefix='pol_var_id')\n",
    "\n",
    "# Add one-hot encoded values to original dataframe\n",
    "df_feature = pd.concat([df_feature, stations_one_hot_encoded], axis=1)\n",
    "df_feature = pd.concat([df_feature, pollen_one_hot_encoded], axis=1)\n",
    "\n",
    "df_feature.head(5)"
   ]
  },
  {
   "cell_type": "markdown",
   "id": "0ad9d1e5-09d5-49e9-aced-cb013c2243e4",
   "metadata": {},
   "source": [
    "### 4.6 Training and Test set split"
   ]
  },
  {
   "cell_type": "code",
   "execution_count": 26,
   "id": "2b40d3fa-6316-4868-9b0f-9d1f742d53b1",
   "metadata": {
    "tags": []
   },
   "outputs": [],
   "source": [
    "features = [\n",
    "    #\"station_id\",\n",
    "    #\"pol_var_date\",\n",
    "    #\"modified\",\n",
    "    #\"id_gepo\",\n",
    "    #\"station_nome\",\n",
    "    #\"pol_var_id\", \"pol_value\", \"pol_var_descr\",\n",
    "    #\"init_date\", \"end_date\",\n",
    "    #\"shifted_date\",\n",
    "    #\"arkimet_id\", \"meteo_id\",\n",
    "    \"station_lat\", \"station_lon\",\n",
    "    \"station_H_piano_strada\", \"station_H_mslm\",\n",
    "    \"arkimet_lat\", \"arkimet_lon\",\n",
    "    \"week\",\n",
    "    \"month\",\n",
    "    #\"year\",\n",
    "    \"seasonal\",\n",
    "    \"B13011_max\", \"B13011_min\", \"B13011_mean\", \"B13011_std\", \"B13011_sum\",\n",
    "    \"B14198_max\", \"B14198_min\", \"B14198_mean\", \"B14198_std\", \"B14198_sum\",\n",
    "    \"TEMP_max\", \"TEMP_min\", \"TEMP_mean\", \"TEMP_std\", \"TEMP_sum\",\n",
    "    \"PREC_max\", \"PREC_min\", \"PREC_mean\", \"PREC_std\", \"PREC_sum\",\n",
    "    \"POL_max\", \"POL_min\", \"POL_mean\", \"POL_std\", \"POL_sum\",\n",
    "]"
   ]
  },
  {
   "cell_type": "code",
   "execution_count": 27,
   "id": "f08665b1-5af3-4968-91aa-2436c2688624",
   "metadata": {
    "tags": []
   },
   "outputs": [
    {
     "name": "stdout",
     "output_type": "stream",
     "text": [
      "56 features: ['station_lat' 'station_lon' 'station_H_piano_strada' 'station_H_mslm'\n",
      " 'arkimet_lat' 'arkimet_lon' 'week' 'month' 'seasonal' 'B13011_max'\n",
      " 'B13011_min' 'B13011_mean' 'B13011_std' 'B13011_sum' 'B14198_max'\n",
      " 'B14198_min' 'B14198_mean' 'B14198_std' 'B14198_sum' 'TEMP_max'\n",
      " 'TEMP_min' 'TEMP_mean' 'TEMP_std' 'TEMP_sum' 'PREC_max' 'PREC_min'\n",
      " 'PREC_mean' 'PREC_std' 'PREC_sum' 'POL_max' 'POL_min' 'POL_mean'\n",
      " 'POL_std' 'POL_sum' 'station_id_1' 'station_id_2' 'station_id_4'\n",
      " 'station_id_5' 'station_id_6' 'station_id_7' 'station_id_8'\n",
      " 'station_id_9' 'station_id_10' 'station_id_11' 'station_id_13'\n",
      " 'pol_var_id_1' 'pol_var_id_2' 'pol_var_id_4' 'pol_var_id_5'\n",
      " 'pol_var_id_6' 'pol_var_id_7' 'pol_var_id_8' 'pol_var_id_9'\n",
      " 'pol_var_id_10' 'pol_var_id_11' 'pol_var_id_13']\n"
     ]
    }
   ],
   "source": [
    "y_label = \"pol_value\"\n",
    "\n",
    "# Add previous pollen day\n",
    "# for col in columns_to_shift:\n",
    "#     shifted_feature_names = df_feature.keys()[df_feature.keys().str.contains(f\"{col}_prev\")]\n",
    "#     features.extend(shifted_feature_names.tolist())\n",
    "\n",
    "# Add one hot encodings of station and species\n",
    "station_one_hot = df_feature.keys()[df_feature.keys().str.contains(\"station_id_\")]\n",
    "features.extend(station_one_hot.tolist())\n",
    "\n",
    "pollen_one_hot = df_feature.keys()[df_feature.keys().str.contains(\"pol_var_id_\")]\n",
    "features.extend(pollen_one_hot.tolist())\n",
    "\n",
    "features = np.array(features)\n",
    "print(f\"{len(features)} features: {features}\")"
   ]
  },
  {
   "cell_type": "code",
   "execution_count": 28,
   "id": "86bf1c09-67d2-47b3-8455-2c5366ac6945",
   "metadata": {
    "tags": []
   },
   "outputs": [],
   "source": [
    "df_feature[\"week\"] = df_feature.week.astype(int)"
   ]
  },
  {
   "cell_type": "code",
   "execution_count": null,
   "id": "4567aa7c-3adb-43b4-a37c-a2380b823f2c",
   "metadata": {},
   "outputs": [],
   "source": []
  },
  {
   "cell_type": "code",
   "execution_count": 29,
   "id": "cbe86445-cad5-4e13-80c8-f1df708f5af6",
   "metadata": {
    "tags": []
   },
   "outputs": [],
   "source": [
    "# X_features = df_feature[features]\n",
    "# X_seasonal = df_feature[[seasonal_feature]]\n",
    "# y = df_feature.pol_value\n",
    "\n",
    "# split_idx = int(len(X_features) * .95)\n",
    "\n",
    "# x_feature_train, x_seasonal_train, y_train = X_features[:split_idx], X_seasonal[:split_idx], y[:split_idx]\n",
    "# x_feature_test,  x_seasonal_test,  y_test =  X_features[split_idx:], X_seasonal[split_idx:], y[split_idx:]\n",
    "\n",
    "# print(\"Training shapes:\", x_feature_train.shape, x_seasonal_train.shape, y_train.shape)\n",
    "# print(\"Test shapes:    \", x_feature_test.shape,  x_seasonal_test.shape,  y_test.shape)"
   ]
  },
  {
   "cell_type": "markdown",
   "id": "1e8a4dd9-57c7-48e4-9316-7528af39aaa0",
   "metadata": {},
   "source": [
    "### 4.8 Generate windows for LSTM, in batches"
   ]
  },
  {
   "cell_type": "code",
   "execution_count": 30,
   "id": "85bfe230-9a74-47d3-b7b7-e36572f330f1",
   "metadata": {
    "tags": []
   },
   "outputs": [],
   "source": [
    "# window_day_size = 7"
   ]
  },
  {
   "cell_type": "code",
   "execution_count": 31,
   "id": "5937a6e6-5f8d-459f-9b96-c87f40b70007",
   "metadata": {
    "tags": []
   },
   "outputs": [],
   "source": [
    "# def gen_win(x, window_size=window_day_size, stride=1):\n",
    "#     nw = ((x.shape[0] - window_size) // stride) + 1\n",
    "#     w = np.lib.stride_tricks.as_strided(x, shape=(nw, window_size, x.shape[1]), strides=(x.strides[0] * stride, x.strides[0], x.strides[1]))\n",
    "#     return w\n",
    "\n",
    "# x_feature_train = gen_win(x_feature_train.values)\n",
    "# x_seasonal_train = gen_win(x_seasonal_train.values)\n",
    "# y_train_w = gen_win(y_train.values.reshape(-1,1))\n",
    "\n",
    "# x_feature_test = gen_win(x_feature_test.values)\n",
    "# x_seasonal_test = gen_win(x_seasonal_test.values)\n",
    "# y_test_w = gen_win(y_test.values.reshape(-1,1))\n",
    "\n",
    "# print(\"Training window shapes:\", x_feature_train.shape, x_seasonal_train.shape, y_train_w.shape)\n",
    "# print(\"Test window shapes:    \", x_feature_test.shape,  x_seasonal_test.shape,  y_test_w.shape)"
   ]
  },
  {
   "cell_type": "code",
   "execution_count": null,
   "id": "f171f3f0-9ccc-46fc-b49d-4907c28d4411",
   "metadata": {},
   "outputs": [],
   "source": []
  },
  {
   "cell_type": "markdown",
   "id": "c8489c43-ef90-4942-ac58-9b3ad394633c",
   "metadata": {},
   "source": [
    "### 4.9 Training/test split"
   ]
  },
  {
   "cell_type": "code",
   "execution_count": 32,
   "id": "b1acb973-8b58-41ed-b269-a903ec81b417",
   "metadata": {
    "tags": []
   },
   "outputs": [],
   "source": [
    "training_size = .95"
   ]
  },
  {
   "cell_type": "code",
   "execution_count": 33,
   "id": "a068d08a-aac6-40df-a28b-01a0f2dfbec1",
   "metadata": {
    "tags": []
   },
   "outputs": [],
   "source": [
    "# X = df_feature[np.hstack([features, [seasonal_feature]])]\n",
    "# y = df_feature.pol_value\n",
    "\n",
    "# split_idx = int(len(X) * training_size)\n",
    "\n",
    "# x_train, y_train = X[:split_idx], y[:split_idx]\n",
    "# x_test, y_test = X[split_idx:], y[split_idx:]\n",
    "\n",
    "# x_train.shape, y_train.shape, x_test.shape, y_test.shape"
   ]
  },
  {
   "cell_type": "code",
   "execution_count": 34,
   "id": "0459f8b9-d619-4e82-b063-1c38d107db01",
   "metadata": {
    "tags": []
   },
   "outputs": [
    {
     "data": {
      "text/plain": [
       "(67127, 63762, 3365, True)"
      ]
     },
     "execution_count": 34,
     "metadata": {},
     "output_type": "execute_result"
    }
   ],
   "source": [
    "### Group by station and pollen\n",
    "# df_feature.sort_values(by=[\"station_id\", \"pol_var_id\", \"index\"], ascending=True, inplace=True)\n",
    "groups = df_feature.groupby([\"station_id\", \"pol_var_id\"])\n",
    "\n",
    "### Get training_size rows for each group\n",
    "training_idxs = groups.apply(lambda g: g.index.values[:int(len(g.index.values) * training_size)])\n",
    "training_idxs = np.hstack(training_idxs.values)\n",
    "\n",
    "### Get test indexes as the remaining ones\n",
    "test_idxs = df_feature[~df_feature.index.isin(training_idxs)].index\n",
    "\n",
    "len(df_feature.index), len(training_idxs), len(test_idxs), (len(training_idxs)+len(test_idxs))==len(df_feature.index)"
   ]
  },
  {
   "cell_type": "code",
   "execution_count": 35,
   "id": "b6ee11ab-4df0-48fd-a520-4c6f45ae8d0c",
   "metadata": {
    "tags": []
   },
   "outputs": [
    {
     "data": {
      "text/plain": [
       "((63762, 57), (63762,), (3365, 57), (3365,))"
      ]
     },
     "execution_count": 35,
     "metadata": {},
     "output_type": "execute_result"
    }
   ],
   "source": [
    "X = df_feature[np.hstack([features, [seasonal_feature]])]\n",
    "y = df_feature.pol_value\n",
    "\n",
    "x_train, y_train = X.loc[training_idxs], y[training_idxs]\n",
    "x_test, y_test = X.loc[test_idxs], y[test_idxs]\n",
    "\n",
    "x_train.shape, y_train.shape, x_test.shape, y_test.shape"
   ]
  },
  {
   "cell_type": "code",
   "execution_count": null,
   "id": "28008750-3b34-47d8-a9f1-544fb1c66991",
   "metadata": {},
   "outputs": [],
   "source": []
  },
  {
   "cell_type": "markdown",
   "id": "6a8f0340-c03b-44c1-9945-86f07c7958cb",
   "metadata": {},
   "source": [
    "### 4.10 Create timeseries_dataset_from_array"
   ]
  },
  {
   "cell_type": "code",
   "execution_count": 46,
   "id": "36d5bc0f-a883-48f4-804a-30f27335ae0d",
   "metadata": {
    "tags": []
   },
   "outputs": [],
   "source": [
    "batch_size = 512\n",
    "window_day_size = 7\n",
    "\n",
    "train_dataset = tf.keras.preprocessing.timeseries_dataset_from_array(\n",
    "    x_train,\n",
    "    y_train,\n",
    "    sequence_length=window_day_size,\n",
    "    batch_size=batch_size,\n",
    ")\n",
    "\n",
    "test_dataset = tf.keras.preprocessing.timeseries_dataset_from_array(\n",
    "    x_test,\n",
    "    y_test,\n",
    "    sequence_length=window_day_size,\n",
    "    batch_size=batch_size,\n",
    ")"
   ]
  },
  {
   "cell_type": "code",
   "execution_count": null,
   "id": "ee293164-23ab-40a0-8966-a6fc1ecaf324",
   "metadata": {},
   "outputs": [],
   "source": []
  },
  {
   "cell_type": "markdown",
   "id": "9d99b597-83e1-486b-b018-20b4cbde7fd2",
   "metadata": {},
   "source": [
    "### 4.11 Feature Selection"
   ]
  },
  {
   "cell_type": "code",
   "execution_count": 37,
   "id": "eebf956c-20f8-4d80-a45e-c722e53919e2",
   "metadata": {
    "tags": []
   },
   "outputs": [],
   "source": [
    "# from sklearn.feature_selection import RFECV\n",
    "# from sklearn.linear_model import LinearRegression\n",
    "# X = np.hstack([X_features, X_seasonal])\n",
    "# clf = LinearRegression().fit(X, y)\n",
    "# selector = RFECV(clf, step=1, cv=5, n_jobs=-1)\n",
    "# selector = selector.fit(X, y)\n",
    "# features[selector.support_[:-1]]\n",
    "# features[selector.ranking_[:-1]]"
   ]
  },
  {
   "cell_type": "markdown",
   "id": "21967fa6-5b4b-47b6-955c-0e81671663ba",
   "metadata": {},
   "source": [
    "# 5. Model training"
   ]
  },
  {
   "cell_type": "markdown",
   "id": "80ba5c2f-c77f-465f-b0e7-6beeffccffe0",
   "metadata": {
    "tags": []
   },
   "source": [
    "### LSTM, MultiHeadAttention"
   ]
  },
  {
   "cell_type": "code",
   "execution_count": 47,
   "id": "c818bbfb-4f82-4372-928b-df06a8a2af8b",
   "metadata": {
    "tags": []
   },
   "outputs": [
    {
     "name": "stdout",
     "output_type": "stream",
     "text": [
      "Model: \"model_1\"\n",
      "__________________________________________________________________________________________________\n",
      " Layer (type)                   Output Shape         Param #     Connected to                     \n",
      "==================================================================================================\n",
      " input_2 (InputLayer)           [(None, 7, 57)]      0           []                               \n",
      "                                                                                                  \n",
      " multi_head_attention_1 (MultiH  (None, 7, 57)       118329      ['input_2[0][0]',                \n",
      " eadAttention)                                                    'input_2[0][0]',                \n",
      "                                                                  'input_2[0][0]']                \n",
      "                                                                                                  \n",
      " dense_3 (Dense)                (None, 7, 64)        3712        ['multi_head_attention_1[0][0]'] \n",
      "                                                                                                  \n",
      " flatten_1 (Flatten)            (None, 448)          0           ['dense_3[0][0]']                \n",
      "                                                                                                  \n",
      " dense_4 (Dense)                (None, 128)          57472       ['flatten_1[0][0]']              \n",
      "                                                                                                  \n",
      " dense_5 (Dense)                (None, 1)            129         ['dense_4[0][0]']                \n",
      "                                                                                                  \n",
      "==================================================================================================\n",
      "Total params: 179,642\n",
      "Trainable params: 179,642\n",
      "Non-trainable params: 0\n",
      "__________________________________________________________________________________________________\n",
      "None\n"
     ]
    },
    {
     "data": {
      "application/vnd.jupyter.widget-view+json": {
       "model_id": "c1e8df01a29c4981b65733dfea36c89e",
       "version_major": 2,
       "version_minor": 0
      },
      "text/plain": [
       "0epoch [00:00, ?epoch/s]"
      ]
     },
     "metadata": {},
     "output_type": "display_data"
    },
    {
     "data": {
      "application/vnd.jupyter.widget-view+json": {
       "model_id": "",
       "version_major": 2,
       "version_minor": 0
      },
      "text/plain": [
       "0batch [00:00, ?batch/s]"
      ]
     },
     "metadata": {},
     "output_type": "display_data"
    },
    {
     "name": "stdout",
     "output_type": "stream",
     "text": [
      "Restoring model weights from the end of the best epoch: 35.\n",
      "Epoch 45: early stopping\n",
      "Loading best model\n"
     ]
    }
   ],
   "source": [
    "def get_model():\n",
    "    # Define model inputs\n",
    "    input_layer = tf.keras.layers.Input(shape=(window_day_size, x_train.shape[1]))\n",
    "    \n",
    "    #lstm_1 = tf.keras.layers.LSTM(units=128, return_sequences=True)(input_layer)\n",
    "\n",
    "    ### Multi head attention\n",
    "    # attn_layer = tf.keras.layers.MultiHeadAttention(num_heads=8, key_dim=64)(query=lstm_1, value=lstm_1, key=lstm_1)\n",
    "    \n",
    "    attn_layer = tf.keras.layers.MultiHeadAttention(num_heads=8, key_dim=64)(query=input_layer, value=input_layer, key=input_layer)\n",
    "    \n",
    "    attn_output = tf.keras.layers.Dense(units=64, activation=\"relu\")(attn_layer)\n",
    "\n",
    "    # Reshape attention layer\n",
    "    att_reshape = tf.keras.layers.Flatten()(attn_output)\n",
    "\n",
    "    # Dense layer\n",
    "    dense_lst_1 = tf.keras.layers.Dense(units=128)(att_reshape)\n",
    "\n",
    "    # Output layer\n",
    "    output_layer = tf.keras.layers.Dense(units=1)(dense_lst_1)\n",
    "\n",
    "    # Define model architecture\n",
    "    model = tf.keras.models.Model(inputs=input_layer, outputs=output_layer) #2))\n",
    "\n",
    "    optimizer = Adam(learning_rate=learning_rate)\n",
    "    model.compile(optimizer=optimizer, loss=\"mse\")\n",
    "    return model\n",
    "\n",
    "\n",
    "early_stop = EarlyStopping(monitor='val_loss', patience=10, verbose=1, mode='min', restore_best_weights=True)\n",
    "model_checkpoint = ModelCheckpoint('data/model/best_model.h5', monitor='val_loss', mode='min', save_best_only=True)\n",
    "\n",
    "n_epochs = 100\n",
    "learning_rate = .001\n",
    "\n",
    "!rm \"data/model/best_model.h5\" \n",
    "model = get_model()\n",
    "print(model.summary())\n",
    "\n",
    "history = model.fit(\n",
    "    train_dataset,\n",
    "    validation_data=test_dataset,\n",
    "    #batch_size=batch_size,\n",
    "    epochs=n_epochs,\n",
    "    shuffle=True,\n",
    "    verbose=0,\n",
    "    callbacks=[early_stop, model_checkpoint, TqdmCallback(verbose=1)]\n",
    "    # callbacks=[model_checkpoint, TqdmCallback(verbose=1)]\n",
    "    # callbacks=[TqdmCallback(verbose=1)]\n",
    ")\n",
    "\n",
    "# Load the best model\n",
    "print(\"Loading best model\")\n",
    "model = tf.keras.models.load_model('data/model/best_model.h5')"
   ]
  },
  {
   "cell_type": "code",
   "execution_count": 48,
   "id": "c427a76d-8884-4974-91cf-33175b9e7aa3",
   "metadata": {},
   "outputs": [
    {
     "data": {
      "image/png": "[encoded data removed]",
      "text/plain": [
       "<Figure size 1000x300 with 1 Axes>"
      ]
     },
     "metadata": {},
     "output_type": "display_data"
    }
   ],
   "source": [
    "### Plot training history\n",
    "plt.figure(figsize=(10,3))\n",
    "plt.plot(history.history['loss'])\n",
    "plt.plot(history.history['val_loss'])\n",
    "plt.ylabel('MSE')\n",
    "plt.xlabel('Epoch')\n",
    "plt.legend(['loss', 'val_loss'], loc='upper right')\n",
    "plt.grid(alpha=.4)\n",
    "plt.show()"
   ]
  },
  {
   "cell_type": "code",
   "execution_count": 49,
   "id": "bceafc84-5abd-40b1-ab04-9c193c88f34a",
   "metadata": {
    "tags": []
   },
   "outputs": [
    {
     "name": "stdout",
     "output_type": "stream",
     "text": [
      "125/125 [==============================] - 1s 8ms/step\n"
     ]
    },
    {
     "data": {
      "image/png": "[encoded data removed]",
      "text/plain": [
       "<Figure size 1600x400 with 1 Axes>"
      ]
     },
     "metadata": {},
     "output_type": "display_data"
    }
   ],
   "source": [
    "### Test on training data\n",
    "predictions = model.predict(train_dataset)\n",
    "predictions = predictions.reshape(predictions.shape[0])\n",
    "mse = model.evaluate(train_dataset, verbose=False)\n",
    "\n",
    "plt.figure(figsize=(16,4))\n",
    "plt.title(f\"Training Data Preditcions - MSE: {np.round(mse, 2)}\")\n",
    "plt.plot(y_train.values, label=\"pol_value true\")\n",
    "plt.plot(predictions, label=\"pol_value predicted\")\n",
    "plt.legend(loc=\"upper right\")\n",
    "plt.grid(alpha=.4)"
   ]
  },
  {
   "cell_type": "code",
   "execution_count": 50,
   "id": "1430dc89-95c3-48d5-a734-8b30c57b0f1e",
   "metadata": {
    "tags": []
   },
   "outputs": [
    {
     "name": "stdout",
     "output_type": "stream",
     "text": [
      "7/7 [==============================] - 0s 8ms/step\n"
     ]
    },
    {
     "data": {
      "image/png": "[encoded data removed]",
      "text/plain": [
       "<Figure size 1600x400 with 1 Axes>"
      ]
     },
     "metadata": {},
     "output_type": "display_data"
    }
   ],
   "source": [
    "### Test on validation data\n",
    "predictions = model.predict(test_dataset)\n",
    "predictions = predictions.reshape(predictions.shape[0])\n",
    "mse = model.evaluate(test_dataset, verbose=False)\n",
    "\n",
    "plt.figure(figsize=(16,4))\n",
    "plt.title(f\"Validation Data Preditcions - MSE: {np.round(mse, 2)}\")\n",
    "plt.plot(y_test.values, label=\"pol_value true\")\n",
    "plt.plot(predictions, label=\"pol_value predicted\")\n",
    "plt.legend(loc=\"upper right\")\n",
    "plt.grid(alpha=.4)"
   ]
  },
  {
   "cell_type": "code",
   "execution_count": null,
   "id": "5ca44709-5348-4761-a44b-8ead75c5b7f0",
   "metadata": {},
   "outputs": [],
   "source": []
  },
  {
   "cell_type": "code",
   "execution_count": null,
   "id": "bd2812a9-b975-4164-828b-5ab625e37dfa",
   "metadata": {},
   "outputs": [],
   "source": []
  },
  {
   "cell_type": "code",
   "execution_count": null,
   "id": "a0fb1242-52fc-4a21-a510-1e8e872ec3fe",
   "metadata": {},
   "outputs": [],
   "source": []
  }
 ],
 "metadata": {
  "kernelspec": {
   "display_name": "Python 3 (ipykernel)",
   "language": "python",
   "name": "python3"
  },
  "language_info": {
   "codemirror_mode": {
    "name": "ipython",
    "version": 3
   },
   "file_extension": ".py",
   "mimetype": "text/x-python",
   "name": "python",
   "nbconvert_exporter": "python",
   "pygments_lexer": "ipython3",
   "version": "3.8.15"
  }
 },
 "nbformat": 4,
 "nbformat_minor": 5
}
